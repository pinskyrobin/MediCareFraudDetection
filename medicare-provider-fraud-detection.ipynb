{
 "cells": [
  {
   "cell_type": "markdown",
   "metadata": {},
   "source": [
    "---\n",
    "---\n",
    "\n",
    "# **`Medicare Provider Fraudulent Detection`**\n",
    "\n",
    "---\n",
    "---"
   ]
  },
  {
   "cell_type": "code",
   "execution_count": null,
   "metadata": {
    "_kg_hide-input": true,
    "pycharm": {
     "is_executing": true
    },
    "trusted": true
   },
   "outputs": [],
   "source": [
    "from IPython.display import Image\n",
    "Image(\"../input/medicare-prv-fraud-files/Display_Pic.png\")"
   ]
  },
  {
   "cell_type": "markdown",
   "metadata": {
    "_kg_hide-input": false,
    "id": "naPWqtUVigTd"
   },
   "source": [
    "**This Kernel comprises the below tasks:**\n",
    "   - EDA on Beneficiary Data\n",
    "   \n",
    "   - EDA on In-patients & Out-patients Data\n",
    "   \n",
    "   - EDA on entire data after joining with Provider Tgt Labels\n",
    "   \n",
    "   - Feature Engineered (SET-1):\n",
    "       - Basic EDA features\n",
    "       - Single level Aggregated features\n",
    "       - Multiple levels Aggregated features\n",
    "   \n",
    "   \n",
    "   - Models trained and evaluated on SET-1 features\n",
    "   \n",
    "   \n",
    "   - Feature Engineered (SET-2):\n",
    "       - Basic EDA features\n",
    "       - Code Embeddings Similarity Features:\n",
    "           - CAD <--> Dx\n",
    "           - CAD <--> PROC\n",
    "           - Dx <--> PROC\n",
    "       - Single level Aggregated features (excluding CAD, Dx & PROC codes)\n",
    "       - Multiple levels Aggregated features (excluding no CAD, Dx & PROC codes)\n",
    "   \n",
    "   \n",
    "   - Models trained and evaluated on SET-2 features\n",
    "   \n",
    "\n",
    "**Kindly checkout the below WebApp for accessing the best trained model for this problem:**\n",
    "\n",
    "- [WebApp](https://medicare-prv-fraud-detection.herokuapp.com/)\n",
    "\n",
    "\n",
    "**Kindly checkout below link for gaining BUSINESS related insights about this problem:**\n",
    "\n",
    "- [Deck : Detailed Explanation](https://docs.google.com/presentation/d/1Thuw_eZskafkl9W3xYuEVsjgTJKFeEkzEfAmczH96Uw/)\n",
    "\n",
    "\n",
    "**Kindly checkout below link for TECHNICAL description about this problem:**\n",
    "\n",
    "- [Technical Document](https://docs.google.com/document/d/10z9xbn4dZWkforlAszCDaa1M0roAW-MOf2pjJHSnEXk/)\n",
    "\n",
    "\n",
    "**Kindly checkout below link for In-depth Description and Reasoning of all the Features ::**\n",
    "\n",
    "- [Features Description](https://docs.google.com/spreadsheets/d/1ktwjad3U-hGT_7yccGyZC4AzGhWAMs3RHrIMk8Gi8xQ/)"
   ]
  },
  {
   "cell_type": "markdown",
   "metadata": {
    "id": "ThPD8j4PnuVH"
   },
   "source": [
    "### **Importing_Libraries**"
   ]
  },
  {
   "cell_type": "code",
   "execution_count": null,
   "metadata": {
    "execution": {
     "iopub.execute_input": "2022-08-24T12:50:19.031345Z",
     "iopub.status.busy": "2022-08-24T12:50:19.030841Z",
     "iopub.status.idle": "2022-08-24T12:50:19.039281Z",
     "shell.execute_reply": "2022-08-24T12:50:19.038188Z",
     "shell.execute_reply.started": "2022-08-24T12:50:19.031306Z"
    },
    "id": "l6qT6r78nuZC",
    "trusted": true
   },
   "outputs": [],
   "source": [
    "import os\n",
    "import sys\n",
    "import math\n",
    "import scipy as scipy\n",
    "import numpy as np\n",
    "import pandas as pd\n",
    "import matplotlib.pyplot as plt\n",
    "import seaborn as sns\n",
    "\n",
    "%matplotlib inline"
   ]
  },
  {
   "cell_type": "code",
   "execution_count": null,
   "metadata": {
    "execution": {
     "iopub.execute_input": "2022-08-24T12:50:19.11305Z",
     "iopub.status.busy": "2022-08-24T12:50:19.112586Z",
     "iopub.status.idle": "2022-08-24T12:50:19.119342Z",
     "shell.execute_reply": "2022-08-24T12:50:19.118373Z",
     "shell.execute_reply.started": "2022-08-24T12:50:19.113014Z"
    },
    "id": "ggC6AoW9u3VV",
    "trusted": true
   },
   "outputs": [],
   "source": [
    "pd.set_option('display.max_columns',30)\n",
    "label_font_dict = {'family':'sans-serif','size':13.5,'color':'brown','style':'italic'}\n",
    "title_font_dict = {'family':'sans-serif','size':16.5,'color':'Blue','style':'italic'}"
   ]
  },
  {
   "cell_type": "markdown",
   "metadata": {
    "id": "c16_htZKnucm"
   },
   "source": [
    "# **BENE Data - EDA**"
   ]
  },
  {
   "cell_type": "code",
   "execution_count": null,
   "metadata": {
    "execution": {
     "iopub.execute_input": "2022-08-24T12:50:19.165569Z",
     "iopub.status.busy": "2022-08-24T12:50:19.164874Z",
     "iopub.status.idle": "2022-08-24T12:50:22.492684Z",
     "shell.execute_reply": "2022-08-24T12:50:22.491443Z",
     "shell.execute_reply.started": "2022-08-24T12:50:19.165529Z"
    },
    "id": "zK3dEaKAnugE",
    "trusted": true
   },
   "outputs": [],
   "source": [
    "train_bene_df = pd.read_csv(\"input/medicare-prv-fraud-files/Train_Beneficiarydata-1542865627584.csv\")\n",
    "train_ip_df = pd.read_csv(\"input/healthcare-provider-fraud-detection-analysis/Train_Inpatientdata-1542865627584.csv\")\n",
    "train_op_df = pd.read_csv(\"input/healthcare-provider-fraud-detection-analysis/Train_Outpatientdata-1542865627584.csv\")"
   ]
  },
  {
   "cell_type": "code",
   "execution_count": null,
   "metadata": {
    "execution": {
     "iopub.execute_input": "2022-08-24T12:50:22.495099Z",
     "iopub.status.busy": "2022-08-24T12:50:22.494739Z",
     "iopub.status.idle": "2022-08-24T12:50:22.502759Z",
     "shell.execute_reply": "2022-08-24T12:50:22.501882Z",
     "shell.execute_reply.started": "2022-08-24T12:50:22.495067Z"
    },
    "id": "ypp1f_eInukn",
    "outputId": "76e10ec9-9999-45c7-ab72-3a2312bb63ca",
    "trusted": true
   },
   "outputs": [],
   "source": [
    "train_bene_df.shape"
   ]
  },
  {
   "cell_type": "code",
   "execution_count": null,
   "metadata": {
    "execution": {
     "iopub.execute_input": "2022-08-24T12:50:22.504465Z",
     "iopub.status.busy": "2022-08-24T12:50:22.503966Z",
     "iopub.status.idle": "2022-08-24T12:50:22.516637Z",
     "shell.execute_reply": "2022-08-24T12:50:22.515661Z",
     "shell.execute_reply.started": "2022-08-24T12:50:22.504433Z"
    },
    "id": "RcGxSW9wnup7",
    "outputId": "4818e0fd-3222-4f6d-97c1-a605d104de81",
    "trusted": true
   },
   "outputs": [],
   "source": [
    "train_bene_df.columns"
   ]
  },
  {
   "cell_type": "code",
   "execution_count": null,
   "metadata": {
    "execution": {
     "iopub.execute_input": "2022-08-24T12:50:22.519744Z",
     "iopub.status.busy": "2022-08-24T12:50:22.518867Z",
     "iopub.status.idle": "2022-08-24T12:50:22.53315Z",
     "shell.execute_reply": "2022-08-24T12:50:22.531977Z",
     "shell.execute_reply.started": "2022-08-24T12:50:22.519688Z"
    },
    "id": "oR0c-HvAnuxW",
    "outputId": "487a042e-12b8-4d5b-d3cb-32ac6bb35f0b",
    "trusted": true
   },
   "outputs": [],
   "source": [
    "train_bene_df.dtypes"
   ]
  },
  {
   "cell_type": "code",
   "execution_count": null,
   "metadata": {
    "execution": {
     "iopub.execute_input": "2022-08-24T12:50:22.535797Z",
     "iopub.status.busy": "2022-08-24T12:50:22.534369Z",
     "iopub.status.idle": "2022-08-24T12:50:22.5616Z",
     "shell.execute_reply": "2022-08-24T12:50:22.560747Z",
     "shell.execute_reply.started": "2022-08-24T12:50:22.535748Z"
    },
    "id": "aRIbMduHnu1A",
    "outputId": "36e5f8d9-72a0-4ea0-df46-52e7d747b683",
    "trusted": true
   },
   "outputs": [],
   "source": [
    "train_bene_df.head()"
   ]
  },
  {
   "cell_type": "markdown",
   "metadata": {
    "id": "y_2U0-80nu5M"
   },
   "source": [
    "### **Q1. How many unique beneficiaries we have in our dataset?**"
   ]
  },
  {
   "cell_type": "code",
   "execution_count": null,
   "metadata": {
    "execution": {
     "iopub.execute_input": "2022-08-24T12:50:22.563775Z",
     "iopub.status.busy": "2022-08-24T12:50:22.563147Z",
     "iopub.status.idle": "2022-08-24T12:50:22.609064Z",
     "shell.execute_reply": "2022-08-24T12:50:22.607644Z",
     "shell.execute_reply.started": "2022-08-24T12:50:22.563727Z"
    },
    "id": "6mQkibO6nu9V",
    "outputId": "a7cc59a0-e654-47ab-9176-0b4deec25be0",
    "trusted": true
   },
   "outputs": [],
   "source": [
    "train_bene_df['BeneID'].nunique()"
   ]
  },
  {
   "cell_type": "markdown",
   "metadata": {
    "id": "StALqlhIigse"
   },
   "source": [
    "### **Q2. How many records we have at the GENDER level?**"
   ]
  },
  {
   "cell_type": "code",
   "execution_count": null,
   "metadata": {
    "execution": {
     "iopub.execute_input": "2022-08-24T12:50:22.611012Z",
     "iopub.status.busy": "2022-08-24T12:50:22.610414Z",
     "iopub.status.idle": "2022-08-24T12:50:22.618254Z",
     "shell.execute_reply": "2022-08-24T12:50:22.617153Z",
     "shell.execute_reply.started": "2022-08-24T12:50:22.610976Z"
    },
    "id": "hr0ghZVLAN6p",
    "outputId": "f70a385f-1ecd-4711-f78c-dbba6a52a37a",
    "trusted": true
   },
   "outputs": [],
   "source": [
    "train_bene_df['Gender'].unique()"
   ]
  },
  {
   "cell_type": "code",
   "execution_count": null,
   "metadata": {
    "execution": {
     "iopub.execute_input": "2022-08-24T12:50:22.620179Z",
     "iopub.status.busy": "2022-08-24T12:50:22.619778Z",
     "iopub.status.idle": "2022-08-24T12:50:22.685156Z",
     "shell.execute_reply": "2022-08-24T12:50:22.68395Z",
     "shell.execute_reply.started": "2022-08-24T12:50:22.620143Z"
    },
    "id": "k6HSi50gAShf",
    "trusted": true
   },
   "outputs": [],
   "source": [
    "train_bene_df['Gender'] = train_bene_df['Gender'].apply(lambda val: 0 if val == 2 else 1)"
   ]
  },
  {
   "cell_type": "code",
   "execution_count": null,
   "metadata": {
    "_kg_hide-input": true,
    "execution": {
     "iopub.execute_input": "2022-08-24T12:50:22.688091Z",
     "iopub.status.busy": "2022-08-24T12:50:22.686834Z",
     "iopub.status.idle": "2022-08-24T12:50:23.086898Z",
     "shell.execute_reply": "2022-08-24T12:50:23.085469Z",
     "shell.execute_reply.started": "2022-08-24T12:50:22.68805Z"
    },
    "id": "zm1aaoD4ig0a",
    "outputId": "7e6e26fa-c1e7-46ea-cf7f-18b34a242356",
    "trusted": true
   },
   "outputs": [],
   "source": [
    "# Here, I'm displaying the distribution of BENEFICIARIES on the basis of GENDER \n",
    "with plt.style.context('seaborn'):\n",
    "  plt.figure(figsize=(10,8))\n",
    "  fig = train_bene_df['Gender'].value_counts().plot(kind='bar', color=['yellow','purple'])\n",
    "  # Using the \"patches\" function we will get the location of the rectangle bars from the graph.\n",
    "  ## Then by using those location(width & height) values we will add the annotations\n",
    "  for p in fig.patches:\n",
    "    width = p.get_width()\n",
    "    height = p.get_height()\n",
    "    x, y = p.get_xy()\n",
    "    fig.annotate(f'{str(round((height*100)/train_bene_df.shape[0],2))+\"%\"}', (x + width/2, y + height*1.015), ha='center', fontsize=13.5)\n",
    "  # Providing the labels and title to the graph\n",
    "  plt.xlabel(\"Gender Code\", fontdict=label_font_dict)\n",
    "  plt.ylabel(\"Number or % share of patients\\n\", fontdict=label_font_dict)\n",
    "  plt.grid(which='major', linestyle=\"--\", color='lightgrey')\n",
    "  plt.minorticks_on()\n",
    "  plt.title(\"Distribution of BENEFICIARIES based on GENDER\\n\", fontdict=title_font_dict)"
   ]
  },
  {
   "cell_type": "markdown",
   "metadata": {
    "id": "yZGLu8zzKskq"
   },
   "source": [
    "**`OBERVATION`**\n",
    "* From the above plot, we can decude that the ratio b/w GENDER_0 : GENDER_1 is 57% : 43%.\n",
    "\n",
    "\n",
    "\n"
   ]
  },
  {
   "cell_type": "markdown",
   "metadata": {
    "id": "6FyCrd3XKmIG"
   },
   "source": [
    "### **Q3. Lets calculate the AGE of every BENEFICIARY?**"
   ]
  },
  {
   "cell_type": "code",
   "execution_count": null,
   "metadata": {
    "execution": {
     "iopub.execute_input": "2022-08-24T12:50:23.092763Z",
     "iopub.status.busy": "2022-08-24T12:50:23.092368Z",
     "iopub.status.idle": "2022-08-24T12:50:23.125438Z",
     "shell.execute_reply": "2022-08-24T12:50:23.1242Z",
     "shell.execute_reply.started": "2022-08-24T12:50:23.092702Z"
    },
    "id": "_JM6JP9Uig87",
    "trusted": true
   },
   "outputs": [],
   "source": [
    "train_bene_df['DOB'] = pd.to_datetime(train_bene_df['DOB'], format=\"%Y-%m-%d\")"
   ]
  },
  {
   "cell_type": "code",
   "execution_count": null,
   "metadata": {
    "execution": {
     "iopub.execute_input": "2022-08-24T12:50:23.127545Z",
     "iopub.status.busy": "2022-08-24T12:50:23.12707Z",
     "iopub.status.idle": "2022-08-24T12:50:23.17099Z",
     "shell.execute_reply": "2022-08-24T12:50:23.169703Z",
     "shell.execute_reply.started": "2022-08-24T12:50:23.127497Z"
    },
    "id": "SNr_AiF5Qaha",
    "trusted": true
   },
   "outputs": [],
   "source": [
    "train_bene_df['Patient_Age_Year'] = train_bene_df['DOB'].dt.year\n",
    "train_bene_df['Patient_Age_Month'] = train_bene_df['DOB'].dt.month"
   ]
  },
  {
   "cell_type": "markdown",
   "metadata": {
    "id": "buanYNZGj_IT"
   },
   "source": [
    "* **`Adding new feature`** <::::::::::::::::::::::::> **\"`YEAR of birth of beneficiaries`\"**"
   ]
  },
  {
   "cell_type": "code",
   "execution_count": null,
   "metadata": {
    "execution": {
     "iopub.execute_input": "2022-08-24T12:50:23.173417Z",
     "iopub.status.busy": "2022-08-24T12:50:23.172933Z",
     "iopub.status.idle": "2022-08-24T12:50:23.186269Z",
     "shell.execute_reply": "2022-08-24T12:50:23.184802Z",
     "shell.execute_reply.started": "2022-08-24T12:50:23.173365Z"
    },
    "id": "2eC6EJxfRBjI",
    "trusted": true
   },
   "outputs": [],
   "source": [
    "bene_age_year_df = pd.DataFrame(train_bene_df['Patient_Age_Year'].value_counts()).reset_index(drop=False)\n",
    "bene_age_year_df.columns= ['year','num_of_beneficiaries']\n",
    "bene_age_year_df = bene_age_year_df.sort_values(by='year')"
   ]
  },
  {
   "cell_type": "code",
   "execution_count": null,
   "metadata": {
    "_kg_hide-input": true,
    "execution": {
     "iopub.execute_input": "2022-08-24T12:50:23.189283Z",
     "iopub.status.busy": "2022-08-24T12:50:23.188649Z",
     "iopub.status.idle": "2022-08-24T12:50:25.629109Z",
     "shell.execute_reply": "2022-08-24T12:50:25.627853Z",
     "shell.execute_reply.started": "2022-08-24T12:50:23.189215Z"
    },
    "id": "Q-J3_7YlSl20",
    "outputId": "b838103c-8003-4dab-8085-70f56e1240f1",
    "trusted": true
   },
   "outputs": [],
   "source": [
    "# Here, I'm displaying the distribution of BENEFICIARIES on the basis of their YEAR of Birth \n",
    "with plt.style.context('seaborn'):\n",
    "  plt.figure(figsize=(21,9))\n",
    "  fig = sns.barplot(data=bene_age_year_df, x='year', y='num_of_beneficiaries', palette='inferno')\n",
    "  # Using the \"patches\" function we will get the location of the rectangle bars from the graph.\n",
    "  ## Then by using those location(width & height) values we will add the annotations\n",
    "  for p in fig.patches:\n",
    "    width = p.get_width()\n",
    "    height = p.get_height()\n",
    "    x, y = p.get_xy()\n",
    "    fig.annotate(f'{str(round((height*100)/train_bene_df.shape[0],1))+\"%\"}', (x + width/2, y + height*1.025), ha='center', fontsize=13.5, rotation=90)\n",
    "  # Providing the labels and title to the graph\n",
    "  plt.xlabel(\"\\nBeneficary YEAR of Birth\", fontdict=label_font_dict)\n",
    "  plt.xticks(rotation=90)\n",
    "  plt.ylabel(\"Number or % share of patients\\n\", fontdict=label_font_dict)\n",
    "  plt.minorticks_on()\n",
    "  plt.grid(which='major', linestyle=\"--\", color='lightgrey')\n",
    "  plt.title(\"Distribution of BENEFICIARIES based on their YEAR of birth\\n\", fontdict=title_font_dict)"
   ]
  },
  {
   "cell_type": "markdown",
   "metadata": {
    "id": "vdwMsOhVV3I-"
   },
   "source": [
    "**`OBERVATION`**\n",
    "*   From the above plot, we can decude that the majority of the beneficiaries are from the YEAR - 1919 to 1943.\n",
    "  *   More specifically, overall the percentage of number of beneficiaries with YEAR of birth from 1939 to 1943 is the highest. Whereas, it is lowest from 1978 to 1983.\n",
    "\n",
    "\n",
    "**`REASONING`**\n",
    "*   The reason for adding the \"YEAR of Birth of Beneficiaries\" as a new feature in the dataset with the intent to find whether personal details has been forged by the beneficiary or its direct/indirect association with Fraud claims."
   ]
  },
  {
   "cell_type": "markdown",
   "metadata": {
    "id": "zvknd53okNLW"
   },
   "source": [
    "* **`Adding new feature`** <::::::::::::::::::::::::> **\"`MONTH of birth of beneficiaries`\"**"
   ]
  },
  {
   "cell_type": "code",
   "execution_count": null,
   "metadata": {
    "execution": {
     "iopub.execute_input": "2022-08-24T12:50:25.631241Z",
     "iopub.status.busy": "2022-08-24T12:50:25.630653Z",
     "iopub.status.idle": "2022-08-24T12:50:25.640738Z",
     "shell.execute_reply": "2022-08-24T12:50:25.639882Z",
     "shell.execute_reply.started": "2022-08-24T12:50:25.631203Z"
    },
    "id": "n7QytalAYJiv",
    "trusted": true
   },
   "outputs": [],
   "source": [
    "bene_age_month_df = pd.DataFrame(train_bene_df['Patient_Age_Month'].value_counts()).reset_index(drop=False)\n",
    "bene_age_month_df.columns= ['month','num_of_beneficiaries']\n",
    "bene_age_month_df = bene_age_month_df.sort_values(by='month')"
   ]
  },
  {
   "cell_type": "code",
   "execution_count": null,
   "metadata": {
    "_kg_hide-input": true,
    "execution": {
     "iopub.execute_input": "2022-08-24T12:50:25.642558Z",
     "iopub.status.busy": "2022-08-24T12:50:25.64205Z",
     "iopub.status.idle": "2022-08-24T12:50:26.307793Z",
     "shell.execute_reply": "2022-08-24T12:50:26.30621Z",
     "shell.execute_reply.started": "2022-08-24T12:50:25.642527Z"
    },
    "id": "PFUzZJxjmAYz",
    "outputId": "50df47a6-ca92-48ac-9ad4-d45543413376",
    "trusted": true
   },
   "outputs": [],
   "source": [
    "# Here, I'm displaying the distribution of BENEFICIARIES on the basis of their MONTH of Birth \n",
    "with plt.style.context('seaborn'):\n",
    "  plt.figure(figsize=(12,8))\n",
    "  fig = sns.barplot(data=bene_age_month_df, x='month', y='num_of_beneficiaries', palette='summer')\n",
    "  # Using the \"patches\" function we will get the location of the rectangle bars from the graph.\n",
    "  ## Then by using those location(width & height) values we will add the annotations\n",
    "  for p in fig.patches:\n",
    "    width = p.get_width()\n",
    "    height = p.get_height()\n",
    "    x, y = p.get_xy()\n",
    "    fig.annotate(f'{str(round((height*100)/train_bene_df.shape[0],1))+\"%\"}', (x + width/2, y + height*1.025), ha='center', fontsize=13.5, rotation=90)\n",
    "  # Providing the labels and title to the graph\n",
    "  plt.xlabel(\"\\nBeneficary MONTH of Birth\\n\", fontdict=label_font_dict)\n",
    "  plt.xticks(rotation=90)\n",
    "  plt.ylabel(\"Number or % share of patients\", fontdict=label_font_dict)\n",
    "  plt.minorticks_on()\n",
    "  plt.grid(which='major', linestyle=\"--\", color='lightgrey')\n",
    "  plt.title(\"Distribution of BENEFICIARIES based on their MONTH of birth\\n\", fontdict=title_font_dict)"
   ]
  },
  {
   "cell_type": "markdown",
   "metadata": {
    "id": "Y6hxCzVqZgCs"
   },
   "source": [
    "**`OBERVATION`**\n",
    "* From the above plot, we can decude that there is no such difference b/w the patients based on their MONTH of birth. \n",
    "  * Initial, look suggests me that this feature might not be more of a use.\n",
    "\n",
    "\n",
    "**`REASONING`**\n",
    "* The reason for adding the \"MONTH of Birth of Beneficiaries\" as a new feature in the dataset with the intent to find whether personal details has been forged by the beneficiary or its direct/indirect association with Fraud claims."
   ]
  },
  {
   "cell_type": "code",
   "execution_count": null,
   "metadata": {
    "execution": {
     "iopub.execute_input": "2022-08-24T12:50:26.310484Z",
     "iopub.status.busy": "2022-08-24T12:50:26.310018Z",
     "iopub.status.idle": "2022-08-24T12:50:26.335128Z",
     "shell.execute_reply": "2022-08-24T12:50:26.333781Z",
     "shell.execute_reply.started": "2022-08-24T12:50:26.310437Z"
    },
    "id": "Dzjinq2BbUwT",
    "outputId": "0fa1f010-21cb-4c16-b16c-e666497e07e0",
    "trusted": true
   },
   "outputs": [],
   "source": [
    "train_bene_df.head()"
   ]
  },
  {
   "cell_type": "markdown",
   "metadata": {
    "id": "E1QbWMXBYokR"
   },
   "source": [
    "* **`Adding new indicator`** <::::::::::::::::::::::::> **\"`Beneficiary Dead or Alive?`\"**\n",
    "  * This represent whether a patient is alive or not?\n",
    "    * Here, the point to understand is that there can be ONE to MANY relationship b/w a BENEFICIARY and CLAIM filed, thus I'm making an assumption here is that beneficiaries with DOD as NA are alive, however this cannot be  always true once we join it with CLAIMS data.\n",
    "      * For example, A patient gets successfully operated for Kidney Failure on Sep 2012 and filed CLAIM-I. So, this claimed gets approved with DOD as NA. \n",
    "        * Same patient gets operated after 4 months for Cardiac Failure but couldn't survived and filed CLAIM-II. Thus, for CLAIM-I this person shoud have DEAD_or_ALIVE indicator as FALSE whereas for CLAIM-II it should be TRUE.\n",
    "\n",
    "\n",
    "* **`REASONING`**\n",
    "  * My intention behind adding this feature is to see whether FRAUD claims are higher for DEAD patients or not? \n",
    "    * The reason here is that generally when an organized fraud happens then healthcare providers falsely diagnose, misdiagnose, or overdiagnose a disease, which can lead to harmful courses of medication or treatments or procedures being prescribed or performed. All of this together can lead to patient death."
   ]
  },
  {
   "cell_type": "code",
   "execution_count": null,
   "metadata": {
    "execution": {
     "iopub.execute_input": "2022-08-24T12:50:26.336967Z",
     "iopub.status.busy": "2022-08-24T12:50:26.336493Z",
     "iopub.status.idle": "2022-08-24T12:50:26.403422Z",
     "shell.execute_reply": "2022-08-24T12:50:26.401951Z",
     "shell.execute_reply.started": "2022-08-24T12:50:26.336921Z"
    },
    "id": "qAccWODQcu6W",
    "trusted": true
   },
   "outputs": [],
   "source": [
    "# 0 means ALIVE and 1 means DEAD\n",
    "train_bene_df['Dead_or_Alive'] = train_bene_df['DOD'].apply(lambda val: 0 if val != val else 1)"
   ]
  },
  {
   "cell_type": "code",
   "execution_count": null,
   "metadata": {
    "execution": {
     "iopub.execute_input": "2022-08-24T12:50:26.404988Z",
     "iopub.status.busy": "2022-08-24T12:50:26.404641Z",
     "iopub.status.idle": "2022-08-24T12:50:26.416037Z",
     "shell.execute_reply": "2022-08-24T12:50:26.414799Z",
     "shell.execute_reply.started": "2022-08-24T12:50:26.404958Z"
    },
    "id": "2AdslKKpebA4",
    "outputId": "aef758c7-d1a0-4208-96e2-80abb4f1d2aa",
    "trusted": true
   },
   "outputs": [],
   "source": [
    "train_bene_df['Dead_or_Alive'].value_counts()"
   ]
  },
  {
   "cell_type": "code",
   "execution_count": null,
   "metadata": {
    "_kg_hide-input": true,
    "execution": {
     "iopub.execute_input": "2022-08-24T12:50:26.418046Z",
     "iopub.status.busy": "2022-08-24T12:50:26.417575Z",
     "iopub.status.idle": "2022-08-24T12:50:26.736915Z",
     "shell.execute_reply": "2022-08-24T12:50:26.735432Z",
     "shell.execute_reply.started": "2022-08-24T12:50:26.417999Z"
    },
    "id": "mqWwYSE0nxjX",
    "outputId": "c00ef508-a3a1-4344-f42d-805d0f1aba4b",
    "trusted": true
   },
   "outputs": [],
   "source": [
    "# Here, I'm displaying the distribution of whether BENEFICIARY is ALIVE or NOT?\n",
    "with plt.style.context('seaborn'):\n",
    "  plt.figure(figsize=(10,8))\n",
    "  fig = train_bene_df['Dead_or_Alive'].value_counts().plot(kind='bar', color=['lightgreen','coral'])\n",
    "  # Using the \"patches\" function we will get the location of the rectangle bars from the graph.\n",
    "  ## Then by using those location(width & height) values we will add the annotations\n",
    "  for p in fig.patches:\n",
    "    width = p.get_width()\n",
    "    height = p.get_height()\n",
    "    x, y = p.get_xy()\n",
    "    fig.annotate(f'{str(round((height*100)/train_bene_df.shape[0],2))+\"%\"}', (x + width/2, y + height*1.015), ha='center', fontsize=13.5)\n",
    "  # Providing the labels and title to the graph\n",
    "  plt.xlabel(\"Alive or Dead Status?\", fontdict=label_font_dict)\n",
    "  plt.xticks(labels=[\"ALIVE\",\"DEAD\"], ticks=[0,1], rotation=20)\n",
    "  plt.ylabel(\"Number or % share of patients\\n\", fontdict=label_font_dict)\n",
    "  plt.grid(which='major', linestyle=\"--\", color='lightgrey')\n",
    "  plt.minorticks_on()\n",
    "  plt.title(\"Distribution of BENEFICIARIES based on Alive or Dead Status\\n\", fontdict=title_font_dict)"
   ]
  },
  {
   "cell_type": "markdown",
   "metadata": {
    "id": "NBIkmxxtya_A"
   },
   "source": [
    "- **`OBSERVATION`**\n",
    "  - The above graph tells us that almost 99% of the beneficiaries are ALIVE and very small percentage of patients are DEAD. It would be good to see how much this feature has impact on the actual label."
   ]
  },
  {
   "cell_type": "code",
   "execution_count": null,
   "metadata": {
    "execution": {
     "iopub.execute_input": "2022-08-24T12:50:26.738982Z",
     "iopub.status.busy": "2022-08-24T12:50:26.73849Z",
     "iopub.status.idle": "2022-08-24T12:50:26.761651Z",
     "shell.execute_reply": "2022-08-24T12:50:26.760064Z",
     "shell.execute_reply.started": "2022-08-24T12:50:26.738937Z"
    },
    "id": "piNoK_UVea0C",
    "trusted": true
   },
   "outputs": [],
   "source": [
    "train_bene_df['DOD'] = pd.to_datetime(train_bene_df['DOD'])"
   ]
  },
  {
   "cell_type": "code",
   "execution_count": null,
   "metadata": {
    "execution": {
     "iopub.execute_input": "2022-08-24T12:50:26.76392Z",
     "iopub.status.busy": "2022-08-24T12:50:26.763492Z",
     "iopub.status.idle": "2022-08-24T12:50:26.775388Z",
     "shell.execute_reply": "2022-08-24T12:50:26.774225Z",
     "shell.execute_reply.started": "2022-08-24T12:50:26.763884Z"
    },
    "id": "LqTO_R4LcvEw",
    "outputId": "23b3137c-f427-4250-de14-f840dcff6254",
    "trusted": true
   },
   "outputs": [],
   "source": [
    "# Greatest Date of Death in the TRAIN set for beneficiaries\n",
    "max_bene_DOD = max(train_bene_df['DOD'].unique()[1:])\n",
    "max_bene_DOD"
   ]
  },
  {
   "cell_type": "code",
   "execution_count": null,
   "metadata": {
    "execution": {
     "iopub.execute_input": "2022-08-24T12:50:26.777413Z",
     "iopub.status.busy": "2022-08-24T12:50:26.776774Z",
     "iopub.status.idle": "2022-08-24T12:50:26.786182Z",
     "shell.execute_reply": "2022-08-24T12:50:26.785197Z",
     "shell.execute_reply.started": "2022-08-24T12:50:26.777377Z"
    },
    "id": "zGSwVuOXrc-i",
    "trusted": true
   },
   "outputs": [],
   "source": [
    "# For all NAN DODs filling the greatest Date of Death\n",
    "train_bene_df['DOD'].fillna(value=max_bene_DOD, inplace=True)"
   ]
  },
  {
   "cell_type": "markdown",
   "metadata": {
    "id": "t2FQ8d1A9uzM"
   },
   "source": [
    "* **`Adding new feature`** <::::::::::::::::::::::::> **\"`Beneficiary AGE`\"**\n",
    "  * This represent the AGE of the beneficiary.\n",
    "\n",
    "\n",
    "* **`REASONING`**\n",
    "  * My intention behind adding this feature is to better analyse the CLAIM and Patient related data."
   ]
  },
  {
   "cell_type": "code",
   "execution_count": null,
   "metadata": {
    "execution": {
     "iopub.execute_input": "2022-08-24T12:50:26.788855Z",
     "iopub.status.busy": "2022-08-24T12:50:26.787606Z",
     "iopub.status.idle": "2022-08-24T12:50:26.804821Z",
     "shell.execute_reply": "2022-08-24T12:50:26.803579Z",
     "shell.execute_reply.started": "2022-08-24T12:50:26.788802Z"
    },
    "id": "vFOLBvB4sA4N",
    "trusted": true
   },
   "outputs": [],
   "source": [
    "train_bene_df['AGE'] = np.round(((train_bene_df['DOD'] - train_bene_df['DOB']).dt.days)/365.0,1)"
   ]
  },
  {
   "cell_type": "code",
   "execution_count": null,
   "metadata": {
    "execution": {
     "iopub.execute_input": "2022-08-24T12:50:26.80731Z",
     "iopub.status.busy": "2022-08-24T12:50:26.806306Z",
     "iopub.status.idle": "2022-08-24T12:50:26.838331Z",
     "shell.execute_reply": "2022-08-24T12:50:26.837344Z",
     "shell.execute_reply.started": "2022-08-24T12:50:26.807271Z"
    },
    "id": "XIia8Z0pu6IS",
    "trusted": true
   },
   "outputs": [],
   "source": [
    "train_bene_df.drop(labels=['DOD'],axis=1,inplace=True)"
   ]
  },
  {
   "cell_type": "code",
   "execution_count": null,
   "metadata": {
    "execution": {
     "iopub.execute_input": "2022-08-24T12:50:26.840411Z",
     "iopub.status.busy": "2022-08-24T12:50:26.839656Z",
     "iopub.status.idle": "2022-08-24T12:50:26.86618Z",
     "shell.execute_reply": "2022-08-24T12:50:26.864678Z",
     "shell.execute_reply.started": "2022-08-24T12:50:26.840366Z"
    },
    "id": "httn4M4KbVYA",
    "outputId": "80080963-ad5c-4073-c303-f94e5656164d",
    "trusted": true
   },
   "outputs": [],
   "source": [
    "train_bene_df.head()"
   ]
  },
  {
   "cell_type": "code",
   "execution_count": null,
   "metadata": {
    "_kg_hide-input": true,
    "execution": {
     "iopub.execute_input": "2022-08-24T12:50:26.868275Z",
     "iopub.status.busy": "2022-08-24T12:50:26.867923Z",
     "iopub.status.idle": "2022-08-24T12:50:27.329559Z",
     "shell.execute_reply": "2022-08-24T12:50:27.328644Z",
     "shell.execute_reply.started": "2022-08-24T12:50:26.868244Z"
    },
    "id": "QdX_ujXXuo19",
    "outputId": "64efdd1a-a7d8-4e67-f683-b1142d8683ce",
    "trusted": true
   },
   "outputs": [],
   "source": [
    "# Here, I'm displaying the distribution of AGE of Beneficiaries?\n",
    "with plt.style.context('seaborn'):\n",
    "  plt.figure(figsize=(10,8))\n",
    "  train_bene_df['AGE'].plot(kind='hist', color='purple')\n",
    "  # Providing the labels and title to the graph\n",
    "  plt.xlabel(\"\\nBeneficiaries Age in years\", fontdict=label_font_dict)\n",
    "  plt.ylabel(\"Frequency of patients\\n\", fontdict=label_font_dict)\n",
    "  plt.grid(which='major', linestyle=\"--\", color='lightgrey')\n",
    "  plt.minorticks_on()\n",
    "  plt.title(\"Distribution of BENEFICIARIES AGE\", fontdict=title_font_dict)\n",
    "  plt.legend();"
   ]
  },
  {
   "cell_type": "markdown",
   "metadata": {
    "id": "F_w35I1xzHWz"
   },
   "source": [
    "- **`OBSERVATION`**\n",
    "  - The above graph tells us that the majority of the beneficiaries are b/w 65 to 85 years."
   ]
  },
  {
   "cell_type": "code",
   "execution_count": null,
   "metadata": {
    "execution": {
     "iopub.execute_input": "2022-08-24T12:50:27.331642Z",
     "iopub.status.busy": "2022-08-24T12:50:27.330826Z",
     "iopub.status.idle": "2022-08-24T12:50:27.352664Z",
     "shell.execute_reply": "2022-08-24T12:50:27.351675Z",
     "shell.execute_reply.started": "2022-08-24T12:50:27.331602Z"
    },
    "id": "l5XkVdM4xDGW",
    "outputId": "5d023a30-9141-4f79-fddb-a14e2a61005e",
    "trusted": true
   },
   "outputs": [],
   "source": [
    "train_bene_df['AGE'].describe()"
   ]
  },
  {
   "cell_type": "markdown",
   "metadata": {
    "id": "YgJPXjnO1AUZ"
   },
   "source": [
    "* **`Adding new categorical column`** <::::::::::::::::::::::::> **\"`Beneficiary AGE brackets`\"**\n",
    "  * This will represent whether a patient falls in a specific AGE bracket?\n",
    "    * [1-40] --> Group 1 --> Young\n",
    "    * (40-60] --> Group 2 --> Mid Aged\n",
    "    * (60-80] --> Group 3 --> Old \n",
    "    * (80 or more] --> Group 4 --> Very Old\n",
    "\n",
    "\n",
    "* **`REASONING`**\n",
    "  * My intention behind adding this feature is to see whether FRAUD claims are higher for specific AGE Groups?\n",
    "    * The reasoning here is that there may be a potential pattern that providers files higher number of FRAUD claims for either a younger age group or very old age group."
   ]
  },
  {
   "cell_type": "code",
   "execution_count": null,
   "metadata": {
    "execution": {
     "iopub.execute_input": "2022-08-24T12:50:27.361877Z",
     "iopub.status.busy": "2022-08-24T12:50:27.360897Z",
     "iopub.status.idle": "2022-08-24T12:50:27.367787Z",
     "shell.execute_reply": "2022-08-24T12:50:27.366749Z",
     "shell.execute_reply.started": "2022-08-24T12:50:27.36183Z"
    },
    "id": "BYREPOGb0rHa",
    "trusted": true
   },
   "outputs": [],
   "source": [
    "def bene_age_brackets(val):\n",
    "  if val >=1 and val <=40:\n",
    "    return 'Young'\n",
    "  elif val > 40 and val <=60:\n",
    "    return 'Mid'\n",
    "  elif val > 60 and val <= 80:\n",
    "    return 'Old'\n",
    "  else:\n",
    "    return 'Very Old'"
   ]
  },
  {
   "cell_type": "code",
   "execution_count": null,
   "metadata": {
    "execution": {
     "iopub.execute_input": "2022-08-24T12:50:27.370397Z",
     "iopub.status.busy": "2022-08-24T12:50:27.369269Z",
     "iopub.status.idle": "2022-08-24T12:50:27.455486Z",
     "shell.execute_reply": "2022-08-24T12:50:27.454289Z",
     "shell.execute_reply.started": "2022-08-24T12:50:27.370357Z"
    },
    "id": "DZLBtJvo5AJx",
    "trusted": true
   },
   "outputs": [],
   "source": [
    "train_bene_df['AGE_groups'] = train_bene_df['AGE'].apply(lambda age: bene_age_brackets(age))"
   ]
  },
  {
   "cell_type": "code",
   "execution_count": null,
   "metadata": {
    "_kg_hide-input": true,
    "execution": {
     "iopub.execute_input": "2022-08-24T12:50:27.457972Z",
     "iopub.status.busy": "2022-08-24T12:50:27.457224Z",
     "iopub.status.idle": "2022-08-24T12:50:29.043579Z",
     "shell.execute_reply": "2022-08-24T12:50:29.042392Z",
     "shell.execute_reply.started": "2022-08-24T12:50:27.457923Z"
    },
    "id": "1bk8uaj76xbA",
    "outputId": "fc519d60-7436-43bf-d749-4b4c46e02042",
    "trusted": true
   },
   "outputs": [],
   "source": [
    "age_grps = list(train_bene_df['AGE_groups'].unique())\n",
    "for grp in age_grps:\n",
    "  # Here, I'm displaying the distribution of AGE GROUPS of Beneficiaries?\n",
    "  with plt.style.context('seaborn'):\n",
    "    plt.figure(figsize=(8,6))\n",
    "    train_bene_df[train_bene_df['AGE_groups'] == grp]['AGE'].plot(kind='hist', color='grey')\n",
    "    # Providing the labels and title to the graph\n",
    "    plt.xlabel(\"\\nBeneficiaries Age in years\", fontdict=label_font_dict)\n",
    "    plt.ylabel(\"Frequency of patients\\n\", fontdict=label_font_dict)\n",
    "    plt.grid(which='major', linestyle=\"--\", color='lightgrey')\n",
    "    plt.minorticks_on()\n",
    "    plt.title(\"Distribution of BENEFICIARIES Age group -- {}\".format(str(grp).upper()), fontdict=title_font_dict)\n",
    "    plt.legend();"
   ]
  },
  {
   "cell_type": "markdown",
   "metadata": {
    "id": "wzGqJUP4-1zg"
   },
   "source": [
    "- **`OBSERVATION`**\n",
    "  - The above graphs tells us about the spread of beneficiaries across the Age Groups.\n",
    "    - For YOUNG group we can say that the spread is quite even across the ages of beneficiaries."
   ]
  },
  {
   "cell_type": "markdown",
   "metadata": {
    "id": "oskBOtFaAAxe"
   },
   "source": [
    "### **Q4. Lets see the ratio of GENDER across various HUMAN RACE?**"
   ]
  },
  {
   "cell_type": "markdown",
   "metadata": {
    "id": "Ac79PeiYBWbz"
   },
   "source": [
    "*  **The world population can be divided into 4 major races:**\n",
    "  * white/Caucasian \n",
    "  * Mongoloid/Asian\n",
    "  * Negroid/Black\n",
    "  * Australoid. \n",
    "\n",
    "**This is based on a racial classification made by Carleton S. Coon in 1962. Refer [here](https://www.umsl.edu/~naumannj/culture%20and%20cultural%20geography/articles/How%20many%20major%20races%20are%20there%20in%20the%20world.docx#:~:text=The%20world%20population%20can%20be,classification%20made%20by%20Carleton%20S.).**"
   ]
  },
  {
   "cell_type": "code",
   "execution_count": null,
   "metadata": {
    "execution": {
     "iopub.execute_input": "2022-08-24T12:50:29.0458Z",
     "iopub.status.busy": "2022-08-24T12:50:29.045293Z",
     "iopub.status.idle": "2022-08-24T12:50:29.054659Z",
     "shell.execute_reply": "2022-08-24T12:50:29.053502Z",
     "shell.execute_reply.started": "2022-08-24T12:50:29.045753Z"
    },
    "id": "WMiQMEkd6NGa",
    "outputId": "8bec5428-42bc-4593-e0d2-56e661bccfca",
    "trusted": true
   },
   "outputs": [],
   "source": [
    "train_bene_df['Race'].unique()"
   ]
  },
  {
   "cell_type": "code",
   "execution_count": null,
   "metadata": {
    "_kg_hide-input": true,
    "execution": {
     "iopub.execute_input": "2022-08-24T12:50:29.05669Z",
     "iopub.status.busy": "2022-08-24T12:50:29.056231Z",
     "iopub.status.idle": "2022-08-24T12:50:29.402178Z",
     "shell.execute_reply": "2022-08-24T12:50:29.400842Z",
     "shell.execute_reply.started": "2022-08-24T12:50:29.056638Z"
    },
    "id": "uRxiE97l_0CV",
    "outputId": "be522d20-11b6-4ae3-c2fe-bdc8b3ed8617",
    "trusted": true
   },
   "outputs": [],
   "source": [
    "# Here, I'm displaying the distribution of BENEFICIARIES on the basis of Human RACE\n",
    "with plt.style.context('seaborn'):\n",
    "  plt.figure(figsize=(10,8))\n",
    "  fig = train_bene_df['Race'].value_counts().plot(kind='bar', color=['lightgreen','coral','purple','red'])\n",
    "  # Using the \"patches\" function we will get the location of the rectangle bars from the graph.\n",
    "  ## Then by using those location(width & height) values we will add the annotations\n",
    "  for p in fig.patches:\n",
    "    width = p.get_width()\n",
    "    height = p.get_height()\n",
    "    x, y = p.get_xy()\n",
    "    fig.annotate(f'{str(round((height*100)/train_bene_df.shape[0],2))+\"%\"}', (x + width/2, y + height*1.02), ha='center', fontsize=13.5)\n",
    "  # Providing the labels and title to the graph\n",
    "  plt.xlabel(\"Human RACE\", fontdict=label_font_dict)\n",
    "  plt.xticks(labels=[\"Race_1\",\"Race_2\",\"Race_3\",\"Race_5\"], ticks=[0,1,2,3], rotation=10)\n",
    "  plt.ylabel(\"Number or % share of patients\\n\", fontdict=label_font_dict)\n",
    "  plt.grid(which='major', linestyle=\"--\", color='lightgrey')\n",
    "  plt.minorticks_on()\n",
    "  plt.title(\"Distribution of BENEFICIARIES on the basis of Human RACE\\n\", fontdict=title_font_dict)"
   ]
  },
  {
   "cell_type": "markdown",
   "metadata": {
    "id": "Z8q9zeCjGJ4B"
   },
   "source": [
    "- **`OBSERVATION`**\n",
    "  - The above graph tells us that there is a serious imbalance in the records for Human Race categories."
   ]
  },
  {
   "cell_type": "code",
   "execution_count": null,
   "metadata": {
    "_kg_hide-input": true,
    "execution": {
     "iopub.execute_input": "2022-08-24T12:50:29.404253Z",
     "iopub.status.busy": "2022-08-24T12:50:29.403907Z",
     "iopub.status.idle": "2022-08-24T12:50:29.87912Z",
     "shell.execute_reply": "2022-08-24T12:50:29.877782Z",
     "shell.execute_reply.started": "2022-08-24T12:50:29.404221Z"
    },
    "id": "kCxR9oX3_z4p",
    "outputId": "66aeef1a-9c33-47d5-f697-bf1f7025ed4c",
    "trusted": true
   },
   "outputs": [],
   "source": [
    "# Lets validate whether we have imbalance of males and females across the human races\n",
    "with plt.style.context('seaborn'):\n",
    "  plt.figure(figsize=(12,8))\n",
    "  fig = train_bene_df.groupby(['Gender','Race'])['AGE'].count().plot(kind='bar', color=['lightgreen','coral','purple','red','lightgreen','coral','purple','red'])\n",
    "  # Using the \"patches\" function we will get the location of the rectangle bars from the graph.\n",
    "  ## Then by using those location(width & height) values we will add the annotations\n",
    "  for p in fig.patches:\n",
    "    width = p.get_width()\n",
    "    height = p.get_height()\n",
    "    x, y = p.get_xy()\n",
    "    fig.annotate(f'{str(round((height*100)/train_bene_df.shape[0],2))+\"%\"}', (x + width/2, y + height*1.02), ha='center', fontsize=13.5)\n",
    "  # Providing the labels and title to the graph\n",
    "  plt.xlabel(\"Gender & Human RACE\", fontdict=label_font_dict)\n",
    "  plt.xticks(labels=[(\"Gender_0\",\"Race_1\"), (\"Gender_0\",\"Race_2\"), (\"Gender_0\",\"Race_3\"), (\"Gender_0\",\"Race_5\"),(\"Gender_1\",\"Race_1\"), (\"Gender_1\",\"Race_2\"), (\"Gender_1\",\"Race_3\"), (\"Gender_1\",\"Race_5\")],\n",
    "             ticks=[0,1,2,3,4,5,6,7], rotation=80)\n",
    "  plt.ylabel(\"Number or % share of patients\\n\", fontdict=label_font_dict)\n",
    "  plt.grid(which='major', linestyle=\"--\", color='lightgrey')\n",
    "  plt.minorticks_on()\n",
    "  plt.title(\"Imbalance of males and females across the human races?\\n\", fontdict=title_font_dict)"
   ]
  },
  {
   "cell_type": "markdown",
   "metadata": {
    "id": "Lxqqdy43Jjpo"
   },
   "source": [
    "- **`OBSERVATION`**\n",
    "  - The above graph shows us whether we have an imbalance of males or females across the human races. \n",
    "    - And, it looks like within a specific human race there is no such gender imbalance."
   ]
  },
  {
   "cell_type": "markdown",
   "metadata": {
    "id": "S3ISA8snc365"
   },
   "source": [
    "### **Q5. Lets see the number of beneficiaries with Chronic Renal Disease.**"
   ]
  },
  {
   "cell_type": "markdown",
   "metadata": {
    "id": "6I3OjajGc37G"
   },
   "source": [
    "*  There are two main types of kidney disease - short-term (acute kidney injury) and lifelong (chronic).\n",
    "\n",
    "*  The two main types of kidney disease are short-term (acute kidney injury) and lifelong (chronic kidney disease).\n",
    "  *  Chronic kidney disease, also known as chronic renal disease or CKD, is a condition characterized by a gradual loss of kidney function over time.\n",
    "\n",
    "* **What are the main causes of chronic kidney disease?**\n",
    "  * Diabetes and high blood pressure, or hypertension, are responsible for two-thirds of chronic kidney disease cases.\n",
    "\n",
    "**For more info refer here -->** [link-1](https://kidney.org.au/your-kidneys/what-is-kidney-disease/types-of-kidney-disease) \n",
    "[link-2](https://www.kidney.org/atoz/content/about-chronic-kidney-disease)"
   ]
  },
  {
   "cell_type": "code",
   "execution_count": null,
   "metadata": {
    "_kg_hide-input": true,
    "execution": {
     "iopub.execute_input": "2022-08-24T12:50:29.881245Z",
     "iopub.status.busy": "2022-08-24T12:50:29.880767Z",
     "iopub.status.idle": "2022-08-24T12:50:30.19885Z",
     "shell.execute_reply": "2022-08-24T12:50:30.197579Z",
     "shell.execute_reply.started": "2022-08-24T12:50:29.881198Z"
    },
    "id": "siXjkkaG_zrh",
    "outputId": "89dee535-1f93-4076-95e0-b025858c8149",
    "trusted": true
   },
   "outputs": [],
   "source": [
    "# Here, I'm displaying the distribution of BENEFICIARIES on the basis of State\n",
    "with plt.style.context('seaborn'):\n",
    "  plt.figure(figsize=(10,8))\n",
    "  fig = train_bene_df['RenalDiseaseIndicator'].value_counts().plot(kind='bar', color=['green','orange'])\n",
    "  # Using the \"patches\" function we will get the location of the rectangle bars from the graph.\n",
    "  ## Then by using those location(width & height) values we will add the annotations\n",
    "  for p in fig.patches:\n",
    "    width = p.get_width()\n",
    "    height = p.get_height()\n",
    "    x, y = p.get_xy()\n",
    "    fig.annotate(f'{str(round((height*100)/train_bene_df.shape[0],2))+\"%\"}', (x + width/2, y + height*1.02), ha='center', fontsize=13.5, rotation=0)\n",
    "  # Providing the labels and title to the graph\n",
    "  plt.xlabel(\"\\nRenal Disease present or not?\", fontdict=label_font_dict)\n",
    "  plt.xticks(labels=[\"NO\",\"YES\"], ticks=[0,1], rotation=10, size=12)\n",
    "  plt.ylabel(\"Number or % share of patients\\n\", fontdict=label_font_dict)\n",
    "  plt.grid(which='major', linestyle=\"--\", color='lightgrey')\n",
    "  plt.minorticks_on()\n",
    "  plt.title(\"Distribution of BENEFICIARIES on the basis of Renal Disease\\n\", fontdict=title_font_dict)\n",
    "\n",
    "  # 0 means NO and 1 means YES\n",
    "  print(pd.DataFrame(train_bene_df['RenalDiseaseIndicator'].value_counts()),\"\\n\")"
   ]
  },
  {
   "cell_type": "markdown",
   "metadata": {
    "id": "e51ItmfGsVlD"
   },
   "source": [
    "- **`OBSERVATION`**\n",
    "  - Above graph tells us that around 14% of beneficiaries has or had Kidney Failure(Renal Disease)."
   ]
  },
  {
   "cell_type": "code",
   "execution_count": null,
   "metadata": {
    "_kg_hide-input": true,
    "execution": {
     "iopub.execute_input": "2022-08-24T12:50:30.201055Z",
     "iopub.status.busy": "2022-08-24T12:50:30.200536Z",
     "iopub.status.idle": "2022-08-24T12:50:30.507407Z",
     "shell.execute_reply": "2022-08-24T12:50:30.50598Z",
     "shell.execute_reply.started": "2022-08-24T12:50:30.20101Z"
    },
    "id": "V0Y5tEwziuPz",
    "outputId": "1aa9117e-027b-4a3a-978e-e98103f11c20",
    "trusted": true
   },
   "outputs": [],
   "source": [
    "# Here, I'm displaying the distribution of BENEFICIARIES on the basis of \"ChronicCond_KidneyDisease\"\n",
    "with plt.style.context('seaborn'):\n",
    "  plt.figure(figsize=(10,8))\n",
    "  fig = train_bene_df['ChronicCond_KidneyDisease'].value_counts().plot(kind='bar', color=['green','orange'])\n",
    "  # Using the \"patches\" function we will get the location of the rectangle bars from the graph.\n",
    "  ## Then by using those location(width & height) values we will add the annotations\n",
    "  for p in fig.patches:\n",
    "    width = p.get_width()\n",
    "    height = p.get_height()\n",
    "    x, y = p.get_xy()\n",
    "    fig.annotate(f'{str(round((height*100)/train_bene_df.shape[0],2))+\"%\"}', (x + width/2, y + height*1.02), ha='center', fontsize=13.5, rotation=0)\n",
    "  # Providing the labels and title to the graph\n",
    "  plt.xlabel(\"\\n Chronic Kidney Disease present or not?\", fontdict=label_font_dict)\n",
    "  plt.xticks(labels=[\"NO\",\"YES\"], ticks=[0,1], rotation=10, size=12)\n",
    "  plt.ylabel(\"Number or % share of patients\\n\", fontdict=label_font_dict)\n",
    "  plt.grid(which='major', linestyle=\"--\", color='lightgrey')\n",
    "  plt.minorticks_on()\n",
    "  plt.title(\"Distribution of BENEFICIARIES on the basis of 'ChronicCond_KidneyDisease'\\n\", fontdict=title_font_dict)\n",
    "\n",
    "# I believe 2 means NO and 1 means YES\n",
    "print(pd.DataFrame(train_bene_df['ChronicCond_KidneyDisease'].value_counts()),'\\n')"
   ]
  },
  {
   "cell_type": "markdown",
   "metadata": {
    "id": "zpOJgHfA1qy-"
   },
   "source": [
    "- **`OBSERVATION`**\n",
    "  - Above graph tells us that around 31% of Beneficiaries had Chronic Kidney Disease."
   ]
  },
  {
   "cell_type": "markdown",
   "metadata": {
    "id": "3UuafnGUjwlb"
   },
   "source": [
    "* In the beneficiary dataset, we have 2 columns:\n",
    "  * RenalDisease\n",
    "  * ChronicCond_KidneyDisease\n",
    "Both of these columns appears to be representing the beneficiary history about the kidney disease.\n",
    "\n",
    "I found this [link](https://www.kidney.org/blog/ask-doctor/chronic-kidney-disease-and-chronic-renal-failure-same-thing) useful in order to understand the difference b/w both of these. It looks they have RenalDisease indicator to represent whether the beneficiary has or had Kidney Failure.\n",
    "And, ChronicCond_KidneyDisease represents the long term Kidney Disease may be like not functioning to the fullest."
   ]
  },
  {
   "cell_type": "code",
   "execution_count": null,
   "metadata": {
    "_kg_hide-input": true,
    "execution": {
     "iopub.execute_input": "2022-08-24T12:50:30.510179Z",
     "iopub.status.busy": "2022-08-24T12:50:30.509738Z",
     "iopub.status.idle": "2022-08-24T12:50:31.138661Z",
     "shell.execute_reply": "2022-08-24T12:50:31.13733Z",
     "shell.execute_reply.started": "2022-08-24T12:50:30.510143Z"
    },
    "id": "up1cR6_plwwm",
    "outputId": "5fce5283-fae2-4979-dc7d-d0be96fca390",
    "trusted": true
   },
   "outputs": [],
   "source": [
    "# Lets validate whether we have beneficiaries with both RKD & CKD?\n",
    "with plt.style.context('seaborn'):\n",
    "  plt.figure(figsize=(12,8))\n",
    "  fig = train_bene_df.groupby(['RenalDiseaseIndicator','ChronicCond_KidneyDisease'])['Gender'].count().plot(kind='bar', color=['orange','green','purple','red'])\n",
    "  # Using the \"patches\" function we will get the location of the rectangle bars from the graph.\n",
    "  ## Then by using those location(width & height) values we will add the annotations\n",
    "  for p in fig.patches:\n",
    "    width = p.get_width()\n",
    "    height = p.get_height()\n",
    "    x, y = p.get_xy()\n",
    "    fig.annotate(f'{str(round((height*100)/train_bene_df.shape[0],2))+\"%\"}', (x + width/2, y + height*1.02), ha='center', fontsize=13.5)\n",
    "  \n",
    "  # Added the Description for one of the horizontal bar\n",
    "  fig.annotate('This is interesting!!\\n Beneficiaries with NO Long Term Kidney Malfunction but\\n suffered from Kidney Failure.', \n",
    "               xy=(2.85, 0.85),  xycoords='data', xytext=(1.02, 0.65), textcoords='axes fraction', fontsize=12.5,\n",
    "               arrowprops=dict(facecolor='black', shrink=0.03), horizontalalignment='right', verticalalignment='top')\n",
    "\n",
    "  # Providing the labels and title to the graph\n",
    "  plt.xlabel(\"\\nRKD and CKD both are present?\", fontdict=label_font_dict)\n",
    "  plt.xticks(labels=[(\"RKD_No\",\"CKD_Yes\"), (\"RKD_No\",\"CKD_No\"), (\"RKD_Yes\",\"CKD_Yes\"), (\"RKD_Yes\",\"CKD_No\")], ticks=[0,1,2,3], rotation=0, size=12)\n",
    "  plt.ylabel(\"Number or % share of patients\\n\", fontdict=label_font_dict)\n",
    "  plt.grid(which='major', linestyle=\"--\", color='lightgrey')\n",
    "  plt.minorticks_on()\n",
    "  plt.title(\"Imbalance b/w males and females across the human races?\\n\", fontdict=title_font_dict)\n",
    "\n",
    "# RKD --> Renal Disease Indicator\n",
    "# CKD --> Chronic Condition Kidney Disease\n",
    "print(pd.DataFrame(train_bene_df.groupby(['RenalDiseaseIndicator','ChronicCond_KidneyDisease'])['Gender'].count()),\"\\n\")"
   ]
  },
  {
   "cell_type": "markdown",
   "metadata": {
    "id": "2QYF65aKq3MD"
   },
   "source": [
    "- **`OBSERVATION`**\n",
    "  - In the above, we came to know that 2.94% of beneficiaries had no previously CKD but suffered from RKD. It would be good to check how many out these end-up as FRAUD claims."
   ]
  },
  {
   "cell_type": "markdown",
   "metadata": {
    "id": "8_8sr26cooRD"
   },
   "source": [
    "### **Q6. Lets see the number of beneficiaries on the basis of State Codes.**"
   ]
  },
  {
   "cell_type": "code",
   "execution_count": null,
   "metadata": {
    "execution": {
     "iopub.execute_input": "2022-08-24T12:50:31.141156Z",
     "iopub.status.busy": "2022-08-24T12:50:31.140667Z",
     "iopub.status.idle": "2022-08-24T12:50:31.150376Z",
     "shell.execute_reply": "2022-08-24T12:50:31.149151Z",
     "shell.execute_reply.started": "2022-08-24T12:50:31.141108Z"
    },
    "id": "zzAGA01fqdrC",
    "outputId": "6bf1487d-8b98-428e-edb0-81e8d94c63e7",
    "trusted": true
   },
   "outputs": [],
   "source": [
    "train_bene_df['State'].unique()"
   ]
  },
  {
   "cell_type": "code",
   "execution_count": null,
   "metadata": {
    "_kg_hide-input": true,
    "execution": {
     "iopub.execute_input": "2022-08-24T12:50:31.152891Z",
     "iopub.status.busy": "2022-08-24T12:50:31.152151Z",
     "iopub.status.idle": "2022-08-24T12:50:32.814248Z",
     "shell.execute_reply": "2022-08-24T12:50:32.81286Z",
     "shell.execute_reply.started": "2022-08-24T12:50:31.152844Z"
    },
    "id": "KpaxyXlponYe",
    "outputId": "22463461-54e5-4595-e3f3-95fb63dc0729",
    "trusted": true
   },
   "outputs": [],
   "source": [
    "# Here, I'm displaying the distribution of BENEFICIARIES on the basis of State\n",
    "with plt.style.context('seaborn'):\n",
    "  plt.figure(figsize=(20,9))\n",
    "  fig = train_bene_df['State'].value_counts().plot(kind='bar')\n",
    "  # Using the \"patches\" function we will get the location of the rectangle bars from the graph.\n",
    "  ## Then by using those location(width & height) values we will add the annotations\n",
    "  for p in fig.patches:\n",
    "    width = p.get_width()\n",
    "    height = p.get_height()\n",
    "    x, y = p.get_xy()\n",
    "    fig.annotate(f'{str(round((height*100)/train_bene_df.shape[0],2))+\"%\"}', (x + width/2, y + height*1.03), ha='center', fontsize=13.5, rotation=90)\n",
    "  # Providing the labels and title to the graph\n",
    "  plt.xlabel(\"\\nState Codes\", fontdict=label_font_dict)\n",
    "  plt.ylabel(\"Number or % share of patients\\n\", fontdict=label_font_dict)\n",
    "  plt.grid(which='major', linestyle=\"--\", color='lightgrey')\n",
    "  plt.minorticks_on()\n",
    "  plt.title(\"Distribution of BENEFICIARIES on the basis of States\\n\", fontdict=title_font_dict)"
   ]
  },
  {
   "cell_type": "markdown",
   "metadata": {
    "id": "XABYJE4Ap7z7"
   },
   "source": [
    "- **`OBSERVATION`**\n",
    "  - The above graph shows us that for some States the number of beneficiaries are more as compared to the others. And, the maximum number of beneficiaries are from State-5."
   ]
  },
  {
   "cell_type": "markdown",
   "metadata": {
    "id": "I1Fqmo3WqQSJ"
   },
   "source": [
    "### **Q7. Lets see the number of beneficiaries on the basis of Country Codes.**"
   ]
  },
  {
   "cell_type": "code",
   "execution_count": null,
   "metadata": {
    "_kg_hide-input": true,
    "execution": {
     "iopub.execute_input": "2022-08-24T12:50:32.81681Z",
     "iopub.status.busy": "2022-08-24T12:50:32.816092Z",
     "iopub.status.idle": "2022-08-24T12:50:34.261239Z",
     "shell.execute_reply": "2022-08-24T12:50:34.259951Z",
     "shell.execute_reply.started": "2022-08-24T12:50:32.816693Z"
    },
    "id": "vSKHwfc5qQSL",
    "outputId": "62fbb672-6450-4811-fbe3-5f6d80323c22",
    "trusted": true
   },
   "outputs": [],
   "source": [
    "# Here, I'm displaying the distribution of BENEFICIARIES on the basis of Country\n",
    "with plt.style.context('seaborn-poster'):\n",
    "  plt.figure(figsize=(18,8))\n",
    "  fig = train_bene_df['County'].value_counts()[0:45].plot(kind='bar', color='palegreen')\n",
    "  # Using the \"patches\" function we will get the location of the rectangle bars from the graph.\n",
    "  ## Then by using those location(width & height) values we will add the annotations\n",
    "  for p in fig.patches:\n",
    "    width = p.get_width()\n",
    "    height = p.get_height()\n",
    "    x, y = p.get_xy()\n",
    "    fig.annotate(f'{str(round((height*100)/train_bene_df.shape[0],2))+\"%\"}', (x + width/2, y + height*1.03), ha='center', fontsize=13.5, rotation=90)\n",
    "  # Providing the labels and title to the graph\n",
    "  plt.xlabel(\"\\nCountry Codes\", fontdict=label_font_dict)\n",
    "  plt.ylabel(\"Number or % share of patients\\n\", fontdict=label_font_dict)\n",
    "  plt.grid(which='major', linestyle=\"--\", color='lightgrey')\n",
    "  plt.minorticks_on()\n",
    "  plt.title(\"Distribution of BENEFICIARIES on the basis of Countries (Top-45)\", fontdict=title_font_dict)"
   ]
  },
  {
   "cell_type": "code",
   "execution_count": null,
   "metadata": {
    "execution": {
     "iopub.execute_input": "2022-08-24T12:50:34.262944Z",
     "iopub.status.busy": "2022-08-24T12:50:34.262574Z",
     "iopub.status.idle": "2022-08-24T12:50:34.275032Z",
     "shell.execute_reply": "2022-08-24T12:50:34.273665Z",
     "shell.execute_reply.started": "2022-08-24T12:50:34.26291Z"
    },
    "id": "S7f5ufs86_uw",
    "outputId": "acbc1cb6-6234-4672-e84d-7a797c3fb5fd",
    "trusted": true
   },
   "outputs": [],
   "source": [
    "# Countries with only handful of beneficiaries\n",
    "train_bene_df['County'].value_counts()[::-1][0:45]"
   ]
  },
  {
   "cell_type": "markdown",
   "metadata": {
    "id": "2ivuVKA5qQSN"
   },
   "source": [
    "- **`OBSERVATION`**\n",
    "  - The above graph shows us that distribution of beneficiaries based upon the country codes. Some having very high number of beneficiaries and others have very less.\n",
    "\n",
    "- **`NOTE`**\n",
    "  - One thing still needs to be evaluated that whether some specific state or country code has higher number of frauds?"
   ]
  },
  {
   "cell_type": "markdown",
   "metadata": {
    "id": "_NTy3Bt71rt0"
   },
   "source": [
    "### **Q8.1 Lets see the number of beneficiaries on the basis of 'NoOfMonths_PartACov'.**"
   ]
  },
  {
   "cell_type": "code",
   "execution_count": null,
   "metadata": {
    "execution": {
     "iopub.execute_input": "2022-08-24T12:50:34.276951Z",
     "iopub.status.busy": "2022-08-24T12:50:34.276528Z",
     "iopub.status.idle": "2022-08-24T12:50:34.290241Z",
     "shell.execute_reply": "2022-08-24T12:50:34.288818Z",
     "shell.execute_reply.started": "2022-08-24T12:50:34.276904Z"
    },
    "id": "K2Jp3pJn0Jih",
    "outputId": "4b3bdcdf-703a-4be4-a916-0c87b0c86b95",
    "trusted": true
   },
   "outputs": [],
   "source": [
    "train_bene_df['NoOfMonths_PartACov'].unique()"
   ]
  },
  {
   "cell_type": "code",
   "execution_count": null,
   "metadata": {
    "_kg_hide-input": true,
    "execution": {
     "iopub.execute_input": "2022-08-24T12:50:34.292751Z",
     "iopub.status.busy": "2022-08-24T12:50:34.292271Z",
     "iopub.status.idle": "2022-08-24T12:50:35.039334Z",
     "shell.execute_reply": "2022-08-24T12:50:35.037805Z",
     "shell.execute_reply.started": "2022-08-24T12:50:34.292689Z"
    },
    "id": "Qh3icGsH1AN0",
    "outputId": "c2b4ea10-4876-4a5c-db39-a1c95db372f0",
    "trusted": true
   },
   "outputs": [],
   "source": [
    "# Here, I'm displaying the distribution of BENEFICIARIES on the basis of NoOfMonths_PartACov\n",
    "with plt.style.context('seaborn-poster'):\n",
    "  plt.figure(figsize=(18,8))\n",
    "  fig = train_bene_df['NoOfMonths_PartACov'].value_counts().plot(kind='bar', color='palegreen')\n",
    "  # Using the \"patches\" function we will get the location of the rectangle bars from the graph.\n",
    "  ## Then by using those location(width & height) values we will add the annotations\n",
    "  for p in fig.patches:\n",
    "    width = p.get_width()\n",
    "    height = p.get_height()\n",
    "    x, y = p.get_xy()\n",
    "    fig.annotate(f'{str(round((height*100)/train_bene_df.shape[0],2))+\"%\"}', (x + width/2, y + height*1.03), ha='center', fontsize=13.5, rotation=90)\n",
    "  # Providing the labels and title to the graph\n",
    "  plt.xlabel(\"\\nMonths for Part-A Coverage\", fontdict=label_font_dict)\n",
    "  plt.ylabel(\"Number or % share of patients\\n\", fontdict=label_font_dict)\n",
    "  plt.grid(which='major', linestyle=\"--\", color='lightgrey')\n",
    "  plt.minorticks_on()\n",
    "  plt.title(\"Distribution of BENEFICIARIES on the basis of 'NoOfMonths_PartACov'\", fontdict=title_font_dict)"
   ]
  },
  {
   "cell_type": "markdown",
   "metadata": {
    "id": "wLXOf6xI16yQ"
   },
   "source": [
    "- **`OBSERVATION`**\n",
    "  - The above graph shows us that more than 99% of beneficiaries have 12 months Part-A Coverage. My initial look to above plot tells me that this feature won't have much impact on the tgt labels."
   ]
  },
  {
   "cell_type": "markdown",
   "metadata": {
    "id": "EVP9Z2Vb1Agl"
   },
   "source": [
    "### **Q8.2 Lets see the number of beneficiaries on the basis of 'NoOfMonths_PartBCov'.**"
   ]
  },
  {
   "cell_type": "code",
   "execution_count": null,
   "metadata": {
    "execution": {
     "iopub.execute_input": "2022-08-24T12:50:35.042048Z",
     "iopub.status.busy": "2022-08-24T12:50:35.041623Z",
     "iopub.status.idle": "2022-08-24T12:50:35.05055Z",
     "shell.execute_reply": "2022-08-24T12:50:35.049003Z",
     "shell.execute_reply.started": "2022-08-24T12:50:35.04201Z"
    },
    "id": "SAmJEEe00JV5",
    "outputId": "ff4a9498-775f-41e5-ee98-fbe8dab69221",
    "trusted": true
   },
   "outputs": [],
   "source": [
    "train_bene_df['NoOfMonths_PartBCov'].unique()"
   ]
  },
  {
   "cell_type": "code",
   "execution_count": null,
   "metadata": {
    "_kg_hide-input": true,
    "execution": {
     "iopub.execute_input": "2022-08-24T12:50:35.053694Z",
     "iopub.status.busy": "2022-08-24T12:50:35.052416Z",
     "iopub.status.idle": "2022-08-24T12:50:35.631249Z",
     "shell.execute_reply": "2022-08-24T12:50:35.629961Z",
     "shell.execute_reply.started": "2022-08-24T12:50:35.053638Z"
    },
    "id": "6TOu_18S2RDv",
    "outputId": "231b3b71-bddb-4a6c-a6db-d4f54a4d9a5b",
    "trusted": true
   },
   "outputs": [],
   "source": [
    "# Here, I'm displaying the distribution of BENEFICIARIES on the basis of NoOfMonths_PartBCov\n",
    "with plt.style.context('seaborn-poster'):\n",
    "  plt.figure(figsize=(18,8))\n",
    "  fig = train_bene_df['NoOfMonths_PartBCov'].value_counts().plot(kind='bar', color='palegreen')\n",
    "  # Using the \"patches\" function we will get the location of the rectangle bars from the graph.\n",
    "  ## Then by using those location(width & height) values we will add the annotations\n",
    "  for p in fig.patches:\n",
    "    width = p.get_width()\n",
    "    height = p.get_height()\n",
    "    x, y = p.get_xy()\n",
    "    fig.annotate(f'{str(round((height*100)/train_bene_df.shape[0],2))+\"%\"}', (x + width/2, y + height*1.03), ha='center', fontsize=13.5, rotation=90)\n",
    "  # Providing the labels and title to the graph\n",
    "  plt.xlabel(\"\\nMonths for Part-B Coverage\", fontdict=label_font_dict)\n",
    "  plt.ylabel(\"Number or % share of patients\\n\", fontdict=label_font_dict)\n",
    "  plt.grid(which='major', linestyle=\"--\", color='lightgrey')\n",
    "  plt.minorticks_on()\n",
    "  plt.title(\"Distribution of BENEFICIARIES on the basis of 'NoOfMonths_PartBCov'\", fontdict=title_font_dict)"
   ]
  },
  {
   "cell_type": "markdown",
   "metadata": {
    "id": "vD5iWjxz27h3"
   },
   "source": [
    "- **`OBSERVATION`**\n",
    "  - The above graph shows us that around 99% of beneficiaries have 12 months Part-B Coverage. My initial look to above plot tells me that this feature won't have much impact on the tgt labels."
   ]
  },
  {
   "cell_type": "markdown",
   "metadata": {
    "id": "5jmcM6se9C2r"
   },
   "source": [
    "### **Q9 Lets see the number of beneficiaries on the basis of 'ChronicCond_Alzheimer'. And, the Annual IP & OP expenditures for such patients.**"
   ]
  },
  {
   "cell_type": "code",
   "execution_count": null,
   "metadata": {
    "_kg_hide-input": true,
    "execution": {
     "iopub.execute_input": "2022-08-24T12:50:35.633696Z",
     "iopub.status.busy": "2022-08-24T12:50:35.632615Z",
     "iopub.status.idle": "2022-08-24T12:50:35.941687Z",
     "shell.execute_reply": "2022-08-24T12:50:35.940533Z",
     "shell.execute_reply.started": "2022-08-24T12:50:35.633651Z"
    },
    "id": "Eclp2HTW2RUB",
    "outputId": "652da2f9-3e51-4004-ea35-d2884c1922e4",
    "trusted": true
   },
   "outputs": [],
   "source": [
    "# Here, I'm displaying the distribution of BENEFICIARIES on the basis of 'ChronicCond_Alzheimer'\n",
    "with plt.style.context('seaborn-poster'):\n",
    "  plt.figure(figsize=(12,8))\n",
    "  fig = train_bene_df['ChronicCond_Alzheimer'].value_counts().plot(kind='bar', color=['palegreen','orange'])\n",
    "  # Using the \"patches\" function we will get the location of the rectangle bars from the graph.\n",
    "  ## Then by using those location(width & height) values we will add the annotations\n",
    "  for p in fig.patches:\n",
    "    width = p.get_width()\n",
    "    height = p.get_height()\n",
    "    x, y = p.get_xy()\n",
    "    fig.annotate(f'{str(round((height*100)/train_bene_df.shape[0],2))+\"%\"}', (x + width/2, y + height*1.01), ha='center', fontsize=13.5, rotation=0)\n",
    "  # Providing the labels and title to the graph\n",
    "  plt.xlabel(\"\\nHaving Chronic ALZH Disease?\", fontdict=label_font_dict)\n",
    "  plt.xticks(ticks=[0,1], labels=['NO', 'YES'], fontsize=13, rotation=30)\n",
    "  plt.ylabel(\"Number or % share of patients\\n\", fontdict=label_font_dict)\n",
    "  plt.grid(which='major', linestyle=\"--\", color='lightgrey')\n",
    "  plt.minorticks_on()\n",
    "  plt.title(\"Distribution of BENEFICIARIES on the basis of 'ChronicCond_Alzheimer'\\n\", fontdict=title_font_dict)\n",
    "\n",
    "# 1 means +ve with Chronic ALZH Disease\n",
    "# 2 means -ve with Chronic ALZH Disease\n",
    "print(pd.DataFrame(train_bene_df['ChronicCond_Alzheimer'].value_counts()),\"\\n\")"
   ]
  },
  {
   "cell_type": "markdown",
   "metadata": {
    "id": "u2HuHtdn9e0z"
   },
   "source": [
    "- **`OBSERVATION`**\n",
    "  - The above graph shows us that the beneficiaries with Chronic ALZH Disease are almost half as compared to the non-ALZH beneficiaries."
   ]
  },
  {
   "cell_type": "code",
   "execution_count": null,
   "metadata": {
    "_kg_hide-input": true,
    "execution": {
     "iopub.execute_input": "2022-08-24T12:50:35.943501Z",
     "iopub.status.busy": "2022-08-24T12:50:35.943154Z",
     "iopub.status.idle": "2022-08-24T12:50:36.25223Z",
     "shell.execute_reply": "2022-08-24T12:50:36.251141Z",
     "shell.execute_reply.started": "2022-08-24T12:50:35.94347Z"
    },
    "id": "SmiyXBk62Rgi",
    "outputId": "9ea18e72-c6a1-4ad0-abc1-82694d994380",
    "trusted": true
   },
   "outputs": [],
   "source": [
    "# Here, I'm displaying the Total Annual Sum of Max IP Reimbursement for 'ChronicCond_Alzheimer'\n",
    "with plt.style.context('seaborn-poster'):\n",
    "  plt.figure(figsize=(12,8))\n",
    "  fig = train_bene_df.groupby(['ChronicCond_Alzheimer'])['IPAnnualReimbursementAmt'].sum().plot(kind='bar', color=['orange','palegreen'])\n",
    "  # Using the \"patches\" function we will get the location of the rectangle bars from the graph.\n",
    "  ## Then by using those location(width & height) values we will add the annotations\n",
    "  for p in fig.patches:\n",
    "    width = p.get_width()\n",
    "    height = p.get_height()\n",
    "    x, y = p.get_xy()\n",
    "    fig.annotate(f'{str(round((height*100)/(train_bene_df[\"IPAnnualReimbursementAmt\"].sum()),2))+\"%\"}', (x + width/2, y + height*1.01), ha='center', fontsize=13.5, rotation=0)\n",
    "  # Providing the labels and title to the graph\n",
    "  plt.xlabel(\"\\nHaving Chronic ALZH Disease?\", fontdict=label_font_dict)\n",
    "  plt.xticks(ticks=[0,1], labels=['YES', 'NO'], fontsize=13, rotation=30)\n",
    "  plt.ylabel(\"Total Annual Sum of Max IP Reimbursement \\n\", fontdict=label_font_dict)\n",
    "  plt.grid(which='major', linestyle=\"--\", color='lightgrey')\n",
    "  plt.minorticks_on()\n",
    "  plt.title(\"Total Annual Sum of Max IP Reimbursement : 'ChronicCond_Alzheimer'\\n\", fontdict=title_font_dict)\n",
    "\n",
    "# 1 means +ve with Chronic ALZH Disease\n",
    "# 2 means -ve with Chronic ALZH Disease\n",
    "print(pd.DataFrame(train_bene_df.groupby(['ChronicCond_Alzheimer'])['IPAnnualReimbursementAmt'].sum()),\"\\n\")"
   ]
  },
  {
   "cell_type": "markdown",
   "metadata": {
    "id": "bk_53rBS91Ua"
   },
   "source": [
    "- **`OBSERVATION`**\n",
    "  - The above graph shows us that despite the non-ALZH beneficiaries are double in number as compared to their counterparts, however, the Annual Sum of MAX IP Reimbursement is almost same for both the groups.\n",
    "    - This means if a beneficiary with or without chronic ALZH Disease get admitted then the annual reimbursement paid is approx same.\n",
    "      - The difference is of 13 Million or 2.52%."
   ]
  },
  {
   "cell_type": "code",
   "execution_count": null,
   "metadata": {
    "_kg_hide-input": true,
    "execution": {
     "iopub.execute_input": "2022-08-24T12:50:36.254296Z",
     "iopub.status.busy": "2022-08-24T12:50:36.253669Z",
     "iopub.status.idle": "2022-08-24T12:50:36.550671Z",
     "shell.execute_reply": "2022-08-24T12:50:36.549231Z",
     "shell.execute_reply.started": "2022-08-24T12:50:36.254258Z"
    },
    "id": "RyzxOGlq-n23",
    "outputId": "248e7140-eabb-45f2-db40-50192bd5362c",
    "trusted": true
   },
   "outputs": [],
   "source": [
    "# Here, I'm displaying the Total Annual Sum of Max OP Reimbursement for 'ChronicCond_Alzheimer'\n",
    "with plt.style.context('seaborn-poster'):\n",
    "  plt.figure(figsize=(12,8))\n",
    "  fig = train_bene_df.groupby(['ChronicCond_Alzheimer'])['OPAnnualReimbursementAmt'].sum().plot(kind='bar', color=['orange','palegreen'])\n",
    "  # Using the \"patches\" function we will get the location of the rectangle bars from the graph.\n",
    "  ## Then by using those location(width & height) values we will add the annotations\n",
    "  for p in fig.patches:\n",
    "    width = p.get_width()\n",
    "    height = p.get_height()\n",
    "    x, y = p.get_xy()\n",
    "    fig.annotate(f'{str(round((height*100)/(train_bene_df[\"OPAnnualReimbursementAmt\"].sum()),2))+\"%\"}', (x + width/2, y + height*1.01), ha='center', fontsize=13.5, rotation=0)\n",
    "  # Providing the labels and title to the graph\n",
    "  plt.xlabel(\"\\nHaving Chronic ALZH Disease?\", fontdict=label_font_dict)\n",
    "  plt.xticks(ticks=[0,1], labels=['YES', 'NO'], fontsize=13, rotation=30)\n",
    "  plt.ylabel(\"Total Annual Sum of Max OP Reimbursement \\n\", fontdict=label_font_dict)\n",
    "  plt.grid(which='major', linestyle=\"--\", color='lightgrey')\n",
    "  plt.minorticks_on()\n",
    "  plt.title(\"Total Annual Sum of Max OP Reimbursement : 'ChronicCond_Alzheimer'\\n\", fontdict=title_font_dict)\n",
    "\n",
    "# 1 means +ve with Chronic ALZH Disease\n",
    "# 2 means -ve with Chronic ALZH Disease\n",
    "print(pd.DataFrame(train_bene_df.groupby(['ChronicCond_Alzheimer'])['OPAnnualReimbursementAmt'].sum()),\"\\n\")"
   ]
  },
  {
   "cell_type": "markdown",
   "metadata": {
    "id": "zNyeYGmb-n3N"
   },
   "source": [
    "- **`OBSERVATION`**\n",
    "  - The above graph shows us that the Annual Sum of OP Reimbursement for non-chronic ALZH Disease beneficiaries is more than 31 Million or 16.92% than the other group."
   ]
  },
  {
   "cell_type": "code",
   "execution_count": null,
   "metadata": {
    "_kg_hide-input": true,
    "execution": {
     "iopub.execute_input": "2022-08-24T12:50:36.552619Z",
     "iopub.status.busy": "2022-08-24T12:50:36.552251Z",
     "iopub.status.idle": "2022-08-24T12:50:36.866316Z",
     "shell.execute_reply": "2022-08-24T12:50:36.864882Z",
     "shell.execute_reply.started": "2022-08-24T12:50:36.552584Z"
    },
    "id": "bIPo-A2FCKqv",
    "outputId": "3e399700-4879-4713-a2cd-08e2b8171eee",
    "trusted": true
   },
   "outputs": [],
   "source": [
    "# Here, I'm displaying the Total Annual Sum of IP Co-payment for 'ChronicCond_Alzheimer'\n",
    "with plt.style.context('seaborn-poster'):\n",
    "  plt.figure(figsize=(12,8))\n",
    "  fig = train_bene_df.groupby(['ChronicCond_Alzheimer'])['IPAnnualDeductibleAmt'].sum().plot(kind='bar', color=['orange','palegreen'])\n",
    "  # Using the \"patches\" function we will get the location of the rectangle bars from the graph.\n",
    "  ## Then by using those location(width & height) values we will add the annotations\n",
    "  for p in fig.patches:\n",
    "    width = p.get_width()\n",
    "    height = p.get_height()\n",
    "    x, y = p.get_xy()\n",
    "    fig.annotate(f'{str(round((height*100)/(train_bene_df[\"IPAnnualDeductibleAmt\"].sum()),2))+\"%\"}', (x + width/2, y + height*1.01), ha='center', fontsize=13.5, rotation=0)\n",
    "  # Providing the labels and title to the graph\n",
    "  plt.xlabel(\"\\nHaving Chronic ALZH Disease?\", fontdict=label_font_dict)\n",
    "  plt.xticks(ticks=[0,1], labels=['YES', 'NO'], fontsize=13, rotation=30)\n",
    "  plt.ylabel(\"Total Annual Sum of IP Co-payment \\n\", fontdict=label_font_dict)\n",
    "  plt.grid(which='major', linestyle=\"--\", color='lightgrey')\n",
    "  plt.minorticks_on()\n",
    "  plt.title(\"Total Annual Sum of IP Co-payment paid by patient : 'ChronicCond_Alzheimer'\\n\", fontdict=title_font_dict)\n",
    "\n",
    "# 1 means +ve with Chronic ALZH Disease\n",
    "# 2 means -ve with Chronic ALZH Disease\n",
    "print(pd.DataFrame(train_bene_df.groupby(['ChronicCond_Alzheimer'])['IPAnnualDeductibleAmt'].sum()),\"\\n\")"
   ]
  },
  {
   "cell_type": "markdown",
   "metadata": {
    "id": "IkOqb6crCKqw"
   },
   "source": [
    "- **`OBSERVATION`**\n",
    "  - The above graph shows us that the Annual Sum of IP Co-payment paid by the patient of non-chronic & chronic ALZH Disease is almost same. The difference is only of 10 Million or 1.8%.\n",
    "    - So, we can say that the re-imbursement & co-payment amounts are same for chronic and non-chronic patients if they gets admitted."
   ]
  },
  {
   "cell_type": "code",
   "execution_count": null,
   "metadata": {
    "_kg_hide-input": true,
    "execution": {
     "iopub.execute_input": "2022-08-24T12:50:36.868436Z",
     "iopub.status.busy": "2022-08-24T12:50:36.867931Z",
     "iopub.status.idle": "2022-08-24T12:50:37.203243Z",
     "shell.execute_reply": "2022-08-24T12:50:37.201964Z",
     "shell.execute_reply.started": "2022-08-24T12:50:36.868384Z"
    },
    "id": "d-P4PgYqE2ny",
    "outputId": "1668021a-93dc-440e-b08e-d1ca6327c3e2",
    "trusted": true
   },
   "outputs": [],
   "source": [
    "# Here, I'm displaying the Total Annual Sum of OP Co-payment for 'ChronicCond_Alzheimer'\n",
    "with plt.style.context('seaborn-poster'):\n",
    "  plt.figure(figsize=(12,8))\n",
    "  fig = train_bene_df.groupby(['ChronicCond_Alzheimer'])['OPAnnualDeductibleAmt'].sum().plot(kind='bar', color=['orange','palegreen'])\n",
    "  # Using the \"patches\" function we will get the location of the rectangle bars from the graph.\n",
    "  ## Then by using those location(width & height) values we will add the annotations\n",
    "  for p in fig.patches:\n",
    "    width = p.get_width()\n",
    "    height = p.get_height()\n",
    "    x, y = p.get_xy()\n",
    "    fig.annotate(f'{str(round((height*100)/(train_bene_df[\"OPAnnualDeductibleAmt\"].sum()),2))+\"%\"}', (x + width/2, y + height*1.01), ha='center', fontsize=13.5, rotation=0)\n",
    "  # Providing the labels and title to the graph\n",
    "  plt.xlabel(\"\\nHaving Chronic ALZH Disease?\", fontdict=label_font_dict)\n",
    "  plt.xticks(ticks=[0,1], labels=['YES', 'NO'], fontsize=13, rotation=30)\n",
    "  plt.ylabel(\"Total Annual Sum of OP Co-payment \\n\", fontdict=label_font_dict)\n",
    "  plt.grid(which='major', linestyle=\"--\", color='lightgrey')\n",
    "  plt.minorticks_on()\n",
    "  plt.title(\"Total Annual Sum of OP Co-payment paid by patient : 'ChronicCond_Alzheimer'\\n\", fontdict=title_font_dict)\n",
    "\n",
    "# 1 means +ve with Chronic ALZH Disease\n",
    "# 2 means -ve with Chronic ALZH Disease\n",
    "print(pd.DataFrame(train_bene_df.groupby(['ChronicCond_Alzheimer'])['OPAnnualDeductibleAmt'].sum()),\"\\n\")"
   ]
  },
  {
   "cell_type": "markdown",
   "metadata": {
    "id": "V_w_QW2tE2oD"
   },
   "source": [
    "- **`OBSERVATION`**\n",
    "  - The above graph shows us that the Annual Sum of OP Co-payment paid by the patient of non-chronic is more as compared to chronic ALZH Disease. The difference is of 93.3 Million or 17.82%.\n",
    "    - So, we can say that the co-payment paid by non-admitted patients is higher than the ones who gets admitted."
   ]
  },
  {
   "cell_type": "code",
   "execution_count": null,
   "metadata": {
    "execution": {
     "iopub.execute_input": "2022-08-24T12:50:37.205857Z",
     "iopub.status.busy": "2022-08-24T12:50:37.205038Z",
     "iopub.status.idle": "2022-08-24T12:50:37.226423Z",
     "shell.execute_reply": "2022-08-24T12:50:37.225417Z",
     "shell.execute_reply.started": "2022-08-24T12:50:37.205813Z"
    },
    "id": "KUrjNkorKweg",
    "outputId": "f0099f47-bf86-47a6-e53c-b842e334d94b",
    "trusted": true
   },
   "outputs": [],
   "source": [
    "# Number of beneficiaries with chronic or no-chronic conditions\n",
    "pd.DataFrame(train_bene_df.groupby(['ChronicCond_Alzheimer'])['BeneID'].count())"
   ]
  },
  {
   "cell_type": "code",
   "execution_count": null,
   "metadata": {
    "execution": {
     "iopub.execute_input": "2022-08-24T12:50:37.228247Z",
     "iopub.status.busy": "2022-08-24T12:50:37.227853Z",
     "iopub.status.idle": "2022-08-24T12:50:37.255856Z",
     "shell.execute_reply": "2022-08-24T12:50:37.254732Z",
     "shell.execute_reply.started": "2022-08-24T12:50:37.22821Z"
    },
    "id": "QolRLx9IHkTT",
    "outputId": "22896712-5772-4483-b8d7-e18d4ee56ef6",
    "trusted": true
   },
   "outputs": [],
   "source": [
    "CC_ALZH_IP_R = pd.DataFrame(train_bene_df.groupby(['ChronicCond_Alzheimer'])['IPAnnualReimbursementAmt'].sum() / train_bene_df.groupby(['ChronicCond_Alzheimer'])['BeneID'].count())\n",
    "CC_ALZH_IP_R.columns = ['AVG IP Reimbursement Amt']\n",
    "CC_ALZH_IP_R"
   ]
  },
  {
   "cell_type": "code",
   "execution_count": null,
   "metadata": {
    "execution": {
     "iopub.execute_input": "2022-08-24T12:50:37.257616Z",
     "iopub.status.busy": "2022-08-24T12:50:37.257262Z",
     "iopub.status.idle": "2022-08-24T12:50:37.284304Z",
     "shell.execute_reply": "2022-08-24T12:50:37.283181Z",
     "shell.execute_reply.started": "2022-08-24T12:50:37.257583Z"
    },
    "id": "NlwbHWKvTvy_",
    "outputId": "9407a0de-81c7-41f5-d777-171b3da3c9c2",
    "trusted": true
   },
   "outputs": [],
   "source": [
    "CC_ALZH_OP_R = pd.DataFrame(train_bene_df.groupby(['ChronicCond_Alzheimer'])['OPAnnualReimbursementAmt'].sum() / train_bene_df.groupby(['ChronicCond_Alzheimer'])['BeneID'].count())\n",
    "CC_ALZH_OP_R.columns = ['AVG OP Reimbursement Amt']\n",
    "CC_ALZH_OP_R"
   ]
  },
  {
   "cell_type": "code",
   "execution_count": null,
   "metadata": {
    "execution": {
     "iopub.execute_input": "2022-08-24T12:50:37.286641Z",
     "iopub.status.busy": "2022-08-24T12:50:37.285778Z",
     "iopub.status.idle": "2022-08-24T12:50:37.312711Z",
     "shell.execute_reply": "2022-08-24T12:50:37.311532Z",
     "shell.execute_reply.started": "2022-08-24T12:50:37.286604Z"
    },
    "id": "VKLrMZmcTQ90",
    "outputId": "bec03ff9-be8b-4502-b90d-14e2e27a6caa",
    "trusted": true
   },
   "outputs": [],
   "source": [
    "CC_ALZH_IP_D = pd.DataFrame(train_bene_df.groupby(['ChronicCond_Alzheimer'])['IPAnnualDeductibleAmt'].sum() / train_bene_df.groupby(['ChronicCond_Alzheimer'])['BeneID'].count())\n",
    "CC_ALZH_IP_D.columns = ['AVG IP Co-payment Amt']\n",
    "CC_ALZH_IP_D"
   ]
  },
  {
   "cell_type": "code",
   "execution_count": null,
   "metadata": {
    "execution": {
     "iopub.execute_input": "2022-08-24T12:50:37.316659Z",
     "iopub.status.busy": "2022-08-24T12:50:37.315558Z",
     "iopub.status.idle": "2022-08-24T12:50:37.342687Z",
     "shell.execute_reply": "2022-08-24T12:50:37.341394Z",
     "shell.execute_reply.started": "2022-08-24T12:50:37.316618Z"
    },
    "id": "iqK-Y6a0TdM5",
    "outputId": "af902122-3d8f-47bf-e031-a5fae67068bc",
    "trusted": true
   },
   "outputs": [],
   "source": [
    "CC_ALZH_OP_D = pd.DataFrame(train_bene_df.groupby(['ChronicCond_Alzheimer'])['OPAnnualDeductibleAmt'].sum() / train_bene_df.groupby(['ChronicCond_Alzheimer'])['BeneID'].count())\n",
    "CC_ALZH_OP_D.columns = ['AVG OP Co-payment Amt']\n",
    "CC_ALZH_OP_D"
   ]
  },
  {
   "cell_type": "code",
   "execution_count": null,
   "metadata": {
    "execution": {
     "iopub.execute_input": "2022-08-24T12:50:37.345547Z",
     "iopub.status.busy": "2022-08-24T12:50:37.344273Z",
     "iopub.status.idle": "2022-08-24T12:50:37.362221Z",
     "shell.execute_reply": "2022-08-24T12:50:37.360698Z",
     "shell.execute_reply.started": "2022-08-24T12:50:37.345495Z"
    },
    "id": "kIpHRlWPTdtr",
    "outputId": "d4a4d02c-cd67-4d9a-dda1-17f346b9795d",
    "trusted": true
   },
   "outputs": [],
   "source": [
    "CC_ALZH_all_amts = pd.concat([CC_ALZH_IP_R, CC_ALZH_OP_R, CC_ALZH_IP_D, CC_ALZH_OP_D], axis=1)\n",
    "CC_ALZH_all_amts"
   ]
  },
  {
   "cell_type": "code",
   "execution_count": null,
   "metadata": {
    "_kg_hide-input": true,
    "execution": {
     "iopub.execute_input": "2022-08-24T12:50:37.364657Z",
     "iopub.status.busy": "2022-08-24T12:50:37.364142Z",
     "iopub.status.idle": "2022-08-24T12:50:37.746758Z",
     "shell.execute_reply": "2022-08-24T12:50:37.745392Z",
     "shell.execute_reply.started": "2022-08-24T12:50:37.364604Z"
    },
    "id": "wNL0RDGhWl91",
    "outputId": "bb9e34c9-6768-4758-a403-96ffc1da04bf",
    "trusted": true
   },
   "outputs": [],
   "source": [
    "# Here, I'm displaying the Total Annual Sum of IP Co-payment for 'ChronicCond_Alzheimer'\n",
    "with plt.style.context('seaborn-poster'):\n",
    "  fig = CC_ALZH_all_amts.plot(kind='bar', colormap='rainbow')\n",
    "  # Using the \"patches\" function we will get the location of the rectangle bars from the graph.\n",
    "  ## Then by using those location(width & height) values we will add the annotations\n",
    "  for p in fig.patches:\n",
    "    width = p.get_width()\n",
    "    height = p.get_height()\n",
    "    x, y = p.get_xy()\n",
    "    fig.annotate(f'{round(height,0)}', (x + width/2, y + height*1.015), ha='center', fontsize=12, rotation=0)\n",
    "  # Providing the labels and title to the graph\n",
    "  plt.xlabel(\"\\nHaving Chronic ALZH Disease?\", fontdict=label_font_dict)\n",
    "  plt.xticks(ticks=[0,1], labels=['YES', 'NO'], fontsize=13, rotation=30)\n",
    "  plt.ylabel(\"Total Annual Sum \\n\", fontdict=label_font_dict)\n",
    "  plt.grid(which='major', linestyle=\"-.\", color='lightgrey')\n",
    "  plt.minorticks_on()\n",
    "  plt.title(\"Total Annual Sum of various amounts : 'ChronicCond_Alzheimer'\\n\", fontdict=title_font_dict)\n",
    "\n",
    "# 1 means +ve with Chronic ALZH Disease\n",
    "# 2 means -ve with Chronic ALZH Disease\n",
    "print(CC_ALZH_all_amts,\"\\n\")"
   ]
  },
  {
   "cell_type": "markdown",
   "metadata": {
    "id": "8tZH7NmIZ6_K"
   },
   "source": [
    "- **`OBSERVATION`**\n",
    "  - The above graph is telling us below points:\n",
    "    - Payer pays huge chunk of expenses specially when a beneficiary gets admitted with or without chronic ALZH disease. To be more precise, in case of +ve it is more than 50%.\n",
    "    - For other comparisons the difference is not very high."
   ]
  },
  {
   "cell_type": "markdown",
   "metadata": {
    "id": "TcawAmajE1VV"
   },
   "source": [
    "### **Q10. Lets see the number of beneficiaries on the basis of 'ChronicCond_Heartfailure'. And, the Annual IP & OP expenditures for such patients.**"
   ]
  },
  {
   "cell_type": "code",
   "execution_count": null,
   "metadata": {
    "_kg_hide-input": true,
    "execution": {
     "iopub.execute_input": "2022-08-24T12:50:37.749157Z",
     "iopub.status.busy": "2022-08-24T12:50:37.748682Z",
     "iopub.status.idle": "2022-08-24T12:50:38.106612Z",
     "shell.execute_reply": "2022-08-24T12:50:38.104974Z",
     "shell.execute_reply.started": "2022-08-24T12:50:37.749108Z"
    },
    "id": "sKDF1uW-E1Va",
    "outputId": "d62823df-ecb1-46bd-a5dd-253f64945333",
    "trusted": true
   },
   "outputs": [],
   "source": [
    "# Here, I'm displaying the distribution of BENEFICIARIES on the basis of 'ChronicCond_Heartfailure'\n",
    "with plt.style.context('seaborn-poster'):\n",
    "  plt.figure(figsize=(12,8))\n",
    "  fig = train_bene_df['ChronicCond_Heartfailure'].value_counts().plot(kind='bar', color=['palegreen','orange'])\n",
    "  # Using the \"patches\" function we will get the location of the rectangle bars from the graph.\n",
    "  ## Then by using those location(width & height) values we will add the annotations\n",
    "  for p in fig.patches:\n",
    "    width = p.get_width()\n",
    "    height = p.get_height()\n",
    "    x, y = p.get_xy()\n",
    "    fig.annotate(f'{str(round((height*100)/train_bene_df.shape[0],2))+\"%\"}', (x + width/2, y + height*1.01), ha='center', fontsize=13.5, rotation=0)\n",
    "  # Providing the labels and title to the graph\n",
    "  plt.xlabel(\"\\nHaving Chronic HF Disease?\", fontdict=label_font_dict)\n",
    "  plt.xticks(ticks=[0,1], labels=['NO', 'YES'], fontsize=13, rotation=30)\n",
    "  plt.ylabel(\"Number or % share of patients\\n\", fontdict=label_font_dict)\n",
    "  plt.grid(which='major', linestyle=\"--\", color='lightgrey')\n",
    "  plt.minorticks_on()\n",
    "  plt.title(\"Distribution of BENEFICIARIES on the basis of 'ChronicCond_Heartfailure'\\n\", fontdict=title_font_dict)\n",
    "\n",
    "# 1 means +ve with Chronic HF Disease\n",
    "# 2 means -ve with Chronic HF Disease\n",
    "print(pd.DataFrame(train_bene_df['ChronicCond_Heartfailure'].value_counts()),\"\\n\")"
   ]
  },
  {
   "cell_type": "markdown",
   "metadata": {
    "id": "3B3_2kj5E1Vb"
   },
   "source": [
    "- **`OBSERVATION`**\n",
    "  - The above graph shows us that the beneficiaries with Chronic HF Disease are almost equal to the non-ALZH beneficiaries."
   ]
  },
  {
   "cell_type": "code",
   "execution_count": null,
   "metadata": {
    "_kg_hide-input": true,
    "execution": {
     "iopub.execute_input": "2022-08-24T12:50:38.108613Z",
     "iopub.status.busy": "2022-08-24T12:50:38.108227Z",
     "iopub.status.idle": "2022-08-24T12:50:38.482356Z",
     "shell.execute_reply": "2022-08-24T12:50:38.480799Z",
     "shell.execute_reply.started": "2022-08-24T12:50:38.108576Z"
    },
    "id": "eVi6h8sLE1Vb",
    "outputId": "b90d1fd3-0349-473c-cc5c-5da664a9ce84",
    "trusted": true
   },
   "outputs": [],
   "source": [
    "# Here, I'm displaying the Total Annual Sum of Max IP Reimbursement for 'ChronicCond_Heartfailure'\n",
    "with plt.style.context('seaborn-poster'):\n",
    "  plt.figure(figsize=(12,8))\n",
    "  fig = train_bene_df.groupby(['ChronicCond_Heartfailure'])['IPAnnualReimbursementAmt'].sum().plot(kind='bar', color=['orange','palegreen'])\n",
    "  # Using the \"patches\" function we will get the location of the rectangle bars from the graph.\n",
    "  ## Then by using those location(width & height) values we will add the annotations\n",
    "  for p in fig.patches:\n",
    "    width = p.get_width()\n",
    "    height = p.get_height()\n",
    "    x, y = p.get_xy()\n",
    "    fig.annotate(f'{str(round((height*100)/(train_bene_df[\"IPAnnualReimbursementAmt\"].sum()),2))+\"%\"}', (x + width/2, y + height*1.01), ha='center', fontsize=13.5, rotation=0)\n",
    "  # Providing the labels and title to the graph\n",
    "  plt.xlabel(\"\\nHaving Chronic HF Disease?\", fontdict=label_font_dict)\n",
    "  plt.xticks(ticks=[0,1], labels=['YES', 'NO'], fontsize=13, rotation=30)\n",
    "  plt.ylabel(\"Total Annual Sum of Max IP Reimbursement \\n\", fontdict=label_font_dict)\n",
    "  plt.grid(which='major', linestyle=\"--\", color='lightgrey')\n",
    "  plt.minorticks_on()\n",
    "  plt.title(\"Total Annual Sum of Max IP Reimbursement : 'ChronicCond_Heartfailure'\\n\", fontdict=title_font_dict)\n",
    "\n",
    "# 1 means +ve with Chronic HF Disease\n",
    "# 2 means -ve with Chronic HF Disease\n",
    "print(pd.DataFrame(train_bene_df.groupby(['ChronicCond_Heartfailure'])['IPAnnualReimbursementAmt'].sum()),\"\\n\")"
   ]
  },
  {
   "cell_type": "markdown",
   "metadata": {
    "id": "iq7hXd8UE1Vc"
   },
   "source": [
    "- **`OBSERVATION`**\n",
    "  - The above graph shows us that the Payer pays very high amount annually for patients with Chronic Heart Failure Disease.\n",
    "      - The difference is of around 234 Million or 47%. This is very high and it can be a potential sign of FRAUD claims."
   ]
  },
  {
   "cell_type": "code",
   "execution_count": null,
   "metadata": {
    "_kg_hide-input": true,
    "execution": {
     "iopub.execute_input": "2022-08-24T12:50:38.484559Z",
     "iopub.status.busy": "2022-08-24T12:50:38.48407Z",
     "iopub.status.idle": "2022-08-24T12:50:38.809437Z",
     "shell.execute_reply": "2022-08-24T12:50:38.808221Z",
     "shell.execute_reply.started": "2022-08-24T12:50:38.484511Z"
    },
    "id": "ESu1DxBvE1Vd",
    "outputId": "44b14a47-9395-4ba7-ca0d-46ea3b3cd3d9",
    "trusted": true
   },
   "outputs": [],
   "source": [
    "# Here, I'm displaying the Total Annual Sum of Max OP Reimbursement for 'ChronicCond_Heartfailure'\n",
    "with plt.style.context('seaborn-poster'):\n",
    "  plt.figure(figsize=(12,8))\n",
    "  fig = train_bene_df.groupby(['ChronicCond_Heartfailure'])['OPAnnualReimbursementAmt'].sum().plot(kind='bar', color=['orange','palegreen'])\n",
    "  # Using the \"patches\" function we will get the location of the rectangle bars from the graph.\n",
    "  ## Then by using those location(width & height) values we will add the annotations\n",
    "  for p in fig.patches:\n",
    "    width = p.get_width()\n",
    "    height = p.get_height()\n",
    "    x, y = p.get_xy()\n",
    "    fig.annotate(f'{str(round((height*100)/(train_bene_df[\"OPAnnualReimbursementAmt\"].sum()),2))+\"%\"}', (x + width/2, y + height*1.01), ha='center', fontsize=13.5, rotation=0)\n",
    "  # Providing the labels and title to the graph\n",
    "  plt.xlabel(\"\\nHaving Chronic HF Disease?\", fontdict=label_font_dict)\n",
    "  plt.xticks(ticks=[0,1], labels=['YES', 'NO'], fontsize=13, rotation=30)\n",
    "  plt.ylabel(\"Total Annual Sum of Max OP Reimbursement \\n\", fontdict=label_font_dict)\n",
    "  plt.grid(which='major', linestyle=\"--\", color='lightgrey')\n",
    "  plt.minorticks_on()\n",
    "  plt.title(\"Total Annual Sum of Max OP Reimbursement : 'ChronicCond_Heartfailure'\\n\", fontdict=title_font_dict)\n",
    "\n",
    "# 1 means +ve with Chronic HF Disease\n",
    "# 2 means -ve with Chronic HF Disease\n",
    "print(pd.DataFrame(train_bene_df.groupby(['ChronicCond_Heartfailure'])['OPAnnualReimbursementAmt'].sum()),\"\\n\")"
   ]
  },
  {
   "cell_type": "markdown",
   "metadata": {
    "id": "MLJeJDm3E1Vd"
   },
   "source": [
    "- **`OBSERVATION`**\n",
    "  - The above graph shows us that the Annual Sum paid by the payers for non-admitted patients is 49 Million more than the other group. This again can be a potential sign of fraud claims."
   ]
  },
  {
   "cell_type": "code",
   "execution_count": null,
   "metadata": {
    "_kg_hide-input": true,
    "execution": {
     "iopub.execute_input": "2022-08-24T12:50:38.811475Z",
     "iopub.status.busy": "2022-08-24T12:50:38.811097Z",
     "iopub.status.idle": "2022-08-24T12:50:39.374165Z",
     "shell.execute_reply": "2022-08-24T12:50:39.37297Z",
     "shell.execute_reply.started": "2022-08-24T12:50:38.811439Z"
    },
    "id": "OqtUqB5gE1Ve",
    "outputId": "76eb9833-0471-4fb7-e686-c49c82fb8f46",
    "trusted": true
   },
   "outputs": [],
   "source": [
    "# Here, I'm displaying the Total Annual Sum of IP Co-payment for 'ChronicCond_Heartfailure'\n",
    "with plt.style.context('seaborn-poster'):\n",
    "  plt.figure(figsize=(12,8))\n",
    "  fig = train_bene_df.groupby(['ChronicCond_Heartfailure'])['IPAnnualDeductibleAmt'].sum().plot(kind='bar', color=['orange','palegreen'])\n",
    "  # Using the \"patches\" function we will get the location of the rectangle bars from the graph.\n",
    "  ## Then by using those location(width & height) values we will add the annotations\n",
    "  for p in fig.patches:\n",
    "    width = p.get_width()\n",
    "    height = p.get_height()\n",
    "    x, y = p.get_xy()\n",
    "    fig.annotate(f'{str(round((height*100)/(train_bene_df[\"IPAnnualDeductibleAmt\"].sum()),2))+\"%\"}', (x + width/2, y + height*1.01), ha='center', fontsize=13.5, rotation=0)\n",
    "  # Providing the labels and title to the graph\n",
    "  plt.xlabel(\"\\nHaving Chronic HF Disease?\", fontdict=label_font_dict)\n",
    "  plt.xticks(ticks=[0,1], labels=['YES', 'NO'], fontsize=13, rotation=30)\n",
    "  plt.ylabel(\"Total Annual Sum of IP Co-payment \\n\", fontdict=label_font_dict)\n",
    "  plt.grid(which='major', linestyle=\"--\", color='lightgrey')\n",
    "  plt.minorticks_on()\n",
    "  plt.title(\"Total Annual Sum of IP Co-payment paid by patient : 'ChronicCond_Heartfailure'\\n\", fontdict=title_font_dict)\n",
    "\n",
    "# 1 means +ve with Chronic HF Disease\n",
    "# 2 means -ve with Chronic HF Disease\n",
    "print(pd.DataFrame(train_bene_df.groupby(['ChronicCond_Heartfailure'])['IPAnnualDeductibleAmt'].sum()),\"\\n\")"
   ]
  },
  {
   "cell_type": "markdown",
   "metadata": {
    "id": "8Q19XZX6E1Ve"
   },
   "source": [
    "- **`OBSERVATION`**\n",
    "  - The above graph shows us that the Annual Sum of IP Co-payment paid by the patient of non-chronic & chronic HF Disease has a difference of 25 Million.\n",
    "    - But, the point to note here that the co-payment proportion is very less in front of the part paid by the Payer. This again can be potential sign of FRAUD."
   ]
  },
  {
   "cell_type": "code",
   "execution_count": null,
   "metadata": {
    "_kg_hide-input": true,
    "execution": {
     "iopub.execute_input": "2022-08-24T12:50:39.376047Z",
     "iopub.status.busy": "2022-08-24T12:50:39.375684Z",
     "iopub.status.idle": "2022-08-24T12:50:39.737204Z",
     "shell.execute_reply": "2022-08-24T12:50:39.735919Z",
     "shell.execute_reply.started": "2022-08-24T12:50:39.376016Z"
    },
    "id": "MoVwsXCkE1Vf",
    "outputId": "77cb9fc0-d93c-4edf-fc1c-f75f985e8052",
    "trusted": true
   },
   "outputs": [],
   "source": [
    "# Here, I'm displaying the Total Annual Sum of OP Co-payment for 'ChronicCond_Heartfailure'\n",
    "with plt.style.context('seaborn-poster'):\n",
    "  plt.figure(figsize=(12,8))\n",
    "  fig = train_bene_df.groupby(['ChronicCond_Heartfailure'])['OPAnnualDeductibleAmt'].sum().plot(kind='bar', color=['orange','palegreen'])\n",
    "  # Using the \"patches\" function we will get the location of the rectangle bars from the graph.\n",
    "  ## Then by using those location(width & height) values we will add the annotations\n",
    "  for p in fig.patches:\n",
    "    width = p.get_width()\n",
    "    height = p.get_height()\n",
    "    x, y = p.get_xy()\n",
    "    fig.annotate(f'{str(round((height*100)/(train_bene_df[\"OPAnnualDeductibleAmt\"].sum()),2))+\"%\"}', (x + width/2, y + height*1.01), ha='center', fontsize=13.5, rotation=0)\n",
    "  # Providing the labels and title to the graph\n",
    "  plt.xlabel(\"\\nHaving Chronic HF Disease?\", fontdict=label_font_dict)\n",
    "  plt.xticks(ticks=[0,1], labels=['YES', 'NO'], fontsize=13, rotation=30)\n",
    "  plt.ylabel(\"Total Annual Sum of OP Co-payment \\n\", fontdict=label_font_dict)\n",
    "  plt.grid(which='major', linestyle=\"--\", color='lightgrey')\n",
    "  plt.minorticks_on()\n",
    "  plt.title(\"Total Annual Sum of OP Co-payment paid by patient : 'ChronicCond_Heartfailure'\\n\", fontdict=title_font_dict)\n",
    "\n",
    "# 1 means +ve with Chronic HF Disease\n",
    "# 2 means -ve with Chronic HF Disease\n",
    "print(pd.DataFrame(train_bene_df.groupby(['ChronicCond_Heartfailure'])['OPAnnualDeductibleAmt'].sum()),\"\\n\")"
   ]
  },
  {
   "cell_type": "markdown",
   "metadata": {
    "id": "3HyQPm_nE1Vf"
   },
   "source": [
    "- **`OBSERVATION`**\n",
    "  - The above graph shows us that the Annual Sum of OP Co-payment paid by the patient of non-chronic & chronic HF Disease has a difference of 13 Million.\n",
    "    - But, the point to note here that the co-payment proportion is very less in front of the part paid by the Payer. This again can be potential sign of FRAUD."
   ]
  },
  {
   "cell_type": "code",
   "execution_count": null,
   "metadata": {
    "execution": {
     "iopub.execute_input": "2022-08-24T12:50:39.739866Z",
     "iopub.status.busy": "2022-08-24T12:50:39.739359Z",
     "iopub.status.idle": "2022-08-24T12:50:39.763406Z",
     "shell.execute_reply": "2022-08-24T12:50:39.761934Z",
     "shell.execute_reply.started": "2022-08-24T12:50:39.739821Z"
    },
    "id": "xCjNhGb4E1Vg",
    "outputId": "e5d41b92-1b72-4184-f132-5cde5af2a218",
    "trusted": true
   },
   "outputs": [],
   "source": [
    "# Number of beneficiaries with chronic or no-chronic conditions\n",
    "pd.DataFrame(train_bene_df.groupby(['ChronicCond_Heartfailure'])['BeneID'].count())"
   ]
  },
  {
   "cell_type": "code",
   "execution_count": null,
   "metadata": {
    "execution": {
     "iopub.execute_input": "2022-08-24T12:50:39.765602Z",
     "iopub.status.busy": "2022-08-24T12:50:39.765237Z",
     "iopub.status.idle": "2022-08-24T12:50:39.793277Z",
     "shell.execute_reply": "2022-08-24T12:50:39.791816Z",
     "shell.execute_reply.started": "2022-08-24T12:50:39.76557Z"
    },
    "id": "9obwpk5WE1Vg",
    "outputId": "ec41f343-d38f-4ef7-f992-16ec5ee41f19",
    "trusted": true
   },
   "outputs": [],
   "source": [
    "CC_HF_IP_R = pd.DataFrame(train_bene_df.groupby(['ChronicCond_Heartfailure'])['IPAnnualReimbursementAmt'].sum() / train_bene_df.groupby(['ChronicCond_Heartfailure'])['BeneID'].count())\n",
    "CC_HF_IP_R.columns = ['AVG IP Reimbursement Amt']\n",
    "CC_HF_IP_R"
   ]
  },
  {
   "cell_type": "code",
   "execution_count": null,
   "metadata": {
    "execution": {
     "iopub.execute_input": "2022-08-24T12:50:39.79594Z",
     "iopub.status.busy": "2022-08-24T12:50:39.794708Z",
     "iopub.status.idle": "2022-08-24T12:50:39.823019Z",
     "shell.execute_reply": "2022-08-24T12:50:39.821691Z",
     "shell.execute_reply.started": "2022-08-24T12:50:39.795885Z"
    },
    "id": "Al4kvXlgE1Vh",
    "outputId": "1f12ee2d-a898-4072-8e27-2f8613209459",
    "trusted": true
   },
   "outputs": [],
   "source": [
    "CC_HF_OP_R = pd.DataFrame(train_bene_df.groupby(['ChronicCond_Heartfailure'])['OPAnnualReimbursementAmt'].sum() / train_bene_df.groupby(['ChronicCond_Heartfailure'])['BeneID'].count())\n",
    "CC_HF_OP_R.columns = ['AVG OP Reimbursement Amt']\n",
    "CC_HF_OP_R"
   ]
  },
  {
   "cell_type": "code",
   "execution_count": null,
   "metadata": {
    "execution": {
     "iopub.execute_input": "2022-08-24T12:50:39.8249Z",
     "iopub.status.busy": "2022-08-24T12:50:39.824517Z",
     "iopub.status.idle": "2022-08-24T12:50:39.850987Z",
     "shell.execute_reply": "2022-08-24T12:50:39.849798Z",
     "shell.execute_reply.started": "2022-08-24T12:50:39.824865Z"
    },
    "id": "oiatON79E1Vh",
    "outputId": "2204a450-bbe4-4e37-87da-d6dca535c6f4",
    "trusted": true
   },
   "outputs": [],
   "source": [
    "CC_HF_IP_D = pd.DataFrame(train_bene_df.groupby(['ChronicCond_Heartfailure'])['IPAnnualDeductibleAmt'].sum() / train_bene_df.groupby(['ChronicCond_Heartfailure'])['BeneID'].count())\n",
    "CC_HF_IP_D.columns = ['AVG IP Co-payment Amt']\n",
    "CC_HF_IP_D"
   ]
  },
  {
   "cell_type": "code",
   "execution_count": null,
   "metadata": {
    "execution": {
     "iopub.execute_input": "2022-08-24T12:50:39.853184Z",
     "iopub.status.busy": "2022-08-24T12:50:39.852677Z",
     "iopub.status.idle": "2022-08-24T12:50:39.881668Z",
     "shell.execute_reply": "2022-08-24T12:50:39.880511Z",
     "shell.execute_reply.started": "2022-08-24T12:50:39.853135Z"
    },
    "id": "_QTmyQ-dE1Vi",
    "outputId": "b50c9937-2a0d-4a5a-caa6-939f13dfff4e",
    "trusted": true
   },
   "outputs": [],
   "source": [
    "CC_HF_OP_D = pd.DataFrame(train_bene_df.groupby(['ChronicCond_Heartfailure'])['OPAnnualDeductibleAmt'].sum() / train_bene_df.groupby(['ChronicCond_Heartfailure'])['BeneID'].count())\n",
    "CC_HF_OP_D.columns = ['AVG OP Co-payment Amt']\n",
    "CC_HF_OP_D"
   ]
  },
  {
   "cell_type": "code",
   "execution_count": null,
   "metadata": {
    "execution": {
     "iopub.execute_input": "2022-08-24T12:50:39.8841Z",
     "iopub.status.busy": "2022-08-24T12:50:39.883398Z",
     "iopub.status.idle": "2022-08-24T12:50:39.897867Z",
     "shell.execute_reply": "2022-08-24T12:50:39.896639Z",
     "shell.execute_reply.started": "2022-08-24T12:50:39.884063Z"
    },
    "id": "kL68ERKkE1Vj",
    "outputId": "c52c6eda-87f5-4b94-e26b-65a85ef98043",
    "trusted": true
   },
   "outputs": [],
   "source": [
    "CC_HF_all_amts = pd.concat([CC_HF_IP_R, CC_HF_OP_R, CC_HF_IP_D, CC_HF_OP_D], axis=1)\n",
    "CC_HF_all_amts"
   ]
  },
  {
   "cell_type": "code",
   "execution_count": null,
   "metadata": {
    "_kg_hide-input": true,
    "execution": {
     "iopub.execute_input": "2022-08-24T12:50:39.90039Z",
     "iopub.status.busy": "2022-08-24T12:50:39.899402Z",
     "iopub.status.idle": "2022-08-24T12:50:40.329546Z",
     "shell.execute_reply": "2022-08-24T12:50:40.327896Z",
     "shell.execute_reply.started": "2022-08-24T12:50:39.900338Z"
    },
    "id": "IYAO3DqHE1Vl",
    "outputId": "a32c8883-266e-4995-db12-e43aac44b09f",
    "trusted": true
   },
   "outputs": [],
   "source": [
    "# Here, I'm displaying the Total Annual Sum of IP Co-payment for 'ChronicCond_Heartfailure'\n",
    "with plt.style.context('seaborn-poster'):\n",
    "  fig = CC_HF_all_amts.plot(kind='bar', colormap='rainbow')\n",
    "  # Using the \"patches\" function we will get the location of the rectangle bars from the graph.\n",
    "  ## Then by using those location(width & height) values we will add the annotations\n",
    "  for p in fig.patches:\n",
    "    width = p.get_width()\n",
    "    height = p.get_height()\n",
    "    x, y = p.get_xy()\n",
    "    fig.annotate(f'{round(height,0)}', (x + width/2, y + height*1.015), ha='center', fontsize=12, rotation=0)\n",
    "  # Providing the labels and title to the graph\n",
    "  plt.xlabel(\"\\nHaving Chronic HF Disease?\", fontdict=label_font_dict)\n",
    "  plt.xticks(ticks=[0,1], labels=['YES', 'NO'], fontsize=13, rotation=30)\n",
    "  plt.ylabel(\"Total Annual Sum \\n\", fontdict=label_font_dict)\n",
    "  plt.grid(which='major', linestyle=\"-.\", color='lightgrey')\n",
    "  plt.minorticks_on()\n",
    "  plt.title(\"Total Annual Sum of various amounts : 'ChronicCond_Heartfailure'\\n\", fontdict=title_font_dict)\n",
    "\n",
    "# 1 means +ve with Chronic HF Disease\n",
    "# 2 means -ve with Chronic HF Disease\n",
    "print(CC_HF_all_amts,\"\\n\")"
   ]
  },
  {
   "cell_type": "markdown",
   "metadata": {
    "id": "uRUAtmyKE1Vm"
   },
   "source": [
    "- **`OBSERVATION`**\n",
    "  - The above graph is telling us below points:\n",
    "    - Payer pays huge chunk of expenses specially when a beneficiary gets admitted with or without chronic HF disease. To be more precise, in case of +ve it is more than 50%.\n",
    "    - For other comparisons the difference is not very high."
   ]
  },
  {
   "cell_type": "markdown",
   "metadata": {
    "id": "wrrA43cZE1Vn"
   },
   "source": [
    "### **Q11. Lets see the number of beneficiaries on the basis of 'ChronicCond_KidneyDisease'. And, the Annual IP & OP expenditures for such patients.**"
   ]
  },
  {
   "cell_type": "code",
   "execution_count": null,
   "metadata": {
    "execution": {
     "iopub.execute_input": "2022-08-24T12:50:40.332434Z",
     "iopub.status.busy": "2022-08-24T12:50:40.331733Z",
     "iopub.status.idle": "2022-08-24T12:50:40.356688Z",
     "shell.execute_reply": "2022-08-24T12:50:40.355311Z",
     "shell.execute_reply.started": "2022-08-24T12:50:40.332395Z"
    },
    "id": "0RU3Zl36E1Vo",
    "outputId": "c5c053ac-f10f-40b9-caf4-ca919824a55e",
    "trusted": true
   },
   "outputs": [],
   "source": [
    "# Number of beneficiaries with chronic or no-chronic conditions\n",
    "pd.DataFrame(train_bene_df.groupby(['ChronicCond_KidneyDisease'])['BeneID'].count())"
   ]
  },
  {
   "cell_type": "code",
   "execution_count": null,
   "metadata": {
    "execution": {
     "iopub.execute_input": "2022-08-24T12:50:40.359141Z",
     "iopub.status.busy": "2022-08-24T12:50:40.358367Z",
     "iopub.status.idle": "2022-08-24T12:50:40.402096Z",
     "shell.execute_reply": "2022-08-24T12:50:40.400795Z",
     "shell.execute_reply.started": "2022-08-24T12:50:40.359092Z"
    },
    "id": "JUcAWquvE1Vo",
    "outputId": "de30651f-4c8f-4a85-ea36-1b49e242da0b",
    "trusted": true
   },
   "outputs": [],
   "source": [
    "CC_KD_IP_R = pd.DataFrame(train_bene_df.groupby(['ChronicCond_KidneyDisease'])['IPAnnualReimbursementAmt'].sum() / train_bene_df.groupby(['ChronicCond_KidneyDisease'])['BeneID'].count())\n",
    "CC_KD_IP_R.columns = ['AVG IP Reimbursement Amt']\n",
    "CC_KD_IP_R"
   ]
  },
  {
   "cell_type": "code",
   "execution_count": null,
   "metadata": {
    "execution": {
     "iopub.execute_input": "2022-08-24T12:50:40.404968Z",
     "iopub.status.busy": "2022-08-24T12:50:40.403888Z",
     "iopub.status.idle": "2022-08-24T12:50:40.435359Z",
     "shell.execute_reply": "2022-08-24T12:50:40.434068Z",
     "shell.execute_reply.started": "2022-08-24T12:50:40.40493Z"
    },
    "id": "-OSITnUeE1Vp",
    "outputId": "fdadb2c2-fb11-4628-b638-4fdfffedc77e",
    "trusted": true
   },
   "outputs": [],
   "source": [
    "CC_KD_OP_R = pd.DataFrame(train_bene_df.groupby(['ChronicCond_KidneyDisease'])['OPAnnualReimbursementAmt'].sum() / train_bene_df.groupby(['ChronicCond_KidneyDisease'])['BeneID'].count())\n",
    "CC_KD_OP_R.columns = ['AVG OP Reimbursement Amt']\n",
    "CC_KD_OP_R"
   ]
  },
  {
   "cell_type": "code",
   "execution_count": null,
   "metadata": {
    "execution": {
     "iopub.execute_input": "2022-08-24T12:50:40.438168Z",
     "iopub.status.busy": "2022-08-24T12:50:40.437801Z",
     "iopub.status.idle": "2022-08-24T12:50:40.465003Z",
     "shell.execute_reply": "2022-08-24T12:50:40.463777Z",
     "shell.execute_reply.started": "2022-08-24T12:50:40.438136Z"
    },
    "id": "jzw8a_GaE1Vq",
    "outputId": "c4949b4e-8068-4bbc-a9a6-a59663a85805",
    "trusted": true
   },
   "outputs": [],
   "source": [
    "CC_KD_IP_D = pd.DataFrame(train_bene_df.groupby(['ChronicCond_KidneyDisease'])['IPAnnualDeductibleAmt'].sum() / train_bene_df.groupby(['ChronicCond_KidneyDisease'])['BeneID'].count())\n",
    "CC_KD_IP_D.columns = ['AVG IP Co-payment Amt']\n",
    "CC_KD_IP_D"
   ]
  },
  {
   "cell_type": "code",
   "execution_count": null,
   "metadata": {
    "execution": {
     "iopub.execute_input": "2022-08-24T12:50:40.467404Z",
     "iopub.status.busy": "2022-08-24T12:50:40.466608Z",
     "iopub.status.idle": "2022-08-24T12:50:40.494035Z",
     "shell.execute_reply": "2022-08-24T12:50:40.492781Z",
     "shell.execute_reply.started": "2022-08-24T12:50:40.467359Z"
    },
    "id": "WZJg6OIIE1Vr",
    "outputId": "00add737-675a-4c66-9ddc-e8226b612e2b",
    "trusted": true
   },
   "outputs": [],
   "source": [
    "CC_KD_OP_D = pd.DataFrame(train_bene_df.groupby(['ChronicCond_KidneyDisease'])['OPAnnualDeductibleAmt'].sum() / train_bene_df.groupby(['ChronicCond_KidneyDisease'])['BeneID'].count())\n",
    "CC_KD_OP_D.columns = ['AVG OP Co-payment Amt']\n",
    "CC_KD_OP_D"
   ]
  },
  {
   "cell_type": "code",
   "execution_count": null,
   "metadata": {
    "execution": {
     "iopub.execute_input": "2022-08-24T12:50:40.496688Z",
     "iopub.status.busy": "2022-08-24T12:50:40.495563Z",
     "iopub.status.idle": "2022-08-24T12:50:40.509928Z",
     "shell.execute_reply": "2022-08-24T12:50:40.508967Z",
     "shell.execute_reply.started": "2022-08-24T12:50:40.496645Z"
    },
    "id": "O0KznJtiE1Vs",
    "outputId": "08f8a3c4-9986-4fed-dc80-ee0b540dfea2",
    "trusted": true
   },
   "outputs": [],
   "source": [
    "CC_KD_all_amts = pd.concat([CC_KD_IP_R, CC_KD_OP_R, CC_KD_IP_D, CC_KD_OP_D], axis=1)\n",
    "CC_KD_all_amts"
   ]
  },
  {
   "cell_type": "code",
   "execution_count": null,
   "metadata": {
    "_kg_hide-input": true,
    "execution": {
     "iopub.execute_input": "2022-08-24T12:50:40.511916Z",
     "iopub.status.busy": "2022-08-24T12:50:40.51107Z",
     "iopub.status.idle": "2022-08-24T12:50:40.964368Z",
     "shell.execute_reply": "2022-08-24T12:50:40.962916Z",
     "shell.execute_reply.started": "2022-08-24T12:50:40.51188Z"
    },
    "id": "wFt_DpQ4E1Vt",
    "outputId": "3945d557-91fa-4ae6-fd0d-a55676a006c9",
    "trusted": true
   },
   "outputs": [],
   "source": [
    "# Here, I'm displaying the Total Annual Sum of IP Co-payment for 'ChronicCond_KidneyDisease'\n",
    "with plt.style.context('seaborn-poster'):\n",
    "  fig = CC_KD_all_amts.plot(kind='bar', colormap='rainbow')\n",
    "  # Using the \"patches\" function we will get the location of the rectangle bars from the graph.\n",
    "  ## Then by using those location(width & height) values we will add the annotations\n",
    "  for p in fig.patches:\n",
    "    width = p.get_width()\n",
    "    height = p.get_height()\n",
    "    x, y = p.get_xy()\n",
    "    fig.annotate(f'{round(height,0)}', (x + width/2, y + height*1.015), ha='center', fontsize=12, rotation=0)\n",
    "  # Providing the labels and title to the graph\n",
    "  plt.xlabel(\"\\nHaving Chronic KD Disease?\", fontdict=label_font_dict)\n",
    "  plt.xticks(ticks=[0,1], labels=['YES', 'NO'], fontsize=13, rotation=30)\n",
    "  plt.ylabel(\"Total Annual Sum \\n\", fontdict=label_font_dict)\n",
    "  plt.grid(which='major', linestyle=\"-.\", color='lightgrey')\n",
    "  plt.minorticks_on()\n",
    "  plt.title(\"Total Annual Sum of various amounts : 'ChronicCond_KidneyDisease'\\n\", fontdict=title_font_dict)\n",
    "\n",
    "# 1 means +ve with Chronic KD Disease\n",
    "# 2 means -ve with Chronic KD Disease\n",
    "print(CC_KD_all_amts,\"\\n\")"
   ]
  },
  {
   "cell_type": "markdown",
   "metadata": {
    "id": "RPnH222rE1Vu"
   },
   "source": [
    "- **`OBSERVATION`**\n",
    "  - The above graph is telling us below points:\n",
    "    - Payer pays huge chunk of expenses specially when a beneficiary gets admitted with or without chronic HF disease. To be more precise, in case of +ve it is more than 50%.\n",
    "    - For other comparisons the difference is not very high."
   ]
  },
  {
   "cell_type": "markdown",
   "metadata": {
    "id": "F9vhaRUPE1Vw"
   },
   "source": [
    "### **Q12. Lets see the number of beneficiaries on the basis of 'ChronicCond_Cancer'. And, the Annual IP & OP expenditures for such patients.**"
   ]
  },
  {
   "cell_type": "code",
   "execution_count": null,
   "metadata": {
    "execution": {
     "iopub.execute_input": "2022-08-24T12:50:40.966331Z",
     "iopub.status.busy": "2022-08-24T12:50:40.965835Z",
     "iopub.status.idle": "2022-08-24T12:50:40.985535Z",
     "shell.execute_reply": "2022-08-24T12:50:40.984574Z",
     "shell.execute_reply.started": "2022-08-24T12:50:40.966293Z"
    },
    "id": "zVQAaMQCE1Vx",
    "outputId": "ea42e436-c436-415f-e71f-1b3f9d1b8948",
    "trusted": true
   },
   "outputs": [],
   "source": [
    "# Number of beneficiaries with chronic or no-chronic conditions\n",
    "pd.DataFrame(train_bene_df.groupby(['ChronicCond_Cancer'])['BeneID'].count())"
   ]
  },
  {
   "cell_type": "code",
   "execution_count": null,
   "metadata": {
    "execution": {
     "iopub.execute_input": "2022-08-24T12:50:40.988024Z",
     "iopub.status.busy": "2022-08-24T12:50:40.987324Z",
     "iopub.status.idle": "2022-08-24T12:50:41.015961Z",
     "shell.execute_reply": "2022-08-24T12:50:41.014756Z",
     "shell.execute_reply.started": "2022-08-24T12:50:40.987976Z"
    },
    "id": "NmvKNl5GE1V0",
    "outputId": "504fee34-8fa2-44a7-8644-487ecc341db1",
    "trusted": true
   },
   "outputs": [],
   "source": [
    "CC_CN_IP_R = pd.DataFrame(train_bene_df.groupby(['ChronicCond_Cancer'])['IPAnnualReimbursementAmt'].sum() / train_bene_df.groupby(['ChronicCond_Cancer'])['BeneID'].count())\n",
    "CC_CN_IP_R.columns = ['AVG IP Reimbursement Amt']\n",
    "CC_CN_IP_R"
   ]
  },
  {
   "cell_type": "code",
   "execution_count": null,
   "metadata": {
    "execution": {
     "iopub.execute_input": "2022-08-24T12:50:41.017851Z",
     "iopub.status.busy": "2022-08-24T12:50:41.017449Z",
     "iopub.status.idle": "2022-08-24T12:50:41.043087Z",
     "shell.execute_reply": "2022-08-24T12:50:41.041961Z",
     "shell.execute_reply.started": "2022-08-24T12:50:41.017816Z"
    },
    "id": "yaaQshh_E1V1",
    "outputId": "7ca5e9eb-8e36-4e2b-abd7-e56dd5d255ac",
    "trusted": true
   },
   "outputs": [],
   "source": [
    "CC_CN_OP_R = pd.DataFrame(train_bene_df.groupby(['ChronicCond_Cancer'])['OPAnnualReimbursementAmt'].sum() / train_bene_df.groupby(['ChronicCond_Cancer'])['BeneID'].count())\n",
    "CC_CN_OP_R.columns = ['AVG OP Reimbursement Amt']\n",
    "CC_CN_OP_R"
   ]
  },
  {
   "cell_type": "code",
   "execution_count": null,
   "metadata": {
    "execution": {
     "iopub.execute_input": "2022-08-24T12:50:41.045641Z",
     "iopub.status.busy": "2022-08-24T12:50:41.04479Z",
     "iopub.status.idle": "2022-08-24T12:50:41.071185Z",
     "shell.execute_reply": "2022-08-24T12:50:41.070191Z",
     "shell.execute_reply.started": "2022-08-24T12:50:41.045602Z"
    },
    "id": "JvXB85ZVE1V2",
    "outputId": "6be3eda9-dc9a-4379-899e-4ccb0891f86f",
    "trusted": true
   },
   "outputs": [],
   "source": [
    "CC_CN_IP_D = pd.DataFrame(train_bene_df.groupby(['ChronicCond_Cancer'])['IPAnnualDeductibleAmt'].sum() / train_bene_df.groupby(['ChronicCond_Cancer'])['BeneID'].count())\n",
    "CC_CN_IP_D.columns = ['AVG IP Co-payment Amt']\n",
    "CC_CN_IP_D"
   ]
  },
  {
   "cell_type": "code",
   "execution_count": null,
   "metadata": {
    "execution": {
     "iopub.status.busy": "2022-08-24T12:50:41.072698Z"
    },
    "id": "ooBT4K85E1V4",
    "outputId": "528b7f06-48aa-4e7a-b111-d281022ed674",
    "trusted": true
   },
   "outputs": [],
   "source": [
    "CC_CN_OP_D = pd.DataFrame(train_bene_df.groupby(['ChronicCond_Cancer'])['OPAnnualDeductibleAmt'].sum() / train_bene_df.groupby(['ChronicCond_Cancer'])['BeneID'].count())\n",
    "CC_CN_OP_D.columns = ['AVG OP Co-payment Amt']\n",
    "CC_CN_OP_D"
   ]
  },
  {
   "cell_type": "code",
   "execution_count": null,
   "metadata": {
    "id": "mavUOVzBE1V4",
    "outputId": "24f6f21b-5065-4109-d2c7-c04336ff06e7",
    "trusted": true
   },
   "outputs": [],
   "source": [
    "CC_CN_all_amts = pd.concat([CC_CN_IP_R, CC_CN_OP_R, CC_CN_IP_D, CC_CN_OP_D], axis=1)\n",
    "CC_CN_all_amts"
   ]
  },
  {
   "cell_type": "code",
   "execution_count": null,
   "metadata": {
    "_kg_hide-input": true,
    "id": "18SlTZLEE1V5",
    "outputId": "b2877a55-15f0-423d-a33d-25d103c44177",
    "trusted": true
   },
   "outputs": [],
   "source": [
    "# Here, I'm displaying the Total Annual Sum of IP Co-payment for 'ChronicCond_Cancer'\n",
    "with plt.style.context('seaborn-poster'):\n",
    "  fig = CC_CN_all_amts.plot(kind='bar', colormap='rainbow')\n",
    "  # Using the \"patches\" function we will get the location of the rectangle bars from the graph.\n",
    "  ## Then by using those location(width & height) values we will add the annotations\n",
    "  for p in fig.patches:\n",
    "    width = p.get_width()\n",
    "    height = p.get_height()\n",
    "    x, y = p.get_xy()\n",
    "    fig.annotate(f'{round(height,0)}', (x + width/2, y + height*1.015), ha='center', fontsize=12, rotation=0)\n",
    "  # Providing the labels and title to the graph\n",
    "  plt.xlabel(\"\\nHaving Chronic CN Disease?\", fontdict=label_font_dict)\n",
    "  plt.xticks(ticks=[0,1], labels=['YES', 'NO'], fontsize=13, rotation=30)\n",
    "  plt.ylabel(\"Total Annual Sum \\n\", fontdict=label_font_dict)\n",
    "  plt.grid(which='major', linestyle=\"-.\", color='lightgrey')\n",
    "  plt.minorticks_on()\n",
    "  plt.title(\"Total Annual Sum of various amounts : 'ChronicCond_Cancer'\\n\", fontdict=title_font_dict)\n",
    "\n",
    "# 1 means +ve with Chronic CN Disease\n",
    "# 2 means -ve with Chronic CN Disease\n",
    "print(CC_CN_all_amts,\"\\n\")"
   ]
  },
  {
   "cell_type": "markdown",
   "metadata": {
    "id": "z4xS_fG1E1V6"
   },
   "source": [
    "- **`OBSERVATION`**\n",
    "  - The above graph is telling us below points:\n",
    "    - Payer pays huge chunk of expenses specially when a beneficiary gets admitted with or without chronic HF disease. To be more precise, in case of +ve it is around 50%.\n",
    "    - For other comparisons the difference is not very high."
   ]
  },
  {
   "cell_type": "markdown",
   "metadata": {
    "id": "DZhQ3Z_WE1V7"
   },
   "source": [
    "### **Q13. Lets see the number of beneficiaries on the basis of 'ChronicCond_ObstrPulmonary'. And, the Annual IP & OP expenditures for such patients.**"
   ]
  },
  {
   "cell_type": "code",
   "execution_count": null,
   "metadata": {
    "id": "KZ0CDuwjE1V7",
    "outputId": "a8aba9de-7cb3-4b83-b106-4bacf91759f5",
    "trusted": true
   },
   "outputs": [],
   "source": [
    "# Number of beneficiaries with chronic or no-chronic conditions\n",
    "pd.DataFrame(train_bene_df.groupby(['ChronicCond_ObstrPulmonary'])['BeneID'].count())"
   ]
  },
  {
   "cell_type": "code",
   "execution_count": null,
   "metadata": {
    "id": "rlnDQ581E1V8",
    "outputId": "06746463-d613-466e-9e35-1ecf3e0e6bd4",
    "trusted": true
   },
   "outputs": [],
   "source": [
    "CC_PL_IP_R = pd.DataFrame(train_bene_df.groupby(['ChronicCond_ObstrPulmonary'])['IPAnnualReimbursementAmt'].sum() / train_bene_df.groupby(['ChronicCond_ObstrPulmonary'])['BeneID'].count())\n",
    "CC_PL_IP_R.columns = ['AVG IP Reimbursement Amt']\n",
    "CC_PL_IP_R"
   ]
  },
  {
   "cell_type": "code",
   "execution_count": null,
   "metadata": {
    "id": "_LUNKuCqE1V9",
    "outputId": "4c87e4a0-3d07-48f8-a35d-f0de241d116a",
    "trusted": true
   },
   "outputs": [],
   "source": [
    "CC_PL_OP_R = pd.DataFrame(train_bene_df.groupby(['ChronicCond_ObstrPulmonary'])['OPAnnualReimbursementAmt'].sum() / train_bene_df.groupby(['ChronicCond_ObstrPulmonary'])['BeneID'].count())\n",
    "CC_PL_OP_R.columns = ['AVG OP Reimbursement Amt']\n",
    "CC_PL_OP_R"
   ]
  },
  {
   "cell_type": "code",
   "execution_count": null,
   "metadata": {
    "id": "40ZshQ9jE1V9",
    "outputId": "e627f6a4-4be6-4b9d-af05-382a85e39cc5",
    "trusted": true
   },
   "outputs": [],
   "source": [
    "CC_PL_IP_D = pd.DataFrame(train_bene_df.groupby(['ChronicCond_ObstrPulmonary'])['IPAnnualDeductibleAmt'].sum() / train_bene_df.groupby(['ChronicCond_ObstrPulmonary'])['BeneID'].count())\n",
    "CC_PL_IP_D.columns = ['AVG IP Co-payment Amt']\n",
    "CC_PL_IP_D"
   ]
  },
  {
   "cell_type": "code",
   "execution_count": null,
   "metadata": {
    "id": "zePZ1vAbE1V-",
    "outputId": "6fdfef07-1fa4-4d67-b582-fa3387c31c7a",
    "trusted": true
   },
   "outputs": [],
   "source": [
    "CC_PL_OP_D = pd.DataFrame(train_bene_df.groupby(['ChronicCond_ObstrPulmonary'])['OPAnnualDeductibleAmt'].sum() / train_bene_df.groupby(['ChronicCond_ObstrPulmonary'])['BeneID'].count())\n",
    "CC_PL_OP_D.columns = ['AVG OP Co-payment Amt']\n",
    "CC_PL_OP_D"
   ]
  },
  {
   "cell_type": "code",
   "execution_count": null,
   "metadata": {
    "id": "IrRTXehFE1V-",
    "outputId": "9a1e7fe7-a41d-44c9-d980-ad8135cc014b",
    "trusted": true
   },
   "outputs": [],
   "source": [
    "CC_PL_all_amts = pd.concat([CC_PL_IP_R, CC_PL_OP_R, CC_PL_IP_D, CC_PL_OP_D], axis=1)\n",
    "CC_PL_all_amts"
   ]
  },
  {
   "cell_type": "code",
   "execution_count": null,
   "metadata": {
    "_kg_hide-input": true,
    "id": "s3eDf0MDE1V_",
    "outputId": "1eff2228-6a2d-414e-c20a-df18ea0d100f",
    "trusted": true
   },
   "outputs": [],
   "source": [
    "# Here, I'm displaying the Total Annual Sum of IP Co-payment for 'ChronicCond_ObstrPulmonary'\n",
    "with plt.style.context('seaborn-poster'):\n",
    "  fig = CC_PL_all_amts.plot(kind='bar', colormap='rainbow')\n",
    "  # Using the \"patches\" function we will get the location of the rectangle bars from the graph.\n",
    "  ## Then by using those location(width & height) values we will add the annotations\n",
    "  for p in fig.patches:\n",
    "    width = p.get_width()\n",
    "    height = p.get_height()\n",
    "    x, y = p.get_xy()\n",
    "    fig.annotate(f'{round(height,0)}', (x + width/2, y + height*1.015), ha='center', fontsize=12, rotation=0)\n",
    "  # Providing the labels and title to the graph\n",
    "  plt.xlabel(\"\\nHaving Chronic PL Disease?\", fontdict=label_font_dict)\n",
    "  plt.xticks(ticks=[0,1], labels=['YES', 'NO'], fontsize=13, rotation=30)\n",
    "  plt.ylabel(\"Total Annual Sum \\n\", fontdict=label_font_dict)\n",
    "  plt.grid(which='major', linestyle=\"-.\", color='lightgrey')\n",
    "  plt.minorticks_on()\n",
    "  plt.title(\"Total Annual Sum of various amounts : 'ChronicCond_ObstrPulmonary'\\n\", fontdict=title_font_dict)\n",
    "\n",
    "# 1 means +ve with Chronic PL Disease\n",
    "# 2 means -ve with Chronic PL Disease"
   ]
  },
  {
   "cell_type": "markdown",
   "metadata": {
    "id": "0u2skP10E1WB"
   },
   "source": [
    "- **`OBSERVATION`**\n",
    "  - The above graph is telling us below points:\n",
    "    - Payer pays huge chunk of expenses specially when a beneficiary gets admitted with or without chronic HF disease. To be more precise, in case of +ve it is more than 50%.\n",
    "    - For other comparisons the difference is not very high."
   ]
  },
  {
   "cell_type": "markdown",
   "metadata": {
    "id": "AQ5NEaZAE1WC"
   },
   "source": [
    "### **Q14. Lets see the number of beneficiaries on the basis of 'ChronicCond_Depression'. And, the Annual IP & OP expenditures for such patients.**"
   ]
  },
  {
   "cell_type": "code",
   "execution_count": null,
   "metadata": {
    "id": "fbYH0qIKE1WC",
    "outputId": "f9d17a3a-7c16-43b2-d3fa-58ef690eea1e",
    "trusted": true
   },
   "outputs": [],
   "source": [
    "# Number of beneficiaries with chronic or no-chronic conditions\n",
    "pd.DataFrame(train_bene_df.groupby(['ChronicCond_Depression'])['BeneID'].count())"
   ]
  },
  {
   "cell_type": "code",
   "execution_count": null,
   "metadata": {
    "id": "kVrha1tcE1WD",
    "outputId": "92bb52f4-18a7-4a78-df93-d3bffc8f72e5",
    "trusted": true
   },
   "outputs": [],
   "source": [
    "CC_DP_IP_R = pd.DataFrame(train_bene_df.groupby(['ChronicCond_Depression'])['IPAnnualReimbursementAmt'].sum() / train_bene_df.groupby(['ChronicCond_Depression'])['BeneID'].count())\n",
    "CC_DP_IP_R.columns = ['AVG IP Reimbursement Amt']\n",
    "CC_DP_IP_R"
   ]
  },
  {
   "cell_type": "code",
   "execution_count": null,
   "metadata": {
    "id": "6EF1XTgNE1WF",
    "outputId": "5cf6bbee-b906-42ea-a625-9c81f2afe5f1",
    "trusted": true
   },
   "outputs": [],
   "source": [
    "CC_DP_OP_R = pd.DataFrame(train_bene_df.groupby(['ChronicCond_Depression'])['OPAnnualReimbursementAmt'].sum() / train_bene_df.groupby(['ChronicCond_Depression'])['BeneID'].count())\n",
    "CC_DP_OP_R.columns = ['AVG OP Reimbursement Amt']\n",
    "CC_DP_OP_R"
   ]
  },
  {
   "cell_type": "code",
   "execution_count": null,
   "metadata": {
    "id": "oRWLcq5kE1WH",
    "outputId": "3302a63f-1fc0-4e00-b2fb-c5d6d8fbd2c3",
    "trusted": true
   },
   "outputs": [],
   "source": [
    "CC_DP_IP_D = pd.DataFrame(train_bene_df.groupby(['ChronicCond_Depression'])['IPAnnualDeductibleAmt'].sum() / train_bene_df.groupby(['ChronicCond_Depression'])['BeneID'].count())\n",
    "CC_DP_IP_D.columns = ['AVG IP Co-payment Amt']\n",
    "CC_DP_IP_D"
   ]
  },
  {
   "cell_type": "code",
   "execution_count": null,
   "metadata": {
    "id": "Qs1ysm5sE1WI",
    "outputId": "7de52252-2df8-43d3-c774-14b10fa9236d",
    "trusted": true
   },
   "outputs": [],
   "source": [
    "CC_DP_OP_D = pd.DataFrame(train_bene_df.groupby(['ChronicCond_Depression'])['OPAnnualDeductibleAmt'].sum() / train_bene_df.groupby(['ChronicCond_Depression'])['BeneID'].count())\n",
    "CC_DP_OP_D.columns = ['AVG OP Co-payment Amt']\n",
    "CC_DP_OP_D"
   ]
  },
  {
   "cell_type": "code",
   "execution_count": null,
   "metadata": {
    "id": "XNjm_72fE1WJ",
    "outputId": "bf2446c2-30c8-44cd-d877-76c9cba59c5a",
    "trusted": true
   },
   "outputs": [],
   "source": [
    "CC_DP_all_amts = pd.concat([CC_DP_IP_R, CC_DP_OP_R, CC_DP_IP_D, CC_DP_OP_D], axis=1)\n",
    "CC_DP_all_amts"
   ]
  },
  {
   "cell_type": "code",
   "execution_count": null,
   "metadata": {
    "_kg_hide-input": true,
    "id": "4p1u41WiE1WJ",
    "outputId": "62afd4e7-a5d1-45ea-a0a5-2db667339877",
    "trusted": true
   },
   "outputs": [],
   "source": [
    "# Here, I'm displaying the Total Annual Sum of IP Co-payment for 'ChronicCond_Depression'\n",
    "with plt.style.context('seaborn-poster'):\n",
    "  fig = CC_DP_all_amts.plot(kind='bar', colormap='rainbow')\n",
    "  # Using the \"patches\" function we will get the location of the rectangle bars from the graph.\n",
    "  ## Then by using those location(width & height) values we will add the annotations\n",
    "  for p in fig.patches:\n",
    "    width = p.get_width()\n",
    "    height = p.get_height()\n",
    "    x, y = p.get_xy()\n",
    "    fig.annotate(f'{round(height,0)}', (x + width/2, y + height*1.015), ha='center', fontsize=12, rotation=0)\n",
    "  # Providing the labels and title to the graph\n",
    "  plt.xlabel(\"\\nHaving Chronic DP Disease?\", fontdict=label_font_dict)\n",
    "  plt.xticks(ticks=[0,1], labels=['YES', 'NO'], fontsize=13, rotation=30)\n",
    "  plt.ylabel(\"Total Annual Sum \\n\", fontdict=label_font_dict)\n",
    "  plt.grid(which='major', linestyle=\"-.\", color='lightgrey')\n",
    "  plt.minorticks_on()\n",
    "  plt.title(\"Total Annual Sum of various amounts : 'ChronicCond_Depression'\\n\", fontdict=title_font_dict)\n",
    "\n",
    "# 1 means +ve with Chronic DP Disease\n",
    "# 2 means -ve with Chronic DP Disease"
   ]
  },
  {
   "cell_type": "markdown",
   "metadata": {
    "id": "IMFRTVRVE1WK"
   },
   "source": [
    "- **`OBSERVATION`**\n",
    "  - The above graph is telling us below points:\n",
    "    - Payer pays huge chunk of expenses specially when a beneficiary gets admitted with or without chronic HF disease. To be more precise, in case of +ve it is around 42%.\n",
    "    - For other comparisons the difference is not very high."
   ]
  },
  {
   "cell_type": "markdown",
   "metadata": {
    "id": "stnf0nhaE1WK"
   },
   "source": [
    "### **Q15. Lets see the number of beneficiaries on the basis of 'ChronicCond_Diabetes'. And, the Annual IP & OP expenditures for such patients.**"
   ]
  },
  {
   "cell_type": "code",
   "execution_count": null,
   "metadata": {
    "id": "DfBTaYFiE1WK",
    "outputId": "a1e6d067-a693-43ff-f826-2c973f586e5e",
    "trusted": true
   },
   "outputs": [],
   "source": [
    "# Number of beneficiaries with chronic or no-chronic conditions\n",
    "pd.DataFrame(train_bene_df.groupby(['ChronicCond_Diabetes'])['BeneID'].count())"
   ]
  },
  {
   "cell_type": "code",
   "execution_count": null,
   "metadata": {
    "id": "nyZ3yhZgE1WL",
    "outputId": "44370f5a-74af-461e-cab7-79a31a38fe0c",
    "trusted": true
   },
   "outputs": [],
   "source": [
    "CC_DB_IP_R = pd.DataFrame(train_bene_df.groupby(['ChronicCond_Diabetes'])['IPAnnualReimbursementAmt'].sum() / train_bene_df.groupby(['ChronicCond_Diabetes'])['BeneID'].count())\n",
    "CC_DB_IP_R.columns = ['AVG IP Reimbursement Amt']\n",
    "CC_DB_IP_R"
   ]
  },
  {
   "cell_type": "code",
   "execution_count": null,
   "metadata": {
    "id": "4sK6lyXZE1WL",
    "outputId": "7b2f86e5-84e9-4cda-8943-4f9affcac8b8",
    "trusted": true
   },
   "outputs": [],
   "source": [
    "CC_DB_OP_R = pd.DataFrame(train_bene_df.groupby(['ChronicCond_Diabetes'])['OPAnnualReimbursementAmt'].sum() / train_bene_df.groupby(['ChronicCond_Diabetes'])['BeneID'].count())\n",
    "CC_DB_OP_R.columns = ['AVG OP Reimbursement Amt']\n",
    "CC_DB_OP_R"
   ]
  },
  {
   "cell_type": "code",
   "execution_count": null,
   "metadata": {
    "id": "ZWgmZcYuE1WM",
    "outputId": "9e149aac-7b6a-46c4-a637-092aa828c35b",
    "trusted": true
   },
   "outputs": [],
   "source": [
    "CC_DB_IP_D = pd.DataFrame(train_bene_df.groupby(['ChronicCond_Diabetes'])['IPAnnualDeductibleAmt'].sum() / train_bene_df.groupby(['ChronicCond_Diabetes'])['BeneID'].count())\n",
    "CC_DB_IP_D.columns = ['AVG IP Co-payment Amt']\n",
    "CC_DB_IP_D"
   ]
  },
  {
   "cell_type": "code",
   "execution_count": null,
   "metadata": {
    "id": "uS5xQu_fE1WM",
    "outputId": "98a043cc-f51f-4ada-d7b7-47927938b3c4",
    "trusted": true
   },
   "outputs": [],
   "source": [
    "CC_DB_OP_D = pd.DataFrame(train_bene_df.groupby(['ChronicCond_Diabetes'])['OPAnnualDeductibleAmt'].sum() / train_bene_df.groupby(['ChronicCond_Diabetes'])['BeneID'].count())\n",
    "CC_DB_OP_D.columns = ['AVG OP Co-payment Amt']\n",
    "CC_DB_OP_D"
   ]
  },
  {
   "cell_type": "code",
   "execution_count": null,
   "metadata": {
    "id": "p-IzVHBKE1WM",
    "outputId": "e3493da6-dd94-49f9-e24a-5eaa77081c01",
    "trusted": true
   },
   "outputs": [],
   "source": [
    "CC_DB_all_amts = pd.concat([CC_DB_IP_R, CC_DB_OP_R, CC_DB_IP_D, CC_DB_OP_D], axis=1)\n",
    "CC_DB_all_amts"
   ]
  },
  {
   "cell_type": "code",
   "execution_count": null,
   "metadata": {
    "id": "2Vg6rdlSE1WN",
    "outputId": "1d53584d-f98f-4c82-a74b-4e04ad640e12",
    "trusted": true
   },
   "outputs": [],
   "source": [
    "# Here, I'm displaying the Total Annual Sum of IP Co-payment for 'ChronicCond_Diabetes'\n",
    "with plt.style.context('seaborn-poster'):\n",
    "  fig = CC_DB_all_amts.plot(kind='bar', colormap='rainbow')\n",
    "  # Using the \"patches\" function we will get the location of the rectangle bars from the graph.\n",
    "  ## Then by using those location(width & height) values we will add the annotations\n",
    "  for p in fig.patches:\n",
    "    width = p.get_width()\n",
    "    height = p.get_height()\n",
    "    x, y = p.get_xy()\n",
    "    fig.annotate(f'{round(height,0)}', (x + width/2, y + height*1.015), ha='center', fontsize=12, rotation=0)\n",
    "  # Providing the labels and title to the graph\n",
    "  plt.xlabel(\"\\nHaving Chronic DB Disease?\", fontdict=label_font_dict)\n",
    "  plt.xticks(ticks=[0,1], labels=['YES', 'NO'], fontsize=13, rotation=30)\n",
    "  plt.ylabel(\"Total Annual Sum \\n\", fontdict=label_font_dict)\n",
    "  plt.grid(which='major', linestyle=\"-.\", color='lightgrey')\n",
    "  plt.minorticks_on()\n",
    "  plt.title(\"Total Annual Sum of various amounts : 'ChronicCond_Diabetes'\\n\", fontdict=title_font_dict)\n",
    "\n",
    "# 1 means +ve with Chronic DB Disease\n",
    "# 2 means -ve with Chronic DB Disease"
   ]
  },
  {
   "cell_type": "markdown",
   "metadata": {
    "id": "VBB04WIbE1WN"
   },
   "source": [
    "- **`OBSERVATION`**\n",
    "  - The above graph is telling us below points:\n",
    "    - Payer pays huge chunk of expenses specially when a beneficiary gets admitted with or without chronic HF disease. To be more precise, in case of +ve it is more than 50%.\n",
    "    - For other comparisons the difference is not very high."
   ]
  },
  {
   "cell_type": "markdown",
   "metadata": {
    "id": "SxliBdxbE1WO"
   },
   "source": [
    "### **Q16. Lets see the number of beneficiaries on the basis of 'ChronicCond_IschemicHeart'. And, the Annual IP & OP expenditures for such patients.**"
   ]
  },
  {
   "cell_type": "code",
   "execution_count": null,
   "metadata": {
    "id": "TSd2ewEIE1WO",
    "outputId": "9fe8fbee-5697-40b5-d9ff-ec815ff8e36a",
    "trusted": true
   },
   "outputs": [],
   "source": [
    "# Number of beneficiaries with chronic or no-chronic conditions\n",
    "pd.DataFrame(train_bene_df.groupby(['ChronicCond_IschemicHeart'])['BeneID'].count())"
   ]
  },
  {
   "cell_type": "code",
   "execution_count": null,
   "metadata": {
    "id": "jU9KtoqKE1WP",
    "outputId": "2d5f1d2d-f8e3-419d-f0c3-90406510ee2c",
    "trusted": true
   },
   "outputs": [],
   "source": [
    "CC_IH_IP_R = pd.DataFrame(train_bene_df.groupby(['ChronicCond_IschemicHeart'])['IPAnnualReimbursementAmt'].sum() / train_bene_df.groupby(['ChronicCond_IschemicHeart'])['BeneID'].count())\n",
    "CC_IH_IP_R.columns = ['AVG IP Reimbursement Amt']\n",
    "CC_IH_IP_R"
   ]
  },
  {
   "cell_type": "code",
   "execution_count": null,
   "metadata": {
    "id": "x0IX7Ry0E1WQ",
    "outputId": "f8351d35-e8c6-4d8f-8ee0-ae89cb631a4b",
    "trusted": true
   },
   "outputs": [],
   "source": [
    "CC_IH_OP_R = pd.DataFrame(train_bene_df.groupby(['ChronicCond_IschemicHeart'])['OPAnnualReimbursementAmt'].sum() / train_bene_df.groupby(['ChronicCond_IschemicHeart'])['BeneID'].count())\n",
    "CC_IH_OP_R.columns = ['AVG OP Reimbursement Amt']\n",
    "CC_IH_OP_R"
   ]
  },
  {
   "cell_type": "code",
   "execution_count": null,
   "metadata": {
    "id": "kgnmSlMHE1WR",
    "outputId": "00204724-881d-4bde-ed03-7ccaa2ef8eb1",
    "trusted": true
   },
   "outputs": [],
   "source": [
    "CC_IH_IP_D = pd.DataFrame(train_bene_df.groupby(['ChronicCond_IschemicHeart'])['IPAnnualDeductibleAmt'].sum() / train_bene_df.groupby(['ChronicCond_IschemicHeart'])['BeneID'].count())\n",
    "CC_IH_IP_D.columns = ['AVG IP Co-payment Amt']\n",
    "CC_IH_IP_D"
   ]
  },
  {
   "cell_type": "code",
   "execution_count": null,
   "metadata": {
    "id": "tTl2xsr_E1WS",
    "outputId": "19035aae-675e-49b6-e93e-26611331cde1",
    "trusted": true
   },
   "outputs": [],
   "source": [
    "CC_IH_OP_D = pd.DataFrame(train_bene_df.groupby(['ChronicCond_IschemicHeart'])['OPAnnualDeductibleAmt'].sum() / train_bene_df.groupby(['ChronicCond_IschemicHeart'])['BeneID'].count())\n",
    "CC_IH_OP_D.columns = ['AVG OP Co-payment Amt']\n",
    "CC_IH_OP_D"
   ]
  },
  {
   "cell_type": "code",
   "execution_count": null,
   "metadata": {
    "id": "ZzM0_ey3E1WT",
    "outputId": "4746e24e-a3c0-45cc-f861-844bb9ff4173",
    "trusted": true
   },
   "outputs": [],
   "source": [
    "CC_IH_all_amts = pd.concat([CC_IH_IP_R, CC_IH_OP_R, CC_IH_IP_D, CC_IH_OP_D], axis=1)\n",
    "CC_IH_all_amts"
   ]
  },
  {
   "cell_type": "code",
   "execution_count": null,
   "metadata": {
    "_kg_hide-input": true,
    "id": "_7Ou6xXPE1WV",
    "outputId": "1a296abe-1e1b-4aa0-cae6-a10d00980195",
    "trusted": true
   },
   "outputs": [],
   "source": [
    "# Here, I'm displaying the Total Annual Sum of IP Co-payment for 'ChronicCond_IschemicHeart'\n",
    "with plt.style.context('seaborn-poster'):\n",
    "  fig = CC_IH_all_amts.plot(kind='bar', colormap='rainbow')\n",
    "  # Using the \"patches\" function we will get the location of the rectangle bars from the graph.\n",
    "  ## Then by using those location(width & height) values we will add the annotations\n",
    "  for p in fig.patches:\n",
    "    width = p.get_width()\n",
    "    height = p.get_height()\n",
    "    x, y = p.get_xy()\n",
    "    fig.annotate(f'{round(height,0)}', (x + width/2, y + height*1.015), ha='center', fontsize=12, rotation=0)\n",
    "  # Providing the labels and title to the graph\n",
    "  plt.xlabel(\"\\nHaving Chronic IH Disease?\", fontdict=label_font_dict)\n",
    "  plt.xticks(ticks=[0,1], labels=['YES', 'NO'], fontsize=13, rotation=30)\n",
    "  plt.ylabel(\"Total Annual Sum \\n\", fontdict=label_font_dict)\n",
    "  plt.grid(which='major', linestyle=\"-.\", color='lightgrey')\n",
    "  plt.minorticks_on()\n",
    "  plt.title(\"Total Annual Sum of various amounts : 'ChronicCond_IschemicHeart'\\n\", fontdict=title_font_dict)\n",
    "\n",
    "# 1 means +ve with Chronic IH Disease\n",
    "# 2 means -ve with Chronic IH Disease"
   ]
  },
  {
   "cell_type": "markdown",
   "metadata": {
    "id": "ja9Xp7VsE1WW"
   },
   "source": [
    "- **`OBSERVATION`**\n",
    "  - The above graph is telling us below points:\n",
    "    - Payer pays huge chunk of expenses specially when a beneficiary gets admitted with or without chronic HF disease. To be more precise, in case of +ve it is more than 50%.\n",
    "    - For other comparisons the difference is not very high."
   ]
  },
  {
   "cell_type": "markdown",
   "metadata": {
    "id": "pHm0kAJWE1WX"
   },
   "source": [
    "### **Q17. Lets see the number of beneficiaries on the basis of 'ChronicCond_Osteoporasis'. And, the Annual IP & OP expenditures for such patients.**"
   ]
  },
  {
   "cell_type": "code",
   "execution_count": null,
   "metadata": {
    "id": "o-N_uKAWE1WZ",
    "outputId": "849e5c28-6791-4667-e1aa-31177631f968",
    "trusted": true
   },
   "outputs": [],
   "source": [
    "# Number of beneficiaries with chronic or no-chronic conditions\n",
    "pd.DataFrame(train_bene_df.groupby(['ChronicCond_Osteoporasis'])['BeneID'].count())"
   ]
  },
  {
   "cell_type": "code",
   "execution_count": null,
   "metadata": {
    "id": "VOJadmPpE1WZ",
    "outputId": "039925bf-dca2-4b62-fe94-589b65038e6f",
    "trusted": true
   },
   "outputs": [],
   "source": [
    "CC_OS_IP_R = pd.DataFrame(train_bene_df.groupby(['ChronicCond_Osteoporasis'])['IPAnnualReimbursementAmt'].sum() / train_bene_df.groupby(['ChronicCond_Osteoporasis'])['BeneID'].count())\n",
    "CC_OS_IP_R.columns = ['AVG IP Reimbursement Amt']\n",
    "CC_OS_IP_R"
   ]
  },
  {
   "cell_type": "code",
   "execution_count": null,
   "metadata": {
    "id": "z3xucAp6E1Wa",
    "outputId": "27747db0-b674-47ad-e0b9-ce86a949683d",
    "trusted": true
   },
   "outputs": [],
   "source": [
    "CC_OS_OP_R = pd.DataFrame(train_bene_df.groupby(['ChronicCond_Osteoporasis'])['OPAnnualReimbursementAmt'].sum() / train_bene_df.groupby(['ChronicCond_Osteoporasis'])['BeneID'].count())\n",
    "CC_OS_OP_R.columns = ['AVG OP Reimbursement Amt']\n",
    "CC_OS_OP_R"
   ]
  },
  {
   "cell_type": "code",
   "execution_count": null,
   "metadata": {
    "id": "Mqtj4Sy-E1Wb",
    "outputId": "340c7fbb-64bf-43c8-db7b-c978e903bf0e",
    "trusted": true
   },
   "outputs": [],
   "source": [
    "CC_OS_IP_D = pd.DataFrame(train_bene_df.groupby(['ChronicCond_Osteoporasis'])['IPAnnualDeductibleAmt'].sum() / train_bene_df.groupby(['ChronicCond_Osteoporasis'])['BeneID'].count())\n",
    "CC_OS_IP_D.columns = ['AVG IP Co-payment Amt']\n",
    "CC_OS_IP_D"
   ]
  },
  {
   "cell_type": "code",
   "execution_count": null,
   "metadata": {
    "id": "kIknSdwZE1Wc",
    "outputId": "b3c95aba-0e17-4199-d32e-929edf7fbe34",
    "trusted": true
   },
   "outputs": [],
   "source": [
    "CC_OS_OP_D = pd.DataFrame(train_bene_df.groupby(['ChronicCond_Osteoporasis'])['OPAnnualDeductibleAmt'].sum() / train_bene_df.groupby(['ChronicCond_Osteoporasis'])['BeneID'].count())\n",
    "CC_OS_OP_D.columns = ['AVG OP Co-payment Amt']\n",
    "CC_OS_OP_D"
   ]
  },
  {
   "cell_type": "code",
   "execution_count": null,
   "metadata": {
    "id": "iNK05bOjE1Wc",
    "outputId": "0f544556-c488-46db-febf-25b5710e4feb",
    "trusted": true
   },
   "outputs": [],
   "source": [
    "CC_OS_all_amts = pd.concat([CC_OS_IP_R, CC_OS_OP_R, CC_OS_IP_D, CC_OS_OP_D], axis=1)\n",
    "CC_OS_all_amts"
   ]
  },
  {
   "cell_type": "code",
   "execution_count": null,
   "metadata": {
    "_kg_hide-input": true,
    "id": "KShcPUP4E1Wd",
    "outputId": "28ac7e79-db50-4576-ea77-c57b758651ac",
    "trusted": true
   },
   "outputs": [],
   "source": [
    "# Here, I'm displaying the Total Annual Sum of IP Co-payment for 'ChronicCond_Osteoporasis'\n",
    "with plt.style.context('seaborn-poster'):\n",
    "  fig = CC_OS_all_amts.plot(kind='bar', colormap='rainbow')\n",
    "  # Using the \"patches\" function we will get the location of the rectangle bars from the graph.\n",
    "  ## Then by using those location(width & height) values we will add the annotations\n",
    "  for p in fig.patches:\n",
    "    width = p.get_width()\n",
    "    height = p.get_height()\n",
    "    x, y = p.get_xy()\n",
    "    fig.annotate(f'{round(height,0)}', (x + width/2, y + height*1.015), ha='center', fontsize=12, rotation=0)\n",
    "  # Providing the labels and title to the graph\n",
    "  plt.xlabel(\"\\nHaving Chronic OS Disease?\", fontdict=label_font_dict)\n",
    "  plt.xticks(ticks=[0,1], labels=['YES', 'NO'], fontsize=13, rotation=30)\n",
    "  plt.ylabel(\"Total Annual Sum \\n\", fontdict=label_font_dict)\n",
    "  plt.grid(which='major', linestyle=\"-.\", color='lightgrey')\n",
    "  plt.minorticks_on()\n",
    "  plt.title(\"Total Annual Sum of various amounts : 'ChronicCond_Osteoporasis'\\n\", fontdict=title_font_dict)\n",
    "\n",
    "# 1 means +ve with Chronic OS Disease\n",
    "# 2 means -ve with Chronic OS Disease"
   ]
  },
  {
   "cell_type": "markdown",
   "metadata": {
    "id": "FgPbOJQ2E1We"
   },
   "source": [
    "- **`OBSERVATION`**\n",
    "  - The above graph is telling us below points:\n",
    "    - Payer pays huge chunk of expenses specially when a beneficiary gets admitted with or without chronic HF disease. To be more precise, in case of +ve the difference is not that high.\n",
    "    - For other comparisons the difference is not very high."
   ]
  },
  {
   "cell_type": "markdown",
   "metadata": {
    "id": "TptKAvDvE1Wf"
   },
   "source": [
    "### **Q18. Lets see the number of beneficiaries on the basis of 'ChronicCond_rheumatoidarthritis'. And, the Annual IP & OP expenditures for such patients.**"
   ]
  },
  {
   "cell_type": "code",
   "execution_count": null,
   "metadata": {
    "id": "C2nOSX6gE1Wg",
    "outputId": "13f8c3c3-8edd-4052-979d-b35bd06124e8",
    "trusted": true
   },
   "outputs": [],
   "source": [
    "# Number of beneficiaries with chronic or no-chronic conditions\n",
    "pd.DataFrame(train_bene_df.groupby(['ChronicCond_rheumatoidarthritis'])['BeneID'].count())"
   ]
  },
  {
   "cell_type": "code",
   "execution_count": null,
   "metadata": {
    "id": "T-4Y0yJmE1Wh",
    "outputId": "b9edbd1d-5ed1-45b1-b35b-dc03710b4955",
    "trusted": true
   },
   "outputs": [],
   "source": [
    "CC_RH_IP_R = pd.DataFrame(train_bene_df.groupby(['ChronicCond_rheumatoidarthritis'])['IPAnnualReimbursementAmt'].sum() / train_bene_df.groupby(['ChronicCond_rheumatoidarthritis'])['BeneID'].count())\n",
    "CC_RH_IP_R.columns = ['AVG IP Reimbursement Amt']\n",
    "CC_RH_IP_R"
   ]
  },
  {
   "cell_type": "code",
   "execution_count": null,
   "metadata": {
    "id": "pCoXTdlzE1Wi",
    "outputId": "f1fad1d6-131a-4162-ca5a-d15c5b85ee62",
    "trusted": true
   },
   "outputs": [],
   "source": [
    "CC_RH_OP_R = pd.DataFrame(train_bene_df.groupby(['ChronicCond_rheumatoidarthritis'])['OPAnnualReimbursementAmt'].sum() / train_bene_df.groupby(['ChronicCond_rheumatoidarthritis'])['BeneID'].count())\n",
    "CC_RH_OP_R.columns = ['AVG OP Reimbursement Amt']\n",
    "CC_RH_OP_R"
   ]
  },
  {
   "cell_type": "code",
   "execution_count": null,
   "metadata": {
    "id": "ZXUpkuQzE1Wj",
    "outputId": "76c6d82e-24d9-4ed3-b779-b1214b0ce4dd",
    "trusted": true
   },
   "outputs": [],
   "source": [
    "CC_RH_IP_D = pd.DataFrame(train_bene_df.groupby(['ChronicCond_rheumatoidarthritis'])['IPAnnualDeductibleAmt'].sum() / train_bene_df.groupby(['ChronicCond_rheumatoidarthritis'])['BeneID'].count())\n",
    "CC_RH_IP_D.columns = ['AVG IP Co-payment Amt']\n",
    "CC_RH_IP_D"
   ]
  },
  {
   "cell_type": "code",
   "execution_count": null,
   "metadata": {
    "id": "g-JYVCnwE1Wj",
    "outputId": "bc734b2b-bdb9-4354-898f-6eef41c6e562",
    "trusted": true
   },
   "outputs": [],
   "source": [
    "CC_RH_OP_D = pd.DataFrame(train_bene_df.groupby(['ChronicCond_rheumatoidarthritis'])['OPAnnualDeductibleAmt'].sum() / train_bene_df.groupby(['ChronicCond_rheumatoidarthritis'])['BeneID'].count())\n",
    "CC_RH_OP_D.columns = ['AVG OP Co-payment Amt']\n",
    "CC_RH_OP_D"
   ]
  },
  {
   "cell_type": "code",
   "execution_count": null,
   "metadata": {
    "id": "HskL6nyUE1Wk",
    "outputId": "02769e30-b962-49a7-c8f6-b73847b62c7e",
    "trusted": true
   },
   "outputs": [],
   "source": [
    "CC_RH_all_amts = pd.concat([CC_RH_IP_R, CC_RH_OP_R, CC_RH_IP_D, CC_RH_OP_D], axis=1)\n",
    "CC_RH_all_amts"
   ]
  },
  {
   "cell_type": "code",
   "execution_count": null,
   "metadata": {
    "_kg_hide-input": true,
    "id": "k_L4u_M5E1Wm",
    "outputId": "45261e8f-b936-4b39-d3ae-13cd65c5ac4e",
    "trusted": true
   },
   "outputs": [],
   "source": [
    "# Here, I'm displaying the Total Annual Sum of IP Co-payment for 'ChronicCond_rheumatoidarthritis'\n",
    "with plt.style.context('seaborn-poster'):\n",
    "  fig = CC_RH_all_amts.plot(kind='bar', colormap='rainbow')\n",
    "  # Using the \"patches\" function we will get the location of the rectangle bars from the graph.\n",
    "  ## Then by using those location(width & height) values we will add the annotations\n",
    "  for p in fig.patches:\n",
    "    width = p.get_width()\n",
    "    height = p.get_height()\n",
    "    x, y = p.get_xy()\n",
    "    fig.annotate(f'{round(height,0)}', (x + width/2, y + height*1.015), ha='center', fontsize=12, rotation=0)\n",
    "  # Providing the labels and title to the graph\n",
    "  plt.xlabel(\"\\nHaving Chronic RH Disease?\", fontdict=label_font_dict)\n",
    "  plt.xticks(ticks=[0,1], labels=['YES', 'NO'], fontsize=13, rotation=30)\n",
    "  plt.ylabel(\"Total Annual Sum \\n\", fontdict=label_font_dict)\n",
    "  plt.grid(which='major', linestyle=\"-.\", color='lightgrey')\n",
    "  plt.minorticks_on()\n",
    "  plt.title(\"Total Annual Sum of various amounts : 'ChronicCond_rheumatoidarthritis'\\n\", fontdict=title_font_dict)\n",
    "\n",
    "# 1 means +ve with Chronic RH Disease\n",
    "# 2 means -ve with Chronic RH Disease"
   ]
  },
  {
   "cell_type": "markdown",
   "metadata": {
    "id": "MFuAp_MKE1Wn"
   },
   "source": [
    "- **`OBSERVATION`**\n",
    "  - The above graph is telling us below points:\n",
    "    - Payer pays huge chunk of expenses specially when a beneficiary gets admitted with or without chronic HF disease. To be more precise, in case of +ve the difference is not that high.\n",
    "    - For other comparisons the difference is not very high."
   ]
  },
  {
   "cell_type": "markdown",
   "metadata": {
    "id": "mW1URslbE1Wn"
   },
   "source": [
    "### **Q19. Lets see the number of beneficiaries on the basis of 'ChronicCond_stroke'. And, the Annual IP & OP expenditures for such patients.**"
   ]
  },
  {
   "cell_type": "code",
   "execution_count": null,
   "metadata": {
    "id": "imz_abdjE1Wo",
    "outputId": "fee62346-49fc-4967-daa2-cf949ed78b78",
    "trusted": true
   },
   "outputs": [],
   "source": [
    "# Number of beneficiaries with chronic or no-chronic conditions\n",
    "pd.DataFrame(train_bene_df.groupby(['ChronicCond_stroke'])['BeneID'].count())"
   ]
  },
  {
   "cell_type": "code",
   "execution_count": null,
   "metadata": {
    "id": "e5RGpTw3E1Wp",
    "outputId": "55d27524-db42-43fd-ce0d-359269aa63ea",
    "trusted": true
   },
   "outputs": [],
   "source": [
    "CC_ST_IP_R = pd.DataFrame(train_bene_df.groupby(['ChronicCond_stroke'])['IPAnnualReimbursementAmt'].sum() / train_bene_df.groupby(['ChronicCond_stroke'])['BeneID'].count())\n",
    "CC_ST_IP_R.columns = ['AVG IP Reimbursement Amt']\n",
    "CC_ST_IP_R"
   ]
  },
  {
   "cell_type": "code",
   "execution_count": null,
   "metadata": {
    "id": "cxwx7DnAE1Wp",
    "outputId": "ab2b06ef-1a07-49aa-fad1-a85b71f0d662",
    "trusted": true
   },
   "outputs": [],
   "source": [
    "CC_ST_OP_R = pd.DataFrame(train_bene_df.groupby(['ChronicCond_stroke'])['OPAnnualReimbursementAmt'].sum() / train_bene_df.groupby(['ChronicCond_stroke'])['BeneID'].count())\n",
    "CC_ST_OP_R.columns = ['AVG OP Reimbursement Amt']\n",
    "CC_ST_OP_R"
   ]
  },
  {
   "cell_type": "code",
   "execution_count": null,
   "metadata": {
    "id": "zKgRu2nVE1Wq",
    "outputId": "92d8fd0e-74be-4dce-994d-d841c49a5e19",
    "trusted": true
   },
   "outputs": [],
   "source": [
    "CC_ST_IP_D = pd.DataFrame(train_bene_df.groupby(['ChronicCond_stroke'])['IPAnnualDeductibleAmt'].sum() / train_bene_df.groupby(['ChronicCond_stroke'])['BeneID'].count())\n",
    "CC_ST_IP_D.columns = ['AVG IP Co-payment Amt']\n",
    "CC_ST_IP_D"
   ]
  },
  {
   "cell_type": "code",
   "execution_count": null,
   "metadata": {
    "id": "qxfKm4kDE1Wr",
    "outputId": "c2001ff2-8643-4c89-8c35-7ef4c91cc319",
    "trusted": true
   },
   "outputs": [],
   "source": [
    "CC_ST_OP_D = pd.DataFrame(train_bene_df.groupby(['ChronicCond_stroke'])['OPAnnualDeductibleAmt'].sum() / train_bene_df.groupby(['ChronicCond_stroke'])['BeneID'].count())\n",
    "CC_ST_OP_D.columns = ['AVG OP Co-payment Amt']\n",
    "CC_ST_OP_D"
   ]
  },
  {
   "cell_type": "code",
   "execution_count": null,
   "metadata": {
    "id": "dmqql1Z_E1Wr",
    "outputId": "3d132a71-d639-4a78-ccf9-fab0bbb55ee9",
    "trusted": true
   },
   "outputs": [],
   "source": [
    "CC_ST_all_amts = pd.concat([CC_ST_IP_R, CC_ST_OP_R, CC_ST_IP_D, CC_ST_OP_D], axis=1)\n",
    "CC_ST_all_amts"
   ]
  },
  {
   "cell_type": "code",
   "execution_count": null,
   "metadata": {
    "_kg_hide-input": true,
    "id": "F0zLw5QsE1Ws",
    "outputId": "147286ad-88bd-47a0-9b38-e2ecb7bd8b71",
    "trusted": true
   },
   "outputs": [],
   "source": [
    "# Here, I'm displaying the Total Annual Sum of IP Co-payment for 'ChronicCond_stroke'\n",
    "with plt.style.context('seaborn-poster'):\n",
    "  fig = CC_ST_all_amts.plot(kind='bar', colormap='rainbow')\n",
    "  # Using the \"patches\" function we will get the location of the rectangle bars from the graph.\n",
    "  ## Then by using those location(width & height) values we will add the annotations\n",
    "  for p in fig.patches:\n",
    "    width = p.get_width()\n",
    "    height = p.get_height()\n",
    "    x, y = p.get_xy()\n",
    "    fig.annotate(f'{round(height,0)}', (x + width/2, y + height*1.015), ha='center', fontsize=12, rotation=0)\n",
    "  # Providing the labels and title to the graph\n",
    "  plt.xlabel(\"\\nHaving Chronic ST Disease?\", fontdict=label_font_dict)\n",
    "  plt.xticks(ticks=[0,1], labels=['YES', 'NO'], fontsize=13, rotation=30)\n",
    "  plt.ylabel(\"Total Annual Sum \\n\", fontdict=label_font_dict)\n",
    "  plt.grid(which='major', linestyle=\"-.\", color='lightgrey')\n",
    "  plt.minorticks_on()\n",
    "  plt.title(\"Total Annual Sum of various amounts : 'ChronicCond_stroke'\\n\", fontdict=title_font_dict)\n",
    "\n",
    "# 1 means +ve with Chronic ST Disease\n",
    "# 2 means -ve with Chronic ST Disease"
   ]
  },
  {
   "cell_type": "markdown",
   "metadata": {
    "id": "Vg_AJH_iE1Wt"
   },
   "source": [
    "- **`OBSERVATION`**\n",
    "  - The above graph is telling us below points:\n",
    "    - Payer pays huge chunk of expenses specially when a beneficiary gets admitted with or without chronic HF disease. To be more precise, in case of +ve the difference is more than 50%.\n",
    "    - For other comparisons the difference is not very high."
   ]
  },
  {
   "cell_type": "markdown",
   "metadata": {
    "id": "vXtdx-4rE1Wt"
   },
   "source": [
    "### **Q20. Lets see the number of beneficiaries on the basis of 'RenalDiseaseIndicator'. And, the Annual IP & OP expenditures for such patients.**"
   ]
  },
  {
   "cell_type": "code",
   "execution_count": null,
   "metadata": {
    "id": "i3CSGKXbE1Wu",
    "outputId": "c1a469d2-3773-462f-9352-f0008de27469",
    "trusted": true
   },
   "outputs": [],
   "source": [
    "# Number of beneficiaries with chronic or no-chronic conditions\n",
    "pd.DataFrame(train_bene_df.groupby(['RenalDiseaseIndicator'])['BeneID'].count())"
   ]
  },
  {
   "cell_type": "code",
   "execution_count": null,
   "metadata": {
    "id": "AdFB9e6HE1Wu",
    "outputId": "26bd890f-76f2-4f54-9990-2f16ee82dfc1",
    "trusted": true
   },
   "outputs": [],
   "source": [
    "RKD_IP_R = pd.DataFrame(train_bene_df.groupby(['RenalDiseaseIndicator'])['IPAnnualReimbursementAmt'].sum() / train_bene_df.groupby(['RenalDiseaseIndicator'])['BeneID'].count())\n",
    "RKD_IP_R.columns = ['AVG IP Reimbursement Amt']\n",
    "RKD_IP_R"
   ]
  },
  {
   "cell_type": "code",
   "execution_count": null,
   "metadata": {
    "id": "FX3lk9omE1Wv",
    "outputId": "779df801-0c2b-429a-c497-591b767f715c",
    "trusted": true
   },
   "outputs": [],
   "source": [
    "RKD_OP_R = pd.DataFrame(train_bene_df.groupby(['RenalDiseaseIndicator'])['OPAnnualReimbursementAmt'].sum() / train_bene_df.groupby(['RenalDiseaseIndicator'])['BeneID'].count())\n",
    "RKD_OP_R.columns = ['AVG OP Reimbursement Amt']\n",
    "RKD_OP_R"
   ]
  },
  {
   "cell_type": "code",
   "execution_count": null,
   "metadata": {
    "id": "NVq1353WE1Ww",
    "outputId": "3baecd67-423f-4dd6-95d1-bd52637f2840",
    "trusted": true
   },
   "outputs": [],
   "source": [
    "RKD_IP_D = pd.DataFrame(train_bene_df.groupby(['RenalDiseaseIndicator'])['IPAnnualDeductibleAmt'].sum() / train_bene_df.groupby(['RenalDiseaseIndicator'])['BeneID'].count())\n",
    "RKD_IP_D.columns = ['AVG IP Co-payment Amt']\n",
    "RKD_IP_D"
   ]
  },
  {
   "cell_type": "code",
   "execution_count": null,
   "metadata": {
    "id": "KaMqNJovE1Wx",
    "outputId": "5f27a197-23e9-4318-c428-933ebf763fcd",
    "trusted": true
   },
   "outputs": [],
   "source": [
    "RKD_OP_D = pd.DataFrame(train_bene_df.groupby(['RenalDiseaseIndicator'])['OPAnnualDeductibleAmt'].sum() / train_bene_df.groupby(['RenalDiseaseIndicator'])['BeneID'].count())\n",
    "RKD_OP_D.columns = ['AVG OP Co-payment Amt']\n",
    "RKD_OP_D"
   ]
  },
  {
   "cell_type": "code",
   "execution_count": null,
   "metadata": {
    "id": "LOXJ2uVgE1Wx",
    "outputId": "6c0e9a2e-40bf-4062-cd66-cdb247bb41a1",
    "trusted": true
   },
   "outputs": [],
   "source": [
    "RKD_all_amts = pd.concat([RKD_IP_R, RKD_OP_R, RKD_IP_D, RKD_OP_D], axis=1)\n",
    "RKD_all_amts"
   ]
  },
  {
   "cell_type": "code",
   "execution_count": null,
   "metadata": {
    "_kg_hide-input": true,
    "id": "9rzqXhYsE1Wy",
    "outputId": "70b34518-e3bc-496b-e624-b9f5036b6fb1",
    "trusted": true
   },
   "outputs": [],
   "source": [
    "# Here, I'm displaying the Total Annual Sum of IP Co-payment for 'RenalDiseaseIndicator'\n",
    "with plt.style.context('seaborn-poster'):\n",
    "  fig = RKD_all_amts.plot(kind='bar', colormap='rainbow')\n",
    "  # Using the \"patches\" function we will get the location of the rectangle bars from the graph.\n",
    "  ## Then by using those location(width & height) values we will add the annotations\n",
    "  for p in fig.patches:\n",
    "    width = p.get_width()\n",
    "    height = p.get_height()\n",
    "    x, y = p.get_xy()\n",
    "    fig.annotate(f'{round(height,0)}', (x + width/2, y + height*1.015), ha='center', fontsize=12, rotation=0)\n",
    "  # Providing the labels and title to the graph\n",
    "  plt.xlabel(\"\\nHaving Chronic Renal Kidney Disease?\", fontdict=label_font_dict)\n",
    "  plt.xticks(ticks=[0,1], labels=['NO', 'YES'], fontsize=13, rotation=30)\n",
    "  plt.ylabel(\"Total Annual Sum \\n\", fontdict=label_font_dict)\n",
    "  plt.grid(which='major', linestyle=\"-.\", color='lightgrey')\n",
    "  plt.minorticks_on()\n",
    "  plt.title(\"Total Annual Sum of various amounts : 'RenalDiseaseIndicator'\\n\", fontdict=title_font_dict)\n",
    "\n",
    "# Y means +ve with Renal Kidney Disease\n",
    "# 0 means -ve with Renal Kidney Disease"
   ]
  },
  {
   "cell_type": "markdown",
   "metadata": {
    "id": "CPKV-w7mE1Wz"
   },
   "source": [
    "- **`OBSERVATION`**\n",
    "  - The above graph is telling us below points:\n",
    "    - Payer pays huge chunk of expenses specially when a beneficiary gets admitted with or without Renal Kidney Disease. To be more precise, in case of +ve the difference is more than 50%.\n",
    "    - For other comparisons the difference is not very high."
   ]
  },
  {
   "cell_type": "markdown",
   "metadata": {
    "id": "uZFC2sJ3E1W0"
   },
   "source": [
    "### **Q21. Lets check the percentiles of the pre-disease indicators for the Annual IP expenditures for such patients.**"
   ]
  },
  {
   "cell_type": "code",
   "execution_count": null,
   "metadata": {
    "_kg_hide-input": true,
    "id": "3UtZALmLE1W0",
    "trusted": true
   },
   "outputs": [],
   "source": [
    "def cal_display_percentiles(x_col, y_col, title_lbl, x_filter_code):\n",
    "    \"\"\"\n",
    "    Description : This function is created for calculating and generating the percentiles for pre-disease indicators.\n",
    "    \n",
    "    Input: It accepts below parameters:\n",
    "        1. x_col : Disease indicator feature name.\n",
    "        2. y_col : Feature like re-imbursement or deductible amount whose percentiles you want to generate.\n",
    "        3. title_lbl : Label to be provided in the title of the plot.\n",
    "        4. x_filter_code : Category code for which you want to generate the percentiles.\n",
    "        \n",
    "    Output: It returns the dataframe having percentiles and their respective values for the specific disease indicator feature.\n",
    "    And, it displays the pointplot graph of the same.\n",
    "    \"\"\"\n",
    "    percentiles = []\n",
    "    percentiles_vals = []\n",
    "\n",
    "    # Calculating & storing the various percentiles and their respective values\n",
    "    for val in [0.1,0.2,0.25,0.3,0.4,0.5,0.6,0.7,0.75,0.8,0.9,0.91,0.92,0.93,0.94,0.95,0.96,0.97,0.98,0.99,0.999,0.9999,0.99999,0.999999,1.0]:\n",
    "        percentile = round(float(val*100),6)\n",
    "        percentiles.append(percentile)\n",
    "\n",
    "        percentile_val = round(train_bene_df[train_bene_df[x_col] == x_filter_code][y_col].quantile(val),1)\n",
    "        percentiles_vals.append(percentile_val)\n",
    "\n",
    "    # Creating the temp dataframe for displaying the results\n",
    "    tmp_percentiles = pd.DataFrame([percentiles, percentiles_vals]).T\n",
    "    tmp_percentiles.columns = ['Percentiles', 'Values']\n",
    "\n",
    "    # Here, I'm displaying the Percentiles values for all disease code features\n",
    "    with plt.style.context('seaborn-poster'):\n",
    "        plt.figure(figsize=(15,7))\n",
    "        sns.pointplot(data=tmp_percentiles, x='Percentiles', y='Values', markers=\"o\", palette='spring')\n",
    "        sns.pointplot(data=tmp_percentiles, x='Percentiles', y='Values', markers=\"\", color='grey', linestyles=\"solid\")\n",
    "        # Providing the labels and title to the graph\n",
    "        plt.xlabel(\"\\nPercentiles\", fontdict=label_font_dict)\n",
    "        plt.xticks(rotation=90, size=12)\n",
    "        plt.ylabel(\"Total Annual `{}` Sum \\n\".format(y_col), fontdict=label_font_dict)\n",
    "        plt.grid(which='major', linestyle=\"-.\", color='lightpink')\n",
    "        plt.minorticks_on()\n",
    "        plt.title(\"Percentile values of `{}` :: `{}`\\n\".format(y_col,title_lbl), fontdict=title_font_dict)\n",
    "        \n",
    "    return tmp_percentiles"
   ]
  },
  {
   "cell_type": "markdown",
   "metadata": {
    "id": "VdsDBR37E1W2"
   },
   "source": [
    "- **(RenalDiseaseIndicator == YES) and (IPAnnualReimbursementAmt)**"
   ]
  },
  {
   "cell_type": "code",
   "execution_count": null,
   "metadata": {
    "id": "mM2ct194E1W3",
    "outputId": "5108bfec-7ce9-4768-8dd3-c6566f521843",
    "trusted": true
   },
   "outputs": [],
   "source": [
    "RKD_YES_IP_R_percentiles = cal_display_percentiles(x_col='RenalDiseaseIndicator', \n",
    "                                                   y_col='IPAnnualReimbursementAmt',\n",
    "                                                   title_lbl=\"Renal Kidney Disease = YES\",\n",
    "                                                   x_filter_code='Y')"
   ]
  },
  {
   "cell_type": "markdown",
   "metadata": {
    "id": "Bwzn7GPqE1W4"
   },
   "source": [
    "- **`OBSERVATION`**\n",
    "  - The above graph shows us that some of the reimbursements paid by the PAYER are very high as compared to the rest of the records.\n",
    "      - This can be a potential sign of fraudulent cases because generally the criminals file some forge cases with exponentially high amounts."
   ]
  },
  {
   "cell_type": "markdown",
   "metadata": {
    "id": "3a4SK_tyE1W5"
   },
   "source": [
    "- **(RenalDiseaseIndicator == NO) and (IPAnnualReimbursementAmt)**"
   ]
  },
  {
   "cell_type": "code",
   "execution_count": null,
   "metadata": {
    "id": "Aq9i3rw-E1W6",
    "outputId": "daf307d4-13c7-47b1-be5e-b426b46b8d62",
    "trusted": true
   },
   "outputs": [],
   "source": [
    "RKD_NO_IP_R_percentiles = cal_display_percentiles(x_col='RenalDiseaseIndicator', \n",
    "                                                   y_col='IPAnnualReimbursementAmt',\n",
    "                                                   title_lbl=\"Renal Kidney Disease = NO\",\n",
    "                                                   x_filter_code='0')"
   ]
  },
  {
   "cell_type": "markdown",
   "metadata": {
    "id": "JeZeMpekE1W7"
   },
   "source": [
    "- **`OBSERVATION`**\n",
    "  - The above graph shows us that some of the reimbursements paid by the PAYER are very high as compared to the rest of the records.\n",
    "      - This can be a potential sign of fraudulent cases because generally the criminals file some forge cases with exponentially high amounts."
   ]
  },
  {
   "cell_type": "markdown",
   "metadata": {
    "id": "EEf_dQ85E1W8"
   },
   "source": [
    "- **(RenalDiseaseIndicator == YES) and (OPAnnualReimbursementAmt)**"
   ]
  },
  {
   "cell_type": "code",
   "execution_count": null,
   "metadata": {
    "id": "uprp0lLaE1W8",
    "outputId": "e01c75fe-7602-4745-c820-441bdc5cf321",
    "trusted": true
   },
   "outputs": [],
   "source": [
    "RKD_YES_OP_R_percentiles = cal_display_percentiles(x_col='RenalDiseaseIndicator', \n",
    "                                                   y_col='OPAnnualReimbursementAmt',\n",
    "                                                   title_lbl=\"Renal Kidney Disease = YES\",\n",
    "                                                   x_filter_code='Y')"
   ]
  },
  {
   "cell_type": "markdown",
   "metadata": {
    "id": "hKy8ZJbRE1W9"
   },
   "source": [
    "- **`OBSERVATION`**\n",
    "  - The above graph shows us that some of the reimbursements paid by the PAYER are very high as compared to the rest of the records.\n",
    "      - This can be a potential sign of fraudulent cases because generally the criminals file some forge cases with exponentially high amounts."
   ]
  },
  {
   "cell_type": "markdown",
   "metadata": {
    "id": "Qyk0Ul7zE1W9"
   },
   "source": [
    "- **(RenalDiseaseIndicator == NO) and (OPAnnualReimbursementAmt)**"
   ]
  },
  {
   "cell_type": "code",
   "execution_count": null,
   "metadata": {
    "id": "ImOf2rTdE1W-",
    "outputId": "712f33ce-6bb2-47ed-8587-db733c34f616",
    "trusted": true
   },
   "outputs": [],
   "source": [
    "RKD_NO_OP_R_percentiles = cal_display_percentiles(x_col='RenalDiseaseIndicator', \n",
    "                                                   y_col='OPAnnualReimbursementAmt',\n",
    "                                                   title_lbl=\"Renal Kidney Disease = NO\",\n",
    "                                                   x_filter_code='0')"
   ]
  },
  {
   "cell_type": "markdown",
   "metadata": {
    "id": "defjVGrvE1W_"
   },
   "source": [
    "- **`OBSERVATION`**\n",
    "  - The above graph shows us that some of the reimbursements paid by the PAYER are very high as compared to the rest of the records.\n",
    "      - This can be a potential sign of fraudulent cases because generally the criminals file some forge cases with exponentially high amounts."
   ]
  },
  {
   "cell_type": "markdown",
   "metadata": {
    "id": "9Pzew8CkE1W_"
   },
   "source": [
    "- **(ChronicCond_stroke == YES) and (IPAnnualReimbursementAmt)**"
   ]
  },
  {
   "cell_type": "code",
   "execution_count": null,
   "metadata": {
    "id": "H4sK67WxE1W_",
    "outputId": "3cfe2f5a-8faa-414c-d688-5e63109df6d5",
    "trusted": true
   },
   "outputs": [],
   "source": [
    "CC_ST_YES_IP_R_percentiles = cal_display_percentiles(x_col='ChronicCond_stroke', \n",
    "                                                     y_col='IPAnnualReimbursementAmt',\n",
    "                                                     title_lbl=\"ChronicCond_stroke = YES\",\n",
    "                                                     x_filter_code=1)"
   ]
  },
  {
   "cell_type": "markdown",
   "metadata": {
    "id": "Vxxy5SGqE1XA"
   },
   "source": [
    "- **`OBSERVATION`**\n",
    "  - The above graph shows us that some of the reimbursements paid by the PAYER are very high as compared to the rest of the records.\n",
    "      - This can be a potential sign of fraudulent cases because generally the criminals file some forge cases with exponentially high amounts."
   ]
  },
  {
   "cell_type": "markdown",
   "metadata": {
    "id": "FDhSU0FlE1XA"
   },
   "source": [
    "- **(ChronicCond_stroke == NO) and (IPAnnualReimbursementAmt)**"
   ]
  },
  {
   "cell_type": "code",
   "execution_count": null,
   "metadata": {
    "id": "H4VP2EA3E1XB",
    "outputId": "965752d5-a624-4365-e727-b08989a01780",
    "trusted": true
   },
   "outputs": [],
   "source": [
    "CC_ST_NO_IP_R_percentiles = cal_display_percentiles(x_col='ChronicCond_stroke', \n",
    "                                                     y_col='IPAnnualReimbursementAmt',\n",
    "                                                     title_lbl=\"ChronicCond_stroke = NO\",\n",
    "                                                     x_filter_code=2)"
   ]
  },
  {
   "cell_type": "markdown",
   "metadata": {
    "id": "WumzxcK2E1XB"
   },
   "source": [
    "- **`OBSERVATION`**\n",
    "  - The above graph shows us that some of the reimbursements paid by the PAYER are very high as compared to the rest of the records.\n",
    "      - This can be a potential sign of fraudulent cases because generally the criminals file some forge cases with exponentially high amounts."
   ]
  },
  {
   "cell_type": "markdown",
   "metadata": {
    "id": "kG3v5A74E1XC"
   },
   "source": [
    "- **(ChronicCond_stroke == YES) and (OPAnnualReimbursementAmt)**"
   ]
  },
  {
   "cell_type": "code",
   "execution_count": null,
   "metadata": {
    "id": "ZMGRMdIWE1XD",
    "outputId": "86ddab73-b52a-47c2-e284-f2aab828df76",
    "trusted": true
   },
   "outputs": [],
   "source": [
    "CC_ST_YES_OP_R_percentiles = cal_display_percentiles(x_col='ChronicCond_stroke', \n",
    "                                                     y_col='OPAnnualReimbursementAmt',\n",
    "                                                     title_lbl=\"ChronicCond_stroke = YES\",\n",
    "                                                     x_filter_code=1)"
   ]
  },
  {
   "cell_type": "markdown",
   "metadata": {
    "id": "oMPPaO9tE1XD"
   },
   "source": [
    "- **`OBSERVATION`**\n",
    "  - The above graph shows us that some of the reimbursements paid by the PAYER are very high as compared to the rest of the records.\n",
    "      - This can be a potential sign of fraudulent cases because generally the criminals file some forge cases with exponentially high amounts."
   ]
  },
  {
   "cell_type": "markdown",
   "metadata": {
    "id": "KMf2REg7E1XE"
   },
   "source": [
    "- **(ChronicCond_stroke == NO) and (OPAnnualReimbursementAmt)**"
   ]
  },
  {
   "cell_type": "code",
   "execution_count": null,
   "metadata": {
    "id": "eOUhb-ePE1XE",
    "outputId": "12f305a2-5171-4b34-eade-5f3b10731269",
    "trusted": true
   },
   "outputs": [],
   "source": [
    "CC_ST_NO_OP_R_percentiles = cal_display_percentiles(x_col='ChronicCond_stroke', \n",
    "                                                     y_col='OPAnnualReimbursementAmt',\n",
    "                                                     title_lbl=\"ChronicCond_stroke = NO\",\n",
    "                                                     x_filter_code=2)"
   ]
  },
  {
   "cell_type": "markdown",
   "metadata": {
    "id": "PfnudbY4E1XF"
   },
   "source": [
    "- **`OBSERVATION`**\n",
    "  - The above graph shows us that some of the reimbursements paid by the PAYER are very high as compared to the rest of the records.\n",
    "      - This can be a potential sign of fraudulent cases because generally the criminals file some forge cases with exponentially high amounts."
   ]
  },
  {
   "cell_type": "markdown",
   "metadata": {
    "id": "ONWYi-8qE1XG"
   },
   "source": [
    "### **Q22. Lets just visualize the spread of pre-disease indicators for the Annual IP and OP expenditures across males and females.**"
   ]
  },
  {
   "cell_type": "code",
   "execution_count": null,
   "metadata": {
    "id": "khpf_hzxE1XH",
    "trusted": true
   },
   "outputs": [],
   "source": [
    "def plot_strip_plots(x_col, hue_col, y_col, lgd_title):\n",
    "    \"\"\"\n",
    "    Description : This function is created for plotting the spread of data points of pre-disease indicators for the Annual IP and OP expenditures\n",
    "    across males and females.\n",
    "    \n",
    "    Input: It accepts below parameters:\n",
    "        1. x_col : Gender feature.\n",
    "        2. hue_Col : Pre-Disease indicator\n",
    "        3. y_col : Feature like re-imbursement or deductible amount whose percentiles you want to generate.\n",
    "        4. lgd_title : Category code for which you want to generate the data spread.\n",
    "        \n",
    "    Output: It displays the stipplot graph of the same.\n",
    "    \"\"\"\n",
    "    with plt.style.context('seaborn-poster'):\n",
    "        plt.figure(figsize=(10,7))\n",
    "        sns.stripplot(data=train_bene_df, x=x_col, y=y_col, hue=hue_col, palette='plasma')\n",
    "        # Providing the labels and title to the graph\n",
    "        plt.xlabel(\"\\n{}\".format(x_col), fontdict=label_font_dict)\n",
    "        plt.xticks(rotation=90, size=12)\n",
    "        plt.ylabel(\"{}\\n\".format(y_col), fontdict=label_font_dict)\n",
    "        plt.grid(which='major', linestyle=\"-.\", color='lightpink')\n",
    "        plt.minorticks_on()\n",
    "        plt.title(\"Spread of payment paid by payer\\n\", fontdict=title_font_dict)\n",
    "        plt.legend(loc='upper center',title=lgd_title)"
   ]
  },
  {
   "cell_type": "markdown",
   "metadata": {
    "id": "6VXO0_AwE1XH"
   },
   "source": [
    "- **(RenalDiseaseIndicator) , (IPAnnualReimbursementAmt) and (GENDER)**"
   ]
  },
  {
   "cell_type": "code",
   "execution_count": null,
   "metadata": {
    "id": "Jc_txKCnE1XI",
    "outputId": "96958bb8-8828-4e65-e963-822e01da8bed",
    "trusted": true
   },
   "outputs": [],
   "source": [
    "plot_strip_plots(x_col='Gender', hue_col=\"RenalDiseaseIndicator\", y_col='IPAnnualReimbursementAmt', lgd_title=\"Renal Kidney Disease\")"
   ]
  },
  {
   "cell_type": "markdown",
   "metadata": {
    "id": "LPKi-H48E1XI"
   },
   "source": [
    "- **`OBSERVATION`**\n",
    "  - The above graph shows us the complete overlapping of data points with some potential outliers(may be fraud).\n",
    "      - Here, another thing that I found is that few of the points lying in the negative range(this is quite strange may be error)."
   ]
  },
  {
   "cell_type": "code",
   "execution_count": null,
   "metadata": {
    "id": "rEKkZoV2E1XJ",
    "outputId": "a76539a3-dc81-488e-ba64-64340a306ccb",
    "trusted": true
   },
   "outputs": [],
   "source": [
    "train_bene_df['OPAnnualReimbursementAmt'].min(), train_bene_df['IPAnnualReimbursementAmt'].min()"
   ]
  },
  {
   "cell_type": "code",
   "execution_count": null,
   "metadata": {
    "id": "W_B82z_TE1XJ",
    "outputId": "cb94f727-78e6-4468-d0b6-d3943abc478e",
    "trusted": true
   },
   "outputs": [],
   "source": [
    "train_bene_df['OPAnnualDeductibleAmt'].min(), train_bene_df['IPAnnualDeductibleAmt'].min()"
   ]
  },
  {
   "cell_type": "markdown",
   "metadata": {
    "id": "emGBoE1cE1XL"
   },
   "source": [
    "- **(RenalDiseaseIndicator) , (OPAnnualReimbursementAmt) and (GENDER)**"
   ]
  },
  {
   "cell_type": "code",
   "execution_count": null,
   "metadata": {
    "id": "CVwXQq8XE1XM",
    "outputId": "e21fe23b-b36c-4292-8627-544e4e94c980",
    "trusted": true
   },
   "outputs": [],
   "source": [
    "plot_strip_plots(x_col='Gender', hue_col=\"RenalDiseaseIndicator\", y_col='OPAnnualReimbursementAmt', lgd_title=\"Renal Kidney Disease\")"
   ]
  },
  {
   "cell_type": "markdown",
   "metadata": {
    "id": "lTbt-MBSE1XM"
   },
   "source": [
    "- **`OBSERVATION`**\n",
    "  - The above graph shows us the complete overlapping of data points with some potential outliers(may be fraud).\n",
    "      - Here, another thing taht I found is that few of the points lying in the negative range(this is quite strange may be error)."
   ]
  },
  {
   "cell_type": "markdown",
   "metadata": {
    "id": "ypEhPf0AE1XN"
   },
   "source": [
    "- **(ChronicCond_rheumatoidarthritis) , (IPAnnualReimbursementAmt) and (GENDER)**"
   ]
  },
  {
   "cell_type": "code",
   "execution_count": null,
   "metadata": {
    "id": "vn99eJhNE1XO",
    "outputId": "ce776a29-409a-49b9-e284-6bb7c2fdaca7",
    "trusted": true
   },
   "outputs": [],
   "source": [
    "plot_strip_plots(x_col='Gender', hue_col=\"ChronicCond_rheumatoidarthritis\", y_col='IPAnnualReimbursementAmt', lgd_title=\"Rheumatoidarthritis\")"
   ]
  },
  {
   "cell_type": "markdown",
   "metadata": {
    "id": "zE9vX8oPE1XO"
   },
   "source": [
    "- **`OBSERVATION`**\n",
    "  - The above graph shows us the complete overlapping of data points with some potential outliers(may be fraud).\n",
    "      - Here, another thing taht I found is that few of the points lying in the negative range(this is quite strange may be error)."
   ]
  },
  {
   "cell_type": "markdown",
   "metadata": {
    "id": "FIWt_pgOE1XS"
   },
   "source": [
    "- **(ChronicCond_rheumatoidarthritis) , (OPAnnualReimbursementAmt) and (GENDER)**"
   ]
  },
  {
   "cell_type": "code",
   "execution_count": null,
   "metadata": {
    "id": "yqF0x891E1XT",
    "outputId": "877b9574-2a49-4222-9ac0-259cd8a45514",
    "trusted": true
   },
   "outputs": [],
   "source": [
    "plot_strip_plots(x_col='Gender', hue_col=\"ChronicCond_rheumatoidarthritis\", y_col='OPAnnualReimbursementAmt', lgd_title=\"Rheumatoidarthritis\")"
   ]
  },
  {
   "cell_type": "markdown",
   "metadata": {
    "id": "A-teBlFrE1XU"
   },
   "source": [
    "- **`OBSERVATION`**\n",
    "  - The above graph shows us the complete overlapping of data points with some potential outliers(may be fraud).\n",
    "      - Here, another thing taht I found is that few of the points lying in the negative range(this is quite strange may be error)."
   ]
  },
  {
   "cell_type": "markdown",
   "metadata": {
    "id": "nxJbRbVEE1XU"
   },
   "source": [
    "- **(ChronicCond_IschemicHeart) , (IPAnnualReimbursementAmt) and (GENDER)**"
   ]
  },
  {
   "cell_type": "code",
   "execution_count": null,
   "metadata": {
    "id": "TwYCFi21E1XV",
    "outputId": "1b79908a-f729-4f4c-ef57-decf9efaf988",
    "trusted": true
   },
   "outputs": [],
   "source": [
    "plot_strip_plots(x_col='Gender', hue_col=\"ChronicCond_IschemicHeart\", y_col='IPAnnualReimbursementAmt', lgd_title=\"Ischemic Heart\")"
   ]
  },
  {
   "cell_type": "markdown",
   "metadata": {
    "id": "AeAtDu4dE1XV"
   },
   "source": [
    "- **`OBSERVATION`**\n",
    "  - The above graph shows us the complete overlapping of data points with some potential outliers specifically for patients with Chronic Heart Desiase(may be fraud).\n",
    "      - Here, another thing taht I found is that few of the points lying in the negative range(this is quite strange may be error)."
   ]
  },
  {
   "cell_type": "markdown",
   "metadata": {
    "id": "KJjrmGe4E1XX"
   },
   "source": [
    "- **(ChronicCond_IschemicHeart) , (OPAnnualReimbursementAmt) and (GENDER)**"
   ]
  },
  {
   "cell_type": "code",
   "execution_count": null,
   "metadata": {
    "id": "tfRNrtcnE1Xb",
    "outputId": "6af2c960-9ea0-46a4-df84-b4493884b4da",
    "trusted": true
   },
   "outputs": [],
   "source": [
    "plot_strip_plots(x_col='Gender', hue_col=\"ChronicCond_IschemicHeart\", y_col='OPAnnualReimbursementAmt', lgd_title=\"Ischemic Heart\")"
   ]
  },
  {
   "cell_type": "markdown",
   "metadata": {
    "id": "T6fBDCTqE1Xc"
   },
   "source": [
    "- **`OBSERVATION`**\n",
    "  - The above graph shows us the complete overlapping of data points with some potential outliers specifically for patients with Chronic Heart Desiase(may be fraud).\n",
    "      - Here, another thing taht I found is that few of the points lying in the negative range(this is quite strange may be error)."
   ]
  },
  {
   "cell_type": "markdown",
   "metadata": {
    "id": "qJkMP0BrE1Xc"
   },
   "source": [
    "### **Q23. Lets visualize the spread of Annual IP and OP expenditures through out the AGE and its assciated features for males and females.**"
   ]
  },
  {
   "cell_type": "code",
   "execution_count": null,
   "metadata": {
    "id": "VI7knW6XE1Xd",
    "outputId": "58dd48c7-1998-47d2-c400-4db8a7ec7994",
    "trusted": true
   },
   "outputs": [],
   "source": [
    "with plt.style.context('seaborn-poster'):\n",
    "    plt.figure(figsize=(12,12))\n",
    "    sns.scatterplot(data=train_bene_df, x='AGE', y='IPAnnualReimbursementAmt', hue='Gender', palette='cubehelix')\n",
    "    plt.grid(which='major', linestyle=\"-.\", color='lightpink')\n",
    "    plt.minorticks_on()\n",
    "    plt.title(\"Spread of payment paid by payer for entire age\\n\", fontdict=title_font_dict)"
   ]
  },
  {
   "cell_type": "markdown",
   "metadata": {
    "id": "ld9VJKwME1Xd"
   },
   "source": [
    "- **`OBSERVATION`**\n",
    "  - The above graph shows us the complete overlapping of data points."
   ]
  },
  {
   "cell_type": "code",
   "execution_count": null,
   "metadata": {
    "id": "gW6mcm0NE1Xe",
    "outputId": "0bfd8b41-83d6-4b33-b80d-891a0b7397b8",
    "trusted": true
   },
   "outputs": [],
   "source": [
    "with plt.style.context('seaborn-poster'):\n",
    "    plt.figure(figsize=(12,12))\n",
    "    sns.scatterplot(data=train_bene_df, x='AGE', y='OPAnnualReimbursementAmt', hue='Gender', palette='cubehelix')\n",
    "    plt.grid(which='major', linestyle=\"-.\", color='lightpink')\n",
    "    plt.minorticks_on()\n",
    "    plt.title(\"Spread of payment paid by payer for entire age\\n\", fontdict=title_font_dict)"
   ]
  },
  {
   "cell_type": "markdown",
   "metadata": {
    "id": "OC2MuBwXE1Xe"
   },
   "source": [
    "- **`OBSERVATION`**\n",
    "  - The above graph shows us the complete overlapping of data points."
   ]
  },
  {
   "cell_type": "markdown",
   "metadata": {
    "id": "rMVt68jkE1Xf"
   },
   "source": [
    "- **(AGE GROUPS) , (IPAnnualReimbursementAmt) and (GENDER)**"
   ]
  },
  {
   "cell_type": "code",
   "execution_count": null,
   "metadata": {
    "id": "BbLEXzn8_X8C",
    "outputId": "9678b441-61c1-4ab0-cc5c-f3920deb26b4",
    "trusted": true
   },
   "outputs": [],
   "source": [
    "with plt.style.context('seaborn-poster'):\n",
    "    plt.figure(figsize=(12,12))\n",
    "    sns.boxenplot(data=train_bene_df, x='AGE_groups', y='IPAnnualReimbursementAmt', hue='Gender', palette='cubehelix')\n",
    "    plt.minorticks_on()\n",
    "    plt.title(\"Spread of payment paid by payer across age groups\\n\", fontdict=title_font_dict)"
   ]
  },
  {
   "cell_type": "markdown",
   "metadata": {
    "id": "znYyeIPvE1Xg"
   },
   "source": [
    "- **`OBSERVATION`**\n",
    "  - The above graph shows us there is no such difference in the amounts across different AGE Groups."
   ]
  },
  {
   "cell_type": "markdown",
   "metadata": {
    "id": "jTuhRifOE1Xg"
   },
   "source": [
    "- **(AGE GROUPS) , (OPAnnualReimbursementAmt) and (GENDER)**"
   ]
  },
  {
   "cell_type": "code",
   "execution_count": null,
   "metadata": {
    "id": "JWspgALO_YKe",
    "outputId": "d8dfad03-6d14-4a91-b0ef-2807dc4d0201",
    "trusted": true
   },
   "outputs": [],
   "source": [
    "with plt.style.context('seaborn-poster'):\n",
    "    plt.figure(figsize=(12,12))\n",
    "    sns.boxenplot(data=train_bene_df, x='AGE_groups', y='OPAnnualReimbursementAmt', hue='Gender', palette='cubehelix')\n",
    "    plt.minorticks_on()\n",
    "    plt.title(\"Spread of payment paid by payer across age groups\\n\", fontdict=title_font_dict)"
   ]
  },
  {
   "cell_type": "markdown",
   "metadata": {
    "id": "WSpnHLlgE1Xh"
   },
   "source": [
    "- **`OBSERVATION`**\n",
    "  - The above graph shows us there is no such difference in the amounts across different AGE Groups."
   ]
  },
  {
   "cell_type": "markdown",
   "metadata": {
    "id": "7oLXqobOE1Xh"
   },
   "source": [
    "- **(DOB MONTH) , (IPAnnualReimbursementAmt) and (GENDER)**"
   ]
  },
  {
   "cell_type": "code",
   "execution_count": null,
   "metadata": {
    "id": "R72VOaLqE1Xi",
    "outputId": "19e4f267-4646-40c5-e4f2-06a0da05a68e",
    "trusted": true
   },
   "outputs": [],
   "source": [
    "with plt.style.context('seaborn-poster'):\n",
    "    plt.figure(figsize=(16,12))\n",
    "    sns.boxenplot(data=train_bene_df, x='Patient_Age_Month', y='IPAnnualReimbursementAmt', hue='Gender', palette='cubehelix')\n",
    "    plt.minorticks_on()\n",
    "    plt.title(\"Spread of payment paid by payer across DOB Months\\n\", fontdict=title_font_dict)\n",
    "    plt.legend(loc='upper right', title=\"Gender\")"
   ]
  },
  {
   "cell_type": "markdown",
   "metadata": {
    "id": "_FS_13MUE1Xj"
   },
   "source": [
    "- **`OBSERVATION`**\n",
    "  - The above graph shows us there is no such difference in the amounts across different AGE Groups."
   ]
  },
  {
   "cell_type": "markdown",
   "metadata": {
    "id": "F7wZy7EpE1Xj"
   },
   "source": [
    "- **(DOB MONTH) , (OPAnnualReimbursementAmt) and (GENDER)**"
   ]
  },
  {
   "cell_type": "code",
   "execution_count": null,
   "metadata": {
    "id": "Vacv8WGAE1Xk",
    "outputId": "d94e11f1-40ec-49d9-e2b7-65848934a162",
    "trusted": true
   },
   "outputs": [],
   "source": [
    "with plt.style.context('seaborn-poster'):\n",
    "    plt.figure(figsize=(16,12))\n",
    "    sns.boxenplot(data=train_bene_df, x='Patient_Age_Month', y='OPAnnualReimbursementAmt', hue='Gender', palette='cubehelix')\n",
    "    plt.minorticks_on()\n",
    "    plt.title(\"Spread of payment paid by payer across DOB Months\\n\", fontdict=title_font_dict)\n",
    "    plt.legend(loc='upper right', title=\"Gender\")"
   ]
  },
  {
   "cell_type": "markdown",
   "metadata": {
    "id": "GjtQezr5E1Xl"
   },
   "source": [
    "- **`OBSERVATION`**\n",
    "  - The above graph shows us there is no such difference in the amounts across different AGE Groups."
   ]
  },
  {
   "cell_type": "markdown",
   "metadata": {
    "id": "CwkeukgtE1Xl"
   },
   "source": [
    "- **(DOB YEARS) , (IPAnnualReimbursementAmt) and (GENDER)**"
   ]
  },
  {
   "cell_type": "code",
   "execution_count": null,
   "metadata": {
    "id": "JE1XOIOTE1Xm",
    "outputId": "1801954a-e24b-4095-aff2-846d52e154de",
    "trusted": true
   },
   "outputs": [],
   "source": [
    "with plt.style.context('seaborn'):\n",
    "    plt.figure(figsize=(16,12))\n",
    "    sns.stripplot(data=train_bene_df, x='Patient_Age_Year', y='IPAnnualReimbursementAmt', hue='Gender', palette='cubehelix')\n",
    "    plt.xticks(rotation=90, fontsize=11)\n",
    "    plt.grid(which='major', linestyle=\"-.\", color='lightpink')\n",
    "    plt.minorticks_on()\n",
    "    plt.title(\"Spread of payment paid by payer across DOB Years\\n\", fontdict=title_font_dict)"
   ]
  },
  {
   "cell_type": "markdown",
   "metadata": {
    "id": "cF4W9z23E1Xm"
   },
   "source": [
    "- **`OBSERVATION`**\n",
    "  - The above graph shows us there is no such difference in the amounts across different AGE Groups."
   ]
  },
  {
   "cell_type": "markdown",
   "metadata": {
    "id": "QAnSXC8vE1Xn"
   },
   "source": [
    "- **(DOB YEARS) , (OPAnnualReimbursementAmt) and (GENDER)**"
   ]
  },
  {
   "cell_type": "code",
   "execution_count": null,
   "metadata": {
    "id": "ngjSO-EeE1Xo",
    "outputId": "2a0a6914-0bd4-4853-8b74-b59046817eac",
    "trusted": true
   },
   "outputs": [],
   "source": [
    "with plt.style.context('seaborn'):\n",
    "    plt.figure(figsize=(16,12))\n",
    "    sns.stripplot(data=train_bene_df, x='Patient_Age_Year', y='OPAnnualReimbursementAmt', hue='Gender', palette='cubehelix')\n",
    "    plt.xticks(rotation=90, fontsize=11)\n",
    "    plt.grid(which='major', linestyle=\"-.\", color='lightpink')\n",
    "    plt.minorticks_on()\n",
    "    plt.title(\"Spread of payment paid by payer across DOB Years\\n\", fontdict=title_font_dict)"
   ]
  },
  {
   "cell_type": "markdown",
   "metadata": {
    "id": "ERcAcql7E1Xp"
   },
   "source": [
    "- **`OBSERVATION`**\n",
    "  - The above graph shows us there is no such difference in the amounts across different AGE Groups."
   ]
  },
  {
   "cell_type": "markdown",
   "metadata": {
    "id": "Ew17h5vj_YRi"
   },
   "source": [
    "- **(LIFE Status) , (IPAnnualReimbursementAmt) and (GENDER)**"
   ]
  },
  {
   "cell_type": "code",
   "execution_count": null,
   "metadata": {
    "id": "YxdqRMW9E1Xq",
    "outputId": "a5ad90d3-bf1f-49e8-94db-55cbb6c1ddbc",
    "trusted": true
   },
   "outputs": [],
   "source": [
    "with plt.style.context('seaborn-poster'):\n",
    "    plt.figure(figsize=(12,8))\n",
    "    sns.boxenplot(data=train_bene_df, x='Dead_or_Alive', y='IPAnnualReimbursementAmt', hue='Gender', palette='autumn')\n",
    "    plt.minorticks_on()\n",
    "    plt.title(\"Spread of payment paid by payer based on life status\\n\", fontdict=title_font_dict)"
   ]
  },
  {
   "cell_type": "markdown",
   "metadata": {
    "id": "lDiTR9OmE1Xr"
   },
   "source": [
    "- **`OBSERVATION`**\n",
    "  - The above graph shows us there is no such difference in the amounts across different AGE Groups."
   ]
  },
  {
   "cell_type": "markdown",
   "metadata": {
    "id": "pHqrwV_d_YEc"
   },
   "source": [
    "- **(LIFE STATUS) , (OPAnnualReimbursementAmt) and (GENDER)**"
   ]
  },
  {
   "cell_type": "code",
   "execution_count": null,
   "metadata": {
    "id": "qJIKAa1oE1Xs",
    "outputId": "aafc02b8-b456-460b-f3c9-37db1079db48",
    "trusted": true
   },
   "outputs": [],
   "source": [
    "with plt.style.context('seaborn-poster'):\n",
    "    plt.figure(figsize=(12,8))\n",
    "    sns.boxenplot(data=train_bene_df, x='Dead_or_Alive', y='OPAnnualReimbursementAmt', hue='Gender', palette='autumn')\n",
    "    plt.minorticks_on()\n",
    "    plt.title(\"Spread of payment paid by payer based on life status\\n\", fontdict=title_font_dict)"
   ]
  },
  {
   "cell_type": "markdown",
   "metadata": {
    "id": "gK_QXIB0E1Xt"
   },
   "source": [
    "- **`OBSERVATION`**\n",
    "  - The above graph shows us there is no such difference in the amounts across different AGE Groups."
   ]
  },
  {
   "cell_type": "markdown",
   "metadata": {
    "id": "kUFK3mO8E1Xt"
   },
   "source": [
    "- **(HUMAN RACE) , (IPAnnualReimbursementAmt) and (GENDER)**"
   ]
  },
  {
   "cell_type": "code",
   "execution_count": null,
   "metadata": {
    "id": "t2B98S4TE1Xu",
    "outputId": "4ba47569-1ce3-4fe3-b2b1-79ebe03627e6",
    "trusted": true
   },
   "outputs": [],
   "source": [
    "with plt.style.context('seaborn-poster'):\n",
    "    plt.figure(figsize=(12,8))\n",
    "    sns.boxenplot(data=train_bene_df, x='Race', y='IPAnnualReimbursementAmt', hue='Gender', palette='twilight')\n",
    "    plt.minorticks_on()\n",
    "    plt.title(\"Spread of payment paid by payer based on life status\\n\", fontdict=title_font_dict)"
   ]
  },
  {
   "cell_type": "markdown",
   "metadata": {
    "id": "t8RaH0rPE1Xu"
   },
   "source": [
    "- **`OBSERVATION`**\n",
    "  - The above graph shows us there is no such difference in the amounts across different AGE Groups."
   ]
  },
  {
   "cell_type": "markdown",
   "metadata": {
    "id": "mXAHWEvZE1Xv"
   },
   "source": [
    "- **(HUMAN RACE) , (OPAnnualReimbursementAmt) and (GENDER)**"
   ]
  },
  {
   "cell_type": "code",
   "execution_count": null,
   "metadata": {
    "id": "7CMyyJcPE1Xv",
    "outputId": "20a7f8bb-aeb2-480f-e2bc-4ace7aa62563",
    "trusted": true
   },
   "outputs": [],
   "source": [
    "with plt.style.context('seaborn-poster'):\n",
    "    plt.figure(figsize=(12,8))\n",
    "    sns.boxenplot(data=train_bene_df, x='Race', y='OPAnnualReimbursementAmt', hue='Gender', palette='twilight')\n",
    "    plt.minorticks_on()\n",
    "    plt.title(\"Spread of payment paid by payer based on life status\\n\", fontdict=title_font_dict)"
   ]
  },
  {
   "cell_type": "markdown",
   "metadata": {
    "id": "Rhx-3m0nE1Xw"
   },
   "source": [
    "- **`OBSERVATION`**\n",
    "  - The above graph shows us there is no such difference in the amounts across different AGE Groups."
   ]
  },
  {
   "cell_type": "markdown",
   "metadata": {
    "id": "o5AWAHyYE1Xw"
   },
   "source": [
    "# **`BENE - EDA - SUMMARY`**\n",
    "\n",
    "1. For the below mentioned features, based on the above initial analysis it looks like these might not be able to provide much information or differentiation but still I would like to check them after adding CLAIMS data.\n",
    "    - `DOB YEAR`\n",
    "    - `DOB MONTH`\n",
    "    - `AGE GROUPS`\n",
    "    - `LIFE STATUS`\n",
    "    - `HUMAN RACE`\n",
    "    - `STATE`\n",
    "      \n",
    "      \n",
    "2. For the below mentioned features majority of the values are same which most probably won't be of any use thus removing these from BENE dataset.\n",
    "    - `NoOfMonths_PartACov`\n",
    "    - `NoOfMonths_PartBCov`\n",
    "    \n",
    "\n",
    "3. The `Pre-disease` indicators looks like important features based on the initial analysis thus it would interesting to see how much they are useful after adding CLAIMS dataset.\n",
    "\n",
    "\n",
    "4. `Date of Death` is also removed from the dataset, as we have already calculated bene age, life status and others out of it."
   ]
  },
  {
   "cell_type": "code",
   "execution_count": null,
   "metadata": {
    "id": "qrE2UwXzE1Xx",
    "trusted": true
   },
   "outputs": [],
   "source": [
    "train_bene_df.drop([\"NoOfMonths_PartACov\", \"NoOfMonths_PartBCov\"], axis=1, inplace=True)"
   ]
  },
  {
   "cell_type": "code",
   "execution_count": null,
   "metadata": {
    "id": "AJ8EaEVVE1Xx",
    "outputId": "4d5a8bba-87a0-4b7d-c66f-31ec9dddae04",
    "trusted": true
   },
   "outputs": [],
   "source": [
    "train_bene_df.shape"
   ]
  },
  {
   "cell_type": "code",
   "execution_count": null,
   "metadata": {
    "id": "1nZKhAvn_XhM",
    "outputId": "c417bab2-fb32-422e-b584-570b133db4bb",
    "trusted": true
   },
   "outputs": [],
   "source": [
    "train_bene_df.head()"
   ]
  },
  {
   "cell_type": "code",
   "execution_count": null,
   "metadata": {
    "id": "X6mbdkCJE1Xz",
    "trusted": true
   },
   "outputs": [],
   "source": [
    "train_bene_df.to_csv(\"train_bene_1.csv\")"
   ]
  },
  {
   "cell_type": "markdown",
   "metadata": {
    "id": "c16_htZKnucm"
   },
   "source": [
    "# **IP & OP Data - EDA**"
   ]
  },
  {
   "cell_type": "code",
   "execution_count": null,
   "metadata": {
    "id": "zK3dEaKAnugE",
    "trusted": true
   },
   "outputs": [],
   "source": [
    "train_bene_df = pd.read_csv(\"../input/healthcare-provider-fraud-detection-analysis/Train_Beneficiarydata-1542865627584.csv\")\n",
    "train_ip_df = pd.read_csv(\"../input/healthcare-provider-fraud-detection-analysis/Train_Inpatientdata-1542865627584.csv\")\n",
    "train_op_df = pd.read_csv(\"../input/healthcare-provider-fraud-detection-analysis/Train_Outpatientdata-1542865627584.csv\")"
   ]
  },
  {
   "cell_type": "markdown",
   "metadata": {
    "id": "25UO_fXHte6_"
   },
   "source": [
    "## ***Records_counts_for_In-patient_&_Out-patient_Data***"
   ]
  },
  {
   "cell_type": "markdown",
   "metadata": {
    "id": "7h1jt5EGBGAI"
   },
   "source": [
    "- **In-patients**"
   ]
  },
  {
   "cell_type": "code",
   "execution_count": null,
   "metadata": {
    "id": "L_xX55PIBGAI",
    "outputId": "12f867ed-031d-4d86-9b76-5767796c2863",
    "trusted": true
   },
   "outputs": [],
   "source": [
    "train_ip_df.shape"
   ]
  },
  {
   "cell_type": "code",
   "execution_count": null,
   "metadata": {
    "id": "1iqD6hokBGAL",
    "outputId": "a22ad035-c114-4b10-8864-418f3db73451",
    "trusted": true
   },
   "outputs": [],
   "source": [
    "train_ip_df.dtypes"
   ]
  },
  {
   "cell_type": "code",
   "execution_count": null,
   "metadata": {
    "id": "MVLih_TEBGAN",
    "outputId": "61d25b93-02b7-4a7d-f528-acd9788cd02a",
    "trusted": true
   },
   "outputs": [],
   "source": [
    "train_ip_df.head()"
   ]
  },
  {
   "cell_type": "code",
   "execution_count": null,
   "metadata": {
    "id": "FpRgsfE8BGAO",
    "outputId": "9338663b-5314-41f3-980c-a66cfc4b3a32",
    "trusted": true
   },
   "outputs": [],
   "source": [
    "print(\"### Number of records where patient gets admitted --> {} ###\".format(train_ip_df.shape[0]))"
   ]
  },
  {
   "cell_type": "markdown",
   "metadata": {
    "id": "cFJvII1VBGAQ"
   },
   "source": [
    "- **Out-patients**"
   ]
  },
  {
   "cell_type": "code",
   "execution_count": null,
   "metadata": {
    "id": "AL2JqsyJBGAT",
    "outputId": "71a5bcca-bc3b-4289-eb63-12ca6fc4e691",
    "trusted": true
   },
   "outputs": [],
   "source": [
    "train_op_df.shape"
   ]
  },
  {
   "cell_type": "code",
   "execution_count": null,
   "metadata": {
    "id": "tWLWwlUJBGAU",
    "outputId": "59d115b4-ae9e-48e5-f505-a51f8155126f",
    "trusted": true
   },
   "outputs": [],
   "source": [
    "train_op_df.dtypes"
   ]
  },
  {
   "cell_type": "code",
   "execution_count": null,
   "metadata": {
    "id": "_IAbS2uCBGAW",
    "outputId": "7f551ed5-97f3-4f36-96b3-4454109b69fd",
    "trusted": true
   },
   "outputs": [],
   "source": [
    "train_op_df.head()"
   ]
  },
  {
   "cell_type": "code",
   "execution_count": null,
   "metadata": {
    "id": "P_jCSrhEBGAX",
    "outputId": "6ef3d4c4-120c-4546-af61-bfe682b8543f",
    "trusted": true
   },
   "outputs": [],
   "source": [
    "print(\"### Number of records where patients didn't gets admitted --> {} ###\".format(train_op_df.shape[0]))"
   ]
  },
  {
   "cell_type": "markdown",
   "metadata": {
    "id": "C57W91z_BGAY"
   },
   "source": [
    "- **Patient IDs who medicated with or without admission**"
   ]
  },
  {
   "cell_type": "code",
   "execution_count": null,
   "metadata": {
    "id": "rgEOKXvLBGAZ",
    "trusted": true
   },
   "outputs": [],
   "source": [
    "ip_bene_unq = set(train_ip_df['BeneID'])\n",
    "op_bene_unq = set(train_op_df['BeneID'])"
   ]
  },
  {
   "cell_type": "code",
   "execution_count": null,
   "metadata": {
    "id": "qrdnfYHHBGAa",
    "outputId": "9157bcf4-54ac-4fa7-abdf-0802b4afd200",
    "trusted": true
   },
   "outputs": [],
   "source": [
    "len(ip_bene_unq), len(op_bene_unq)"
   ]
  },
  {
   "cell_type": "markdown",
   "metadata": {
    "id": "FuIEumg9BGAb"
   },
   "source": [
    "- **Number of patients who either are in-patients or out-patients**"
   ]
  },
  {
   "cell_type": "code",
   "execution_count": null,
   "metadata": {
    "id": "Qu3w7qmBBGAc",
    "outputId": "20c3e197-1dc2-4bc5-88d5-60cfd3075349",
    "trusted": true
   },
   "outputs": [],
   "source": [
    "only_in_patients = ip_bene_unq.intersection(op_bene_unq)\n",
    "len(only_in_patients)"
   ]
  },
  {
   "cell_type": "code",
   "execution_count": null,
   "metadata": {
    "id": "umttX2yxBGAd",
    "outputId": "f87bc3e7-f693-4912-b729-53fd21f738c1",
    "trusted": true
   },
   "outputs": [],
   "source": [
    "print(\"### Only admitted in-patients --> {} ###\".format(len(only_in_patients)))"
   ]
  },
  {
   "cell_type": "code",
   "execution_count": null,
   "metadata": {
    "id": "q7O1oRHOBGAe",
    "outputId": "b0ba01d0-9e5f-4193-be60-143e7f9e2731",
    "trusted": true
   },
   "outputs": [],
   "source": [
    "only_out_patients = op_bene_unq.difference(ip_bene_unq)\n",
    "len(only_out_patients)"
   ]
  },
  {
   "cell_type": "code",
   "execution_count": null,
   "metadata": {
    "id": "GzaSmtnLBGAf",
    "outputId": "16f6930d-e894-4b31-86ab-61658eff15a8",
    "trusted": true
   },
   "outputs": [],
   "source": [
    "print(\"### Only out-patients --> {} ###\".format(len(only_out_patients)))"
   ]
  },
  {
   "cell_type": "code",
   "execution_count": null,
   "metadata": {
    "id": "o68iGe7iBGAh",
    "outputId": "2aef918e-b973-41b8-e500-23ab77bb973e",
    "trusted": true
   },
   "outputs": [],
   "source": [
    "patients_counts = pd.DataFrame([len(only_in_patients), len(only_out_patients)]).T\n",
    "patients_counts.columns = ['Only In-patients', 'Only Out-patients']\n",
    "patients_counts"
   ]
  },
  {
   "cell_type": "code",
   "execution_count": null,
   "metadata": {
    "id": "sRJiHM48BGAj",
    "outputId": "33039f20-9394-40f1-c449-446c095bd929",
    "trusted": true
   },
   "outputs": [],
   "source": [
    "tot_patients = len(only_in_patients) + len(only_out_patients)\n",
    "tot_patients"
   ]
  },
  {
   "cell_type": "code",
   "execution_count": null,
   "metadata": {
    "_kg_hide-input": true,
    "id": "CuyqclZ-BGAj",
    "outputId": "5b2d60ca-ea3f-41a2-cd89-fad2a5997ea2",
    "trusted": true
   },
   "outputs": [],
   "source": [
    "# Here, I'm displaying the number of only in-patients and out-patients\n",
    "with plt.style.context('seaborn-poster'):\n",
    "    fig = patients_counts.plot(kind='bar',colormap='rainbow')\n",
    "    # Using the \"patches\" function we will get the location of the rectangle bars from the graph.\n",
    "    ## Then by using those location(width & height) values we will add the annotations\n",
    "    for p in fig.patches:\n",
    "        width = p.get_width()\n",
    "        height = p.get_height()\n",
    "        x, y = p.get_xy()\n",
    "        fig.annotate(f'{str(round((height*100)/tot_patients,2))+\"%\"}', (x + width/2, y + height*1.015), ha='center', fontsize=13.5)\n",
    "    # Providing the labels and title to the graph\n",
    "    plt.xticks(labels=[\"Patients Counts\"], ticks=[0], rotation=10)\n",
    "    plt.ylabel(\"Number or % share of patients\\n\", fontdict=label_font_dict)\n",
    "    plt.grid(which='major', linestyle=\"--\", color='lightgrey')\n",
    "    plt.minorticks_on()\n",
    "    plt.title(\"Number of only In or Out patients\\n\", fontdict=title_font_dict)\n",
    "    plt.plot();"
   ]
  },
  {
   "cell_type": "markdown",
   "metadata": {
    "id": "yZGLu8zzKskq"
   },
   "source": [
    "**`OBSERVATION`**\n",
    "* From the above plot, we can decude that 80% of the patients gets medicared without even admission."
   ]
  },
  {
   "cell_type": "markdown",
   "metadata": {
    "id": "8gdwcaxyBGAl"
   },
   "source": [
    "# ***Exploring the In-patients Data***"
   ]
  },
  {
   "cell_type": "code",
   "execution_count": null,
   "metadata": {
    "id": "s9YRL2toBGAl",
    "outputId": "29fab59b-35b5-4428-d2a0-b7f17d6e9faf",
    "trusted": true
   },
   "outputs": [],
   "source": [
    "train_ip_df"
   ]
  },
  {
   "cell_type": "markdown",
   "metadata": {
    "id": "JoDxaXj1BGAm"
   },
   "source": [
    "- **NULL records in the in-patients data**"
   ]
  },
  {
   "cell_type": "code",
   "execution_count": null,
   "metadata": {
    "_kg_hide-input": true,
    "id": "JvXQNjUtBGAm",
    "outputId": "87fe14f5-80f7-4d7a-b931-526d5ec62f6d",
    "trusted": true
   },
   "outputs": [],
   "source": [
    "# Here, I'm displaying the number of only in-patients and out-patients\n",
    "with plt.style.context('seaborn'):\n",
    "    plt.figure(figsize=(15,12))\n",
    "    fig = sns.heatmap(pd.DataFrame(train_ip_df.isnull().sum()), annot=True, fmt=\".7g\", cmap='inferno', cbar=True)\n",
    "    # Providing the labels and title to the graph\n",
    "    plt.xticks(labels=[\" \"], ticks=[0])\n",
    "    plt.xlabel(\"Null Counts\", fontdict=label_font_dict)\n",
    "    plt.ylabel(\"Features Names\\n\", fontdict=label_font_dict)\n",
    "    plt.minorticks_on()\n",
    "    plt.title(\"Number of Nulls in In-patients dataset\\n\", fontdict=title_font_dict)\n",
    "    plt.plot();"
   ]
  },
  {
   "cell_type": "markdown",
   "metadata": {
    "id": "Xi5x9hp5BGAn"
   },
   "source": [
    "**`OBSERVATION`**\n",
    "* From the above plot, we can see that the majority of the ProcedureCodes are having NULLS. And, ClmDiagnosisCode_10 is very rare among Patients."
   ]
  },
  {
   "cell_type": "markdown",
   "metadata": {
    "id": "sTgOlm7mBGAn"
   },
   "source": [
    "- **Added Flag for indicating whether beneficiary admitted or not?**"
   ]
  },
  {
   "cell_type": "code",
   "execution_count": null,
   "metadata": {
    "id": "erSZy0DgBGAo",
    "trusted": true
   },
   "outputs": [],
   "source": [
    "train_ip_df[\"Admitted?\"] = 1"
   ]
  },
  {
   "cell_type": "markdown",
   "metadata": {
    "id": "P5qmVViVBGAo"
   },
   "source": [
    "- **Added Claim_Clearance_Days**"
   ]
  },
  {
   "cell_type": "code",
   "execution_count": null,
   "metadata": {
    "id": "JheJTJwlBGAo",
    "trusted": true
   },
   "outputs": [],
   "source": [
    "train_ip_df['ClaimStartDt'] = pd.to_datetime(train_ip_df['ClaimStartDt'], format=\"%Y-%m-%d\")\n",
    "train_ip_df['ClaimEndDt'] = pd.to_datetime(train_ip_df['ClaimEndDt'], format=\"%Y-%m-%d\")"
   ]
  },
  {
   "cell_type": "code",
   "execution_count": null,
   "metadata": {
    "id": "QpBV6ahSBGAp",
    "trusted": true
   },
   "outputs": [],
   "source": [
    "train_ip_df['Claim_Duration'] = (train_ip_df['ClaimEndDt'] - train_ip_df['ClaimStartDt']).dt.days"
   ]
  },
  {
   "cell_type": "code",
   "execution_count": null,
   "metadata": {
    "id": "RSztWlaNBGAp",
    "outputId": "2cf1d550-60fb-4091-a01b-75b5876b6215",
    "trusted": true
   },
   "outputs": [],
   "source": [
    "train_ip_df['Claim_Duration'].describe()"
   ]
  },
  {
   "cell_type": "code",
   "execution_count": null,
   "metadata": {
    "_kg_hide-input": true,
    "id": "tjjDJCQFBGAq",
    "outputId": "1551a6fd-0e6b-48a0-9fd5-65fad86e566e",
    "trusted": true
   },
   "outputs": [],
   "source": [
    "# Here, I'm displaying the number of only in-patients and out-patients\n",
    "with plt.style.context('seaborn-poster'):\n",
    "    plt.figure(figsize=(12,8))\n",
    "    train_ip_df['Claim_Duration'].plot(kind='hist', colormap=\"viridis\");\n",
    "    # Providing the labels and title to the graph\n",
    "    plt.xlabel(\"Claim Duration(in days)\", fontdict=label_font_dict)\n",
    "    plt.minorticks_on()\n",
    "    plt.title(\"Distribution of Claim Duration Days\\n\", fontdict=title_font_dict)\n",
    "    plt.plot();"
   ]
  },
  {
   "cell_type": "markdown",
   "metadata": {
    "id": "jJXWA6GyBGAq"
   },
   "source": [
    "**`OBSERVATION`**\n",
    "* From the above plot, we can decude that the majority of the claims filed for less than 7 days.\n"
   ]
  },
  {
   "cell_type": "markdown",
   "metadata": {
    "id": "4gOIxiyzBGAr"
   },
   "source": [
    "- **Percentiles values**"
   ]
  },
  {
   "cell_type": "code",
   "execution_count": null,
   "metadata": {
    "id": "V8lD_8ZyBGAr",
    "outputId": "a9102c4b-cb37-413a-a67d-4b6eee003515",
    "trusted": true
   },
   "outputs": [],
   "source": [
    "for val in [0.1,0.2,0.25,0.3,0.4,0.5,0.6,0.7,0.75,0.8,0.9,0.91,0.92,0.93,0.94,0.95,0.96,0.97,0.98,0.99,0.999,0.9999,0.99999,0.999999,1.0]:\n",
    "    percentile = round(float(val*100),6)\n",
    "    percentile_val = round(train_ip_df[\"Claim_Duration\"].quantile(val),1)\n",
    "    print(\"Percentile --> {} and its value is --> {}\".format(percentile,percentile_val))"
   ]
  },
  {
   "cell_type": "markdown",
   "metadata": {
    "id": "v_XSIQmRBGAr"
   },
   "source": [
    "**`OBSERVATION`**\n",
    "* From the results, we can say that 95% of the claims are filed for 17 days."
   ]
  },
  {
   "cell_type": "markdown",
   "metadata": {
    "id": "AGUFcJj4BGAs"
   },
   "source": [
    "### **Q1. What is the relationship b/w Amount of Insurance Claim Reimbursed v/s Claim Clearance Days?**"
   ]
  },
  {
   "cell_type": "code",
   "execution_count": null,
   "metadata": {
    "id": "BFi8i_R2BGAs",
    "outputId": "7447db05-f438-40de-a50f-d196c1a5f348",
    "trusted": true
   },
   "outputs": [],
   "source": [
    "unq_claim_duration_days = train_ip_df['Claim_Duration'].unique()\n",
    "unq_claim_duration_days"
   ]
  },
  {
   "cell_type": "code",
   "execution_count": null,
   "metadata": {
    "id": "Iv3q0yxgBGAs",
    "outputId": "381d809a-379d-4cb2-bccc-f858fe1bae73",
    "trusted": true
   },
   "outputs": [],
   "source": [
    "tot_claims_filed_for_specific_days = pd.DataFrame(train_ip_df.groupby(['Claim_Duration'])['BeneID'].count())\n",
    "tot_claims_filed_for_specific_days"
   ]
  },
  {
   "cell_type": "code",
   "execution_count": null,
   "metadata": {
    "id": "LurzMp77BGAt",
    "outputId": "7689c30a-2c04-4a61-ca56-7d083790131e",
    "trusted": true
   },
   "outputs": [],
   "source": [
    "tot_insc_amount_for_claim_durations = pd.DataFrame(train_ip_df.groupby(['Claim_Duration'])['InscClaimAmtReimbursed'].sum())\n",
    "tot_insc_amount_for_claim_durations"
   ]
  },
  {
   "cell_type": "code",
   "execution_count": null,
   "metadata": {
    "id": "A44ye9THBGAt",
    "outputId": "190a486e-796c-4e63-fac9-fe82420121f4",
    "trusted": true
   },
   "outputs": [],
   "source": [
    "claim_clearance_amts = pd.merge(left=tot_claims_filed_for_specific_days, right=tot_insc_amount_for_claim_durations,\n",
    "                                how='inner',\n",
    "                                left_on=tot_claims_filed_for_specific_days.index,\n",
    "                                right_on=tot_insc_amount_for_claim_durations.index)\n",
    "\n",
    "claim_clearance_amts.columns = ['Claim_durations_in_days', 'Total_claims', 'All_Claims_Total_Amount']\n",
    "claim_clearance_amts.head()"
   ]
  },
  {
   "cell_type": "code",
   "execution_count": null,
   "metadata": {
    "id": "ctT_WlgoBGAu",
    "trusted": true
   },
   "outputs": [],
   "source": [
    "claim_clearance_amts['Avg_Claim_Insc_Amount'] = np.round(claim_clearance_amts['All_Claims_Total_Amount']/claim_clearance_amts['Total_claims'],2)"
   ]
  },
  {
   "cell_type": "code",
   "execution_count": null,
   "metadata": {
    "id": "tnWB3EkIBGAu",
    "outputId": "aded5fe3-a49a-42e1-dac5-43a96e0a2ef9",
    "trusted": true
   },
   "outputs": [],
   "source": [
    "claim_clearance_amts.head()"
   ]
  },
  {
   "cell_type": "code",
   "execution_count": null,
   "metadata": {
    "_kg_hide-input": true,
    "id": "SO6REDjIBGAv",
    "outputId": "795cc7aa-c722-4f7d-b3ed-fa2bda973fb5",
    "trusted": true
   },
   "outputs": [],
   "source": [
    "with plt.style.context('seaborn'):\n",
    "    plt.figure(figsize=(16,16))\n",
    "    sns.pointplot(data=claim_clearance_amts, x='Claim_durations_in_days', y='Total_claims', \n",
    "                  color='k', markers=\"^\", linestyles=\"\")\n",
    "    sns.pointplot(data=claim_clearance_amts, x='Claim_durations_in_days', y='Total_claims', \n",
    "                  color='coral', markers=\"\", linestyles=\"-\")\n",
    "     \n",
    "    # Providing the labels and title to the graph\n",
    "    plt.xticks(rotation=90)\n",
    "    plt.xlabel(\"\\nClaims Durations(in days)\", fontdict= label_font_dict)\n",
    "    plt.ylabel(\"Total Claims\\n\", fontdict= label_font_dict)\n",
    "    plt.yticks(np.arange(0,7500,200))\n",
    "    plt.grid(which='major', linestyle=\"--\", color='lightgrey')\n",
    "    plt.minorticks_on()\n",
    "    plt.title('\\nTrend of \"Total Filed Claims\" for every duration(in days)', fontdict=title_font_dict)\n",
    "    plt.plot();"
   ]
  },
  {
   "cell_type": "markdown",
   "metadata": {
    "id": "p4MkkLoqBGAw"
   },
   "source": [
    "**`OBSERVATION`**\n",
    "* The above graph tells us that the most number of claims are filed for 3 days. And, there are very less number of claims for duration greater than 15.\n",
    "    * However, we can witness a litter spike for 35 days of duration for claims.\n",
    "\n",
    "* And, there are around 600 claims for which the duration is 0 that means Claim Start Date and End Date is same."
   ]
  },
  {
   "cell_type": "code",
   "execution_count": null,
   "metadata": {
    "_kg_hide-input": true,
    "id": "_GlFD-_CBGAx",
    "outputId": "7dc0dd85-142b-40d3-c1a4-2c1c0ddde112",
    "trusted": true
   },
   "outputs": [],
   "source": [
    "with plt.style.context('seaborn'):\n",
    "    plt.figure(figsize=(16,7))\n",
    "    sns.pointplot(data=claim_clearance_amts, x='Claim_durations_in_days', y='Avg_Claim_Insc_Amount', \n",
    "                  color='blue', markers=\"^\", linestyles=\"\")\n",
    "    sns.pointplot(data=claim_clearance_amts, x='Claim_durations_in_days', y='Avg_Claim_Insc_Amount', \n",
    "                  color='coral', markers=\"\", linestyles=\"-\")\n",
    "    # Providing the labels and title to the graph\n",
    "    plt.xticks(rotation=90)\n",
    "    plt.xlabel(\"\\nVarious Claims duration (in days)\", fontdict= label_font_dict)\n",
    "    plt.ylabel(\" \", fontdict= label_font_dict)\n",
    "    plt.grid(which='major', linestyle=\"--\", color='lightgrey')\n",
    "    plt.minorticks_on()\n",
    "    plt.title('\\nTrend of \"Avg Re-imbursed Claim Amount\"', fontdict=title_font_dict)\n",
    "    plt.plot();"
   ]
  },
  {
   "cell_type": "markdown",
   "metadata": {
    "id": "FpLylfQiBGAy"
   },
   "source": [
    "**`OBSERVATION`**\n",
    "* The above graph tells us that as the claim duration increases then the Avg Re-imbursed Amount also increases, however, as we have already seen that total number of claims are very less when duration is greater than 15 days.\n",
    "\n",
    "* Another thing to look here is that if the duration is b/w [30-35] then the Average Re-imbursed amount is very high and reaches its maximum."
   ]
  },
  {
   "cell_type": "code",
   "execution_count": null,
   "metadata": {
    "_kg_hide-input": true,
    "id": "pHtw-0VABGAy",
    "outputId": "29ced792-aee0-4066-9f36-614c271fdb4e",
    "trusted": true
   },
   "outputs": [],
   "source": [
    "with plt.style.context('seaborn'):\n",
    "    plt.figure(figsize=(16,7))\n",
    "    sns.pointplot(data=claim_clearance_amts, x='Claim_durations_in_days', y='All_Claims_Total_Amount', color='green')\n",
    "    # Providing the labels and title to the graph\n",
    "    plt.xticks(rotation=90)\n",
    "    plt.xlabel(\"\\nClaims Durations (in days)\", fontdict= label_font_dict)\n",
    "    plt.ylabel(\"Total Re-imbursed Claim Amount\", fontdict= label_font_dict)\n",
    "    plt.grid(which='major', linestyle=\"--\", color='lightgrey')\n",
    "    plt.minorticks_on()\n",
    "    plt.title(\"\\nTrend of `Total Re-imbursed Claim Amount` for each filed duration(in days)\", fontdict=title_font_dict)\n",
    "    plt.plot();"
   ]
  },
  {
   "cell_type": "markdown",
   "metadata": {
    "id": "XlVcWkfnBGAz"
   },
   "source": [
    "**`OBSERVATION`**\n",
    "* The above graph tells us that the Total Re-imbursed Amount is the highest for 3 days claims\n",
    "\n",
    "* And, for claims with durations from 12 to 34 the total re-imbursed amount is very less, however, for 35 days duration we can witness a clear spike that can be a potential sign of fraudulent."
   ]
  },
  {
   "cell_type": "markdown",
   "metadata": {
    "id": "PBOIHXwbBGA0"
   },
   "source": [
    "### **Q2. What is the relationship b/w Claimed and Admitted Durations with Re-imbursed Amount?**"
   ]
  },
  {
   "cell_type": "code",
   "execution_count": null,
   "metadata": {
    "id": "PKHqByEOBGA1",
    "trusted": true
   },
   "outputs": [],
   "source": [
    "train_ip_df['DischargeDt'] = pd.to_datetime(train_ip_df['DischargeDt'], format=\"%Y-%m-%d\")\n",
    "train_ip_df['AdmissionDt'] = pd.to_datetime(train_ip_df['AdmissionDt'], format=\"%Y-%m-%d\")"
   ]
  },
  {
   "cell_type": "code",
   "execution_count": null,
   "metadata": {
    "id": "_vcJJLMZBGA1",
    "trusted": true
   },
   "outputs": [],
   "source": [
    "train_ip_df['Admitted_Days'] = train_ip_df['DischargeDt'] - train_ip_df['AdmissionDt']\n",
    "train_ip_df['Admitted_Days'] = train_ip_df['Admitted_Days'].dt.days"
   ]
  },
  {
   "cell_type": "code",
   "execution_count": null,
   "metadata": {
    "id": "WrLGR9_KBGA2",
    "outputId": "ca7d6670-36a3-454c-e280-0a2da6c9cba1",
    "trusted": true
   },
   "outputs": [],
   "source": [
    "claims_with_diff_admitted_and_claimed_dur = train_ip_df[~(train_ip_df['Claim_Duration'] == train_ip_df['Admitted_Days'])]\n",
    "claims_with_diff_admitted_and_claimed_dur"
   ]
  },
  {
   "cell_type": "code",
   "execution_count": null,
   "metadata": {
    "id": "ZIoxs99VBGA3",
    "outputId": "a4bb2991-30c3-4d79-e984-1163bf4018e9",
    "trusted": true
   },
   "outputs": [],
   "source": [
    "claims_with_diff_admitted_and_claimed_dur['InscClaimAmtReimbursed'].sum()"
   ]
  },
  {
   "cell_type": "markdown",
   "metadata": {
    "id": "ulYX88aQBGA3"
   },
   "source": [
    "**`OBSERVATION`**\n",
    "* The above table tells us that there are 49 claims whose Claimed Duration and Admitted Duration are different.\n",
    "\n",
    "* And, for these 49 claims the total re-imbursed amount is around 0.67 Million. So, doesn't look like an issue here as the admitted days can be greater than claimed duration based upon the plan bought by the beneficiary."
   ]
  },
  {
   "cell_type": "markdown",
   "metadata": {
    "id": "JWS_qkOTBGA4"
   },
   "source": [
    "* **Lets check whether claimed duration is greater then admitted duration**"
   ]
  },
  {
   "cell_type": "code",
   "execution_count": null,
   "metadata": {
    "id": "tVZQuBlmBGA5",
    "outputId": "9ae64391-641f-4750-85eb-7e66389b173b",
    "trusted": true
   },
   "outputs": [],
   "source": [
    "claims_with_diff_admitted_and_claimed_dur[claims_with_diff_admitted_and_claimed_dur['Claim_Duration']  > \\\n",
    "                                          claims_with_diff_admitted_and_claimed_dur['Admitted_Days']]"
   ]
  },
  {
   "cell_type": "code",
   "execution_count": null,
   "metadata": {
    "id": "p7dFcSENBGA5",
    "outputId": "a277edf6-19c2-40fb-b909-e2b9d50f62bf",
    "trusted": true
   },
   "outputs": [],
   "source": [
    "claims_with_diff_admitted_and_claimed_dur[claims_with_diff_admitted_and_claimed_dur['Claim_Duration']  > \\\n",
    "                                          claims_with_diff_admitted_and_claimed_dur['Admitted_Days']]['InscClaimAmtReimbursed'].sum()"
   ]
  },
  {
   "cell_type": "markdown",
   "metadata": {
    "id": "NmfMyTqxBGA6"
   },
   "source": [
    "**`OBSERVATION`**\n",
    "* The above table tells us that 17 claims out of 49 have Claimed Duration greater than the Admitted Duration.\n",
    "\n",
    "* And, for these 17 claims the total re-imbursed amount is around 0.27 Million. For now, I'll keep this feature but my initial look says that it won't be much of a use."
   ]
  },
  {
   "cell_type": "markdown",
   "metadata": {
    "id": "phUsYT9MBGA7"
   },
   "source": [
    "### **Q3. What is the relationship b/w DeductibleAmtPaid and Re-imbursed Amount?**"
   ]
  },
  {
   "cell_type": "code",
   "execution_count": null,
   "metadata": {
    "id": "7R3DIo8LBGA7",
    "outputId": "83543477-808b-49ce-bebc-359711fe3a92",
    "trusted": true
   },
   "outputs": [],
   "source": [
    "no_of_claim_with_no_copay = train_ip_df[train_ip_df['DeductibleAmtPaid'].isna()].shape[0]\n",
    "no_of_claim_with_no_copay"
   ]
  },
  {
   "cell_type": "code",
   "execution_count": null,
   "metadata": {
    "id": "GLxKyk55BGA8",
    "outputId": "a7d0030c-2637-4470-cc44-4a370d434fa6",
    "trusted": true
   },
   "outputs": [],
   "source": [
    "no_of_claim_with_copay = train_ip_df[~train_ip_df['DeductibleAmtPaid'].isna()].shape[0]\n",
    "no_of_claim_with_copay"
   ]
  },
  {
   "cell_type": "code",
   "execution_count": null,
   "metadata": {
    "id": "Lly9k7r4BGA9",
    "outputId": "a06ae663-66f3-4964-8691-fc537a94ccde",
    "trusted": true
   },
   "outputs": [],
   "source": [
    "percent_of_no_copay_claims = round((no_of_claim_with_no_copay / (no_of_claim_with_copay + no_of_claim_with_no_copay)) * 100,1)\n",
    "print(\"### Percentage of claims with no co-payment or deductible --> {}% ###\".format(percent_of_no_copay_claims))"
   ]
  },
  {
   "cell_type": "code",
   "execution_count": null,
   "metadata": {
    "id": "ZVVsQ3KsBGA9",
    "outputId": "96a2d2cd-5f3d-4d61-b51e-a13b5d101f04",
    "trusted": true
   },
   "outputs": [],
   "source": [
    "re_imbursed_amt_for_no_copay = train_ip_df[train_ip_df['DeductibleAmtPaid'].isna()]['InscClaimAmtReimbursed'].sum()\n",
    "re_imbursed_amt_for_no_copay"
   ]
  },
  {
   "cell_type": "code",
   "execution_count": null,
   "metadata": {
    "id": "e0rQFvDyBGA-",
    "outputId": "b6869d51-9c7d-4667-9931-d43819b62bc9",
    "trusted": true
   },
   "outputs": [],
   "source": [
    "re_imbursed_amt_with_some_copay = train_ip_df[~train_ip_df['DeductibleAmtPaid'].isna()]['InscClaimAmtReimbursed'].sum()\n",
    "re_imbursed_amt_with_some_copay"
   ]
  },
  {
   "cell_type": "code",
   "execution_count": null,
   "metadata": {
    "id": "MFKh1eLOBGA_",
    "trusted": true
   },
   "outputs": [],
   "source": [
    "tot_sum_of_claims_with_copay = re_imbursed_amt_with_some_copay / (re_imbursed_amt_with_some_copay + re_imbursed_amt_for_no_copay)\n",
    "tot_sum_of_claims_with_no_copay = re_imbursed_amt_for_no_copay / (re_imbursed_amt_with_some_copay + re_imbursed_amt_for_no_copay)"
   ]
  },
  {
   "cell_type": "code",
   "execution_count": null,
   "metadata": {
    "id": "reY9LUm0BGBA",
    "outputId": "247fcaa7-3464-4338-df34-7965563e65fd",
    "trusted": true
   },
   "outputs": [],
   "source": [
    "percent_of_tot_sum_no_copay_claims_amt = round(tot_sum_of_claims_with_no_copay * 100,1)\n",
    "print(\"### Percentage of Total Re-imbursed Amount for claims with no co-payment or deductible --> {}% ###\".\\\n",
    "      format(percent_of_tot_sum_no_copay_claims_amt))"
   ]
  },
  {
   "cell_type": "markdown",
   "metadata": {
    "id": "U86XKeFjBGBB"
   },
   "source": [
    "**`OBSERVATION`**\n",
    "* The above table tells us that there are a 2% of total claims for which there is no co-payment.\n",
    "    * And, for these 2% (or 899) of total claims the total re-imbursed amount is 10.6 Million that is 2.6% of the total re-imbursed amount."
   ]
  },
  {
   "cell_type": "code",
   "execution_count": null,
   "metadata": {
    "id": "W4WxiIgtBGBB",
    "trusted": true
   },
   "outputs": [],
   "source": [
    "# Here, updating the NULL values of DeductibleAmtPaid feature as 0\n",
    "train_ip_df['DeductibleAmtPaid'].fillna(value=0.0, inplace=True)"
   ]
  },
  {
   "cell_type": "markdown",
   "metadata": {
    "id": "oi5iGZrGBGBC"
   },
   "source": [
    "### **Q4. What is the relationship of Providers with Total number of claims filed & Re-imbursed Amount?**"
   ]
  },
  {
   "cell_type": "code",
   "execution_count": null,
   "metadata": {
    "id": "sDQN3IDHBGBD",
    "outputId": "d0399104-616d-4ee0-f254-2a1a71c31d84",
    "trusted": true
   },
   "outputs": [],
   "source": [
    "# How many unique providers are there in the dataset?\n",
    "print(\"We have {} unique number of Providers in the in-patient dataset.\".format(train_ip_df['Provider'].nunique()))"
   ]
  },
  {
   "cell_type": "code",
   "execution_count": null,
   "metadata": {
    "_kg_hide-input": true,
    "id": "kkKSLjgPBGBE",
    "outputId": "1f6643bd-e03b-4394-a1b1-5baffb92062c",
    "trusted": true
   },
   "outputs": [],
   "source": [
    "provider_tot_claims_filed = pd.DataFrame(train_ip_df.groupby(['Provider'])['ClaimID'].count())\n",
    "provider_tot_reimbursed_amt = pd.DataFrame(train_ip_df.groupby(['Provider'])['InscClaimAmtReimbursed'].sum())\n",
    "\n",
    "prv_tot_filed_claims_and_tot_reimb_amt = pd.merge(left=provider_tot_claims_filed, right=provider_tot_reimbursed_amt, how='inner',\n",
    "                                                  left_on=provider_tot_claims_filed.index, right_on=provider_tot_reimbursed_amt.index)\n",
    "\n",
    "prv_tot_filed_claims_and_tot_reimb_amt.columns = ['ProviderID', 'Tot_Claims_Filed', 'Tot_Re_Imbursed_Amt']\n",
    "prv_tot_filed_claims_and_tot_reimb_amt.reset_index(drop=True,inplace=True)\n",
    "prv_tot_filed_claims_and_tot_reimb_amt['Percentage_out_of_tot_reimb_amt'] = round((prv_tot_filed_claims_and_tot_reimb_amt['Tot_Re_Imbursed_Amt'] / train_ip_df['InscClaimAmtReimbursed'].sum()) * 100, 3)\n",
    "\n",
    "provider_max_reimbursed_amt = pd.DataFrame(train_ip_df.groupby(['Provider'])['InscClaimAmtReimbursed'].max())\n",
    "provider_max_reimbursed_amt.rename(columns={\"InscClaimAmtReimbursed\": \"Max_Re_Imbursed_Amt\"}, inplace=True)\n",
    "\n",
    "prv_tot_filed_claims_tot_max_reimb_amt = pd.merge(left=prv_tot_filed_claims_and_tot_reimb_amt, \n",
    "                                                  right=provider_max_reimbursed_amt, how='inner',\n",
    "                                                  left_on=prv_tot_filed_claims_and_tot_reimb_amt['ProviderID'], \n",
    "                                                  right_on=provider_max_reimbursed_amt.index)\n",
    "\n",
    "prv_tot_filed_claims_tot_max_reimb_amt.drop(['key_0'], axis=1, inplace=True)\n",
    "prv_tot_filed_claims_tot_max_reimb_amt['Diff_in_Tot_and_Max'] = prv_tot_filed_claims_tot_max_reimb_amt['Tot_Re_Imbursed_Amt'] - \\\n",
    "prv_tot_filed_claims_tot_max_reimb_amt['Max_Re_Imbursed_Amt']\n",
    "\n",
    "prv_tot_filed_claims_tot_max_reimb_amt.head()"
   ]
  },
  {
   "cell_type": "code",
   "execution_count": null,
   "metadata": {
    "id": "r1HaFm08BGBE",
    "trusted": true
   },
   "outputs": [],
   "source": [
    "prv_tot_filed_claims_tot_max_reimb_amt.sort_values(by=['Diff_in_Tot_and_Max','Max_Re_Imbursed_Amt','Percentage_out_of_tot_reimb_amt'],\n",
    "                                                   axis=0, inplace=True,\n",
    "                                                   ascending=[True, False, False])"
   ]
  },
  {
   "cell_type": "code",
   "execution_count": null,
   "metadata": {
    "id": "XkKUVYeLBGBF",
    "outputId": "0a91422c-c717-4df9-cc91-04253aa0a996",
    "trusted": true
   },
   "outputs": [],
   "source": [
    "prv_tot_filed_claims_tot_max_reimb_amt.head(60)"
   ]
  },
  {
   "cell_type": "markdown",
   "metadata": {
    "id": "w_AIfC6jBGBG"
   },
   "source": [
    "**`OBSERVATION`**\n",
    "* The above table showing us the Provider Ids who only filed 1 or 2 claims and got the entire amount re-imbursed.\n",
    "    * This, can be a potential sign of fraudulent because many small-small hospitals in rural area who don't have much facilities or equipments made fraud for benefits. Similar recently happened : refer here https://www.justice.gov/opa/pr/two-individuals-convicted-14-billion-health-care-fraud-scheme-involving-rural-hospitals"
   ]
  },
  {
   "cell_type": "code",
   "execution_count": null,
   "metadata": {
    "id": "xcADWqKmBGBG",
    "outputId": "9c88a8ad-82e7-46a4-ed87-f350a21e7a69",
    "trusted": true
   },
   "outputs": [],
   "source": [
    "tot_re_imb_amt_for_prv_with_5orless_claims = prv_tot_filed_claims_tot_max_reimb_amt[prv_tot_filed_claims_tot_max_reimb_amt['Tot_Claims_Filed'] < 5] \\\n",
    "                                            ['Tot_Re_Imbursed_Amt'].sum()\n",
    "\n",
    "pp_re_imb_amt_for_prv_with_5orless_claims = round((tot_re_imb_amt_for_prv_with_5orless_claims / train_ip_df['InscClaimAmtReimbursed'].sum()) * 100,2)\n",
    "print(\"### Total Re-imbursed Amount for Providers with less than 5 filed claims is --> {} (17 Million). ###\\n\\\n",
    "### And, this is {}% of Total Re-imbursed Claim Amount (408 Million). ###\".format(tot_re_imb_amt_for_prv_with_5orless_claims, \n",
    "                                                                    pp_re_imb_amt_for_prv_with_5orless_claims))"
   ]
  },
  {
   "cell_type": "markdown",
   "metadata": {
    "id": "YhdIn4Q7BGBH"
   },
   "source": [
    "# ***Exploring the Out-patients Data***"
   ]
  },
  {
   "cell_type": "code",
   "execution_count": null,
   "metadata": {
    "id": "QwHsQDOvBGBI",
    "outputId": "9842e1f7-cf9f-4c43-aabb-fcf1c8f29676",
    "trusted": true
   },
   "outputs": [],
   "source": [
    "train_op_df.shape"
   ]
  },
  {
   "cell_type": "markdown",
   "metadata": {
    "id": "6Eg9wRtRBGBI"
   },
   "source": [
    "- **NULL records in the in-patients data**"
   ]
  },
  {
   "cell_type": "code",
   "execution_count": null,
   "metadata": {
    "id": "yX1F4WL6BGBJ",
    "outputId": "198c615f-2d5a-4188-a60d-4f9d24f4c190",
    "trusted": true
   },
   "outputs": [],
   "source": [
    "# Here, I'm displaying the number of only out-patients\n",
    "with plt.style.context('seaborn'):\n",
    "    plt.figure(figsize=(15,12))\n",
    "    fig = sns.heatmap(pd.DataFrame(train_op_df.isnull().sum()), annot=True, fmt=\".7g\", cmap='inferno', cbar=True)\n",
    "    # Providing the labels and title to the graph\n",
    "    plt.xticks(labels=[\" \"], ticks=[0])\n",
    "    plt.xlabel(\"Null Counts\", fontdict=label_font_dict)\n",
    "    plt.ylabel(\"Features Names\\n\", fontdict=label_font_dict)\n",
    "    plt.minorticks_on()\n",
    "    plt.title(\"Number of Nulls in Out-patients dataset\\n\", fontdict=title_font_dict)\n",
    "    plt.plot();"
   ]
  },
  {
   "cell_type": "markdown",
   "metadata": {
    "id": "BFVtvsyTBGBK"
   },
   "source": [
    "**`OBSERVATION`**\n",
    "* From the above plot, we can say that the majority of the ProcedureCodes are having NULLS. \n",
    "\n",
    "* ClmDiagnosisCode_9 & ClmDiagnosisCode_10 are very rare among Patients."
   ]
  },
  {
   "cell_type": "markdown",
   "metadata": {
    "id": "K9B_8N4FBGBK"
   },
   "source": [
    "- **Added Flag for indicating whether beneficiary admitted or not?**"
   ]
  },
  {
   "cell_type": "code",
   "execution_count": null,
   "metadata": {
    "id": "6VWFO0khBGBL",
    "trusted": true
   },
   "outputs": [],
   "source": [
    "train_op_df[\"Admitted?\"] = 0"
   ]
  },
  {
   "cell_type": "markdown",
   "metadata": {
    "id": "7iI79jxABGBL"
   },
   "source": [
    "- **Added Claim_Clearance_Days**"
   ]
  },
  {
   "cell_type": "code",
   "execution_count": null,
   "metadata": {
    "id": "o0YRPfxxBGBM",
    "trusted": true
   },
   "outputs": [],
   "source": [
    "train_op_df['ClaimStartDt'] = pd.to_datetime(train_op_df['ClaimStartDt'], format=\"%Y-%m-%d\")\n",
    "train_op_df['ClaimEndDt'] = pd.to_datetime(train_op_df['ClaimEndDt'], format=\"%Y-%m-%d\")"
   ]
  },
  {
   "cell_type": "code",
   "execution_count": null,
   "metadata": {
    "id": "Sy7CJrOqBGBM",
    "trusted": true
   },
   "outputs": [],
   "source": [
    "train_op_df['Claim_Duration'] = (train_op_df['ClaimEndDt'] - train_op_df['ClaimStartDt']).dt.days"
   ]
  },
  {
   "cell_type": "code",
   "execution_count": null,
   "metadata": {
    "id": "G-5GCLd_BGBN",
    "outputId": "f2e9ad43-4961-4940-bf93-e04bb52811b0",
    "trusted": true
   },
   "outputs": [],
   "source": [
    "train_op_df['Claim_Duration'].describe()"
   ]
  },
  {
   "cell_type": "code",
   "execution_count": null,
   "metadata": {
    "_kg_hide-input": true,
    "id": "nOIV8KOBBGBO",
    "outputId": "d9344322-2507-4aac-a299-c449b6f49f3b",
    "trusted": true
   },
   "outputs": [],
   "source": [
    "# Here, I'm displaying the number of only out-patients\n",
    "with plt.style.context('seaborn-poster'):\n",
    "    plt.figure(figsize=(12,8))\n",
    "    train_op_df['Claim_Duration'].plot(kind='hist', colormap=\"viridis\");\n",
    "    # Providing the labels and title to the graph\n",
    "    plt.xlabel(\"Claim Duration(in days)\", fontdict=label_font_dict)\n",
    "    plt.minorticks_on()\n",
    "    plt.title(\"Distribution of Claim Duration Days\\n\", fontdict=title_font_dict)\n",
    "    plt.plot();"
   ]
  },
  {
   "cell_type": "markdown",
   "metadata": {
    "id": "tbQ7wvgqBGBP"
   },
   "source": [
    "**`OBSERVATION`**\n",
    "* From the above plot, we can decude that the majority of the claims filed for less than or equals to 2 days.\n"
   ]
  },
  {
   "cell_type": "markdown",
   "metadata": {
    "id": "h-TIBTiGBGBP"
   },
   "source": [
    "- **Percentiles values**"
   ]
  },
  {
   "cell_type": "code",
   "execution_count": null,
   "metadata": {
    "id": "aZLMbtiTBGBQ",
    "outputId": "10f205ad-188f-4b0a-f509-486483367479",
    "trusted": true
   },
   "outputs": [],
   "source": [
    "for val in [0.1,0.2,0.25,0.3,0.4,0.5,0.6,0.7,0.75,0.8,0.9,0.91,0.92,0.93,0.94,0.95,0.96,0.97,0.98,0.99,0.999,0.9999,0.99999,0.999999,1.0]:\n",
    "    percentile = round(float(val*100),6)\n",
    "    percentile_val = round(train_op_df[\"Claim_Duration\"].quantile(val),1)\n",
    "    print(\"Percentile --> {} and its value is --> {}\".format(percentile,percentile_val))"
   ]
  },
  {
   "cell_type": "markdown",
   "metadata": {
    "id": "WwzCVsCOBGBR"
   },
   "source": [
    "**`OBSERVATION`**\n",
    "* From the results, we can say that 90% of the claims are filed for 2 days."
   ]
  },
  {
   "cell_type": "markdown",
   "metadata": {
    "id": "7YPDOlidBGBS"
   },
   "source": [
    "### **Q5. What is the relationship b/w Claim Duration and Re-imbursed Amount?**"
   ]
  },
  {
   "cell_type": "code",
   "execution_count": null,
   "metadata": {
    "_kg_hide-input": true,
    "id": "Ya9jtW6pBGBT",
    "outputId": "a12a5608-e003-48a2-b546-78c314941ed8",
    "trusted": true
   },
   "outputs": [],
   "source": [
    "with plt.style.context(\"seaborn-poster\"):\n",
    "    sns.stripplot(x=\"Claim_Duration\", y=\"InscClaimAmtReimbursed\", data=train_op_df, palette=\"plasma\")\n",
    "    # Providing the labels and title to the graph\n",
    "    plt.xlabel(\"Claim Durations (in days)\", fontdict=label_font_dict)\n",
    "    plt.ylabel(\"Claim Re-imbursed Amount\\n\", fontdict=label_font_dict)\n",
    "    plt.grid(which='major', linestyle=\"--\", color='lightgrey')\n",
    "    plt.minorticks_on()\n",
    "    plt.title(\"Various re-imbursed amounts for different claim durations\\n\", fontdict=title_font_dict)\n",
    "    plt.plot();"
   ]
  },
  {
   "cell_type": "markdown",
   "metadata": {
    "id": "MvgtXzYYBGBU"
   },
   "source": [
    "**`OBSERVATION`**\n",
    "* From the above plot, we can decude that the majority of the claims filed have re-imbursed amount less than 20,000. And, very few have more than 1,00,000."
   ]
  },
  {
   "cell_type": "code",
   "execution_count": null,
   "metadata": {
    "id": "AQpFATCSBGBU",
    "outputId": "22145b83-60c0-4adf-c79d-84bb4dd8f229",
    "trusted": true
   },
   "outputs": [],
   "source": [
    "for val in [0.1,0.2,0.25,0.3,0.4,0.5,0.6,0.7,0.75,0.8,0.9,0.91,0.92,0.93,0.94,0.95,0.96,0.97,0.98,0.99,0.999,0.9999,0.99999,0.999999,1.0]:\n",
    "    percentile = round(float(val*100),6)\n",
    "    percentile_val = round(train_op_df[\"InscClaimAmtReimbursed\"].quantile(val),1)\n",
    "    print(\"Percentile --> {} and its value is --> {}\".format(percentile,percentile_val))"
   ]
  },
  {
   "cell_type": "markdown",
   "metadata": {
    "id": "LtIS5q-SBGBV"
   },
   "source": [
    "* **99.9% of claims have Re-imbursed amount less than 3500.**"
   ]
  },
  {
   "cell_type": "markdown",
   "metadata": {
    "id": "jHyLnCz2BGBW"
   },
   "source": [
    "### **Q5.1 What is the relationship b/w Claim Duration and Co-Payment?**"
   ]
  },
  {
   "cell_type": "code",
   "execution_count": null,
   "metadata": {
    "_kg_hide-input": true,
    "id": "v8QgMfFKBGBX",
    "outputId": "2524fcc6-73af-472b-df2f-92f994516c80",
    "trusted": true
   },
   "outputs": [],
   "source": [
    "with plt.style.context(\"seaborn-poster\"):\n",
    "    sns.stripplot(x=\"Claim_Duration\", y=\"DeductibleAmtPaid\", data=train_op_df, palette=\"plasma\")\n",
    "    # Providing the labels and title to the graph\n",
    "    plt.xlabel(\"Claim Durations (in days)\", fontdict=label_font_dict)\n",
    "    plt.ylabel(\"Co-payment Amount\\n\", fontdict=label_font_dict)\n",
    "    plt.grid(which='major', linestyle=\"--\", color='lightgrey')\n",
    "    plt.minorticks_on()\n",
    "    plt.title(\"Various co-payments paid for different claim durations\\n\", fontdict=title_font_dict)\n",
    "    plt.plot();"
   ]
  },
  {
   "cell_type": "markdown",
   "metadata": {
    "id": "J5wWPpiMBGBY"
   },
   "source": [
    "**`OBSERVATION`**\n",
    "* From the above plot, we can decude that the trend of co-payment is similar across the various durations, however, there are few co-payment which are very high or more than 800."
   ]
  },
  {
   "cell_type": "markdown",
   "metadata": {
    "id": "P7_mvcShBGBY"
   },
   "source": [
    "### **Q6. What is the relationship b/w Amount of Insurance Claim Reimbursed v/s Claim Clearance Days?**"
   ]
  },
  {
   "cell_type": "code",
   "execution_count": null,
   "metadata": {
    "id": "n4mYC21MBGBZ",
    "outputId": "8aff6c58-020f-4d22-a207-5e83eda824d2",
    "trusted": true
   },
   "outputs": [],
   "source": [
    "unq_claim_duration_days = train_op_df['Claim_Duration'].unique()\n",
    "unq_claim_duration_days"
   ]
  },
  {
   "cell_type": "code",
   "execution_count": null,
   "metadata": {
    "id": "y3BQOFuUBGBa",
    "outputId": "620ac58b-bcb9-4e2c-b52f-43c3349ebc13",
    "trusted": true
   },
   "outputs": [],
   "source": [
    "train_op_df.columns"
   ]
  },
  {
   "cell_type": "code",
   "execution_count": null,
   "metadata": {
    "id": "fp_7aY_IBGBa",
    "outputId": "f5b3da34-5f1a-492f-9d3b-873fe19f6a50",
    "trusted": true
   },
   "outputs": [],
   "source": [
    "tot_claims_filed_for_specific_days = pd.DataFrame(train_op_df.groupby(['Claim_Duration'])['ClaimID'].count())\n",
    "tot_claims_filed_for_specific_days"
   ]
  },
  {
   "cell_type": "code",
   "execution_count": null,
   "metadata": {
    "id": "bLxPfdc6BGBb",
    "outputId": "a5e05942-19b9-42ea-bf5c-0aa0d7bb4501",
    "trusted": true
   },
   "outputs": [],
   "source": [
    "tot_insc_amount_for_claim_durations = pd.DataFrame(train_op_df.groupby(['Claim_Duration'])['InscClaimAmtReimbursed'].sum())\n",
    "tot_insc_amount_for_claim_durations"
   ]
  },
  {
   "cell_type": "code",
   "execution_count": null,
   "metadata": {
    "id": "IifLKN5GBGBc",
    "outputId": "0eaf2085-f7f6-4565-a9cf-0009f5de9106",
    "trusted": true
   },
   "outputs": [],
   "source": [
    "claim_clearance_amts = pd.merge(left=tot_claims_filed_for_specific_days, right=tot_insc_amount_for_claim_durations,\n",
    "                                how='inner',\n",
    "                                left_on=tot_claims_filed_for_specific_days.index,\n",
    "                                right_on=tot_insc_amount_for_claim_durations.index)\n",
    "\n",
    "claim_clearance_amts.columns = ['Claim_durations_in_days', 'Total_claims', 'All_Claims_Total_Amount']\n",
    "claim_clearance_amts.head()"
   ]
  },
  {
   "cell_type": "code",
   "execution_count": null,
   "metadata": {
    "id": "O83gm0cDBGBd",
    "trusted": true
   },
   "outputs": [],
   "source": [
    "claim_clearance_amts['Avg_Claim_Insc_Amount'] = np.round(claim_clearance_amts['All_Claims_Total_Amount']/claim_clearance_amts['Total_claims'],2)"
   ]
  },
  {
   "cell_type": "code",
   "execution_count": null,
   "metadata": {
    "id": "N0kdi6AmBGBe",
    "outputId": "275b5bdc-9bab-47ca-8605-2550799b917d",
    "trusted": true
   },
   "outputs": [],
   "source": [
    "claim_clearance_amts.head()"
   ]
  },
  {
   "cell_type": "code",
   "execution_count": null,
   "metadata": {
    "_kg_hide-input": true,
    "id": "Qb_TqdNmBGBf",
    "outputId": "5e8a4803-54fd-4084-f34f-fa05d572cfbf",
    "trusted": true
   },
   "outputs": [],
   "source": [
    "with plt.style.context('seaborn'):\n",
    "    plt.figure(figsize=(16,10))\n",
    "    fig = sns.barplot(data=claim_clearance_amts, x='Claim_durations_in_days', y='Total_claims', palette='plasma')     \n",
    "    # Using the \"patches\" function we will get the location of the rectangle bars from the graph.\n",
    "    ## Then by using those location(width & height) values we will add the annotations\n",
    "    for p in fig.patches:\n",
    "        width = p.get_width()\n",
    "        height = p.get_height()\n",
    "        x, y = p.get_xy()\n",
    "        fig.annotate(f'{str(round((height*100)/claim_clearance_amts[\"Total_claims\"].sum(),2))+\"%\"}', (x + width/2, y + height*1.02), ha='center', fontsize=9, rotation=0)\n",
    "    \n",
    "    # Providing the labels and title to the graph\n",
    "    plt.xticks(rotation=90)\n",
    "    plt.xlabel(\"\\nClaims Durations(in days)\", fontdict= label_font_dict)\n",
    "    plt.ylabel(\"Total Claims\\n\", fontdict= label_font_dict)\n",
    "    plt.grid(which='major', linestyle=\"--\", color='lightgrey')\n",
    "    plt.minorticks_on()\n",
    "    plt.title('\\nTrend of \"Total Filed Claims\" for every duration(in days)', fontdict=title_font_dict)\n",
    "    plt.plot();"
   ]
  },
  {
   "cell_type": "markdown",
   "metadata": {
    "id": "ubboHEPnBGBg"
   },
   "source": [
    "**`OBSERVATION`**\n",
    "* The above graph tells us that the most number of claims are filed for 0 days. And, there are very less number of claims for other durations.\n",
    "    * However, we can witness a litter spike for 20 days of duration for claims."
   ]
  },
  {
   "cell_type": "code",
   "execution_count": null,
   "metadata": {
    "_kg_hide-input": true,
    "id": "eqNh4Cc5BGBg",
    "outputId": "12ec7a6b-233e-4376-c5d7-074ef107ffe2",
    "trusted": true
   },
   "outputs": [],
   "source": [
    "with plt.style.context('seaborn'):\n",
    "    plt.figure(figsize=(14,7))\n",
    "    sns.pointplot(data=claim_clearance_amts, x='Claim_durations_in_days', y='Avg_Claim_Insc_Amount', \n",
    "                  color='blue', markers=\"^\", linestyles=\"\")\n",
    "    sns.pointplot(data=claim_clearance_amts, x='Claim_durations_in_days', y='Avg_Claim_Insc_Amount', \n",
    "                  color='coral', markers=\"\", linestyles=\"-\")\n",
    "    # Providing the labels and title to the graph\n",
    "    plt.xticks(rotation=90)\n",
    "    plt.xlabel(\"\\nVarious Claims duration (in days)\", fontdict= label_font_dict)\n",
    "    plt.ylabel(\" \", fontdict= label_font_dict)\n",
    "    plt.grid(which='major', linestyle=\"--\", color='lightgrey')\n",
    "    plt.minorticks_on()\n",
    "    plt.title('\\nTrend of \"Avg Re-imbursed Claim Amount\"', fontdict=title_font_dict)\n",
    "    plt.plot();"
   ]
  },
  {
   "cell_type": "markdown",
   "metadata": {
    "id": "nWMenYvTBGBi"
   },
   "source": [
    "**`OBSERVATION`**\n",
    "* The above graph tells us that the Average Re-imbursed Amount is same throughout the various durations except for 21 and 23 days."
   ]
  },
  {
   "cell_type": "code",
   "execution_count": null,
   "metadata": {
    "_kg_hide-input": true,
    "id": "pTDqdPAGBGBi",
    "outputId": "d79047e6-85a9-48fa-a17f-ffb5eee7d99f",
    "trusted": true
   },
   "outputs": [],
   "source": [
    "with plt.style.context('seaborn'):\n",
    "    plt.figure(figsize=(16,7))\n",
    "    sns.pointplot(data=claim_clearance_amts, x='Claim_durations_in_days', y='All_Claims_Total_Amount', color='green')\n",
    "    # Providing the labels and title to the graph\n",
    "    plt.xticks(rotation=90)\n",
    "    plt.xlabel(\"\\nClaims Durations (in days)\", fontdict= label_font_dict)\n",
    "    plt.ylabel(\"Total Re-imbursed Claim Amount\", fontdict= label_font_dict)\n",
    "    plt.grid(which='major', linestyle=\"--\", color='lightgrey')\n",
    "    plt.minorticks_on()\n",
    "    plt.title(\"\\nTrend of `Total Re-imbursed Claim Amount` for each filed duration(in days)\", fontdict=title_font_dict)\n",
    "    plt.plot();"
   ]
  },
  {
   "cell_type": "markdown",
   "metadata": {
    "id": "NY7v05EyBGBk"
   },
   "source": [
    "**`OBSERVATION`**\n",
    "* The above graph tells us that the Total Re-imbursed Amount is the highest for 0 days claims.\n",
    "\n",
    "* And, for claims with durations from 2 to 19 the total re-imbursed amount is very less or similar, however, for 20 days duration we can witness a clear spike that can be a potential sign of fraudulent."
   ]
  },
  {
   "cell_type": "markdown",
   "metadata": {
    "id": "--UTxA0sBGBl"
   },
   "source": [
    "### **Q7. What is the relationship b/w DeductibleAmtPaid and Re-imbursed Amount?**"
   ]
  },
  {
   "cell_type": "code",
   "execution_count": null,
   "metadata": {
    "id": "I8HfOaKfBGBm",
    "outputId": "df6e9a4d-467c-4344-a882-24cf30b8040f",
    "trusted": true
   },
   "outputs": [],
   "source": [
    "no_of_claim_with_no_copay = train_op_df[train_op_df['DeductibleAmtPaid'] == 0].shape[0]\n",
    "no_of_claim_with_no_copay"
   ]
  },
  {
   "cell_type": "code",
   "execution_count": null,
   "metadata": {
    "id": "_tEFSJH0BGBn",
    "outputId": "79326e7c-2986-4aaf-c490-37996b6f0756",
    "trusted": true
   },
   "outputs": [],
   "source": [
    "no_of_claim_with_copay = train_op_df[train_op_df['DeductibleAmtPaid'] != 0].shape[0]\n",
    "no_of_claim_with_copay"
   ]
  },
  {
   "cell_type": "code",
   "execution_count": null,
   "metadata": {
    "id": "C0OTYkH0BGBn",
    "outputId": "6d3364eb-be22-41fa-e2a6-da1562587580",
    "trusted": true
   },
   "outputs": [],
   "source": [
    "percent_of_no_copay_claims = round((no_of_claim_with_no_copay / (no_of_claim_with_copay + no_of_claim_with_no_copay)) * 100,1)\n",
    "print(\"### Percentage of claims with no co-payment or deductible --> {}% ###\".format(percent_of_no_copay_claims))"
   ]
  },
  {
   "cell_type": "code",
   "execution_count": null,
   "metadata": {
    "id": "UZR9PYPMBGBo",
    "outputId": "0d16454c-3ca5-44c4-e721-54447fab6f01",
    "trusted": true
   },
   "outputs": [],
   "source": [
    "re_imbursed_amt_for_no_copay = train_op_df[train_op_df['DeductibleAmtPaid'] == 0]['InscClaimAmtReimbursed'].sum()\n",
    "re_imbursed_amt_for_no_copay"
   ]
  },
  {
   "cell_type": "code",
   "execution_count": null,
   "metadata": {
    "id": "k7KNyyYzBGBp",
    "outputId": "521194de-f7e9-411b-fde8-924486b09750",
    "trusted": true
   },
   "outputs": [],
   "source": [
    "re_imbursed_amt_with_some_copay = train_op_df[train_op_df['DeductibleAmtPaid'] != 0]['InscClaimAmtReimbursed'].sum()\n",
    "re_imbursed_amt_with_some_copay"
   ]
  },
  {
   "cell_type": "code",
   "execution_count": null,
   "metadata": {
    "id": "r7-ZATQyBGBq",
    "trusted": true
   },
   "outputs": [],
   "source": [
    "tot_sum_of_claims_with_copay = re_imbursed_amt_with_some_copay / (re_imbursed_amt_with_some_copay + re_imbursed_amt_for_no_copay)\n",
    "tot_sum_of_claims_with_no_copay = re_imbursed_amt_for_no_copay / (re_imbursed_amt_with_some_copay + re_imbursed_amt_for_no_copay)"
   ]
  },
  {
   "cell_type": "code",
   "execution_count": null,
   "metadata": {
    "id": "G03X8JlmBGBq",
    "outputId": "ecf7d28d-a1a8-41c1-b281-bf9b0cf046a8",
    "trusted": true
   },
   "outputs": [],
   "source": [
    "percent_of_tot_sum_no_copay_claims_amt = round(tot_sum_of_claims_with_no_copay * 100,1)\n",
    "print(\"### Percentage of Total Re-imbursed Amount for claims with no co-payment or deductible --> {}% ###\".\\\n",
    "      format(percent_of_tot_sum_no_copay_claims_amt))"
   ]
  },
  {
   "cell_type": "markdown",
   "metadata": {
    "id": "M-HKFO6HBGBr"
   },
   "source": [
    "**`OBSERVATION`**\n",
    "* The above table tells us that there are 95.9% of total claims for which there is no co-payment.\n",
    "    * And, for these 95.9% of total claims the total re-imbursed amount is 142.3 Million that is 96.1% of the total re-imbursed amount."
   ]
  },
  {
   "cell_type": "markdown",
   "metadata": {
    "id": "Z16ueuMgBGBs"
   },
   "source": [
    "### **Q8. What is the relationship of Providers with Total number of claims filed & Re-imbursed Amount?**"
   ]
  },
  {
   "cell_type": "code",
   "execution_count": null,
   "metadata": {
    "id": "_AA79WPfBGBs",
    "outputId": "45006741-8a18-437b-bf99-2d24e09f6105",
    "trusted": true
   },
   "outputs": [],
   "source": [
    "# How many unique providers are there in the dataset?\n",
    "print(\"We have {} unique number of Providers in the in-patient dataset.\".format(train_op_df['Provider'].nunique()))"
   ]
  },
  {
   "cell_type": "code",
   "execution_count": null,
   "metadata": {
    "_kg_hide-input": true,
    "id": "pfaI_g49BGBt",
    "outputId": "be0d7c54-6451-48f0-e7e5-ad4deac15559",
    "trusted": true
   },
   "outputs": [],
   "source": [
    "provider_tot_claims_filed = pd.DataFrame(train_op_df.groupby(['Provider'])['ClaimID'].count())\n",
    "provider_tot_reimbursed_amt = pd.DataFrame(train_op_df.groupby(['Provider'])['InscClaimAmtReimbursed'].sum())\n",
    "\n",
    "prv_tot_filed_claims_and_tot_reimb_amt = pd.merge(left=provider_tot_claims_filed, right=provider_tot_reimbursed_amt, how='inner',\n",
    "                                                  left_on=provider_tot_claims_filed.index, right_on=provider_tot_reimbursed_amt.index)\n",
    "\n",
    "prv_tot_filed_claims_and_tot_reimb_amt.columns = ['ProviderID', 'Tot_Claims_Filed', 'Tot_Re_Imbursed_Amt']\n",
    "prv_tot_filed_claims_and_tot_reimb_amt.reset_index(drop=True,inplace=True)\n",
    "prv_tot_filed_claims_and_tot_reimb_amt['Percentage_out_of_tot_reimb_amt'] = round((prv_tot_filed_claims_and_tot_reimb_amt['Tot_Re_Imbursed_Amt'] / train_op_df['InscClaimAmtReimbursed'].sum()) * 100, 3)\n",
    "\n",
    "provider_max_reimbursed_amt = pd.DataFrame(train_op_df.groupby(['Provider'])['InscClaimAmtReimbursed'].max())\n",
    "provider_max_reimbursed_amt.rename(columns={\"InscClaimAmtReimbursed\": \"Max_Re_Imbursed_Amt\"}, inplace=True)\n",
    "\n",
    "prv_tot_filed_claims_tot_max_reimb_amt = pd.merge(left=prv_tot_filed_claims_and_tot_reimb_amt, \n",
    "                                                  right=provider_max_reimbursed_amt, how='inner',\n",
    "                                                  left_on=prv_tot_filed_claims_and_tot_reimb_amt['ProviderID'], \n",
    "                                                  right_on=provider_max_reimbursed_amt.index)\n",
    "\n",
    "prv_tot_filed_claims_tot_max_reimb_amt.drop(['key_0'], axis=1, inplace=True)\n",
    "prv_tot_filed_claims_tot_max_reimb_amt['Diff_in_Tot_and_Max'] = prv_tot_filed_claims_tot_max_reimb_amt['Tot_Re_Imbursed_Amt'] - \\\n",
    "prv_tot_filed_claims_tot_max_reimb_amt['Max_Re_Imbursed_Amt']\n",
    "\n",
    "prv_tot_filed_claims_tot_max_reimb_amt.head()"
   ]
  },
  {
   "cell_type": "code",
   "execution_count": null,
   "metadata": {
    "id": "uRtnOLaiBGBu",
    "trusted": true
   },
   "outputs": [],
   "source": [
    "prv_tot_filed_claims_tot_max_reimb_amt.sort_values(by=['Diff_in_Tot_and_Max','Max_Re_Imbursed_Amt','Percentage_out_of_tot_reimb_amt'],\n",
    "                                                   axis=0, inplace=True,\n",
    "                                                   ascending=[True, False, False])"
   ]
  },
  {
   "cell_type": "code",
   "execution_count": null,
   "metadata": {
    "id": "qek4F3zkBGBu",
    "outputId": "c7cfa49d-5221-4fd9-df58-2dfb8e3473fa",
    "trusted": true
   },
   "outputs": [],
   "source": [
    "prv_tot_filed_claims_tot_max_reimb_amt.head(60)"
   ]
  },
  {
   "cell_type": "markdown",
   "metadata": {
    "id": "E3S3LxxABGBv"
   },
   "source": [
    "**`OBSERVATION`**\n",
    "* The above table showing us the Provider Ids who only filed 1 or 2 claims and got the entire amount re-imbursed.\n",
    "    * This, can be a potential sign of fraudulent because many small-small hospitals in rural area who don't have much facilities or equipments made fraud for benefits. Similar recently happened : refer here https://www.justice.gov/opa/pr/two-individuals-convicted-14-billion-health-care-fraud-scheme-involving-rural-hospitals"
   ]
  },
  {
   "cell_type": "code",
   "execution_count": null,
   "metadata": {
    "id": "0wNA8fC4BGBw",
    "outputId": "14544d9d-6864-4d55-da90-297c6607cb00",
    "trusted": true
   },
   "outputs": [],
   "source": [
    "tot_re_imb_amt_for_prv_with_5orless_claims = prv_tot_filed_claims_tot_max_reimb_amt[prv_tot_filed_claims_tot_max_reimb_amt['Tot_Claims_Filed'] < 5] \\\n",
    "                                            ['Tot_Re_Imbursed_Amt'].sum()\n",
    "\n",
    "pp_re_imb_amt_for_prv_with_5orless_claims = round((tot_re_imb_amt_for_prv_with_5orless_claims / train_op_df['InscClaimAmtReimbursed'].sum()) * 100,2)\n",
    "print(\"### Total Re-imbursed Amount for Providers with less than 5 filed claims is --> {} (0.52 Million). ###\\n\\\n",
    "### And, this is {}% of Total Re-imbursed Claim Amount (148 Million). ###\".format(tot_re_imb_amt_for_prv_with_5orless_claims, \n",
    "                                                                    pp_re_imb_amt_for_prv_with_5orless_claims))"
   ]
  },
  {
   "cell_type": "markdown",
   "metadata": {
    "id": "xKB5UDZvBGBw"
   },
   "source": [
    "# **`IP & OP - EDA - SUMMARY`**\n",
    "\n",
    "- Features to be added:\n",
    "    - Claim Duration\n",
    "    - Admitted Duration\n",
    "    - Admitted or not?\n",
    "\n",
    "\n",
    "- Relationships to be validated:\n",
    "    - Providers <--> Physicians <--> Fraud or not?\n",
    "    - Providers <--> Physicians <--> Diagnosis and Procedure Codes <--> Fraud or not?\n",
    "    - Providers with very less number of claims submissions but higher Re-imbursed amount <--> Fraud or not?"
   ]
  },
  {
   "cell_type": "markdown",
   "metadata": {
    "id": "c16_htZKnucm"
   },
   "source": [
    "# **Entire Data -- EDA**"
   ]
  },
  {
   "cell_type": "code",
   "execution_count": null,
   "metadata": {
    "id": "zK3dEaKAnugE",
    "trusted": true
   },
   "outputs": [],
   "source": [
    "train_bene_df = pd.read_csv(\"../input/healthcare-provider-fraud-detection-analysis/Train_Beneficiarydata-1542865627584.csv\")\n",
    "train_ip_df = pd.read_csv(\"../input/healthcare-provider-fraud-detection-analysis/Train_Inpatientdata-1542865627584.csv\")\n",
    "train_op_df = pd.read_csv(\"../input/healthcare-provider-fraud-detection-analysis/Train_Outpatientdata-1542865627584.csv\")\n",
    "train_tgt_lbls_df = pd.read_csv(\"../input/healthcare-provider-fraud-detection-analysis/Train-1542865627584.csv\")"
   ]
  },
  {
   "cell_type": "markdown",
   "metadata": {
    "id": "25UO_fXHte6_"
   },
   "source": [
    "## ***Exploring_Target_Labels_Data***"
   ]
  },
  {
   "cell_type": "code",
   "execution_count": null,
   "metadata": {
    "id": "JsbO4lEIXA4v",
    "outputId": "7fbeafe5-30e5-467a-b693-c14a17ea1a3c",
    "trusted": true
   },
   "outputs": [],
   "source": [
    "train_tgt_lbls_df.head()"
   ]
  },
  {
   "cell_type": "markdown",
   "metadata": {
    "id": "SoocuAlKXA4y"
   },
   "source": [
    "* **Check the Fraud and Non-Fraud Counts**"
   ]
  },
  {
   "cell_type": "code",
   "execution_count": null,
   "metadata": {
    "id": "r8BFPCEvXA4z",
    "outputId": "f4a4d9a1-ec95-42d3-d448-a340deef95cb",
    "trusted": true
   },
   "outputs": [],
   "source": [
    "print(\"### The unique number of providers are {}. ###\".format(train_tgt_lbls_df.shape[0]))"
   ]
  },
  {
   "cell_type": "code",
   "execution_count": null,
   "metadata": {
    "_kg_hide-input": true,
    "id": "5X-Yy7AhXA40",
    "outputId": "9cecc3f9-dffc-4acd-b926-1a5e8d5bde81",
    "trusted": true
   },
   "outputs": [],
   "source": [
    "with plt.style.context('seaborn-poster'):\n",
    "    fig = train_tgt_lbls_df[\"PotentialFraud\"].value_counts().plot(kind='bar', color=['green','orange'])\n",
    "    # Using the \"patches\" function we will get the location of the rectangle bars from the graph.\n",
    "    ## Then by using those location(width & height) values we will add the annotations\n",
    "    for p in fig.patches:\n",
    "        width = p.get_width()\n",
    "        height = p.get_height()\n",
    "        x, y = p.get_xy()\n",
    "        fig.annotate(f'{str(round((height*100)/train_tgt_lbls_df.shape[0],2))+\"%\"}', (x + width/2, y + height*1.015), ha='center', fontsize=13.5)\n",
    "    # Providing the labels and title to the graph\n",
    "    plt.xlabel(\"Provider Fraud or Not?\", fontdict=label_font_dict)\n",
    "    plt.ylabel(\"Number or % share of providers\\n\", fontdict=label_font_dict)\n",
    "    plt.yticks(np.arange(0,5100,500))\n",
    "    plt.grid(which='major', linestyle=\"--\", color='lightgrey')\n",
    "    plt.minorticks_on()\n",
    "    plt.title(\"Distribution of Fraud & Non-fraud providers\\n\", fontdict=title_font_dict)\n",
    "    plt.plot();"
   ]
  },
  {
   "cell_type": "markdown",
   "metadata": {
    "id": "yZGLu8zzKskq"
   },
   "source": [
    "**`OBSERVATION`**\n",
    "* From the above plot, we can say that 90% of the providers are not frausters and only 9% of them are involved in frauds."
   ]
  },
  {
   "cell_type": "markdown",
   "metadata": {
    "id": "UzS9VJNVXA42"
   },
   "source": [
    "### **Adding the `Admitted` or `Not Admitted` indicator in IP and OP Dataset**"
   ]
  },
  {
   "cell_type": "markdown",
   "metadata": {
    "id": "OGXrtbB5XA42"
   },
   "source": [
    "* **Adding in IP Dataset**"
   ]
  },
  {
   "cell_type": "code",
   "execution_count": null,
   "metadata": {
    "id": "GCN00sfgXA43",
    "trusted": true
   },
   "outputs": [],
   "source": [
    "train_ip_df[\"Admitted?\"] = 1"
   ]
  },
  {
   "cell_type": "code",
   "execution_count": null,
   "metadata": {
    "id": "DpaO8jvSXA44",
    "outputId": "d3859b3f-03b5-4a27-e500-6016c499049a",
    "trusted": true
   },
   "outputs": [],
   "source": [
    "train_ip_df.head()"
   ]
  },
  {
   "cell_type": "markdown",
   "metadata": {
    "id": "2e5BlaofXA44"
   },
   "source": [
    "* **Adding in OP Dataset**"
   ]
  },
  {
   "cell_type": "code",
   "execution_count": null,
   "metadata": {
    "id": "8NEnLcMpXA45",
    "trusted": true
   },
   "outputs": [],
   "source": [
    "train_op_df[\"Admitted?\"] = 0"
   ]
  },
  {
   "cell_type": "code",
   "execution_count": null,
   "metadata": {
    "id": "SOp2rpixXA45",
    "outputId": "622e0f54-e724-4f36-b9dd-674cc2b4222e",
    "trusted": true
   },
   "outputs": [],
   "source": [
    "train_op_df.head()"
   ]
  },
  {
   "cell_type": "markdown",
   "metadata": {
    "id": "yS_zDW4FXA46"
   },
   "source": [
    "### **Merging the Datasets**"
   ]
  },
  {
   "cell_type": "code",
   "execution_count": null,
   "metadata": {
    "id": "63LhjzN_XA47",
    "outputId": "0e49b24d-5d4f-4729-a358-46bc7e6e1ce7",
    "trusted": true
   },
   "outputs": [],
   "source": [
    "# Commom columns must be 28\n",
    "common_cols = [col for col in train_ip_df.columns if col in train_op_df.columns]\n",
    "len(common_cols)"
   ]
  },
  {
   "cell_type": "code",
   "execution_count": null,
   "metadata": {
    "id": "5IQZ3WuEXA47",
    "outputId": "dda4f801-57c4-41f6-8c32-a6cf204652cd",
    "trusted": true
   },
   "outputs": [],
   "source": [
    "# Merging the IP and OP dataset on the basis of common columns\n",
    "train_ip_op_df = pd.merge(left=train_ip_df, right=train_op_df, left_on=common_cols, right_on=common_cols, how=\"outer\")\n",
    "train_ip_op_df.shape"
   ]
  },
  {
   "cell_type": "code",
   "execution_count": null,
   "metadata": {
    "id": "IxbtI7weXA48",
    "outputId": "c7db4d2a-7a40-4b9d-a0fb-4a1f642d02f0",
    "trusted": true
   },
   "outputs": [],
   "source": [
    "train_ip_op_df.head()"
   ]
  },
  {
   "cell_type": "markdown",
   "metadata": {
    "id": "C-2lOdqSXA48"
   },
   "source": [
    "### **Merging the IP_OP Dataset with BENE Data**"
   ]
  },
  {
   "cell_type": "code",
   "execution_count": null,
   "metadata": {
    "id": "o684n3aOXA49",
    "outputId": "5e455e60-f3da-4c34-8225-646348b26d55",
    "trusted": true
   },
   "outputs": [],
   "source": [
    "# Joining the IP_OP dataset with the BENE data\n",
    "train_ip_op_bene_df = pd.merge(left=train_ip_op_df, right=train_bene_df, left_on='BeneID', right_on='BeneID',how='inner')\n",
    "train_ip_op_bene_df.shape"
   ]
  },
  {
   "cell_type": "markdown",
   "metadata": {
    "id": "GDGBH08qXA49"
   },
   "source": [
    "### **Merging the IP_OP_BENE Dataset with PROVIDER level Tgt Labels Data**"
   ]
  },
  {
   "cell_type": "code",
   "execution_count": null,
   "metadata": {
    "id": "VRaogF81XA4-",
    "outputId": "98cf7171-4682-45b1-e7e3-293e73c5d950",
    "trusted": true
   },
   "outputs": [],
   "source": [
    "# Joining the IP_OP_BENE dataset with the Tgt Label Provider Data\n",
    "train_iobp_df = pd.merge(left=train_ip_op_bene_df, right=train_tgt_lbls_df, left_on='Provider', right_on='Provider',how='inner')\n",
    "train_iobp_df.shape"
   ]
  },
  {
   "cell_type": "markdown",
   "metadata": {
    "id": "UIcqllzRXA4-"
   },
   "source": [
    "### **Entire Dataset**"
   ]
  },
  {
   "cell_type": "code",
   "execution_count": null,
   "metadata": {
    "id": "IvC4ZEKSXA4_",
    "outputId": "68f08acc-3a0f-491b-9031-251d5c774d94",
    "trusted": true
   },
   "outputs": [],
   "source": [
    "train_iobp_df.shape"
   ]
  },
  {
   "cell_type": "code",
   "execution_count": null,
   "metadata": {
    "id": "DKh9PYl3XA4_",
    "outputId": "16379cf7-011d-4654-8e12-effa85fe7a73",
    "trusted": true
   },
   "outputs": [],
   "source": [
    "# Unique Providers\n",
    "train_iobp_df[\"Provider\"].nunique()"
   ]
  },
  {
   "cell_type": "code",
   "execution_count": null,
   "metadata": {
    "id": "h2TD1eaAXA5A",
    "outputId": "96a552c1-998c-42aa-8424-b27575aa7c25",
    "trusted": true
   },
   "outputs": [],
   "source": [
    "# Unique Claim numbers\n",
    "train_iobp_df[\"ClaimID\"].nunique()"
   ]
  },
  {
   "cell_type": "markdown",
   "metadata": {
    "id": "YbBHDUkzXA5A"
   },
   "source": [
    "### *`ASSUMPTION`* :: One provider may have been involved in more than one claim. So, does all the claims filed by a potentially fraud provider are all frauds?\n",
    "    - This cannot holds True for all the providers because if one provider has filed say 50 claims then we can't say that all the claims for that provider are fraudulent. \n",
    "        - There may exists a pattern that out of 50 claims a provider files 1 or 2 fraudulent claims. \n",
    "    \n",
    "#### **`Therefore, it is a big assumption to make that all the claims filed by a potentially fraud provider are fraudulent.`**"
   ]
  },
  {
   "cell_type": "code",
   "execution_count": null,
   "metadata": {
    "id": "o3QIXIQAXA5B",
    "outputId": "81b0aa07-6fd3-4d66-9697-ea2b1e7ed785",
    "trusted": true
   },
   "outputs": [],
   "source": [
    "prvs_claims_df = pd.DataFrame(train_iobp_df.groupby(['Provider'])['ClaimID'].count()).reset_index()\n",
    "prvs_claims_tgt_lbls_df = pd.merge(left=prvs_claims_df, right=train_tgt_lbls_df, on='Provider', how='inner')\n",
    "prvs_claims_tgt_lbls_df"
   ]
  },
  {
   "cell_type": "markdown",
   "metadata": {
    "id": "hKd__CErXA5B"
   },
   "source": [
    "**`OBSERVATION`**\n",
    "* As shown in the above table, PRV51005 has filed 1165 claims so after joining the datasets all of these will be marked as Fraud."
   ]
  },
  {
   "cell_type": "markdown",
   "metadata": {
    "id": "t8PlIGrXXA5I"
   },
   "source": [
    "- **Fraud Count at Claims level**"
   ]
  },
  {
   "cell_type": "code",
   "execution_count": null,
   "metadata": {
    "_kg_hide-input": true,
    "id": "oujYVt62XA5I",
    "outputId": "42b9a78f-04f5-42de-8cb4-a4ecedf35c6e",
    "trusted": true
   },
   "outputs": [],
   "source": [
    "print(pd.DataFrame(train_iobp_df['PotentialFraud'].value_counts()), \"\\n\")\n",
    "\n",
    "with plt.style.context('seaborn-poster'):\n",
    "    fig = train_iobp_df['PotentialFraud'].value_counts().plot(kind='bar', color=['green','orange'])\n",
    "    # Using the \"patches\" function we will get the location of the rectangle bars from the graph.\n",
    "    ## Then by using those location(width & height) values we will add the annotations\n",
    "    for p in fig.patches:\n",
    "        width = p.get_width()\n",
    "        height = p.get_height()\n",
    "        x, y = p.get_xy()\n",
    "        fig.annotate(f'{str(round((height*100)/train_iobp_df.shape[0],2))+\"%\"}', (x + width/2, y + height*1.015), ha='center', fontsize=13.5)\n",
    "    # Providing the labels and title to the graph\n",
    "    plt.xlabel(\"Fraud or Not?\", fontdict=label_font_dict)\n",
    "    plt.ylabel(\"Number (or %) of claims\\n\", fontdict=label_font_dict)\n",
    "    plt.grid(which='major', linestyle=\"--\", color='lightgrey')\n",
    "    plt.minorticks_on()\n",
    "    plt.title(\"Distribution of Fraud & Non-fraud claims\\n\", fontdict=title_font_dict)\n",
    "    plt.plot();"
   ]
  },
  {
   "cell_type": "markdown",
   "metadata": {
    "id": "0w7xDfJYXA5J"
   },
   "source": [
    "**`OBSERVATION`**\n",
    "* The above plot shows us that, 62% of claims are Non-Fraud and 32% of them are Fraudulent. \n",
    "    * By looking at the percentages we may say that there is a class-imbalance problem but after looking at the number of records it doesn't seem to be a severe class-imbalance problem. \n",
    "        * So, I'll try some class balancing techniques only after training a baseline model w/o any synthetic or class weighting techniques."
   ]
  },
  {
   "cell_type": "markdown",
   "metadata": {
    "id": "_7cmHLo48S1k"
   },
   "source": [
    "# **Feature Engineering + Impact Analysis**\n",
    "**`Let's create some features`**"
   ]
  },
  {
   "cell_type": "markdown",
   "metadata": {
    "id": "Q8NGb3byXA5L"
   },
   "source": [
    "### **Adding `New Feature` :: `Is_Alive?`**\n",
    "\n",
    "    - Is Alive? = No if DOD is NaN else Yes"
   ]
  },
  {
   "cell_type": "code",
   "execution_count": null,
   "metadata": {
    "id": "FTXUUC80XA5L",
    "trusted": true
   },
   "outputs": [],
   "source": [
    "train_iobp_df['DOB'] = pd.to_datetime(train_iobp_df['DOB'], format=\"%Y-%m-%d\")\n",
    "train_iobp_df['DOD'] = pd.to_datetime(train_iobp_df['DOD'], format=\"%Y-%m-%d\")"
   ]
  },
  {
   "cell_type": "code",
   "execution_count": null,
   "metadata": {
    "id": "ud_XF0OVXA5M",
    "trusted": true
   },
   "outputs": [],
   "source": [
    "train_iobp_df['Is_Alive?'] = train_iobp_df['DOD'].apply(lambda val: 'No' if val != val else 'Yes')"
   ]
  },
  {
   "cell_type": "code",
   "execution_count": null,
   "metadata": {
    "id": "UnrfO0QXXA5M",
    "outputId": "8bb9f54d-9628-4f6b-b20b-13ce23c19acb",
    "trusted": true
   },
   "outputs": [],
   "source": [
    "train_iobp_df['Is_Alive?'].value_counts()"
   ]
  },
  {
   "cell_type": "markdown",
   "metadata": {
    "id": "3Jx9IsC2XA5J"
   },
   "source": [
    "### **Adding `New Feature` :: `Claim_Duration`**\n",
    "    \n",
    "    - Claim Duration = Claim End Date - Claim Start Date"
   ]
  },
  {
   "cell_type": "code",
   "execution_count": null,
   "metadata": {
    "id": "WwA5YY7uXA5K",
    "trusted": true
   },
   "outputs": [],
   "source": [
    "train_iobp_df['ClaimStartDt'] = pd.to_datetime(train_iobp_df['ClaimStartDt'], format=\"%Y-%m-%d\")\n",
    "train_iobp_df['ClaimEndDt'] = pd.to_datetime(train_iobp_df['ClaimEndDt'], format=\"%Y-%m-%d\")\n",
    "\n",
    "train_iobp_df['Claim_Duration'] = (train_iobp_df['ClaimEndDt'] - train_iobp_df['ClaimStartDt']).dt.days"
   ]
  },
  {
   "cell_type": "code",
   "execution_count": null,
   "metadata": {
    "_kg_hide-input": true,
    "id": "LqfkUAxG8S1o",
    "outputId": "7e019847-cd31-4908-ec5a-bb0feee06f3e",
    "trusted": true
   },
   "outputs": [],
   "source": [
    "with plt.style.context('seaborn'):\n",
    "    fig = sns.boxenplot(data=train_iobp_df, x='PotentialFraud',y='Claim_Duration', palette='dark')\n",
    "    # Providing the labels and title to the graph\n",
    "    plt.xlabel(\"Potentially Fraud?\", fontdict=label_font_dict)\n",
    "    plt.xticks(rotation=90, fontsize=12)\n",
    "    plt.ylabel(\"Claim Duration (in days)\\n\", fontdict=label_font_dict)\n",
    "    plt.minorticks_on()\n",
    "    plt.grid(which='major', linestyle=\"--\", color='lightgrey')\n",
    "    plt.title(\"Claim Duration for Potentially Fraud & Non-Fraud Providers\\n\", fontdict=title_font_dict)\n",
    "    plt.plot();"
   ]
  },
  {
   "cell_type": "markdown",
   "metadata": {
    "id": "aYfNOHu_8S13"
   },
   "source": [
    "**`OBSERVATION`**\n",
    "* The above plot clearly shows us that there is no difference in the distribution of Claim Duration for Potentially Fraud and Non-Fraud Providers.\n",
    "    * Therefore, we can say that Claim Duration alone might not be useful in segregating the Fraud cases."
   ]
  },
  {
   "cell_type": "markdown",
   "metadata": {
    "id": "AyC-iIa98S14"
   },
   "source": [
    "- **Relationship b/w `Claim_Duration` and `Potentially Fraud` for both the `Genders`**"
   ]
  },
  {
   "cell_type": "code",
   "execution_count": null,
   "metadata": {
    "_kg_hide-input": true,
    "id": "nYq5uEpw8S15",
    "outputId": "af0c2719-d348-41b6-dfd5-143881cefecb",
    "trusted": true
   },
   "outputs": [],
   "source": [
    "with plt.style.context('seaborn-poster'):\n",
    "    fig = sns.boxenplot(data=train_iobp_df, x='PotentialFraud',y='Claim_Duration', hue='Gender', palette='prism')      \n",
    "    # Providing the labels and title to the graph\n",
    "    plt.xlabel(\"Potentially Fraud?\", fontdict=label_font_dict)\n",
    "    plt.xticks(rotation=90, fontsize=12)\n",
    "    plt.ylabel(\"Claim Duration (in days)\\n\", fontdict=label_font_dict)\n",
    "    plt.minorticks_on()\n",
    "    plt.grid(which='major', linestyle=\"--\", color='lightgrey')\n",
    "    plt.title(\"Claim Duration of both the genders for Potentially Fraud & Non-Fraud Providers\\n\", fontdict=title_font_dict)\n",
    "    plt.plot();"
   ]
  },
  {
   "cell_type": "markdown",
   "metadata": {
    "id": "gVIRW0qL8S16"
   },
   "source": [
    "**`OBSERVATION`**\n",
    "* The above plot clearly shows us that there is no difference in the distribution of Claim Duration of males and females for Potentially Fraud and Non-Fraud Providers.\n",
    "    * Therefore, we can say that Claim Duration might not be useful in segregating the Fraud cases."
   ]
  },
  {
   "cell_type": "markdown",
   "metadata": {
    "id": "TCy180928S17"
   },
   "source": [
    "- **Relationship b/w `Claim_Duration` and `Potentially Fraud` for `Is_Alive?`**"
   ]
  },
  {
   "cell_type": "code",
   "execution_count": null,
   "metadata": {
    "_kg_hide-input": true,
    "id": "uBxhSiPp8S17",
    "outputId": "40dc415a-c3cd-4b9d-df5b-83bb6d9e1f94",
    "trusted": true
   },
   "outputs": [],
   "source": [
    "with plt.style.context('seaborn-poster'):\n",
    "    fig = sns.boxenplot(data=train_iobp_df, x='PotentialFraud',y='Claim_Duration', hue='Is_Alive?', palette='prism')      \n",
    "    # Providing the labels and title to the graph\n",
    "    plt.xlabel(\"Potentially Fraud?\", fontdict=label_font_dict)\n",
    "    plt.xticks(rotation=90, fontsize=12)\n",
    "    plt.ylabel(\"Claim Duration (in days)\\n\", fontdict=label_font_dict)\n",
    "    plt.minorticks_on()\n",
    "    plt.grid(which='major', linestyle=\"--\", color='lightgrey')\n",
    "    plt.title(\"Claim Duration patient life status for Potentially Fraud & Non-Fraud Providers\\n\", fontdict=title_font_dict)\n",
    "    plt.plot();"
   ]
  },
  {
   "cell_type": "markdown",
   "metadata": {
    "id": "qLuvvU3A8S18"
   },
   "source": [
    "**`OBSERVATION`**\n",
    "* The above plot clearly shows us that there is no difference in the distribution of Claim Duration on patient life status for Potentially Fraud and Non-Fraud Providers.\n",
    "    * Therefore, we can say that Claim Duration might not be useful in segregating the Fraud cases."
   ]
  },
  {
   "cell_type": "markdown",
   "metadata": {
    "id": "XxmE0E_O8S19"
   },
   "source": [
    "- **Relationship b/w `Claim_Duration` and `Potentially Fraud` for all `Human Races`**"
   ]
  },
  {
   "cell_type": "code",
   "execution_count": null,
   "metadata": {
    "_kg_hide-input": true,
    "id": "AIV4s3pE8S19",
    "outputId": "6d9f7a82-c8e4-4650-cca2-682950ede029",
    "trusted": true
   },
   "outputs": [],
   "source": [
    "with plt.style.context('seaborn-poster'):\n",
    "    plt.figure(figsize=(16,8))\n",
    "    fig = sns.boxenplot(data=train_iobp_df, x='PotentialFraud',y='Claim_Duration', hue='Race', palette='cubehelix')   \n",
    "    # Providing the labels and title to the graph\n",
    "    plt.xlabel(\"Potentially Fraud?\", fontdict=label_font_dict)\n",
    "    plt.xticks(rotation=90, fontsize=12)\n",
    "    plt.ylabel(\"Claim Duration (in days)\\n\", fontdict=label_font_dict)\n",
    "    plt.minorticks_on()\n",
    "    plt.grid(which='major', linestyle=\"--\", color='lightgrey')\n",
    "    plt.title(\"Claim Duration of all human races for Potentially Fraud & Non-Fraud Providers\\n\", fontdict=title_font_dict)\n",
    "    plt.legend(loc='upper center',title='Race');"
   ]
  },
  {
   "cell_type": "markdown",
   "metadata": {
    "id": "MdpOPV4q8S1_"
   },
   "source": [
    "**`OBSERVATION`**\n",
    "* The above plot clearly shows us that there is no difference in the distribution of Claim Duration of all human races for Potentially Fraud and Non-Fraud Providers.\n",
    "    * Therefore, we can say that Claim Duration might not be useful in segregating the Fraud cases."
   ]
  },
  {
   "cell_type": "markdown",
   "metadata": {
    "id": "FfOLXsiA8S2A"
   },
   "source": [
    "- **Relationship b/w `Claim_Duration` and `Potentially Fraud` for `RenalDiseaseIndicator`**"
   ]
  },
  {
   "cell_type": "code",
   "execution_count": null,
   "metadata": {
    "_kg_hide-input": true,
    "id": "24j7VDcf8S2B",
    "outputId": "e206667d-6705-4f64-b3b6-971762279bad",
    "trusted": true
   },
   "outputs": [],
   "source": [
    "with plt.style.context('seaborn-poster'):\n",
    "    fig = sns.boxenplot(data=train_iobp_df, x='PotentialFraud',y='Claim_Duration', hue='RenalDiseaseIndicator', palette='copper')   \n",
    "    # Providing the labels and title to the graph\n",
    "    plt.xlabel(\"Potentially Fraud?\", fontdict=label_font_dict)\n",
    "    plt.xticks(rotation=90, fontsize=12)\n",
    "    plt.ylabel(\"Claim Duration (in days)\\n\", fontdict=label_font_dict)\n",
    "    plt.minorticks_on()\n",
    "    plt.grid(which='major', linestyle=\"--\", color='lightgrey')\n",
    "    plt.title(\"Claim Duration of whether having RKD influence Potentially Fraud & Non-Fraud Providers?\\n\", fontdict=title_font_dict)\n",
    "    plt.legend(loc=\"upper center\", title='RKD');"
   ]
  },
  {
   "cell_type": "markdown",
   "metadata": {
    "id": "LGargtjv8S2B"
   },
   "source": [
    "**`OBSERVATION`**\n",
    "* The above plot clearly shows us that there is no difference in the distribution of Claim Duration of patients with or w/o RKD for Potentially Fraud and Non-Fraud Providers.\n",
    "    * Therefore, we can say that Claim Duration might not be useful in segregating the Fraud cases."
   ]
  },
  {
   "cell_type": "markdown",
   "metadata": {
    "id": "Meku-w63XA5K"
   },
   "source": [
    "### **Adding `New Feature` :: `Admitted_Duration`**\n",
    "\n",
    "    - Admitted Duration = Discharge Date - Admission Date"
   ]
  },
  {
   "cell_type": "code",
   "execution_count": null,
   "metadata": {
    "id": "b_UrJsbkXA5K",
    "trusted": true
   },
   "outputs": [],
   "source": [
    "train_iobp_df['AdmissionDt'] = pd.to_datetime(train_iobp_df['AdmissionDt'], format=\"%Y-%m-%d\")\n",
    "train_iobp_df['DischargeDt'] = pd.to_datetime(train_iobp_df['DischargeDt'], format=\"%Y-%m-%d\")\n",
    "\n",
    "train_iobp_df['Admitted_Duration'] = (train_iobp_df['DischargeDt'] - train_iobp_df['AdmissionDt']).dt.days"
   ]
  },
  {
   "cell_type": "code",
   "execution_count": null,
   "metadata": {
    "_kg_hide-input": true,
    "id": "L0GIqtka8S2D",
    "outputId": "ce76ac8b-54d5-498f-ea8c-df2105ae5cc5",
    "trusted": true
   },
   "outputs": [],
   "source": [
    "with plt.style.context('seaborn'):\n",
    "    fig = sns.violinplot(data=train_iobp_df, x='PotentialFraud',y='Admitted_Duration', palette='Accent_r')   \n",
    "    # Providing the labels and title to the graph\n",
    "    plt.xlabel(\"Potentially Fraud?\", fontdict=label_font_dict)\n",
    "    plt.xticks(rotation=90, fontsize=12)\n",
    "    plt.ylabel(\"Admitted Duration (in days)\\n\", fontdict=label_font_dict)\n",
    "    plt.minorticks_on()\n",
    "    plt.grid(which='major', linestyle=\"--\", color='lightgrey')\n",
    "    plt.title(\"Admitted Duration for Potentially Fraud & Non-Fraud Providers\\n\", fontdict=title_font_dict)\n",
    "    plt.plot();"
   ]
  },
  {
   "cell_type": "markdown",
   "metadata": {
    "id": "EzVkcPed8S2E"
   },
   "source": [
    "**`OBSERVATION`**\n",
    "* The above plot clearly shows us that there is no difference in the distribution of Admit Duration for Potentially Fraud and Non-Fraud Providers.\n",
    "    * Therefore, we can say that Admit Duration alone might not be useful in segregating the Fraud cases."
   ]
  },
  {
   "cell_type": "markdown",
   "metadata": {
    "id": "TrM-lMpS8S2E"
   },
   "source": [
    "- **Relationship b/w `Admit_Duration` and `Potentially Fraud` for both the `Genders`**"
   ]
  },
  {
   "cell_type": "code",
   "execution_count": null,
   "metadata": {
    "_kg_hide-input": true,
    "id": "YWOvEgrl8S2F",
    "outputId": "3a7bf840-21f5-415c-d2ac-6bc7b3ce84a9",
    "trusted": true
   },
   "outputs": [],
   "source": [
    "with plt.style.context('seaborn-poster'):\n",
    "    fig = sns.violinplot(data=train_iobp_df, x='PotentialFraud',y='Admitted_Duration', hue='Gender', palette='inferno')   \n",
    "    # Providing the labels and title to the graph\n",
    "    plt.xlabel(\"Potentially Fraud?\", fontdict=label_font_dict)\n",
    "    plt.xticks(rotation=90, fontsize=12)\n",
    "    plt.ylabel(\"Admit Duration (in days)\\n\", fontdict=label_font_dict)\n",
    "    plt.minorticks_on()\n",
    "    plt.grid(which='major', linestyle=\"--\", color='lightgrey')\n",
    "    plt.title(\"Admit Duration of both the genders for Potentially Fraud & Non-Fraud Providers\\n\", fontdict=title_font_dict)\n",
    "    plt.plot();"
   ]
  },
  {
   "cell_type": "markdown",
   "metadata": {
    "id": "2_-mQ2Mc8S2F"
   },
   "source": [
    "**`OBSERVATION`**\n",
    "* The above plot clearly shows us that there is no difference in the distribution of Admit Duration of males and females for Potentially Fraud and Non-Fraud Providers.\n",
    "    * Therefore, we can say that Admit Duration might not be useful in segregating the Fraud cases."
   ]
  },
  {
   "cell_type": "markdown",
   "metadata": {
    "id": "WmlZp4VQ8S2G"
   },
   "source": [
    "- **Relationship b/w `Admitted_Duration` and `Potentially Fraud` for `Is_Alive?`**"
   ]
  },
  {
   "cell_type": "code",
   "execution_count": null,
   "metadata": {
    "_kg_hide-input": true,
    "id": "z6ojbK1A8S2G",
    "outputId": "735a1651-970f-4715-ce2e-c244836b457d",
    "trusted": true
   },
   "outputs": [],
   "source": [
    "with plt.style.context('seaborn-poster'):\n",
    "    fig = sns.violinplot(data=train_iobp_df, x='PotentialFraud',y='Admitted_Duration', hue='Is_Alive?', palette='prism')      \n",
    "    # Providing the labels and title to the graph\n",
    "    plt.xlabel(\"Potentially Fraud?\", fontdict=label_font_dict)\n",
    "    plt.xticks(rotation=90, fontsize=12)\n",
    "    plt.ylabel(\"Admit Duration (in days)\\n\", fontdict=label_font_dict)\n",
    "    plt.minorticks_on()\n",
    "    plt.grid(which='major', linestyle=\"--\", color='lightgrey')\n",
    "    plt.title(\"Admit Duration patient life status for Potentially Fraud & Non-Fraud Providers\\n\", fontdict=title_font_dict)\n",
    "    plt.legend(loc=\"upper center\", title='Is_Alive?');"
   ]
  },
  {
   "cell_type": "markdown",
   "metadata": {
    "id": "4Urj1u8w8S2H"
   },
   "source": [
    "**`OBSERVATION`**\n",
    "* The above plot clearly shows us that there is no difference in the distribution of Admit Duration on patient life status for Potentially Fraud and Non-Fraud Providers.\n",
    "    * Therefore, we can say that Admit Duration might not be useful in segregating the Fraud cases."
   ]
  },
  {
   "cell_type": "markdown",
   "metadata": {
    "id": "wCTSKCJQ8S2I"
   },
   "source": [
    "- **Relationship b/w `Admit_Duration` and `Potentially Fraud` for all `Human Races`**"
   ]
  },
  {
   "cell_type": "code",
   "execution_count": null,
   "metadata": {
    "_kg_hide-input": true,
    "id": "papTrjHR8S2I",
    "outputId": "3fb6152e-607d-4f12-928e-4bce983eb55e",
    "trusted": true
   },
   "outputs": [],
   "source": [
    "with plt.style.context('seaborn-poster'):\n",
    "    fig = sns.violinplot(data=train_iobp_df, x='PotentialFraud',y='Admitted_Duration', hue='Race', palette='plasma')   \n",
    "    # Providing the labels and title to the graph\n",
    "    plt.xlabel(\"Potentially Fraud?\", fontdict=label_font_dict)\n",
    "    plt.xticks(rotation=90, fontsize=12)\n",
    "    plt.ylabel(\"Admit Duration (in days)\\n\", fontdict=label_font_dict)\n",
    "    plt.minorticks_on()\n",
    "    plt.grid(which='major', linestyle=\"--\", color='lightgrey')\n",
    "    plt.title(\"Admit Duration of all human races for Potentially Fraud & Non-Fraud Providers\\n\", fontdict=title_font_dict)\n",
    "    plt.legend(loc=\"upper center\", title=\"Race\");"
   ]
  },
  {
   "cell_type": "markdown",
   "metadata": {
    "id": "A6vtoUz68S2J"
   },
   "source": [
    "**`OBSERVATION`**\n",
    "* The above plot clearly shows us that there is no difference in the distribution of Admit Duration of all human races for Potentially Fraud and Non-Fraud Providers.\n",
    "    * Therefore, we can say that Admit Duration might not be useful in segregating the Fraud cases."
   ]
  },
  {
   "cell_type": "markdown",
   "metadata": {
    "id": "JGqY3sik8S2K"
   },
   "source": [
    "- **Relationship b/w `Admitted_Duration` and `Potentially Fraud` for `RenalDiseaseIndicator`**"
   ]
  },
  {
   "cell_type": "code",
   "execution_count": null,
   "metadata": {
    "_kg_hide-input": true,
    "id": "x80gHN6m8S2K",
    "outputId": "c2252173-6fe9-490f-ec09-f2e639425c4d",
    "trusted": true
   },
   "outputs": [],
   "source": [
    "with plt.style.context('seaborn-poster'):\n",
    "    fig = sns.violinplot(data=train_iobp_df, x='PotentialFraud',y='Admitted_Duration', hue='RenalDiseaseIndicator',palette='magma')   \n",
    "    # Providing the labels and title to the graph\n",
    "    plt.xlabel(\"Potentially Fraud?\", fontdict=label_font_dict)\n",
    "    plt.xticks(rotation=90, fontsize=12)\n",
    "    plt.ylabel(\"Admit Duration (in days)\\n\", fontdict=label_font_dict)\n",
    "    plt.minorticks_on()\n",
    "    plt.grid(which='major', linestyle=\"--\", color='lightgrey')\n",
    "    plt.title(\"Admit Duration of whether having RKD influence Potentially Fraud & Non-Fraud Providers?\\n\", fontdict=title_font_dict)\n",
    "    plt.legend(loc=\"upper center\", title=\"RKD\");"
   ]
  },
  {
   "cell_type": "markdown",
   "metadata": {
    "id": "LDvKau9n8S2L"
   },
   "source": [
    "**`OBSERVATION`**\n",
    "* The above plot clearly shows us that there is no difference in the distribution of Admit Duration of patients with or w/o RKD for Potentially Fraud and Non-Fraud Providers.\n",
    "    * Therefore, we can say that Admit Duration might not be useful in segregating the Fraud cases."
   ]
  },
  {
   "cell_type": "markdown",
   "metadata": {
    "id": "n_WDPpDOXA5N"
   },
   "source": [
    "### **Adding `New Feature` :: `Bene_Age`**\n",
    "\n",
    "    - Bene Age = DOD - DOB (if DOD is Null then replace it with MAX date in DOD)"
   ]
  },
  {
   "cell_type": "code",
   "execution_count": null,
   "metadata": {
    "id": "_OQFdTA6XA5N",
    "trusted": true
   },
   "outputs": [],
   "source": [
    "# Filling the Null values as MAX Date of Death in the Dataset\n",
    "train_iobp_df['DOD'].fillna(value=train_iobp_df['DOD'].max(), inplace=True)"
   ]
  },
  {
   "cell_type": "code",
   "execution_count": null,
   "metadata": {
    "id": "UDvZko1VXA5O",
    "trusted": true
   },
   "outputs": [],
   "source": [
    "train_iobp_df['Bene_Age'] = round(((train_iobp_df['DOD'] - train_iobp_df['DOB']).dt.days)/365,1)"
   ]
  },
  {
   "cell_type": "code",
   "execution_count": null,
   "metadata": {
    "_kg_hide-input": true,
    "id": "jytXFu3_8S2M",
    "outputId": "09b2eb99-256c-42c9-ed31-4c2d23c5d466",
    "trusted": true
   },
   "outputs": [],
   "source": [
    "with plt.style.context('seaborn-poster'):\n",
    "    fig = sns.violinplot(data=train_iobp_df, x='PotentialFraud',y='Bene_Age', palette='Pastel2')   \n",
    "    # Providing the labels and title to the graph\n",
    "    plt.xlabel(\"Potentially Fraud?\", fontdict=label_font_dict)\n",
    "    plt.xticks(rotation=90, fontsize=12)\n",
    "    plt.ylabel(\"Beneficiary Age (in years)\\n\", fontdict=label_font_dict)\n",
    "    plt.minorticks_on()\n",
    "    plt.grid(which='major', linestyle=\"--\", color='lightgrey')\n",
    "    plt.title(\"Beneficiary Age for Potentially Fraud & Non-Fraud Providers\\n\", fontdict=title_font_dict)\n",
    "    plt.plot();"
   ]
  },
  {
   "cell_type": "markdown",
   "metadata": {
    "id": "NPNUrH1f8S2N"
   },
   "source": [
    "**`OBSERVATION`**\n",
    "* The above plot clearly shows us that there is no difference in the distribution of Beneficiary Age for Potentially Fraud and Non-Fraud Providers.\n",
    "    * Therefore, we can say that Beneficiary Age alone might not be useful in segregating the Fraud cases."
   ]
  },
  {
   "cell_type": "markdown",
   "metadata": {
    "id": "7g4NyN8Y8S2N"
   },
   "source": [
    "- **Relationship b/w `Bene_Age` and `Potentially Fraud` for both the `Genders`**"
   ]
  },
  {
   "cell_type": "code",
   "execution_count": null,
   "metadata": {
    "_kg_hide-input": true,
    "id": "5hxuSyV48S2N",
    "outputId": "940a9180-b417-459c-a53c-d89a58abac19",
    "trusted": true
   },
   "outputs": [],
   "source": [
    "with plt.style.context('seaborn-poster'):\n",
    "    fig = sns.violinplot(data=train_iobp_df, x='PotentialFraud',y='Bene_Age', hue='Gender', palette='inferno')   \n",
    "    # Providing the labels and title to the graph\n",
    "    plt.xlabel(\"Potentially Fraud?\", fontdict=label_font_dict)\n",
    "    plt.xticks(rotation=90, fontsize=12)\n",
    "    plt.ylabel(\"Bene_Age (in years)\\n\", fontdict=label_font_dict)\n",
    "    plt.minorticks_on()\n",
    "    plt.grid(which='major', linestyle=\"--\", color='lightgrey')\n",
    "    plt.title(\"Bene_Age of both the genders for Potentially Fraud & Non-Fraud Providers\\n\", fontdict=title_font_dict)\n",
    "    plt.plot();"
   ]
  },
  {
   "cell_type": "markdown",
   "metadata": {
    "id": "j590YXU_8S2O"
   },
   "source": [
    "**`OBSERVATION`**\n",
    "* The above plot clearly shows us that there is no difference in the distribution of Bene_Age of males and females for Potentially Fraud and Non-Fraud Providers.\n",
    "    * Therefore, we can say that Bene_Age might not be useful in segregating the Fraud cases."
   ]
  },
  {
   "cell_type": "markdown",
   "metadata": {
    "id": "5faTc5Ea8S2O"
   },
   "source": [
    "- **Relationship b/w `Bene_Age` and `Potentially Fraud` for `Is_Alive?`**"
   ]
  },
  {
   "cell_type": "code",
   "execution_count": null,
   "metadata": {
    "_kg_hide-input": true,
    "id": "X9bGmT038S2P",
    "outputId": "0034617b-9bf6-482f-8bf8-fde49faf3a39",
    "trusted": true
   },
   "outputs": [],
   "source": [
    "with plt.style.context('seaborn-poster'):\n",
    "    fig = sns.violinplot(data=train_iobp_df, x='PotentialFraud',y='Bene_Age', hue='Is_Alive?', palette='prism')      \n",
    "    # Providing the labels and title to the graph\n",
    "    plt.xlabel(\"Potentially Fraud?\", fontdict=label_font_dict)\n",
    "    plt.xticks(rotation=90, fontsize=12)\n",
    "    plt.ylabel(\"Bene_Age (in years)\\n\", fontdict=label_font_dict)\n",
    "    plt.minorticks_on()\n",
    "    plt.grid(which='major', linestyle=\"--\", color='lightgrey')\n",
    "    plt.title(\"Bene_Age patient life status for Potentially Fraud & Non-Fraud Providers\\n\", fontdict=title_font_dict)\n",
    "    plt.legend(loc=\"upper center\", title='Is_Alive?');"
   ]
  },
  {
   "cell_type": "markdown",
   "metadata": {
    "id": "1EPuT-qi8S2P"
   },
   "source": [
    "**`OBSERVATION`**\n",
    "* The above plot clearly shows us that there is no difference in the distribution of Bene_Age on patient life status for Potentially Fraud and Non-Fraud Providers.\n",
    "    * Therefore, we can say that Bene_Age might not be useful in segregating the Fraud cases."
   ]
  },
  {
   "cell_type": "markdown",
   "metadata": {
    "id": "7fvt-82E8S2Q"
   },
   "source": [
    "- **Relationship b/w `Bene_Age` and `Potentially Fraud` for all `Human Races`**"
   ]
  },
  {
   "cell_type": "code",
   "execution_count": null,
   "metadata": {
    "_kg_hide-input": true,
    "id": "ykSTRoq-8S2Q",
    "outputId": "9e2ebe9e-72b1-49db-da74-8c4f71b4be40",
    "trusted": true
   },
   "outputs": [],
   "source": [
    "with plt.style.context('seaborn-poster'):\n",
    "    fig = sns.violinplot(data=train_iobp_df, x='PotentialFraud',y='Bene_Age', hue='Race', palette='plasma')   \n",
    "    # Providing the labels and title to the graph\n",
    "    plt.xlabel(\"Potentially Fraud?\", fontdict=label_font_dict)\n",
    "    plt.xticks(rotation=90, fontsize=12)\n",
    "    plt.ylabel(\"Bene_Age (in years)\\n\", fontdict=label_font_dict)\n",
    "    plt.minorticks_on()\n",
    "    plt.grid(which='major', linestyle=\"--\", color='lightgrey')\n",
    "    plt.title(\"Bene_Age of all human races for Potentially Fraud & Non-Fraud Providers\\n\", fontdict=title_font_dict)\n",
    "    plt.legend(loc=\"upper center\", title=\"Race\");"
   ]
  },
  {
   "cell_type": "markdown",
   "metadata": {
    "id": "0yq80l518S2Q"
   },
   "source": [
    "**`OBSERVATION`**\n",
    "* The above plot clearly shows us that there is no difference in the distribution of Bene_Age of all human races for Potentially Fraud and Non-Fraud Providers.\n",
    "    * Therefore, we can say that Bene_Age might not be useful in segregating the Fraud cases."
   ]
  },
  {
   "cell_type": "markdown",
   "metadata": {
    "id": "6wmTuA3G8S2R"
   },
   "source": [
    "- **Relationship b/w `Bene_Age` and `Potentially Fraud` for `RenalDiseaseIndicator`**"
   ]
  },
  {
   "cell_type": "code",
   "execution_count": null,
   "metadata": {
    "_kg_hide-input": true,
    "id": "Nglg7vqn8S2R",
    "outputId": "40e41ff8-31d6-466d-a465-4e6754276f35",
    "trusted": true
   },
   "outputs": [],
   "source": [
    "with plt.style.context('seaborn-poster'):\n",
    "    fig = sns.violinplot(data=train_iobp_df, x='PotentialFraud',y='Bene_Age', hue='RenalDiseaseIndicator',palette='magma')   \n",
    "    # Providing the labels and title to the graph\n",
    "    plt.xlabel(\"Potentially Fraud?\", fontdict=label_font_dict)\n",
    "    plt.xticks(rotation=90, fontsize=12)\n",
    "    plt.ylabel(\"Bene_Age (in years)\\n\", fontdict=label_font_dict)\n",
    "    plt.minorticks_on()\n",
    "    plt.grid(which='major', linestyle=\"--\", color='lightgrey')\n",
    "    plt.title(\"Bene_Age of whether having RKD influence Potentially Fraud & Non-Fraud Providers?\\n\", fontdict=title_font_dict)\n",
    "    plt.legend(loc='lower center', title='RKD');"
   ]
  },
  {
   "cell_type": "markdown",
   "metadata": {
    "id": "fu9ly8_B8S2S"
   },
   "source": [
    "**`OBSERVATION`**\n",
    "* The above plot clearly shows us that there is no difference in the distribution of Bene_Age of patients with or w/o RKD for Potentially Fraud and Non-Fraud Providers.\n",
    "    * Therefore, we can say that Bene_Age might not be useful in segregating the Fraud cases."
   ]
  },
  {
   "cell_type": "markdown",
   "metadata": {
    "id": "YWWeIA8g8S2S"
   },
   "source": [
    "### **Does `InscClaimAmtReimbursed` influences `Potentially Fraud`?**\n",
    "   - **Relationship b/w `InscClaimAmtReimbursed` and `Potentially Fraud`**"
   ]
  },
  {
   "cell_type": "code",
   "execution_count": null,
   "metadata": {
    "_kg_hide-input": true,
    "id": "CviFlfno8S2S",
    "outputId": "9a100bf4-6d16-41dd-ebe2-b03c66417b72",
    "trusted": true
   },
   "outputs": [],
   "source": [
    "with plt.style.context('seaborn'):\n",
    "    fig = sns.boxenplot(data=train_iobp_df, x='PotentialFraud',y='InscClaimAmtReimbursed', palette='flag')   \n",
    "    # Providing the labels and title to the graph\n",
    "    plt.xlabel(\"Potentially Fraud?\", fontdict=label_font_dict)\n",
    "    plt.xticks(rotation=90, fontsize=12)\n",
    "    plt.ylabel(\"Claim Re-Imb Amount\\n\", fontdict=label_font_dict)\n",
    "    plt.minorticks_on()\n",
    "    plt.grid(which='major', linestyle=\"--\", color='lightgrey')\n",
    "    plt.title(\"Claim Re-Imb Amount for Potentially Fraud & Non-Fraud Providers\\n\", fontdict=title_font_dict)\n",
    "    plt.plot();"
   ]
  },
  {
   "cell_type": "markdown",
   "metadata": {
    "id": "VA5Ml99p8S2T"
   },
   "source": [
    "**`OBSERVATION`**\n",
    "* The above plot clearly shows us that there is no difference in the distribution of Claim Re-Imb Amount for Potentially Fraud and Non-Fraud Providers.\n",
    "    * Therefore, we can say that Claim Re-Imb Amount alone might not be useful in segregating the Fraud cases."
   ]
  },
  {
   "cell_type": "markdown",
   "metadata": {
    "id": "6o7GcWOR8S2T"
   },
   "source": [
    "- **Relationship b/w `InscClaimAmtReimbursed` and `Potentially Fraud` for both the `Genders`**"
   ]
  },
  {
   "cell_type": "code",
   "execution_count": null,
   "metadata": {
    "_kg_hide-input": true,
    "id": "y4t0ARgk8S2U",
    "outputId": "71b322fb-0966-4fc3-8cc7-85303dc4be86",
    "trusted": true
   },
   "outputs": [],
   "source": [
    "with plt.style.context('seaborn-poster'):\n",
    "    fig = sns.boxenplot(data=train_iobp_df, x='PotentialFraud',y='InscClaimAmtReimbursed', hue='Gender', palette='flare')   \n",
    "    # Providing the labels and title to the graph\n",
    "    plt.xlabel(\"Potentially Fraud?\", fontdict=label_font_dict)\n",
    "    plt.xticks(rotation=90, fontsize=12)\n",
    "    plt.ylabel(\"Claim Re-Imb Amount\\n\", fontdict=label_font_dict)\n",
    "    plt.minorticks_on()\n",
    "    plt.grid(which='major', linestyle=\"--\", color='lightgrey')\n",
    "    plt.title(\"Claim Re-Imb Amount of both the genders for Potentially Fraud & Non-Fraud Providers\\n\", fontdict=title_font_dict)\n",
    "    plt.plot();"
   ]
  },
  {
   "cell_type": "markdown",
   "metadata": {
    "id": "52TPcSBx8S2U"
   },
   "source": [
    "**`OBSERVATION`**\n",
    "* The above plot clearly shows us that there is no difference in the distribution of Claim Re-Imb Amount of males and females for Potentially Fraud and Non-Fraud Providers.\n",
    "    * Therefore, we can say that Claim Re-Imb Amount might not be useful in segregating the Fraud cases."
   ]
  },
  {
   "cell_type": "markdown",
   "metadata": {
    "id": "Bk2STfSs8S2U"
   },
   "source": [
    "- **Relationship b/w `InscClaimAmtReimbursed` and `Potentially Fraud` for `Is_Alive?`**"
   ]
  },
  {
   "cell_type": "code",
   "execution_count": null,
   "metadata": {
    "_kg_hide-input": true,
    "id": "9veoAp2D8S2V",
    "outputId": "111b7f71-1d34-438b-c57b-aeb812629536",
    "trusted": true
   },
   "outputs": [],
   "source": [
    "with plt.style.context('seaborn-poster'):\n",
    "    fig = sns.boxenplot(data=train_iobp_df, x='PotentialFraud',y='InscClaimAmtReimbursed', hue='Is_Alive?', palette='prism')      \n",
    "    # Providing the labels and title to the graph\n",
    "    plt.xlabel(\"Potentially Fraud?\", fontdict=label_font_dict)\n",
    "    plt.xticks(rotation=90, fontsize=12)\n",
    "    plt.ylabel(\"Claim Re-Imb Amount\\n\", fontdict=label_font_dict)\n",
    "    plt.minorticks_on()\n",
    "    plt.grid(which='major', linestyle=\"--\", color='lightgrey')\n",
    "    plt.title(\"Claim Re-Imb Amount patient life status for Potentially Fraud & Non-Fraud Providers\\n\", fontdict=title_font_dict)\n",
    "    plt.legend(loc=\"upper center\", title='Is_Alive?');"
   ]
  },
  {
   "cell_type": "markdown",
   "metadata": {
    "id": "jPLV86o88S2V"
   },
   "source": [
    "**`OBSERVATION`**\n",
    "* The above plot clearly shows us that there is no difference in the distribution of Claim Re-Imb Amount on patient life status for Potentially Fraud and Non-Fraud Providers.\n",
    "    * Therefore, we can say that Claim Re-Imb Amount might not be useful in segregating the Fraud cases."
   ]
  },
  {
   "cell_type": "markdown",
   "metadata": {
    "id": "SyNLeL9K8S2V"
   },
   "source": [
    "- **Relationship b/w `InscClaimAmtReimbursed` and `Potentially Fraud` for all `Human Races`**"
   ]
  },
  {
   "cell_type": "code",
   "execution_count": null,
   "metadata": {
    "_kg_hide-input": true,
    "id": "9zo9Ak9Q8S2W",
    "outputId": "fc49b641-403e-4e60-a098-6e65c2638d2f",
    "trusted": true
   },
   "outputs": [],
   "source": [
    "with plt.style.context('seaborn-poster'):\n",
    "    fig = sns.boxenplot(data=train_iobp_df, x='PotentialFraud',y='InscClaimAmtReimbursed', hue='Race', palette='plasma')   \n",
    "    # Providing the labels and title to the graph\n",
    "    plt.xlabel(\"Potentially Fraud?\", fontdict=label_font_dict)\n",
    "    plt.xticks(rotation=90, fontsize=12)\n",
    "    plt.ylabel(\"Claim Re-Imb Amount\\n\", fontdict=label_font_dict)\n",
    "    plt.minorticks_on()\n",
    "    plt.grid(which='major', linestyle=\"--\", color='lightgrey')\n",
    "    plt.title(\"Claim Re-Imb Amount of all human races for Potentially Fraud & Non-Fraud Providers\\n\", fontdict=title_font_dict)\n",
    "    plt.legend(loc=\"upper center\", title=\"Race\");"
   ]
  },
  {
   "cell_type": "markdown",
   "metadata": {
    "id": "aPE8m1Do8S2W"
   },
   "source": [
    "**`OBSERVATION`**\n",
    "* The above plot clearly shows us that there is no difference in the distribution of Claim Re-Imb Amount of all human races for Potentially Fraud and Non-Fraud Providers.\n",
    "    * Therefore, we can say that Claim Re-Imb Amount might not be useful in segregating the Fraud cases."
   ]
  },
  {
   "cell_type": "markdown",
   "metadata": {
    "id": "bUFVVOng8S2W"
   },
   "source": [
    "- **Relationship b/w `InscClaimAmtReimbursed` and `Potentially Fraud` for `RenalDiseaseIndicator`**"
   ]
  },
  {
   "cell_type": "code",
   "execution_count": null,
   "metadata": {
    "_kg_hide-input": true,
    "id": "RpU4BVPW8S2X",
    "outputId": "9c293323-eda5-4fd7-a717-94aa8fa50ce6",
    "trusted": true
   },
   "outputs": [],
   "source": [
    "with plt.style.context('seaborn-poster'):\n",
    "    fig = sns.boxenplot(data=train_iobp_df, x='PotentialFraud',y='InscClaimAmtReimbursed', hue='RenalDiseaseIndicator',palette='magma')   \n",
    "    # Providing the labels and title to the graph\n",
    "    plt.xlabel(\"Potentially Fraud?\", fontdict=label_font_dict)\n",
    "    plt.xticks(rotation=90, fontsize=12)\n",
    "    plt.ylabel(\"Claim Re-Imb Amount\\n\", fontdict=label_font_dict)\n",
    "    plt.minorticks_on()\n",
    "    plt.grid(which='major', linestyle=\"--\", color='lightgrey')\n",
    "    plt.title(\"Claim Re-Imb Amount of whether having RKD influence Potentially Fraud & Non-Fraud Providers?\\n\", fontdict=title_font_dict)\n",
    "    plt.legend(loc='upper center', title='RKD');"
   ]
  },
  {
   "cell_type": "markdown",
   "metadata": {
    "id": "iLxqbe4M8S2X"
   },
   "source": [
    "**`OBSERVATION`**\n",
    "* The above plot clearly shows us that there is no difference in the distribution of Claim Re-Imb Amount of patients with or w/o RKD for Potentially Fraud and Non-Fraud Providers.\n",
    "    * Therefore, we can say that claim Re-Imb Amount might not be useful in segregating the Fraud cases."
   ]
  },
  {
   "cell_type": "markdown",
   "metadata": {
    "id": "z-IbrD178S2X"
   },
   "source": [
    "### **Does `IPAnnualReimbursementAmt` influences `Potentially Fraud`?**\n",
    "   - **Relationship b/w `IPAnnualReimbursementAmt` and `Potentially Fraud`**"
   ]
  },
  {
   "cell_type": "code",
   "execution_count": null,
   "metadata": {
    "_kg_hide-input": true,
    "id": "C92HIx-68S2Y",
    "outputId": "72ced0af-5c80-431d-a45e-b51ab1eee515",
    "trusted": true
   },
   "outputs": [],
   "source": [
    "with plt.style.context('seaborn-poster'):\n",
    "    fig = sns.boxenplot(data=train_iobp_df[train_iobp_df['Admitted?'] == 1], y='PotentialFraud',x='IPAnnualReimbursementAmt', \n",
    "                         palette='dark', orient='h')   \n",
    "    # Providing the labels and title to the graph\n",
    "    plt.ylabel(\"Potentially Fraud?\\n\", fontdict=label_font_dict)\n",
    "    plt.yticks(rotation=90, fontsize=12)\n",
    "    plt.xlabel(\"\\nAnnual IP Re-Imb Amount\", fontdict=label_font_dict)\n",
    "    plt.minorticks_on()\n",
    "    plt.title(\"Annual IP Re-Imb Amount for Potentially Fraud & Non-Fraud Providers\\n\", fontdict=title_font_dict)\n",
    "    plt.plot();"
   ]
  },
  {
   "cell_type": "markdown",
   "metadata": {
    "id": "Oq2AP8ap8S2Y"
   },
   "source": [
    "**`OBSERVATION`**\n",
    "* The above plot clearly shows us that there is no difference in the distribution of Annual IP Re-Imb Amount for Potentially Fraud and Non-Fraud Providers.\n",
    "    * And, it looks like a Pareto Distribution."
   ]
  },
  {
   "cell_type": "markdown",
   "metadata": {
    "id": "ViGwRx268S2Z"
   },
   "source": [
    "#### **Why do we have `IP Annual Re-Imb Amount` as `0` for `Admitted Patients`?**"
   ]
  },
  {
   "cell_type": "code",
   "execution_count": null,
   "metadata": {
    "id": "6Z6vmPHU8S2Z",
    "outputId": "86ddcd61-a4a3-4d2c-f7b8-640222caf27e",
    "trusted": true
   },
   "outputs": [],
   "source": [
    "print(pd.DataFrame(train_iobp_df[(train_iobp_df['IPAnnualReimbursementAmt'] == 0)]['Admitted?'].value_counts()))"
   ]
  },
  {
   "cell_type": "markdown",
   "metadata": {
    "id": "4KUwEP7r8S2Z"
   },
   "source": [
    "- So, we have 413 claims where Patients were admitted to the hospital but the allocated `IP Annual Re-Imb Amt` is 0."
   ]
  },
  {
   "cell_type": "code",
   "execution_count": null,
   "metadata": {
    "id": "HKE24D1z8S2a",
    "outputId": "edf48468-5964-43cd-fda0-467e8454a01c",
    "trusted": true
   },
   "outputs": [],
   "source": [
    "print(pd.DataFrame(train_iobp_df[(train_iobp_df['IPAnnualReimbursementAmt'] == 0) & (train_iobp_df['Admitted?'] == 1)]\\\n",
    "                   ['PotentialFraud'].value_counts()))"
   ]
  },
  {
   "cell_type": "markdown",
   "metadata": {
    "id": "qNeXS53G8S2a"
   },
   "source": [
    "- So, out 413 claims 60% of them means 249 are fraudulent whereas 164 are non-fraudulent."
   ]
  },
  {
   "cell_type": "markdown",
   "metadata": {
    "id": "WZG6jyGi8S2a"
   },
   "source": [
    "**`OBSERVATION`**\n",
    "\n",
    "- **Thus, we can say that if the IP Annual Amount is 0 and patient was admitted to the hospital then chances of being fraudulent are high.**"
   ]
  },
  {
   "cell_type": "markdown",
   "metadata": {
    "id": "Ed2qvAiJ8S2b"
   },
   "source": [
    "- **Relationship b/w `IPAnnualReimbursementAmt` and `Potentially Fraud` for both the `Genders`**"
   ]
  },
  {
   "cell_type": "code",
   "execution_count": null,
   "metadata": {
    "_kg_hide-input": true,
    "id": "bk0UxybG8S2b",
    "outputId": "48825169-4d84-4c44-b672-9b148c3f8d3c",
    "trusted": true
   },
   "outputs": [],
   "source": [
    "with plt.style.context('seaborn-poster'):\n",
    "    fig = sns.boxplot(data=train_iobp_df[train_iobp_df['Admitted?'] == 1], x='PotentialFraud',y='IPAnnualReimbursementAmt', hue='Gender',\n",
    "                      palette='flare')   \n",
    "    # Providing the labels and title to the graph\n",
    "    plt.xlabel(\"Potentially Fraud?\", fontdict=label_font_dict)\n",
    "    plt.xticks(rotation=90, fontsize=12)\n",
    "    plt.ylabel(\"Annual IP Re-Imb Amount\\n\", fontdict=label_font_dict)\n",
    "    plt.minorticks_on()\n",
    "    plt.grid(which='major', linestyle=\"--\", color='lightgrey')\n",
    "    plt.title(\"Annual IP Re-Imb Amount of both the genders for Potentially Fraud & Non-Fraud Providers\\n\", fontdict=title_font_dict)\n",
    "    plt.plot();"
   ]
  },
  {
   "cell_type": "markdown",
   "metadata": {
    "id": "fNobzzIA8S2c"
   },
   "source": [
    "**`OBSERVATION`**\n",
    "* The above plot clearly shows us that there is no difference in the distribution of Annual IP Re-Imb Amount of males and females for Potentially Fraud and Non-Fraud Providers.\n",
    "    * Therefore, we can say that Annual IP Re-Imb Amount might not be useful in segregating the Fraud cases."
   ]
  },
  {
   "cell_type": "markdown",
   "metadata": {
    "id": "Cm-SQtOE8S2c"
   },
   "source": [
    "- **Relationship b/w `IPAnnualReimbursementAmt` and `Potentially Fraud` for `Is_Alive?`**"
   ]
  },
  {
   "cell_type": "code",
   "execution_count": null,
   "metadata": {
    "_kg_hide-input": true,
    "id": "qCddj3Ve8S2d",
    "outputId": "ca42532c-7b3b-47ea-d5ec-83862399f31a",
    "trusted": true
   },
   "outputs": [],
   "source": [
    "with plt.style.context('seaborn-poster'):\n",
    "    fig = sns.boxplot(data=train_iobp_df[train_iobp_df['Admitted?'] == 1], x='PotentialFraud',y='IPAnnualReimbursementAmt', hue='Is_Alive?',\n",
    "                      palette='prism')      \n",
    "    # Providing the labels and title to the graph\n",
    "    plt.xlabel(\"Potentially Fraud?\", fontdict=label_font_dict)\n",
    "    plt.xticks(rotation=90, fontsize=12)\n",
    "    plt.ylabel(\"Annual IP Re-Imb Amount\\n\", fontdict=label_font_dict)\n",
    "    plt.minorticks_on()\n",
    "    plt.grid(which='major', linestyle=\"--\", color='lightgrey')\n",
    "    plt.title(\"Annual IP Re-Imb Amount patient life status for Potentially Fraud & Non-Fraud Providers\\n\", fontdict=title_font_dict)\n",
    "    plt.legend(loc=\"upper center\", title='Is_Alive?');"
   ]
  },
  {
   "cell_type": "markdown",
   "metadata": {
    "id": "pWMa5xZK8S2f"
   },
   "source": [
    "**`OBSERVATION`**\n",
    "* The above plot clearly shows us that there is no difference in the distribution of Annual IP Re-Imb Amount on patient life status for Potentially Fraud and Non-Fraud Providers.\n",
    "    * Therefore, we can say that Annual IP Re-Imb Amount might not be useful in segregating the Fraud cases."
   ]
  },
  {
   "cell_type": "markdown",
   "metadata": {
    "id": "ympdYxaO8S2h"
   },
   "source": [
    "- **Relationship b/w `IPAnnualReimbursementAmt` and `Potentially Fraud` for all `Human Races`**"
   ]
  },
  {
   "cell_type": "code",
   "execution_count": null,
   "metadata": {
    "_kg_hide-input": true,
    "id": "PBmtHGUd8S2i",
    "outputId": "325a6a6e-ab92-4610-b3f8-0282d4abfb4a",
    "trusted": true
   },
   "outputs": [],
   "source": [
    "with plt.style.context('seaborn-poster'):\n",
    "    fig = sns.boxplot(data=train_iobp_df[train_iobp_df['Admitted?'] == 1], x='PotentialFraud',y='IPAnnualReimbursementAmt', hue='Race',\n",
    "                      palette='plasma')   \n",
    "    # Providing the labels and title to the graph\n",
    "    plt.xlabel(\"Potentially Fraud?\", fontdict=label_font_dict)\n",
    "    plt.xticks(rotation=90, fontsize=12)\n",
    "    plt.ylabel(\"Annual IP Re-Imb Amount\\n\", fontdict=label_font_dict)\n",
    "    plt.minorticks_on()\n",
    "    plt.grid(which='major', linestyle=\"--\", color='lightgrey')\n",
    "    plt.title(\"Annual IP Re-Imb Amount of all human races for Potentially Fraud & Non-Fraud Providers\\n\", fontdict=title_font_dict)\n",
    "    plt.legend(loc=\"upper center\", title=\"Race\");"
   ]
  },
  {
   "cell_type": "markdown",
   "metadata": {
    "id": "MbOS4o9i8S2j"
   },
   "source": [
    "**`OBSERVATION`**\n",
    "* The above plot clearly shows us that there is no difference in the distribution of Annual IP Re-Imb Amount of all human races for Potentially Fraud and Non-Fraud Providers.\n",
    "    * Therefore, we can say that Annual IP Re-Imb Amount might not be useful in segregating the Fraud cases."
   ]
  },
  {
   "cell_type": "markdown",
   "metadata": {
    "id": "NvxDHfFm8S2j"
   },
   "source": [
    "- **Relationship b/w `IPAnnualReimbursementAmt` and `Potentially Fraud` for `RenalDiseaseIndicator`**"
   ]
  },
  {
   "cell_type": "code",
   "execution_count": null,
   "metadata": {
    "_kg_hide-input": true,
    "id": "PK0SKaSR8S2k",
    "outputId": "7696156c-8e63-42df-d52b-be570f97865b",
    "trusted": true
   },
   "outputs": [],
   "source": [
    "with plt.style.context('seaborn-poster'):\n",
    "    fig = sns.boxplot(data=train_iobp_df[train_iobp_df['Admitted?'] == 1], x='PotentialFraud',y='IPAnnualReimbursementAmt', \n",
    "                      hue='RenalDiseaseIndicator',palette='magma')   \n",
    "    # Providing the labels and title to the graph\n",
    "    plt.xlabel(\"Potentially Fraud?\", fontdict=label_font_dict)\n",
    "    plt.xticks(rotation=90, fontsize=12)\n",
    "    plt.ylabel(\"Annual IP Re-Imb Amount\\n\", fontdict=label_font_dict)\n",
    "    plt.minorticks_on()\n",
    "    plt.grid(which='major', linestyle=\"--\", color='lightgrey')\n",
    "    plt.title(\"Annual IP Re-Imb Amount of whether having RKD influence Potentially Fraud & Non-Fraud Providers?\\n\", fontdict=title_font_dict)\n",
    "    plt.legend(loc='upper center', title='RKD');"
   ]
  },
  {
   "cell_type": "markdown",
   "metadata": {
    "id": "BZyKB2UX8S2l"
   },
   "source": [
    "**`OBSERVATION`**\n",
    "* The above plot clearly shows us that there is a very slight difference in the distribution of Annual IP Re-Imb Amount of patients with or w/o RKD for Potentially Fraud and Non-Fraud Providers.\n",
    "    * Therefore, we can say that Annual IP Re-Imb Amount might not be useful in segregating the Fraud cases."
   ]
  },
  {
   "cell_type": "markdown",
   "metadata": {
    "id": "XDCwWXci8S2m"
   },
   "source": [
    "### **Does `OPAnnualReimbursementAmt` influences `Potentially Fraud`?**\n",
    "   - **Relationship b/w `OPAnnualReimbursementAmt` and `Potentially Fraud`**"
   ]
  },
  {
   "cell_type": "code",
   "execution_count": null,
   "metadata": {
    "_kg_hide-input": true,
    "id": "hEA-e3F58S2n",
    "outputId": "a7f0b98a-6080-4ea1-c2b5-e8788d8d9f8c",
    "trusted": true
   },
   "outputs": [],
   "source": [
    "with plt.style.context('seaborn-poster'):\n",
    "    fig = sns.boxenplot(data=train_iobp_df[train_iobp_df['Admitted?'] == 0], y='PotentialFraud', x='OPAnnualReimbursementAmt', \n",
    "                         palette='dark', orient='h')   \n",
    "    # Providing the labels and title to the graph\n",
    "    plt.ylabel(\"Potentially Fraud?\\n\", fontdict=label_font_dict)\n",
    "    plt.yticks(rotation=90, fontsize=12)\n",
    "    plt.xlabel(\"\\nAnnual OP Re-Imb Amount\", fontdict=label_font_dict)\n",
    "    plt.minorticks_on()\n",
    "    plt.title(\"Annual OP Re-Imb Amount for Potentially Fraud & Non-Fraud Providers\\n\", fontdict=title_font_dict)\n",
    "    plt.plot();"
   ]
  },
  {
   "cell_type": "markdown",
   "metadata": {
    "id": "uw3SAPjg8S2o"
   },
   "source": [
    "**`OBSERVATION`**\n",
    "* The above plot clearly shows us that there is no difference in the distribution of Annual OP Re-Imb Amount for Potentially Fraud and Non-Fraud Providers.\n",
    "    * And, it looks like a Pareto Distribution."
   ]
  },
  {
   "cell_type": "markdown",
   "metadata": {
    "id": "b2DZ_MXL8S2o"
   },
   "source": [
    "#### **Why do we have `OP Annual Re-Imb Amount` as `0` for `Admitted Patients`?**"
   ]
  },
  {
   "cell_type": "code",
   "execution_count": null,
   "metadata": {
    "id": "rAv8X1L98S2o",
    "outputId": "034a0658-913e-49a6-fbe6-a783bbe5e2e1",
    "trusted": true
   },
   "outputs": [],
   "source": [
    "print(pd.DataFrame(train_iobp_df[(train_iobp_df['OPAnnualReimbursementAmt'] == 0)]['Admitted?'].value_counts()))"
   ]
  },
  {
   "cell_type": "markdown",
   "metadata": {
    "id": "bA4uyG7o8S2p"
   },
   "source": [
    "- So, we have 1009 claims where Patients were not admitted to the hospital but the allocated `OP Annual Re-Imb Amt` is 0."
   ]
  },
  {
   "cell_type": "code",
   "execution_count": null,
   "metadata": {
    "id": "Olxifdj88S2p",
    "outputId": "2f44ec40-8444-4396-b49f-364bd0c1c697",
    "trusted": true
   },
   "outputs": [],
   "source": [
    "print(pd.DataFrame(train_iobp_df[(train_iobp_df['OPAnnualReimbursementAmt'] == 0) & (train_iobp_df['Admitted?'] == 0)]\\\n",
    "                   ['PotentialFraud'].value_counts()))"
   ]
  },
  {
   "cell_type": "markdown",
   "metadata": {
    "id": "Z0GE-t5_8S2q"
   },
   "source": [
    "- So, out 1009 claims 38% of them means 392 are fraudulent whereas 62% or 617 are non-fraudulent."
   ]
  },
  {
   "cell_type": "markdown",
   "metadata": {
    "execution": {
     "iopub.execute_input": "2022-08-13T12:15:11.628391Z",
     "iopub.status.busy": "2022-08-13T12:15:11.62739Z",
     "iopub.status.idle": "2022-08-13T12:15:11.644391Z",
     "shell.execute_reply": "2022-08-13T12:15:11.64239Z",
     "shell.execute_reply.started": "2022-08-13T12:15:11.628391Z"
    },
    "id": "2P4RMyvK8S2q"
   },
   "source": [
    "**`OBSERVATION`**\n",
    "\n",
    "- **Thus, we can say that if the OP Annual Amount is 0 and patient was not admitted to the hospital then chances of being fraudulent are less.**"
   ]
  },
  {
   "cell_type": "markdown",
   "metadata": {
    "id": "d5mRZ1mW8S2r"
   },
   "source": [
    "- **Relationship b/w `OPAnnualReimbursementAmt` and `Potentially Fraud` for both the `Genders`**"
   ]
  },
  {
   "cell_type": "code",
   "execution_count": null,
   "metadata": {
    "_kg_hide-input": true,
    "id": "zb7HUU258S2r",
    "outputId": "6f31f453-ad7d-4bd9-9c06-ec779b7b431f",
    "trusted": true
   },
   "outputs": [],
   "source": [
    "with plt.style.context('seaborn-poster'):\n",
    "    fig = sns.boxplot(data=train_iobp_df[train_iobp_df['Admitted?'] == 0], x='PotentialFraud',y='OPAnnualReimbursementAmt', hue='Gender',\n",
    "                      palette='flare')   \n",
    "    # Providing the labels and title to the graph\n",
    "    plt.xlabel(\"Potentially Fraud?\", fontdict=label_font_dict)\n",
    "    plt.xticks(rotation=90, fontsize=12)\n",
    "    plt.ylabel(\"Annual OP Re-Imb Amount\\n\", fontdict=label_font_dict)\n",
    "    plt.minorticks_on()\n",
    "    plt.grid(which='major', linestyle=\"--\", color='lightgrey')\n",
    "    plt.title(\"Annual OP Re-Imb Amount of both the genders for Potentially Fraud & Non-Fraud Providers\\n\", fontdict=title_font_dict)\n",
    "    plt.plot();"
   ]
  },
  {
   "cell_type": "markdown",
   "metadata": {
    "id": "cLF3U2-Z8S2r"
   },
   "source": [
    "**`OBSERVATION`**\n",
    "* The above plot clearly shows us that there is no difference in the distribution of Annual OP Re-Imb Amount of males and females for Potentially Fraud and Non-Fraud Providers.\n",
    "    * Therefore, we can say that Annual OP Re-Imb Amount might not be useful in segregating the Fraud cases."
   ]
  },
  {
   "cell_type": "markdown",
   "metadata": {
    "id": "uJlPd8iD8S2s"
   },
   "source": [
    "- **Relationship b/w `OPAnnualReimbursementAmt` and `Potentially Fraud` for `Is_Alive?`**"
   ]
  },
  {
   "cell_type": "code",
   "execution_count": null,
   "metadata": {
    "_kg_hide-input": true,
    "id": "kI2q3jKt8S2s",
    "outputId": "4d42ca5c-c190-4899-8f7d-71d43a3be5c1",
    "trusted": true
   },
   "outputs": [],
   "source": [
    "with plt.style.context('seaborn-poster'):\n",
    "    fig = sns.boxplot(data=train_iobp_df[train_iobp_df['Admitted?'] == 0], x='PotentialFraud',y='OPAnnualReimbursementAmt', hue='Is_Alive?',\n",
    "                      palette='prism')      \n",
    "    # Providing the labels and title to the graph\n",
    "    plt.xlabel(\"Potentially Fraud?\", fontdict=label_font_dict)\n",
    "    plt.xticks(rotation=90, fontsize=12)\n",
    "    plt.ylabel(\"Annual OP Re-Imb Amount\\n\", fontdict=label_font_dict)\n",
    "    plt.minorticks_on()\n",
    "    plt.grid(which='major', linestyle=\"--\", color='lightgrey')\n",
    "    plt.title(\"Annual OP Re-Imb Amount patient life status for Potentially Fraud & Non-Fraud Providers\\n\", fontdict=title_font_dict)\n",
    "    plt.legend(loc=\"upper center\", title='Is_Alive?');"
   ]
  },
  {
   "cell_type": "markdown",
   "metadata": {
    "id": "jl3ZN_6g8S2s"
   },
   "source": [
    "**`OBSERVATION`**\n",
    "* The above plot clearly shows us that there is no difference in the distribution of Annual OP Re-Imb Amount on patient life status for Potentially Fraud and Non-Fraud Providers.\n",
    "    * Therefore, we can say that Annual OP Re-Imb Amount might not be useful in segregating the Fraud cases."
   ]
  },
  {
   "cell_type": "markdown",
   "metadata": {
    "id": "4igjCJny8S2s"
   },
   "source": [
    "- **Relationship b/w `OPAnnualReimbursementAmt` and `Potentially Fraud` for all `Human Races`**"
   ]
  },
  {
   "cell_type": "code",
   "execution_count": null,
   "metadata": {
    "_kg_hide-input": true,
    "id": "M0C7PP-s8S2t",
    "outputId": "30cf06f8-f6aa-4732-dd5b-b9278596eeac",
    "trusted": true
   },
   "outputs": [],
   "source": [
    "with plt.style.context('seaborn-poster'):\n",
    "    fig = sns.boxplot(data=train_iobp_df[train_iobp_df['Admitted?'] == 0], x='PotentialFraud',y='OPAnnualReimbursementAmt', hue='Race',\n",
    "                      palette='plasma')   \n",
    "    # Providing the labels and title to the graph\n",
    "    plt.xlabel(\"Potentially Fraud?\", fontdict=label_font_dict)\n",
    "    plt.xticks(rotation=90, fontsize=12)\n",
    "    plt.ylabel(\"Annual OP Re-Imb Amount\\n\", fontdict=label_font_dict)\n",
    "    plt.minorticks_on()\n",
    "    plt.grid(which='major', linestyle=\"--\", color='lightgrey')\n",
    "    plt.title(\"Annual OP Re-Imb Amount of all human races for Potentially Fraud & Non-Fraud Providers\\n\", fontdict=title_font_dict)\n",
    "    plt.legend(loc=\"upper center\", title=\"Race\");"
   ]
  },
  {
   "cell_type": "markdown",
   "metadata": {
    "id": "_bbSSEnF8S2t"
   },
   "source": [
    "**`OBSERVATION`**\n",
    "* The above plot clearly shows us that there is no difference in the distribution of Annual OP Re-Imb Amount of all human races for Potentially Fraud and Non-Fraud Providers.\n",
    "    * Therefore, we can say that Annual OP Re-Imb Amount might not be useful in segregating the Fraud cases."
   ]
  },
  {
   "cell_type": "markdown",
   "metadata": {
    "id": "llsK6Ajt8S2t"
   },
   "source": [
    "- **Relationship b/w `OPAnnualReimbursementAmt` and `Potentially Fraud` for `RenalDiseaseIndicator`**"
   ]
  },
  {
   "cell_type": "code",
   "execution_count": null,
   "metadata": {
    "_kg_hide-input": true,
    "id": "bZgpNYal8S2u",
    "outputId": "9eef85f8-b6c0-4d2d-d59e-7ea99dbda76c",
    "trusted": true
   },
   "outputs": [],
   "source": [
    "with plt.style.context('seaborn-poster'):\n",
    "    fig = sns.boxplot(data=train_iobp_df[train_iobp_df['Admitted?'] == 0], x='PotentialFraud',y='OPAnnualReimbursementAmt', \n",
    "                      hue='RenalDiseaseIndicator',palette='magma')   \n",
    "    # Providing the labels and title to the graph\n",
    "    plt.xlabel(\"Potentially Fraud?\", fontdict=label_font_dict)\n",
    "    plt.xticks(rotation=90, fontsize=12)\n",
    "    plt.ylabel(\"Annual OP Re-Imb Amount\\n\", fontdict=label_font_dict)\n",
    "    plt.minorticks_on()\n",
    "    plt.grid(which='major', linestyle=\"--\", color='lightgrey')\n",
    "    plt.title(\"Annual OP Re-Imb Amount of whether having RKD influence Potentially Fraud & Non-Fraud Providers?\\n\", fontdict=title_font_dict)\n",
    "    plt.legend(loc='upper center', title='RKD');"
   ]
  },
  {
   "cell_type": "markdown",
   "metadata": {
    "id": "1nUzcs9P8S2u"
   },
   "source": [
    "**`OBSERVATION`**\n",
    "* The above plot clearly shows us that there is a very slight difference in the distribution of Annual OP Re-Imb Amount of patients with or w/o RKD for Potentially Fraud and Non-Fraud Providers.\n",
    "    * Therefore, we can say that Annual OP Re-Imb Amount might not be useful in segregating the Fraud cases."
   ]
  },
  {
   "cell_type": "markdown",
   "metadata": {
    "id": "9Ywp8zWJ8S2u"
   },
   "source": [
    "### **Adding `New Feature` :: `Total Number of false claims filed by a Provider`**\n",
    "\n",
    "    - Logic :: COUNT(all claims submitted by a Provider) - COUNT(all non-fraud claims submitted by a Provider)"
   ]
  },
  {
   "cell_type": "markdown",
   "metadata": {
    "id": "Niw8251E8S2v"
   },
   "source": [
    "**`REASONING`**\n",
    "\n",
    "- The idea behind adding this feature is to introduce a way by which we can see how many fraud or non fraud claims been submitted by a provider.\n",
    "\n",
    "- _Generally what has been observed in medicare frauds is that many small hospitals from rural places had been intentionally used for filing the false claims by giving them bribes or in desire of kickbacks. Thus, for such providers total claims submitted will be less but majority of them will be false._\n",
    "\n",
    "- ***But, the problem in the given dataset after joining(IP, OP, BENE with PRV TGT) is that***"
   ]
  },
  {
   "cell_type": "code",
   "execution_count": null,
   "metadata": {},
   "outputs": [],
   "source": [
    "from IPython.display import Image\n",
    "Image(\"../input/medicare-prv-fraud-files/Joining Datasets.png\")"
   ]
  },
  {
   "cell_type": "markdown",
   "metadata": {},
   "source": [
    "- ***if a provider was FRAUD then all the claims associated to it will be marked as FRAUD which I believe is wrong and doesn't provide any useful information.***"
   ]
  },
  {
   "cell_type": "markdown",
   "metadata": {
    "id": "6i1612SH8S2w"
   },
   "source": [
    "### **Adding `New Feature` :: `Total Number of claims or cases seen by Attending Physician`**"
   ]
  },
  {
   "cell_type": "code",
   "execution_count": null,
   "metadata": {
    "id": "uOF120fI8S2w",
    "outputId": "ab60e250-2855-4219-c496-8e2178fd6770",
    "trusted": true
   },
   "outputs": [],
   "source": [
    "# Total unique number of Attended Physicians\n",
    "print(\"Unique number of Attending Physicians present in the dataset are --> {}\".format(train_iobp_df['AttendingPhysician'].nunique()))"
   ]
  },
  {
   "cell_type": "code",
   "execution_count": null,
   "metadata": {
    "id": "HUTA8wiv8S2w",
    "outputId": "38eb5efa-5c1e-4e45-9c6a-6256259e6ba4",
    "trusted": true
   },
   "outputs": [],
   "source": [
    "train_iobp_df['Att_Phy_tot_claims'] = train_iobp_df.groupby(['AttendingPhysician'])['ClaimID'].transform('count')\n",
    "train_iobp_df['Att_Phy_tot_claims'].describe()"
   ]
  },
  {
   "cell_type": "code",
   "execution_count": null,
   "metadata": {
    "_kg_hide-input": true,
    "id": "S1YxzbT38S2x",
    "outputId": "92d2f31e-d37d-4164-b048-3a2a375e0870",
    "trusted": true
   },
   "outputs": [],
   "source": [
    "with plt.style.context('seaborn-poster'):\n",
    "    sns.kdeplot(x=train_iobp_df[train_iobp_df['PotentialFraud'] == 'Yes']['Att_Phy_tot_claims'],color='red')\n",
    "    sns.kdeplot(x=train_iobp_df[train_iobp_df['PotentialFraud'] == 'No']['Att_Phy_tot_claims'],color='green')\n",
    "    # Providing the labels and title to the graph\n",
    "    plt.xlabel(\"\\nAttending Physicians Total Claims Submitted\", fontdict=label_font_dict)\n",
    "    plt.xticks(np.arange(0,2800,100), rotation=90, fontsize=11)\n",
    "    plt.minorticks_on()\n",
    "    plt.title(\"Distribution of Total claims filed by Attending Physicians\", fontdict=title_font_dict)\n",
    "    plt.legend(labels=[\"Yes\", \"No\"], title=\"Potential Fraud?\");"
   ]
  },
  {
   "cell_type": "code",
   "execution_count": null,
   "metadata": {
    "_kg_hide-input": true,
    "id": "KJihzf8J8S2y",
    "outputId": "95259835-0bba-467b-c564-14fd34d66043",
    "trusted": true
   },
   "outputs": [],
   "source": [
    "with plt.style.context('seaborn-poster'):\n",
    "    fig = sns.boxplot(data=train_iobp_df, y='PotentialFraud', x='Att_Phy_tot_claims', palette='prism_r', orient='h')   \n",
    "    # Providing the labels and title to the graph\n",
    "    plt.ylabel(\"Potentially Fraud?\\n\", fontdict=label_font_dict)\n",
    "    plt.xticks(np.arange(0,2800,100), rotation=90, fontsize=12)\n",
    "    plt.xlabel(\"\\nAttending Physician Total Claims\", fontdict=label_font_dict)\n",
    "    plt.minorticks_on()\n",
    "    plt.title(\"Total claims filed by Attending Physicians\", fontdict=title_font_dict)\n",
    "    plt.plot();"
   ]
  },
  {
   "cell_type": "markdown",
   "metadata": {
    "id": "5twMfH_48S2y"
   },
   "source": [
    "**`OBSERVATION`**\n",
    "* The above KDE and Box plots suggests that the newly added feature `Att_Phy_tot_claims` may be useful in segregating the potentially fraud and non-fraudulent cases.\n",
    "    * For example, we can say that if total claims filed by a Attending Physician is greater than 500 then chances of being fraudulent are high."
   ]
  },
  {
   "cell_type": "markdown",
   "metadata": {
    "id": "GCKQ4c-08S2z"
   },
   "source": [
    "### **Adding `New Feature` :: `Total Number of claims or cases seen by Opearting Physician`**"
   ]
  },
  {
   "cell_type": "code",
   "execution_count": null,
   "metadata": {
    "id": "MreFc50_8S2z",
    "outputId": "64c6ba57-9755-4366-c29f-83a854922e02",
    "trusted": true
   },
   "outputs": [],
   "source": [
    "# Total unique number of Operating Physicians\n",
    "print(\"Unique number of Operating Physicians present in the dataset are --> {}\".format(train_iobp_df['OperatingPhysician'].nunique()))"
   ]
  },
  {
   "cell_type": "code",
   "execution_count": null,
   "metadata": {
    "id": "01LRfA6a8S20",
    "outputId": "de94a282-3734-44ec-cf9b-20f43950ca5c",
    "trusted": true
   },
   "outputs": [],
   "source": [
    "train_iobp_df['Opr_Phy_tot_claims'] = train_iobp_df.groupby(['OperatingPhysician'])['ClaimID'].transform('count')\n",
    "train_iobp_df['Opr_Phy_tot_claims'].describe()"
   ]
  },
  {
   "cell_type": "code",
   "execution_count": null,
   "metadata": {
    "_kg_hide-input": true,
    "id": "QE_6tk6E8S20",
    "outputId": "0ecf606b-2cf7-4245-81b2-1384cf939d7a",
    "trusted": true
   },
   "outputs": [],
   "source": [
    "with plt.style.context('seaborn-poster'):\n",
    "    sns.kdeplot(x=train_iobp_df[train_iobp_df['PotentialFraud'] == 'Yes']['Opr_Phy_tot_claims'],color='red')\n",
    "    sns.kdeplot(x=train_iobp_df[train_iobp_df['PotentialFraud'] == 'No']['Opr_Phy_tot_claims'],color='green')\n",
    "    # Providing the labels and title to the graph\n",
    "    plt.xlabel(\"\\nOperating Physicians Total Claims Submitted\", fontdict=label_font_dict)\n",
    "    plt.xticks(np.arange(0,500,20), rotation=90, fontsize=11)\n",
    "    plt.minorticks_on()\n",
    "    plt.title(\"Distribution of Total claims filed by Operating Physicians\", fontdict=title_font_dict)\n",
    "    plt.legend(labels=[\"Yes\", \"No\"], title=\"Potential Fraud?\");"
   ]
  },
  {
   "cell_type": "code",
   "execution_count": null,
   "metadata": {
    "_kg_hide-input": true,
    "id": "Q6dhOFqS8S21",
    "outputId": "1b249a35-f53e-49e5-9939-eb8c48250d8a",
    "trusted": true
   },
   "outputs": [],
   "source": [
    "with plt.style.context('seaborn-poster'):\n",
    "    fig = sns.boxplot(data=train_iobp_df, y='PotentialFraud', x='Opr_Phy_tot_claims', palette='prism_r', orient='h')   \n",
    "    # Providing the labels and title to the graph\n",
    "    plt.ylabel(\"Potentially Fraud?\\n\", fontdict=label_font_dict)\n",
    "    plt.xticks(np.arange(0,500,20), rotation=90, fontsize=12)\n",
    "    plt.xlabel(\"\\nOperating Physician Total Claims\", fontdict=label_font_dict)\n",
    "    plt.minorticks_on()\n",
    "    plt.title(\"Total claims filed by Operating Physicians\", fontdict=title_font_dict)\n",
    "    plt.plot();"
   ]
  },
  {
   "cell_type": "markdown",
   "metadata": {
    "id": "OMZo3fGj8S21"
   },
   "source": [
    "**`OBSERVATION`**\n",
    "* The above KDE and Box plots suggests that the newly added feature `Opr_Phy_tot_claims` may be useful in segregating the potentially fraud and non-fraudulent cases.\n",
    "    * Results are very similar to `Att_Phy_tot_claims`.\n",
    "        * For example, we can say that if total claims filed by a Operating Physician are greater than 100 then chances of being fraudulent are high."
   ]
  },
  {
   "cell_type": "markdown",
   "metadata": {
    "id": "mdxX6Yt08S21"
   },
   "source": [
    "### **Adding `New Feature` :: `Total Number of claims or cases seen by Other Physician`**"
   ]
  },
  {
   "cell_type": "code",
   "execution_count": null,
   "metadata": {
    "id": "LYVb1eoK8S22",
    "outputId": "f5af20bc-0e8f-498f-cd9a-7695384695da",
    "trusted": true
   },
   "outputs": [],
   "source": [
    "# Total unique number of Other Physicians\n",
    "print(\"Unique number of Other Physicians present in the dataset are --> {}\".format(train_iobp_df['OtherPhysician'].nunique()))"
   ]
  },
  {
   "cell_type": "code",
   "execution_count": null,
   "metadata": {
    "id": "QxgZx_Lw8S23",
    "outputId": "fcf2a445-167b-4342-96e3-c411090ce854",
    "trusted": true
   },
   "outputs": [],
   "source": [
    "train_iobp_df['Oth_Phy_tot_claims'] = train_iobp_df.groupby(['OtherPhysician'])['ClaimID'].transform('count')\n",
    "train_iobp_df['Oth_Phy_tot_claims'].describe()"
   ]
  },
  {
   "cell_type": "code",
   "execution_count": null,
   "metadata": {
    "_kg_hide-input": true,
    "id": "37CNDaev8S23",
    "outputId": "5651edf1-0e90-4e0a-b3a0-b4e64d11ea42",
    "trusted": true
   },
   "outputs": [],
   "source": [
    "with plt.style.context('seaborn-poster'):\n",
    "    sns.kdeplot(x=train_iobp_df[train_iobp_df['PotentialFraud'] == 'Yes']['Oth_Phy_tot_claims'],color='red')\n",
    "    sns.kdeplot(x=train_iobp_df[train_iobp_df['PotentialFraud'] == 'No']['Oth_Phy_tot_claims'],color='green')\n",
    "    # Providing the labels and title to the graph\n",
    "    plt.xlabel(\"Other Physicians Total Claims Submitted\", fontdict=label_font_dict)\n",
    "    plt.xticks(np.arange(0,1450,50), rotation=90, fontsize=11)\n",
    "    plt.minorticks_on()\n",
    "    plt.title(\"Distribution of Total claims filed by Other Physicians\", fontdict=title_font_dict)\n",
    "    plt.legend(labels=[\"Yes\", \"No\"], title=\"Potential Fraud?\");"
   ]
  },
  {
   "cell_type": "code",
   "execution_count": null,
   "metadata": {
    "_kg_hide-input": true,
    "id": "Hw5UcVIi8S24",
    "outputId": "c0aadc94-7a06-48e8-f82b-b0677442c7cf",
    "trusted": true
   },
   "outputs": [],
   "source": [
    "with plt.style.context('seaborn-poster'):\n",
    "    fig = sns.boxplot(data=train_iobp_df, y='PotentialFraud', x='Oth_Phy_tot_claims', palette='prism_r', orient='h')   \n",
    "    # Providing the labels and title to the graph\n",
    "    plt.ylabel(\"Potentially Fraud?\\n\", fontdict=label_font_dict)\n",
    "    plt.xticks(np.arange(0,1500,50), rotation=90, fontsize=12)\n",
    "    plt.xlabel(\"Other Physician Total Claims\", fontdict=label_font_dict)\n",
    "    plt.minorticks_on()\n",
    "    plt.title(\"Total claims filed by Other Physicians\", fontdict=title_font_dict)\n",
    "    plt.plot();"
   ]
  },
  {
   "cell_type": "markdown",
   "metadata": {
    "id": "VTbrBm818S25"
   },
   "source": [
    "**`OBSERVATION`**\n",
    "* The above KDE and Box plots suggests that the newly added feature `Oth_Phy_tot_claims` may be useful in segregating the potentially fraud and non-fraudulent cases.\n",
    "    * Results are very similar to `Att_Phy_tot_claims`.\n",
    "        * For example, we can say that if total claims filed by a Other Physician are greater than 100 then chances of being fraudulent are high."
   ]
  },
  {
   "cell_type": "code",
   "execution_count": null,
   "metadata": {
    "_kg_hide-input": true,
    "id": "ZxoynmCE8S25",
    "outputId": "ea3e86ee-d61a-4a46-fa3a-f301535f6cb0",
    "trusted": true
   },
   "outputs": [],
   "source": [
    "# Simultaneously viewing the plots for better understanding\n",
    "with plt.style.context('seaborn'):\n",
    "    fig, (ax1, ax2) = plt.subplots(nrows=1, ncols=2, figsize=(15,8), sharey=False)\n",
    "    sns.boxplot(data=train_iobp_df[train_iobp_df[\"PotentialFraud\"] == 'Yes'][['Att_Phy_tot_claims','Opr_Phy_tot_claims','Oth_Phy_tot_claims']],\n",
    "                ax=ax1, palette='viridis')\n",
    "    ax1.set_title(\"Potential Fraud = Yes\", fontdict=title_font_dict)\n",
    "    ax1.set_xlabel(\"\\nPhysicians Categories\", fontdict=label_font_dict)\n",
    "    ax1.set_ylabel(\"Claims Filed\", fontdict=label_font_dict)\n",
    "    \n",
    "    sns.boxplot(data=train_iobp_df[train_iobp_df[\"PotentialFraud\"] == 'No'][['Att_Phy_tot_claims','Opr_Phy_tot_claims','Oth_Phy_tot_claims']],\n",
    "                ax=ax2, palette='magma')\n",
    "    ax2.set_title(\"Potential Fraud = No\", fontdict=title_font_dict)\n",
    "    ax2.set_xlabel(\"\\nPhysicians Categories\", fontdict=label_font_dict)\n",
    "    ax2.set_ylabel(\"Claims Filed\", fontdict=label_font_dict)\n",
    "    # Providing the title to the figure\n",
    "    fig.suptitle(\"Distribution of Total Claims filed by Attending(Att), Operating(Opr) and Other(Oth) Physicians.\\n\", fontdict=title_font_dict)\n",
    "    plt.minorticks_on()\n",
    "    plt.plot();    "
   ]
  },
  {
   "cell_type": "markdown",
   "metadata": {
    "id": "RpfwifAJ8S26"
   },
   "source": [
    "**`OBSERVATION`**\n",
    "* The above Box plots suggests that theses newly added features may be slightly useful in segregating the potentially fraud and non-fraudulent cases.\n",
    "    * As we can see that the total false claims filed by physicians are slightly more than the non-false claims filed by them."
   ]
  },
  {
   "cell_type": "markdown",
   "metadata": {
    "id": "qyzsVOgc8S27"
   },
   "source": [
    "### **Adding `Combined Feature` :: `Att_Opr_Oth_Phy_Tot_Claims`**\n",
    "    \n",
    "   * It represents the total claims submitted by Attending, Operating and Other Physicians.\n",
    "       \n",
    "       * **`Reasoning`** :: The idea behind adding this feature is to see whether a total of physicians claims submission will help in influencing the potential frauds.\n",
    "\n",
    "\n",
    "   * **`Logic`** :: Att_Phy_tot_claims + Opr_Phy_tot_claims + Oth_Phy_tot_claims"
   ]
  },
  {
   "cell_type": "code",
   "execution_count": null,
   "metadata": {
    "id": "S_6vs75w8S27",
    "trusted": true
   },
   "outputs": [],
   "source": [
    "train_iobp_df['Att_Phy_tot_claims'].fillna(value=0, inplace=True)\n",
    "train_iobp_df['Opr_Phy_tot_claims'].fillna(value=0, inplace=True)\n",
    "train_iobp_df['Oth_Phy_tot_claims'].fillna(value=0, inplace=True)"
   ]
  },
  {
   "cell_type": "code",
   "execution_count": null,
   "metadata": {
    "id": "_b3onK7p8S28",
    "trusted": true
   },
   "outputs": [],
   "source": [
    "train_iobp_df['Att_Opr_Oth_Phy_Tot_Claims'] = train_iobp_df['Att_Phy_tot_claims'] + train_iobp_df['Opr_Phy_tot_claims'] + train_iobp_df['Oth_Phy_tot_claims']"
   ]
  },
  {
   "cell_type": "code",
   "execution_count": null,
   "metadata": {
    "id": "GMp9A6BS8S28",
    "outputId": "06686afb-96be-4bea-ad3e-b15c1839486d",
    "trusted": true
   },
   "outputs": [],
   "source": [
    "train_iobp_df['Att_Opr_Oth_Phy_Tot_Claims'].describe()"
   ]
  },
  {
   "cell_type": "code",
   "execution_count": null,
   "metadata": {
    "_kg_hide-input": true,
    "id": "m87XjMUA8S29",
    "outputId": "9db4fd3e-a11c-486a-bef4-9a0842417fce",
    "trusted": true
   },
   "outputs": [],
   "source": [
    "with plt.style.context('seaborn-poster'):\n",
    "    sns.kdeplot(x=train_iobp_df[train_iobp_df['PotentialFraud'] == 'Yes']['Att_Opr_Oth_Phy_Tot_Claims'],color='red')\n",
    "    sns.kdeplot(x=train_iobp_df[train_iobp_df['PotentialFraud'] == 'No']['Att_Opr_Oth_Phy_Tot_Claims'],color='green')\n",
    "    # Providing the labels and title to the graph\n",
    "    plt.xlabel(\"\\nAttending, Operating & Other Physicians Total Claims Submitted\", fontdict=label_font_dict)\n",
    "    plt.xticks(np.arange(0,3600,100), rotation=90, fontsize=11)\n",
    "    plt.minorticks_on()\n",
    "    plt.title(\"Distribution of Total Claims filed by Attending, Operating & Other Physicians\", fontdict=title_font_dict)\n",
    "    plt.legend(labels=[\"Yes\", \"No\"], title=\"Potential Fraud?\");"
   ]
  },
  {
   "cell_type": "code",
   "execution_count": null,
   "metadata": {
    "_kg_hide-input": true,
    "id": "6LPkDbmd8S29",
    "outputId": "bf7f6c3b-2990-499c-934a-7b1132586afc",
    "trusted": true
   },
   "outputs": [],
   "source": [
    "with plt.style.context('seaborn-poster'):\n",
    "    fig = sns.boxplot(data=train_iobp_df, y='PotentialFraud', x='Att_Opr_Oth_Phy_Tot_Claims', palette='prism_r', orient='h')   \n",
    "    # Providing the labels and title to the graph\n",
    "    plt.ylabel(\"Potentially Fraud?\\n\", fontdict=label_font_dict)\n",
    "    plt.xticks(np.arange(0,3600,100), rotation=90, fontsize=12)\n",
    "    plt.xlabel(\"\\nAttending, Operating & Other Physicians Total Claims\", fontdict=label_font_dict)\n",
    "    plt.minorticks_on()\n",
    "    plt.title(\"Total claims filed by Attending, Operating & Other Physicians\", fontdict=title_font_dict)\n",
    "    plt.plot();"
   ]
  },
  {
   "cell_type": "markdown",
   "metadata": {
    "id": "IY105hXB8S2-"
   },
   "source": [
    "**`OBSERVATION`**\n",
    "* The above Box plots shows us the similar results like the previous features. And, there is a slight difference in the data distributions which may be useful in segregating the potential frauds."
   ]
  },
  {
   "cell_type": "markdown",
   "metadata": {
    "id": "D2Og4Bcg8S2_"
   },
   "source": [
    "### **Adding `3` `New Features` :: `Prv_Tot_Att_Phy`, `Prv_Tot_Opr_Phy` and `Prv_Tot_Oth_Phy`**\n",
    "    \n",
    "   * These features will represent the total Attending, Operating and Other Physicians for every provider.\n",
    "       * **`Reasoning`** :: The idea behind adding this feature is to see if a provider has wroked with very less or very high number of physicians then does that increases or decreases the chances of potential fraud."
   ]
  },
  {
   "cell_type": "code",
   "execution_count": null,
   "metadata": {
    "id": "TShyQ0nn8S2_",
    "trusted": true
   },
   "outputs": [],
   "source": [
    "train_iobp_df[\"Prv_Tot_Att_Phy\"] = train_iobp_df.groupby(['Provider'])['AttendingPhysician'].transform('count')\n",
    "train_iobp_df[\"Prv_Tot_Opr_Phy\"] = train_iobp_df.groupby(['Provider'])['OperatingPhysician'].transform('count')\n",
    "train_iobp_df[\"Prv_Tot_Oth_Phy\"] = train_iobp_df.groupby(['Provider'])['OtherPhysician'].transform('count')"
   ]
  },
  {
   "cell_type": "code",
   "execution_count": null,
   "metadata": {
    "id": "YWxDqUHs8S3B",
    "outputId": "f13d04b8-bfb6-4873-f0a3-2a9734bf392d",
    "trusted": true
   },
   "outputs": [],
   "source": [
    "# Nulls in the above features\n",
    "train_iobp_df.isna().sum().tail(3)"
   ]
  },
  {
   "cell_type": "code",
   "execution_count": null,
   "metadata": {
    "id": "LqhgfakZ8S3C",
    "outputId": "957a7163-16c0-4f03-86de-c80be1fe52f7",
    "trusted": true
   },
   "outputs": [],
   "source": [
    "train_iobp_df[\"Prv_Tot_Att_Phy\"].describe()"
   ]
  },
  {
   "cell_type": "markdown",
   "metadata": {
    "id": "NDhjFYnj8S3D"
   },
   "source": [
    "* The average number of attending physicians for providers are 820."
   ]
  },
  {
   "cell_type": "code",
   "execution_count": null,
   "metadata": {
    "id": "4jmfblmn8S3E",
    "outputId": "3f3572e4-6789-46f4-a251-1c2820f3c8e6",
    "trusted": true
   },
   "outputs": [],
   "source": [
    "train_iobp_df[\"Prv_Tot_Opr_Phy\"].describe()"
   ]
  },
  {
   "cell_type": "markdown",
   "metadata": {
    "id": "1rkmyFBA8S3E"
   },
   "source": [
    "* The average number of operating physicians for providers are 155."
   ]
  },
  {
   "cell_type": "code",
   "execution_count": null,
   "metadata": {
    "id": "BZECdul18S3E",
    "outputId": "f8ead66e-4af0-4788-bad1-235d6bbd6dfd",
    "trusted": true
   },
   "outputs": [],
   "source": [
    "train_iobp_df[\"Prv_Tot_Oth_Phy\"].describe()"
   ]
  },
  {
   "cell_type": "markdown",
   "metadata": {
    "id": "F4dQ7afi8S3F"
   },
   "source": [
    "* The average number of other physicians for providers are 306."
   ]
  },
  {
   "cell_type": "markdown",
   "metadata": {
    "id": "wp11F-Ps8S3G"
   },
   "source": [
    "* **Relationship b/w PROVIDER and ATTENDING PHYSICIAN**"
   ]
  },
  {
   "cell_type": "code",
   "execution_count": null,
   "metadata": {
    "_kg_hide-input": true,
    "id": "BEH2KIvc8S3G",
    "outputId": "b4823822-2755-42a4-9830-daa36746971e",
    "trusted": true
   },
   "outputs": [],
   "source": [
    "with plt.style.context('seaborn-poster'):\n",
    "    sns.kdeplot(x=train_iobp_df[train_iobp_df['PotentialFraud'] == 'Yes']['Prv_Tot_Att_Phy'],color='red')\n",
    "    sns.kdeplot(x=train_iobp_df[train_iobp_df['PotentialFraud'] == 'No']['Prv_Tot_Att_Phy'],color='blue')\n",
    "    # Providing the labels and title to the graph\n",
    "    plt.xlabel(\"\\nProviders interacted with how many attending physicians?\", fontdict=label_font_dict)\n",
    "    plt.xticks(np.arange(0,8800,400), rotation=90, fontsize=11)\n",
    "    plt.minorticks_on()\n",
    "    plt.title(\"Distribution of Providers interaction with attending physicians\", fontdict=title_font_dict)\n",
    "    plt.legend(labels=[\"Yes\", \"No\"], title=\"Potential Fraud?\");"
   ]
  },
  {
   "cell_type": "code",
   "execution_count": null,
   "metadata": {
    "_kg_hide-input": true,
    "id": "hso1CRy58S3G",
    "outputId": "0c601e3b-2796-4678-fe89-b26b4e756cac",
    "trusted": true
   },
   "outputs": [],
   "source": [
    "with plt.style.context('seaborn-poster'):\n",
    "    fig = sns.boxplot(data=train_iobp_df, y='PotentialFraud', x='Prv_Tot_Att_Phy', palette='prism_r', orient='h')   \n",
    "    # Providing the labels and title to the graph\n",
    "    plt.ylabel(\"Potentially Fraud?\\n\", fontdict=label_font_dict)\n",
    "    plt.xticks(np.arange(0,8800,400), rotation=90, fontsize=12)\n",
    "    plt.xlabel(\"\\nProviders interacted with how many attending physicians?\", fontdict=label_font_dict)\n",
    "    plt.minorticks_on()\n",
    "    plt.title(\"Distribution of Providers interaction with attending physicians\", fontdict=title_font_dict)\n",
    "    plt.plot();"
   ]
  },
  {
   "cell_type": "markdown",
   "metadata": {
    "id": "g29jD9TG8S3H"
   },
   "source": [
    "**`OBSERVATION`**\n",
    "* The above KDE and Box plots are quite interesting as we can see that if `Prv_Tot_Att_Phy` is high then chances of fraud is quite high."
   ]
  },
  {
   "cell_type": "markdown",
   "metadata": {
    "id": "xcRiGcwe8S3H"
   },
   "source": [
    "* **Relationship b/w PROVIDER and OPERATING PHYSICIAN**"
   ]
  },
  {
   "cell_type": "code",
   "execution_count": null,
   "metadata": {
    "_kg_hide-input": true,
    "id": "nvpueXhS8S3H",
    "outputId": "d30661d1-4728-4ac6-ba02-9a29aaa590e7",
    "trusted": true
   },
   "outputs": [],
   "source": [
    "with plt.style.context('seaborn-poster'):\n",
    "    sns.kdeplot(x=train_iobp_df[train_iobp_df['PotentialFraud'] == 'Yes']['Prv_Tot_Opr_Phy'],color='red')\n",
    "    sns.kdeplot(x=train_iobp_df[train_iobp_df['PotentialFraud'] == 'No']['Prv_Tot_Opr_Phy'],color='blue')\n",
    "    # Providing the labels and title to the graph\n",
    "    plt.xlabel(\"\\nProviders interacted with how many operating physicians?\", fontdict=label_font_dict)\n",
    "    plt.xticks(np.arange(0,1600,100), rotation=90, fontsize=11)\n",
    "    plt.minorticks_on()\n",
    "    plt.title(\"Distribution of Providers interaction with operating physicians\", fontdict=title_font_dict)\n",
    "    plt.legend(labels=[\"Yes\", \"No\"], title=\"Potential Fraud?\");"
   ]
  },
  {
   "cell_type": "code",
   "execution_count": null,
   "metadata": {
    "_kg_hide-input": true,
    "id": "5BvcYC8q8S3I",
    "outputId": "011c4091-841d-40ff-9416-6d551babd0e5",
    "trusted": true
   },
   "outputs": [],
   "source": [
    "with plt.style.context('seaborn-poster'):\n",
    "    fig = sns.boxplot(data=train_iobp_df, y='PotentialFraud', x='Prv_Tot_Opr_Phy', palette='prism_r', orient='h')   \n",
    "    # Providing the labels and title to the graph\n",
    "    plt.ylabel(\"Potentially Fraud?\\n\", fontdict=label_font_dict)\n",
    "    plt.xticks(np.arange(0,1600,100), rotation=90, fontsize=12)\n",
    "    plt.xlabel(\"\\nProviders interacted with how many operating physicians?\", fontdict=label_font_dict)\n",
    "    plt.minorticks_on()\n",
    "    plt.title(\"Distribution of Providers interaction with operating physicians\", fontdict=title_font_dict)\n",
    "    plt.plot();"
   ]
  },
  {
   "cell_type": "markdown",
   "metadata": {
    "id": "MILaEVe98S3I"
   },
   "source": [
    "**`OBSERVATION`**\n",
    "* The above KDE and Box plots are quite interesting as we can see that if `Prv_Tot_Opr_Phy` is high then chances of fraud is quite high."
   ]
  },
  {
   "cell_type": "markdown",
   "metadata": {
    "id": "OqA5MPeL8S3J"
   },
   "source": [
    "* **Relationship b/w PROVIDER and OTHER PHYSICIAN**"
   ]
  },
  {
   "cell_type": "code",
   "execution_count": null,
   "metadata": {
    "_kg_hide-input": true,
    "id": "FtxTIUD48S3J",
    "outputId": "2a4bef43-73f5-4a1e-88fa-9275ecc166c9",
    "trusted": true
   },
   "outputs": [],
   "source": [
    "with plt.style.context('seaborn-poster'):\n",
    "    sns.kdeplot(x=train_iobp_df[train_iobp_df['PotentialFraud'] == 'Yes']['Prv_Tot_Oth_Phy'],color='red')\n",
    "    sns.kdeplot(x=train_iobp_df[train_iobp_df['PotentialFraud'] == 'No']['Prv_Tot_Oth_Phy'],color='blue')\n",
    "    # Providing the labels and title to the graph\n",
    "    plt.xlabel(\"\\nProviders interacted with how many other physicians?\", fontdict=label_font_dict)\n",
    "    plt.xticks(np.arange(0,3600,200), rotation=90, fontsize=11)\n",
    "    plt.minorticks_on()\n",
    "    plt.title(\"Distribution of Providers interaction with other physicians\", fontdict=title_font_dict)\n",
    "    plt.legend(labels=[\"Yes\", \"No\"], title=\"Potential Fraud?\");"
   ]
  },
  {
   "cell_type": "code",
   "execution_count": null,
   "metadata": {
    "_kg_hide-input": true,
    "id": "BiVwzs9_8S3K",
    "outputId": "b7bf889e-fa51-461b-fe35-7bc28a7d2826",
    "trusted": true
   },
   "outputs": [],
   "source": [
    "with plt.style.context('seaborn-poster'):\n",
    "    fig = sns.boxplot(data=train_iobp_df, y='PotentialFraud', x='Prv_Tot_Oth_Phy', palette='prism_r', orient='h')   \n",
    "    # Providing the labels and title to the graph\n",
    "    plt.ylabel(\"Potentially Fraud?\\n\", fontdict=label_font_dict)\n",
    "    plt.xticks(np.arange(0,3600,200), rotation=90, fontsize=12)\n",
    "    plt.xlabel(\"\\nProviders interacted with how many other physicians?\", fontdict=label_font_dict)\n",
    "    plt.minorticks_on()\n",
    "    plt.title(\"Distribution of Providers interaction with other physicians\", fontdict=title_font_dict)\n",
    "    plt.plot();"
   ]
  },
  {
   "cell_type": "markdown",
   "metadata": {
    "id": "J8U3MLuK8S3L"
   },
   "source": [
    "**`OBSERVATION`**\n",
    "* The above KDE and Box plots are quite interesting as we can see that if `Prv_Tot_Oth_Phy` is high then chances of fraud is quite high."
   ]
  },
  {
   "cell_type": "markdown",
   "metadata": {
    "id": "U-alZhkN8S3L"
   },
   "source": [
    "### **Adding `Combined Feature` :: `Prv_Tot_Att_Opr_Oth_Phys`**\n",
    "    \n",
    "   * It represents the total of all kind of physicians that a provider has interacted with.\n",
    "       \n",
    "       * **`Reasoning`** :: The idea behind adding this feature is to see whether a fraudulent provider interacts with higher or lower numberof of various physicians.\n",
    "\n",
    "\n",
    "   * **`Logic`** :: Prv_Tot_Att_Phy + Prv_Tot_Opr_Phy + Prv_Tot_Oth_Phy"
   ]
  },
  {
   "cell_type": "code",
   "execution_count": null,
   "metadata": {
    "id": "CqBY-zG28S3L",
    "trusted": true
   },
   "outputs": [],
   "source": [
    "train_iobp_df['Prv_Tot_Att_Opr_Oth_Phys'] = train_iobp_df['Prv_Tot_Att_Phy'] + train_iobp_df['Prv_Tot_Opr_Phy'] + train_iobp_df['Prv_Tot_Oth_Phy']"
   ]
  },
  {
   "cell_type": "code",
   "execution_count": null,
   "metadata": {
    "_kg_hide-input": true,
    "id": "MRKhs-Nz8S3L",
    "outputId": "ec2dad48-d048-41d2-f7c7-5a12d7b83bbe",
    "trusted": true
   },
   "outputs": [],
   "source": [
    "with plt.style.context('seaborn-poster'):\n",
    "    sns.kdeplot(x=train_iobp_df[train_iobp_df['PotentialFraud'] == 'Yes']['Prv_Tot_Att_Opr_Oth_Phys'],color='red')\n",
    "    sns.kdeplot(x=train_iobp_df[train_iobp_df['PotentialFraud'] == 'No']['Prv_Tot_Att_Opr_Oth_Phys'],color='blue')\n",
    "    # Providing the labels and title to the graph\n",
    "    plt.xlabel(\"\\nProviders interacted with how many all kind of physicians?\", fontdict=label_font_dict)\n",
    "    plt.xticks(np.arange(0,14000,1000), rotation=90, fontsize=11)\n",
    "    plt.minorticks_on()\n",
    "    plt.title(\"Distribution of Providers interaction with all kind of physicians\", fontdict=title_font_dict)\n",
    "    plt.legend(labels=[\"Yes\", \"No\"], title=\"Potential Fraud?\");"
   ]
  },
  {
   "cell_type": "code",
   "execution_count": null,
   "metadata": {
    "_kg_hide-input": true,
    "id": "p5hVKCe18S3M",
    "outputId": "b687c200-718b-4f74-9f03-03d72373fe93",
    "trusted": true
   },
   "outputs": [],
   "source": [
    "with plt.style.context('seaborn-poster'):\n",
    "    fig = sns.boxplot(data=train_iobp_df, y='PotentialFraud', x='Prv_Tot_Att_Opr_Oth_Phys', palette='prism_r', orient='h')   \n",
    "    # Providing the labels and title to the graph\n",
    "    plt.ylabel(\"Potentially Fraud?\\n\", fontdict=label_font_dict)\n",
    "    plt.xticks(np.arange(0,14000,1000), rotation=90, fontsize=12)\n",
    "    plt.xlabel(\"\\nProviders interacted with how many all kind of physicians?\", fontdict=label_font_dict)\n",
    "    plt.minorticks_on()\n",
    "    plt.title(\"Distribution of Providers interaction with all kind of physicians\", fontdict=title_font_dict)\n",
    "    plt.plot();"
   ]
  },
  {
   "cell_type": "markdown",
   "metadata": {
    "id": "zmppPDvz8S3M"
   },
   "source": [
    "**`OBSERVATION`**\n",
    "* The above KDE and Box plots are quite interesting as we can see that if `Prv_Tot_Att_Opr_Oth_Phys` is high then chances of fraud is quite high."
   ]
  },
  {
   "cell_type": "markdown",
   "metadata": {
    "id": "yJIiBgnI8S3N"
   },
   "source": [
    "### **Adding `New Feature` :: `Total Unique Claim Admit Codes used by a PROVIDER`**\n",
    "   \n",
    "   * **`Reasoning`** :: The idea behind adding this feature is to see how many unique number of `Claim Admit Diagnosis Codes` used by the Provider. \n",
    "       * As there may be a pattern that if a provider has used so many Admit Diagnosis Codes then it might increases or decreases the chances of fraud."
   ]
  },
  {
   "cell_type": "code",
   "execution_count": null,
   "metadata": {
    "id": "agtVcf-X8S3N",
    "trusted": true
   },
   "outputs": [],
   "source": [
    "train_iobp_df['PRV_Tot_Admit_DCodes'] = train_iobp_df.groupby(['Provider'])['ClmAdmitDiagnosisCode'].transform('nunique')"
   ]
  },
  {
   "cell_type": "code",
   "execution_count": null,
   "metadata": {
    "_kg_hide-input": true,
    "id": "1B-YA2g98S3N",
    "outputId": "b0302758-945b-4994-911d-7d26fd5a3eaf",
    "trusted": true
   },
   "outputs": [],
   "source": [
    "with plt.style.context('seaborn-poster'):\n",
    "    sns.kdeplot(x=train_iobp_df[train_iobp_df['PotentialFraud'] == 'Yes']['PRV_Tot_Admit_DCodes'], color='red')\n",
    "    sns.kdeplot(x=train_iobp_df[train_iobp_df['PotentialFraud'] == 'No']['PRV_Tot_Admit_DCodes'], color='blue')\n",
    "    # Providing the labels and title to the graph\n",
    "    plt.xlabel(\"\\nProviders used unique Claim Admit Diagnosis Codes\", fontdict=label_font_dict)\n",
    "    plt.xticks(np.arange(0,600,50), rotation=90, fontsize=11)\n",
    "    plt.minorticks_on()\n",
    "    plt.title(\"Distribution of Providers used unique Claim Admit Diagnosis Codes\", fontdict=title_font_dict)\n",
    "    plt.legend(labels=[\"Yes\", \"No\"], title=\"Potential Fraud?\");"
   ]
  },
  {
   "cell_type": "code",
   "execution_count": null,
   "metadata": {
    "_kg_hide-input": true,
    "id": "BExl6VwV8S3O",
    "outputId": "9d799c1f-5358-44e4-dead-74e4f3aa85d9",
    "trusted": true
   },
   "outputs": [],
   "source": [
    "with plt.style.context('seaborn-poster'):\n",
    "    fig = sns.boxplot(data=train_iobp_df, y='PotentialFraud', x='PRV_Tot_Admit_DCodes', palette='prism_r', orient='h')   \n",
    "    # Providing the labels and title to the graph\n",
    "    plt.ylabel(\"Potentially Fraud?\\n\", fontdict=label_font_dict)\n",
    "    plt.xticks(np.arange(0,600,50), rotation=90, fontsize=12)\n",
    "    plt.xlabel(\"\\nProviders used unique Claim Admit Diagnosis Codes\", fontdict=label_font_dict)\n",
    "    plt.minorticks_on()\n",
    "    plt.title(\"Distribution of Providers used unique Claim Admit Diagnosis Codes\", fontdict=title_font_dict)\n",
    "    plt.plot();"
   ]
  },
  {
   "cell_type": "markdown",
   "metadata": {
    "id": "m9LvPHwc8S3O"
   },
   "source": [
    "**`OBSERVATION`**\n",
    "* The above KDE and Box plots are very interesting as we can see that if `PRV_Tot_Admit_DCodes` is high then chances of fraud also increases.\n",
    "\n",
    "**`NOTE` :: `What didn't worked?`**\n",
    "* I also looked to add the `unique number of Admit Diagnosis Codes` used by the `3 different class of physicians` but the variation was very minimal, thus not added those features."
   ]
  },
  {
   "cell_type": "markdown",
   "metadata": {
    "id": "bLjN_Azy8S3O"
   },
   "source": [
    "### **Adding `New Feature` :: `Total Unique Number of Diagnosis Group Codes used by a PROVIDER`**\n",
    "   \n",
    "   * **`Reasoning`** :: The idea behind adding this feature is to see how many unique `Diagnosis Group Codes` used by the Provider.\n",
    "       * As there may be a pattern that if a provider has used so many Diagnosis Group Codes then it might increases or decreases the chances of fraud."
   ]
  },
  {
   "cell_type": "code",
   "execution_count": null,
   "metadata": {
    "id": "o9rBLV8M8S3P",
    "trusted": true
   },
   "outputs": [],
   "source": [
    "train_iobp_df['PRV_Tot_DGrpCodes'] = train_iobp_df.groupby(['Provider'])['DiagnosisGroupCode'].transform('nunique')"
   ]
  },
  {
   "cell_type": "code",
   "execution_count": null,
   "metadata": {
    "_kg_hide-input": true,
    "id": "m5ZpKFng8S3P",
    "outputId": "03f3b00c-dd6e-40f9-ad35-c4f5064452bc",
    "trusted": true
   },
   "outputs": [],
   "source": [
    "with plt.style.context('seaborn-poster'):\n",
    "    sns.kdeplot(x=train_iobp_df[train_iobp_df['PotentialFraud'] == 'Yes']['PRV_Tot_DGrpCodes'], color='red')\n",
    "    sns.kdeplot(x=train_iobp_df[train_iobp_df['PotentialFraud'] == 'No']['PRV_Tot_DGrpCodes'], color='blue')\n",
    "    # Providing the labels and title to the graph\n",
    "    plt.xlabel(\"\\nProviders used unique Diagnosis Group Codes\", fontdict=label_font_dict)\n",
    "    plt.xticks(np.arange(0,400,40), rotation=90, fontsize=11)\n",
    "    plt.minorticks_on()\n",
    "    plt.title(\"Distribution of Providers used unique Diagnosis Group Codes\", fontdict=title_font_dict)\n",
    "    plt.legend(labels=[\"Yes\", \"No\"], title=\"Potential Fraud?\");"
   ]
  },
  {
   "cell_type": "code",
   "execution_count": null,
   "metadata": {
    "_kg_hide-input": true,
    "id": "ZdtpwyLp8S3P",
    "outputId": "77299ba2-d50c-4035-ceba-a2e3a092bfdc",
    "trusted": true
   },
   "outputs": [],
   "source": [
    "with plt.style.context('seaborn-poster'):\n",
    "    fig = sns.boxplot(data=train_iobp_df, y='PotentialFraud', x='PRV_Tot_DGrpCodes', palette='prism_r', orient='h')   \n",
    "    # Providing the labels and title to the graph\n",
    "    plt.ylabel(\"Potentially Fraud?\\n\", fontdict=label_font_dict)\n",
    "    plt.xticks(np.arange(0,400,40), rotation=90, fontsize=12)\n",
    "    plt.xlabel(\"\\nProviders used unique Diagnosis Group Codes\", fontdict=label_font_dict)\n",
    "    plt.minorticks_on()\n",
    "    plt.title(\"Distribution of Providers used unique Diagnosis Group Codes\", fontdict=title_font_dict)\n",
    "    plt.plot();"
   ]
  },
  {
   "cell_type": "markdown",
   "metadata": {
    "id": "SLxgp_-Q8S3Q"
   },
   "source": [
    "**`OBSERVATION`**\n",
    "* The above KDE and Box plots suggest that if `PRV_Tot_Admit_DCodes` is high then it slightly increases the chances of fraud.\n",
    "\n",
    "\n",
    "**`NOTE` :: `What didn't worked?`**\n",
    "* I also looked to add the `unique number of Diagnosis Group Codes` used by the `3 different class of physicians` but the variation was very minimal, thus not added those features.\n",
    "\n",
    "\n",
    "**`NOTE` :: `What didn't worked?`**\n",
    "* I also looked to add `in how many claims a unique Diagnosis Group Code` is used but there was no variation at all, thus not added that feature. Kindly refer to the below image:"
   ]
  },
  {
   "cell_type": "code",
   "execution_count": null,
   "metadata": {
    "trusted": true
   },
   "outputs": [],
   "source": [
    "from IPython.display import Image\n",
    "Image(\"../input/medicare-prv-fraud-files/What_didnt_worked_DGCode_across_claims.png\")"
   ]
  },
  {
   "cell_type": "markdown",
   "metadata": {},
   "source": [
    "**`NOTE` :: `What didn't worked?`**\n",
    "* I also looked to add `DOB -- Month`, `DOD -- Year` and `DOD -- Month` in order to see whether we can find some pattern of bogus DOB or DOD but there was no variation at all, thus not added that feature. Also, raw `DOB -- Year` also showed no variation. Kindly refer to the below image:"
   ]
  },
  {
   "cell_type": "code",
   "execution_count": null,
   "metadata": {},
   "outputs": [],
   "source": [
    "from IPython.display import Image\n",
    "Image(\"../input/medicare-prv-fraud-files/What_didnt_worked_DOB_Years_Month.png\")"
   ]
  },
  {
   "cell_type": "markdown",
   "metadata": {
    "id": "amMd3L7H8S3Q"
   },
   "source": [
    "### **Adding `New Feature` :: `Total unique Date of Birth years of beneficiaries provided by a Provider`**\n",
    "   \n",
    "   * **`Reasoning`** :: The idea behind adding this feature is that if a provider has very high variability in the year of birth of patients then that might be one of the signs of medicare frauds.\n",
    "       - Because generally private hospitals who treat poor patients make false claims on their names. For example, Nazia is 10 years old. But, according to a claim filed by Chhattisgarh-based Shaheed Hospital with the Rashtriya Swasthya Bima Yojna (RSBY), she has delivered a baby after a caesarean operation. Mukul (name changed) is only 7. But Agarwal Hospital, Raipur, has made a claim for removing cataract from his eyes.\n",
    "\n",
    "Read more at:\n",
    "https://economictimes.indiatimes.com/news/politics-and-nation/private-hospitals-perform-fake-surgeries-to-claim-thousands-in-insurance-cover/articleshow/16934229.cms?utm_source=contentofinterest&utm_medium=text&utm_campaign=cppst"
   ]
  },
  {
   "cell_type": "code",
   "execution_count": null,
   "metadata": {
    "id": "HJNGp8OB8S3R",
    "trusted": true
   },
   "outputs": [],
   "source": [
    "train_iobp_df['DOB_Year'] = train_iobp_df['DOB'].dt.year"
   ]
  },
  {
   "cell_type": "code",
   "execution_count": null,
   "metadata": {
    "id": "gcjW7hDl8S3S",
    "trusted": true
   },
   "outputs": [],
   "source": [
    "train_iobp_df['PRV_Tot_Unq_DOB_Years'] = train_iobp_df.groupby(['Provider'])['DOB_Year'].transform('nunique')"
   ]
  },
  {
   "cell_type": "code",
   "execution_count": null,
   "metadata": {
    "id": "uzha9Yrn8S3S",
    "outputId": "5eda3b85-0d67-4a48-87ee-91a4f7ec65fb",
    "trusted": true
   },
   "outputs": [],
   "source": [
    "train_iobp_df['PRV_Tot_Unq_DOB_Years'].describe()"
   ]
  },
  {
   "cell_type": "code",
   "execution_count": null,
   "metadata": {
    "_kg_hide-input": true,
    "id": "l6ol-T_p8S3S",
    "outputId": "a97abe6d-a4e4-4a8f-d2b2-5d6af0f5724a",
    "trusted": true
   },
   "outputs": [],
   "source": [
    "with plt.style.context('seaborn-poster'):\n",
    "    sns.kdeplot(x=train_iobp_df[train_iobp_df['PotentialFraud'] == 'Yes']['PRV_Tot_Unq_DOB_Years'], color='red')\n",
    "    sns.kdeplot(x=train_iobp_df[train_iobp_df['PotentialFraud'] == 'No']['PRV_Tot_Unq_DOB_Years'], color='blue')\n",
    "    # Providing the labels and title to the graph\n",
    "    plt.xlabel(\"\\nTotal unique Years of birth of patients\", fontdict=label_font_dict)\n",
    "    plt.xticks(np.arange(0,80,4), rotation=90, fontsize=11)\n",
    "    plt.minorticks_on()\n",
    "    plt.title(\"Distribution Providers treated Patients of various DOB Years\", fontdict=title_font_dict)\n",
    "    plt.legend(labels=[\"Yes\", \"No\"], title=\"Potential Fraud?\");"
   ]
  },
  {
   "cell_type": "code",
   "execution_count": null,
   "metadata": {
    "_kg_hide-input": true,
    "id": "04FgQoSk8S3T",
    "outputId": "8e589f29-a296-4c22-a9ec-9f292223d822",
    "trusted": true
   },
   "outputs": [],
   "source": [
    "with plt.style.context('seaborn-poster'):\n",
    "    fig = sns.boxplot(data=train_iobp_df, y='PotentialFraud', x='PRV_Tot_Unq_DOB_Years', palette='prism_r', orient='h')   \n",
    "    # Providing the labels and title to the graph\n",
    "    plt.ylabel(\"Potentially Fraud?\\n\", fontdict=label_font_dict)\n",
    "    plt.xticks(np.arange(0,80,4), rotation=90, fontsize=12)\n",
    "    plt.xlabel(\"\\nTotal unique Years of birth of patients\", fontdict=label_font_dict)\n",
    "    plt.minorticks_on()\n",
    "    plt.title(\"Distribution Providers treated Patients of various DOB Years\", fontdict=title_font_dict)\n",
    "    plt.plot();"
   ]
  },
  {
   "cell_type": "markdown",
   "metadata": {
    "id": "qMBEButM8S3T"
   },
   "source": [
    "**`OBSERVATION`**\n",
    "* The above KDE and Box plots suggest that if `PRV_Tot_Unq_DOB_Years` is very high than then it increases the chances of fraud as well.\n",
    "    * As shown below, if PRV_Tot_Unq_DOB_Years is greater than or equals to 67 then the very high majority of cases are fraud."
   ]
  },
  {
   "cell_type": "code",
   "execution_count": null,
   "metadata": {
    "id": "P36JnqM-8S3U",
    "outputId": "493026db-b088-4faa-de6f-e56c5b74c330",
    "trusted": true
   },
   "outputs": [],
   "source": [
    "train_iobp_df[train_iobp_df['PRV_Tot_Unq_DOB_Years'] >=67]['PotentialFraud'].value_counts()"
   ]
  },
  {
   "cell_type": "markdown",
   "metadata": {
    "id": "cPJNDVv98S3U"
   },
   "source": [
    "### **Adding `New Feature` :: `Sum of patients age treated by a Provider`**\n",
    "   \n",
    "   * **`Reasoning`** :: The idea behind adding this feature is that there might be a pattern like if the sum of patients age treated by a provider is very high or low then it might influence the fraud."
   ]
  },
  {
   "cell_type": "code",
   "execution_count": null,
   "metadata": {
    "id": "rjeQEw198S3U",
    "trusted": true
   },
   "outputs": [],
   "source": [
    "train_iobp_df['PRV_Bene_Age_Sum'] = train_iobp_df.groupby(['Provider'])['Bene_Age'].transform('sum')"
   ]
  },
  {
   "cell_type": "code",
   "execution_count": null,
   "metadata": {
    "id": "CzyE8YzG8S3U",
    "outputId": "c7e1948f-bb84-4ae4-c60f-c0eda9598ecc",
    "trusted": true
   },
   "outputs": [],
   "source": [
    "train_iobp_df['PRV_Bene_Age_Sum'].describe()"
   ]
  },
  {
   "cell_type": "code",
   "execution_count": null,
   "metadata": {
    "_kg_hide-input": true,
    "id": "yW2cOv5j8S3V",
    "outputId": "e48484ac-f7ee-42a6-b14e-7904b376da14",
    "trusted": true
   },
   "outputs": [],
   "source": [
    "with plt.style.context('seaborn-poster'):\n",
    "    sns.kdeplot(x=train_iobp_df[train_iobp_df['PotentialFraud'] == 'Yes']['PRV_Bene_Age_Sum'], color='red')\n",
    "    sns.kdeplot(x=train_iobp_df[train_iobp_df['PotentialFraud'] == 'No']['PRV_Bene_Age_Sum'], color='blue')\n",
    "    # Providing the labels and title to the graph\n",
    "    plt.xlabel(\"\\nSum of patients age treated by Providers\", fontdict=label_font_dict)\n",
    "    plt.xticks(np.arange(0,620000,50000), rotation=90, fontsize=11)\n",
    "    plt.minorticks_on()\n",
    "    plt.title(\"Distribution of Sum of patients age treated by Providers\", fontdict=title_font_dict)\n",
    "    plt.legend(labels=[\"Yes\", \"No\"], title=\"Potential Fraud?\");"
   ]
  },
  {
   "cell_type": "code",
   "execution_count": null,
   "metadata": {
    "_kg_hide-input": true,
    "id": "KeQZgfK68S3V",
    "outputId": "b317f444-6719-4c85-cd89-6eb00caf6028",
    "trusted": true
   },
   "outputs": [],
   "source": [
    "with plt.style.context('seaborn-poster'):\n",
    "    fig = sns.boxplot(data=train_iobp_df, y='PotentialFraud', x='PRV_Bene_Age_Sum', palette='prism_r', orient='h')   \n",
    "    # Providing the labels and title to the graph\n",
    "    plt.ylabel(\"Potentially Fraud?\\n\", fontdict=label_font_dict)\n",
    "    plt.xticks(np.arange(0,620000,50000), rotation=90, fontsize=11)\n",
    "    plt.xlabel(\"\\nSum of patients age treated by Providers\", fontdict=label_font_dict)\n",
    "    plt.minorticks_on()\n",
    "    plt.title(\"Distribution of Sum of patients age treated by Providers\", fontdict=title_font_dict)\n",
    "    plt.plot();"
   ]
  },
  {
   "cell_type": "markdown",
   "metadata": {
    "id": "7p7Ef-VD8S3V"
   },
   "source": [
    "**`OBSERVATION`**\n",
    "* The above KDE and Box plots suggest that if `PRV_Bene_Age_Sum` is high then it increases the chances of fraud."
   ]
  },
  {
   "cell_type": "markdown",
   "metadata": {
    "id": "uzPj_NAQ8S3W"
   },
   "source": [
    "### **Adding `New Feature` :: `Sum of Insc Claim Re-Imb Amount for a Provider`**\n",
    "   \n",
    "   * **`Reasoning`** :: The idea behind adding this feature is that there might be a pattern like if the sum of claim re-imb amount for a provider is very high or low then it might influence the fraud."
   ]
  },
  {
   "cell_type": "code",
   "execution_count": null,
   "metadata": {
    "id": "HwXBYIr68S3W",
    "trusted": true
   },
   "outputs": [],
   "source": [
    "train_iobp_df['PRV_Insc_Clm_ReImb_Amt'] = train_iobp_df.groupby(['Provider'])['InscClaimAmtReimbursed'].transform('sum')"
   ]
  },
  {
   "cell_type": "code",
   "execution_count": null,
   "metadata": {
    "id": "IXglK8RJ8S3W",
    "outputId": "4967da93-3527-4e53-b1fd-abf505510549",
    "trusted": true
   },
   "outputs": [],
   "source": [
    "train_iobp_df['PRV_Insc_Clm_ReImb_Amt'].describe()"
   ]
  },
  {
   "cell_type": "code",
   "execution_count": null,
   "metadata": {
    "_kg_hide-input": true,
    "id": "lDBO4Ht38S3W",
    "outputId": "30bb7634-eedb-4cbd-98b8-1ceae7edcb75",
    "trusted": true
   },
   "outputs": [],
   "source": [
    "with plt.style.context('seaborn-poster'):\n",
    "    sns.kdeplot(x=train_iobp_df[train_iobp_df['PotentialFraud'] == 'Yes']['PRV_Insc_Clm_ReImb_Amt'], color='red')\n",
    "    sns.kdeplot(x=train_iobp_df[train_iobp_df['PotentialFraud'] == 'No']['PRV_Insc_Clm_ReImb_Amt'], color='blue')\n",
    "    # Providing the labels and title to the graph\n",
    "    plt.xlabel(\"\\nSum of Insc Claim Re-Imb Amount for a Provider\", fontdict=label_font_dict)\n",
    "    plt.minorticks_on()\n",
    "    plt.title(\"Distribution of Sum of Insc Claim Re-Imb Amount for a Provider\", fontdict=title_font_dict)\n",
    "    plt.legend(labels=[\"Yes\", \"No\"], title=\"Potential Fraud?\");"
   ]
  },
  {
   "cell_type": "code",
   "execution_count": null,
   "metadata": {
    "_kg_hide-input": true,
    "id": "kwx75iKC8S3X",
    "outputId": "b7afcc45-7f7f-4673-c723-92f8a30ca531",
    "trusted": true
   },
   "outputs": [],
   "source": [
    "with plt.style.context('seaborn-poster'):\n",
    "    fig = sns.boxplot(data=train_iobp_df, y='PotentialFraud', x='PRV_Insc_Clm_ReImb_Amt', palette='prism_r', orient='h')   \n",
    "    # Providing the labels and title to the graph\n",
    "    plt.ylabel(\"Potentially Fraud?\\n\", fontdict=label_font_dict)\n",
    "    plt.xlabel(\"\\nSum of Insc Claim Re-Imb Amount for a Provider\", fontdict=label_font_dict)\n",
    "    plt.minorticks_on()\n",
    "    plt.title(\"Distribution of Sum of Insc Claim Re-Imb Amount for a Provider\", fontdict=title_font_dict)\n",
    "    plt.plot();"
   ]
  },
  {
   "cell_type": "markdown",
   "metadata": {
    "id": "NLU5jd0b8S3X"
   },
   "source": [
    "**`OBSERVATION`**\n",
    "* The above KDE and Box plots suggest that if `PRV_Insc_Clm_ReImb_Amt` is high then it increases the chances of fraud."
   ]
  },
  {
   "cell_type": "markdown",
   "metadata": {
    "id": "TWLMnER38S3X"
   },
   "source": [
    "### **Adding `New Feature` :: `Total number of RKD Patients seen by a Provider`**\n",
    "   \n",
    "   * **`Reasoning`** :: The idea behind adding this feature is that there might be a pattern like if the total number of RKD Patients seen by a Provider is very high or low then it might influence the fraud."
   ]
  },
  {
   "cell_type": "code",
   "execution_count": null,
   "metadata": {
    "id": "gzivLtU58S3Y",
    "trusted": true
   },
   "outputs": [],
   "source": [
    "train_iobp_df['RenalDiseaseIndicator'] = train_iobp_df['RenalDiseaseIndicator'].apply(lambda val: 1 if val == \"Y\" else 0)"
   ]
  },
  {
   "cell_type": "code",
   "execution_count": null,
   "metadata": {
    "id": "2Hdmrk7X8S3Y",
    "trusted": true
   },
   "outputs": [],
   "source": [
    "train_iobp_df['PRV_Tot_RKD_Patients'] = train_iobp_df.groupby(['Provider'])['RenalDiseaseIndicator'].transform('sum')"
   ]
  },
  {
   "cell_type": "code",
   "execution_count": null,
   "metadata": {
    "id": "a_0xCYcI8S3Y",
    "outputId": "860a050a-2d6f-4f63-f41d-ebfb4934bacc",
    "trusted": true
   },
   "outputs": [],
   "source": [
    "train_iobp_df['PRV_Tot_RKD_Patients'].describe()"
   ]
  },
  {
   "cell_type": "code",
   "execution_count": null,
   "metadata": {
    "_kg_hide-input": true,
    "id": "LfH2WSLQ8S3Y",
    "outputId": "d2267f57-5e34-4e46-b99f-6c3f979fca9a",
    "trusted": true
   },
   "outputs": [],
   "source": [
    "with plt.style.context('seaborn-poster'):\n",
    "    sns.kdeplot(x=train_iobp_df[train_iobp_df['PotentialFraud'] == 'Yes']['PRV_Tot_RKD_Patients'], color='red')\n",
    "    sns.kdeplot(x=train_iobp_df[train_iobp_df['PotentialFraud'] == 'No']['PRV_Tot_RKD_Patients'], color='blue')\n",
    "    # Providing the labels and title to the graph\n",
    "    plt.xlabel(\"\\nRKD Patients seen by a Provider\", fontdict=label_font_dict)\n",
    "    plt.xticks(np.arange(0,1600,100), rotation=90, fontsize=11)\n",
    "    plt.minorticks_on()\n",
    "    plt.title(\"Distribution of total number of RKD Patients seen by a Provider\", fontdict=title_font_dict)\n",
    "    plt.legend(labels=[\"Yes\", \"No\"], title=\"Potential Fraud?\");"
   ]
  },
  {
   "cell_type": "code",
   "execution_count": null,
   "metadata": {
    "_kg_hide-input": true,
    "id": "b2SPbLew8S3Z",
    "outputId": "3f15e119-7328-4030-8741-970e3653641f",
    "trusted": true
   },
   "outputs": [],
   "source": [
    "with plt.style.context('seaborn-poster'):\n",
    "    fig = sns.boxplot(data=train_iobp_df, y='PotentialFraud', x='PRV_Tot_RKD_Patients', palette='prism_r', orient='h')   \n",
    "    # Providing the labels and title to the graph\n",
    "    plt.ylabel(\"Potentially Fraud?\\n\", fontdict=label_font_dict)\n",
    "    plt.xticks(np.arange(0,1600,100), rotation=90, fontsize=11)\n",
    "    plt.xlabel(\"\\nRKD Patients seen by a Provider\", fontdict=label_font_dict)\n",
    "    plt.minorticks_on()\n",
    "    plt.title(\"Distribution of total number of RKD Patients seen by a Provider\", fontdict=title_font_dict)\n",
    "    plt.plot();"
   ]
  },
  {
   "cell_type": "markdown",
   "metadata": {
    "id": "kcC3ruKx8S3Z"
   },
   "source": [
    "**`OBSERVATION`**\n",
    "* The above KDE and Box plots suggest that if `PRV_Tot_RKD_Patients` is high then it increases the chances of fraud."
   ]
  },
  {
   "cell_type": "markdown",
   "metadata": {
    "id": "NbHM79YG8S3Z"
   },
   "source": [
    "# **`Some trends`**"
   ]
  },
  {
   "cell_type": "markdown",
   "metadata": {
    "id": "gpZOfRExXA5O"
   },
   "source": [
    "### **Q1. Which are the Top-25 `Providers` with maximum number of fraudulent cases?**"
   ]
  },
  {
   "cell_type": "code",
   "execution_count": null,
   "metadata": {
    "id": "mS3geeHxXA5P",
    "outputId": "5b8d4ffc-8b42-4910-ec8e-c2b21b63d8fe",
    "trusted": true
   },
   "outputs": [],
   "source": [
    "tmp = pd.DataFrame(train_iobp_df.groupby(['Provider','PotentialFraud'])['BeneID'].count()).reset_index()\n",
    "tmp.columns = ['Provider', 'Fraud?', 'Num_of_cases']\n",
    "tot_fraud_cases = tmp[tmp['Fraud?'] == 'Yes']['Num_of_cases'].sum()\n",
    "tot_non_fraud_cases = tmp[tmp['Fraud?'] == 'No']['Num_of_cases'].sum()\n",
    "tmp['Cases'] = tmp['Fraud?'].apply(lambda val: tot_non_fraud_cases if val == \"No\" else tot_fraud_cases)\n",
    "tmp['Percentage'] = round(((tmp['Num_of_cases'] / tmp['Cases']) * 100),2)\n",
    "\n",
    "tmp.head()"
   ]
  },
  {
   "cell_type": "code",
   "execution_count": null,
   "metadata": {
    "id": "kY2GIeZUXA5Q",
    "trusted": true
   },
   "outputs": [],
   "source": [
    "tmp_only_frauds = tmp[tmp['Fraud?'] == 'Yes'].sort_values(by=['Percentage'], ascending=False).reset_index(drop=True)"
   ]
  },
  {
   "cell_type": "code",
   "execution_count": null,
   "metadata": {
    "_kg_hide-input": true,
    "id": "vSnESFVUXA5Q",
    "outputId": "9c3efc89-4ddb-475f-dabe-b4dd409372f6",
    "trusted": true
   },
   "outputs": [],
   "source": [
    "print(tmp_only_frauds[['Provider','Num_of_cases','Percentage']].head(25), \"\\n\")\n",
    "\n",
    "with plt.style.context('seaborn'):\n",
    "    plt.figure(figsize=(14,8))\n",
    "    fig = sns.barplot(data=tmp_only_frauds.iloc[0:25], x=\"Provider\", y=\"Num_of_cases\", palette='Accent')\n",
    "    # Using the \"patches\" function we will get the location of the rectangle bars from the graph.\n",
    "    ## Then by using those location(width & height) values we will add the annotations\n",
    "    for p in fig.patches:\n",
    "        width = p.get_width()\n",
    "        height = p.get_height()\n",
    "        x, y = p.get_xy()\n",
    "        fig.annotate(f'{str(round((height*100)/tot_fraud_cases,2))+\"%\"}', (x + width/2, y + height*1.025), ha='center', fontsize=13.5, rotation=90)\n",
    "    \n",
    "    # Providing the labels and title to the graph\n",
    "    plt.xlabel(\"\\nTop Fraudulent Providers\", fontdict=label_font_dict)\n",
    "    plt.xticks(rotation=90, fontsize=12)\n",
    "    plt.ylabel(\"Number (or % share) of Cases\\n\", fontdict=label_font_dict)\n",
    "    plt.minorticks_on()\n",
    "    plt.grid(which='major', linestyle=\"--\", color='lightgrey')\n",
    "    plt.title(\"Top-25 Providers with most number of fraudulent cases\\n\", fontdict=title_font_dict)\n",
    "    plt.plot();"
   ]
  },
  {
   "cell_type": "markdown",
   "metadata": {
    "id": "E84MEAYtXA5R"
   },
   "source": [
    "**`OBSERVATION`**\n",
    "* The above plot shows us the Top-25 Providers with most percentage of Fraudulent Case Submissions.\n",
    "    * Here, PRV51459 has the highest percentage share of fraudulent cases. The, difference b/w others providers is not that high."
   ]
  },
  {
   "cell_type": "markdown",
   "metadata": {
    "id": "qpHx1t3wXA5R"
   },
   "source": [
    "### **Q2. Which are the Top-25 `Providers` with maximum number of non-fraudulent cases?**"
   ]
  },
  {
   "cell_type": "code",
   "execution_count": null,
   "metadata": {
    "id": "gNYtq1JxXA5S",
    "trusted": true
   },
   "outputs": [],
   "source": [
    "tmp_only_non_frauds = tmp[tmp['Fraud?'] == 'No'].sort_values(by=['Percentage'], ascending=False).reset_index(drop=True)"
   ]
  },
  {
   "cell_type": "code",
   "execution_count": null,
   "metadata": {
    "_kg_hide-input": true,
    "id": "zbpOS_oUXA5T",
    "outputId": "57e9b36e-e9e3-4379-84e1-aaaf33986c02",
    "trusted": true
   },
   "outputs": [],
   "source": [
    "print(tmp_only_non_frauds[['Provider','Num_of_cases','Percentage']].head(25), \"\\n\")\n",
    "\n",
    "with plt.style.context('seaborn'):\n",
    "    plt.figure(figsize=(14,8))\n",
    "    fig = sns.barplot(data=tmp_only_non_frauds.iloc[0:25], x=\"Provider\", y=\"Num_of_cases\", palette='Accent')\n",
    "    # Using the \"patches\" function we will get the location of the rectangle bars from the graph.\n",
    "    ## Then by using those location(width & height) values we will add the annotations\n",
    "    for p in fig.patches:\n",
    "        width = p.get_width()\n",
    "        height = p.get_height()\n",
    "        x, y = p.get_xy()\n",
    "        fig.annotate(f'{str(round((height*100)/tot_non_fraud_cases,2))+\"%\"}', (x + width/2, y + height*1.025), ha='center', fontsize=13.5, rotation=90)\n",
    "    \n",
    "    # Providing the labels and title to the graph\n",
    "    plt.xlabel(\"\\nTop Non-Fraudulent Providers\", fontdict=label_font_dict)\n",
    "    plt.xticks(rotation=90, fontsize=12)\n",
    "    plt.ylabel(\"Number (or % share) of Cases\\n\", fontdict=label_font_dict)\n",
    "    plt.minorticks_on()\n",
    "    plt.grid(which='major', linestyle=\"--\", color='lightgrey')\n",
    "    plt.title(\"Top-25 Providers with most number of non-fraudulent cases\\n\", fontdict=title_font_dict)\n",
    "    plt.plot();"
   ]
  },
  {
   "cell_type": "markdown",
   "metadata": {
    "id": "gJOY0pKfXA5T"
   },
   "source": [
    "**`OBSERVATION`**\n",
    "* The above plot shows us the Top-25 Providers with most percentage of Non-Fraudulent Case Submissions.\n",
    "    * Here, PRV53750 has the highest percentage share of non-fraudulent cases. But, the difference with other providers is not so high."
   ]
  },
  {
   "cell_type": "markdown",
   "metadata": {
    "id": "CPkSCNs7XA5U"
   },
   "source": [
    "### **Q3. Which are the Top-25 `Attending Physicians` with maximum number of fraudulent cases?**"
   ]
  },
  {
   "cell_type": "code",
   "execution_count": null,
   "metadata": {
    "id": "yV-16K3UXA5U",
    "outputId": "45abbe88-24f3-45b6-be83-b27e2c8d7441",
    "trusted": true
   },
   "outputs": [],
   "source": [
    "tmp = pd.DataFrame(train_iobp_df.groupby(['AttendingPhysician','PotentialFraud'])['BeneID'].count()).reset_index()\n",
    "tmp.columns = ['AttendingPhysician', 'Fraud?', 'Num_of_cases']\n",
    "tot_fraud_cases = tmp[tmp['Fraud?'] == 'Yes']['Num_of_cases'].sum()\n",
    "tot_non_fraud_cases = tmp[tmp['Fraud?'] == 'No']['Num_of_cases'].sum()\n",
    "tmp['Cases'] = tmp['Fraud?'].apply(lambda val: tot_non_fraud_cases if val == \"No\" else tot_fraud_cases)\n",
    "tmp['Percentage'] = round(((tmp['Num_of_cases'] / tmp['Cases']) * 100),2)\n",
    "\n",
    "tmp.head()"
   ]
  },
  {
   "cell_type": "code",
   "execution_count": null,
   "metadata": {
    "id": "Zyi5ZQOeXA5V",
    "trusted": true
   },
   "outputs": [],
   "source": [
    "tmp_only_frauds = tmp[tmp['Fraud?'] == 'Yes'].sort_values(by=['Percentage'], ascending=False).reset_index(drop=True)"
   ]
  },
  {
   "cell_type": "code",
   "execution_count": null,
   "metadata": {
    "_kg_hide-input": true,
    "id": "6WWJG-3xXA5V",
    "outputId": "127ed41c-17f5-4c35-e67a-be2433a6f358",
    "trusted": true
   },
   "outputs": [],
   "source": [
    "print(tmp_only_frauds[['AttendingPhysician','Num_of_cases','Percentage']].head(25), \"\\n\")\n",
    "\n",
    "with plt.style.context('seaborn'):\n",
    "    plt.figure(figsize=(14,8))\n",
    "    fig = sns.barplot(data=tmp_only_frauds.iloc[0:25], x=\"AttendingPhysician\", y=\"Num_of_cases\", palette='Accent')\n",
    "    # Using the \"patches\" function we will get the location of the rectangle bars from the graph.\n",
    "    ## Then by using those location(width & height) values we will add the annotations\n",
    "    for p in fig.patches:\n",
    "        width = p.get_width()\n",
    "        height = p.get_height()\n",
    "        x, y = p.get_xy()\n",
    "        fig.annotate(f'{str(round((height*100)/tot_fraud_cases,2))+\"%\"}', (x + width/2, y + height*1.025), ha='center', fontsize=13.5, rotation=90)\n",
    "    \n",
    "    # Providing the labels and title to the graph\n",
    "    plt.xlabel(\"\\nTop Fraudulent AttendingPhysician\", fontdict=label_font_dict)\n",
    "    plt.xticks(rotation=90, fontsize=12)\n",
    "    plt.ylabel(\"Number (or % share) of Cases\\n\", fontdict=label_font_dict)\n",
    "    plt.minorticks_on()\n",
    "    plt.grid(which='major', linestyle=\"--\", color='lightgrey')\n",
    "    plt.title(\"Top-25 AttendingPhysician with most number of fraudulent cases\\n\", fontdict=title_font_dict)\n",
    "    plt.plot();"
   ]
  },
  {
   "cell_type": "markdown",
   "metadata": {
    "id": "_QNw040ZXA5V"
   },
   "source": [
    "**`OBSERVATION`**\n",
    "* The above plot shows us the Top-25 Attenting Physicians with most percentage of Fraudulent Case Submissions.\n",
    "    * Here, PHY330576 has the highest percentage share of fraudulent cases. But, the difference b/w other physicians is not so high."
   ]
  },
  {
   "cell_type": "markdown",
   "metadata": {
    "id": "5-wKyC3fXA5W"
   },
   "source": [
    "### **Q4. Which are the Top-25 `Attenting Physicians` with maximum number of non-fraudulent cases?**"
   ]
  },
  {
   "cell_type": "code",
   "execution_count": null,
   "metadata": {
    "id": "B-2VdNpTXA5W",
    "trusted": true
   },
   "outputs": [],
   "source": [
    "tmp_only_non_frauds = tmp[tmp['Fraud?'] == 'No'].sort_values(by=['Percentage'], ascending=False).reset_index(drop=True)"
   ]
  },
  {
   "cell_type": "code",
   "execution_count": null,
   "metadata": {
    "_kg_hide-input": true,
    "id": "tODBUiQFXA5W",
    "outputId": "ea175353-48bc-4a29-9bab-078a7e9e38a3",
    "trusted": true
   },
   "outputs": [],
   "source": [
    "print(tmp_only_non_frauds[['AttendingPhysician','Num_of_cases','Percentage']].head(25), \"\\n\")\n",
    "\n",
    "with plt.style.context('seaborn'):\n",
    "    plt.figure(figsize=(14,8))\n",
    "    fig = sns.barplot(data=tmp_only_non_frauds.iloc[0:25], x=\"AttendingPhysician\", y=\"Num_of_cases\", palette='Accent')\n",
    "    # Using the \"patches\" function we will get the location of the rectangle bars from the graph.\n",
    "    ## Then by using those location(width & height) values we will add the annotations\n",
    "    for p in fig.patches:\n",
    "        width = p.get_width()\n",
    "        height = p.get_height()\n",
    "        x, y = p.get_xy()\n",
    "        fig.annotate(f'{str(round((height*100)/tot_non_fraud_cases,2))+\"%\"}', (x + width/2, y + height*1.025), ha='center', fontsize=13.5, rotation=90)\n",
    "    \n",
    "    # Providing the labels and title to the graph\n",
    "    plt.xlabel(\"\\nTop Non-Fraudulent AttendingPhysician\", fontdict=label_font_dict)\n",
    "    plt.xticks(rotation=90, fontsize=12)\n",
    "    plt.ylabel(\"Number (or % share) of Cases\\n\", fontdict=label_font_dict)\n",
    "    plt.minorticks_on()\n",
    "    plt.grid(which='major', linestyle=\"--\", color='lightgrey')\n",
    "    plt.title(\"Top-25 AttendingPhysician with most number of non-fraudulent cases\\n\", fontdict=title_font_dict)\n",
    "    plt.plot();"
   ]
  },
  {
   "cell_type": "markdown",
   "metadata": {
    "id": "fM5IvF5HXA5X"
   },
   "source": [
    "**`OBSERVATION`**\n",
    "* The above plot shows us the Top-25 Attenting Physicians with most percentage of Non-Fraudulent Case Submissions.\n",
    "    * Here, PHY351121 has the highest percentage share of non-fraudulent cases. But, the difference with other providers is not so high."
   ]
  },
  {
   "cell_type": "markdown",
   "metadata": {
    "id": "pH4EQlr9XA5X"
   },
   "source": [
    "### **Q5. Which are the Top-25 `Operating Physicians` with maximum number of fraudulent cases?**"
   ]
  },
  {
   "cell_type": "code",
   "execution_count": null,
   "metadata": {
    "id": "339Th7H3XA5X",
    "outputId": "1b576a14-509a-4939-a1b0-c3d54d840196",
    "trusted": true
   },
   "outputs": [],
   "source": [
    "tmp = pd.DataFrame(train_iobp_df.groupby(['OperatingPhysician','PotentialFraud'])['BeneID'].count()).reset_index()\n",
    "tmp.columns = ['OperatingPhysician', 'Fraud?', 'Num_of_cases']\n",
    "tot_fraud_cases = tmp[tmp['Fraud?'] == 'Yes']['Num_of_cases'].sum()\n",
    "tot_non_fraud_cases = tmp[tmp['Fraud?'] == 'No']['Num_of_cases'].sum()\n",
    "tmp['Cases'] = tmp['Fraud?'].apply(lambda val: tot_non_fraud_cases if val == \"No\" else tot_fraud_cases)\n",
    "tmp['Percentage'] = round(((tmp['Num_of_cases'] / tmp['Cases']) * 100),2)\n",
    "\n",
    "tmp.head()"
   ]
  },
  {
   "cell_type": "code",
   "execution_count": null,
   "metadata": {
    "id": "Oo5E4v1SXA5Y",
    "trusted": true
   },
   "outputs": [],
   "source": [
    "tmp_only_frauds = tmp[tmp['Fraud?'] == 'Yes'].sort_values(by=['Percentage'], ascending=False).reset_index(drop=True)"
   ]
  },
  {
   "cell_type": "code",
   "execution_count": null,
   "metadata": {
    "_kg_hide-input": true,
    "id": "lolsrbhLXA5Y",
    "outputId": "b3e6bbcb-030e-4f22-99ae-c2192b21cceb",
    "trusted": true
   },
   "outputs": [],
   "source": [
    "print(tmp_only_frauds[['OperatingPhysician','Num_of_cases','Percentage']].head(25), \"\\n\")\n",
    "\n",
    "with plt.style.context('seaborn'):\n",
    "    plt.figure(figsize=(14,8))\n",
    "    fig = sns.barplot(data=tmp_only_frauds.iloc[0:25], x=\"OperatingPhysician\", y=\"Num_of_cases\", palette='Accent')\n",
    "    # Using the \"patches\" function we will get the location of the rectangle bars from the graph.\n",
    "    ## Then by using those location(width & height) values we will add the annotations\n",
    "    for p in fig.patches:\n",
    "        width = p.get_width()\n",
    "        height = p.get_height()\n",
    "        x, y = p.get_xy()\n",
    "        fig.annotate(f'{str(round((height*100)/tot_fraud_cases,2))+\"%\"}', (x + width/2, y + height*1.025), ha='center', fontsize=13.5, rotation=90)\n",
    "    \n",
    "    # Providing the labels and title to the graph\n",
    "    plt.xlabel(\"\\nTop Fraudulent OperatingPhysician\", fontdict=label_font_dict)\n",
    "    plt.xticks(rotation=90, fontsize=12)\n",
    "    plt.ylabel(\"Number (or % share) of Cases\\n\", fontdict=label_font_dict)\n",
    "    plt.minorticks_on()\n",
    "    plt.grid(which='major', linestyle=\"--\", color='lightgrey')\n",
    "    plt.title(\"Top-25 OperatingPhysician with most number of fraudulent cases\\n\", fontdict=title_font_dict)\n",
    "    plt.plot();"
   ]
  },
  {
   "cell_type": "markdown",
   "metadata": {
    "id": "-jGeGsD7XA5Y"
   },
   "source": [
    "**`OBSERVATION`**\n",
    "* The above plot shows us the Top-25 Operating Physicians with most percentage of Fraudulent Case Submissions.\n",
    "    * Here, PHY330576 has the highest percentage share of fraudulent cases. But, the difference b/w other providers is not so high."
   ]
  },
  {
   "cell_type": "markdown",
   "metadata": {
    "id": "o1dp1jlwXA5Z"
   },
   "source": [
    "### **Q6. Which are the Top-25 `Operating Physicians` with maximum number of non-fraudulent cases?**"
   ]
  },
  {
   "cell_type": "code",
   "execution_count": null,
   "metadata": {
    "id": "8g3Jjg0uXA5Z",
    "trusted": true
   },
   "outputs": [],
   "source": [
    "tmp_only_non_frauds = tmp[tmp['Fraud?'] == 'No'].sort_values(by=['Percentage'], ascending=False).reset_index(drop=True)"
   ]
  },
  {
   "cell_type": "code",
   "execution_count": null,
   "metadata": {
    "_kg_hide-input": true,
    "id": "5SIonj8vXA5Z",
    "outputId": "43709c15-ff39-4809-ddeb-431a844af759",
    "trusted": true
   },
   "outputs": [],
   "source": [
    "print(tmp_only_non_frauds[['OperatingPhysician','Num_of_cases','Percentage']].head(25), \"\\n\")\n",
    "\n",
    "with plt.style.context('seaborn'):\n",
    "    plt.figure(figsize=(14,8))\n",
    "    fig = sns.barplot(data=tmp_only_non_frauds.iloc[0:25], x=\"OperatingPhysician\", y=\"Num_of_cases\", palette='Accent')\n",
    "    # Using the \"patches\" function we will get the location of the rectangle bars from the graph.\n",
    "    ## Then by using those location(width & height) values we will add the annotations\n",
    "    for p in fig.patches:\n",
    "        width = p.get_width()\n",
    "        height = p.get_height()\n",
    "        x, y = p.get_xy()\n",
    "        fig.annotate(f'{str(round((height*100)/tot_non_fraud_cases,2))+\"%\"}', (x + width/2, y + height*1.025), ha='center', fontsize=13.5, rotation=90)\n",
    "    \n",
    "    # Providing the labels and title to the graph\n",
    "    plt.xlabel(\"\\nTop Non-Fraudulent OperatingPhysician\", fontdict=label_font_dict)\n",
    "    plt.xticks(rotation=90, fontsize=12)\n",
    "    plt.ylabel(\"Number (or % share) of Cases\\n\", fontdict=label_font_dict)\n",
    "    plt.minorticks_on()\n",
    "    plt.grid(which='major', linestyle=\"--\", color='lightgrey')\n",
    "    plt.title(\"Top-25 OperatingPhysician with most number of non-fraudulent cases\\n\", fontdict=title_font_dict)\n",
    "    plt.plot();"
   ]
  },
  {
   "cell_type": "markdown",
   "metadata": {
    "id": "rlGEbpV5XA5a"
   },
   "source": [
    "**`OBSERVATION`**\n",
    "* The above plot shows us the Top-25 Operating Physicians with most percentage of Non-Fraudulent Case Submissions.\n",
    "    * Here, PHY387900 and PHY351121 has the highest percentage share of non-fraudulent cases. But, the difference b/w providers is not so high."
   ]
  },
  {
   "cell_type": "markdown",
   "metadata": {
    "id": "5OvXGP9dXA5a"
   },
   "source": [
    "### **Q7. Which are the Top-25 `Other Physicians` with maximum number of fraudulent cases?**"
   ]
  },
  {
   "cell_type": "code",
   "execution_count": null,
   "metadata": {
    "id": "__ImebUMXA5a",
    "outputId": "b97cafa2-bbaf-425b-f2c4-7e55aa25369c",
    "trusted": true
   },
   "outputs": [],
   "source": [
    "tmp = pd.DataFrame(train_iobp_df.groupby(['OtherPhysician','PotentialFraud'])['BeneID'].count()).reset_index()\n",
    "tmp.columns = ['OtherPhysician', 'Fraud?', 'Num_of_cases']\n",
    "tot_fraud_cases = tmp[tmp['Fraud?'] == 'Yes']['Num_of_cases'].sum()\n",
    "tot_non_fraud_cases = tmp[tmp['Fraud?'] == 'No']['Num_of_cases'].sum()\n",
    "tmp['Cases'] = tmp['Fraud?'].apply(lambda val: tot_non_fraud_cases if val == \"No\" else tot_fraud_cases)\n",
    "tmp['Percentage'] = round(((tmp['Num_of_cases'] / tmp['Cases']) * 100),2)\n",
    "\n",
    "tmp.head()"
   ]
  },
  {
   "cell_type": "code",
   "execution_count": null,
   "metadata": {
    "id": "f5pR31k3XA5b",
    "trusted": true
   },
   "outputs": [],
   "source": [
    "tmp_only_frauds = tmp[tmp['Fraud?'] == 'Yes'].sort_values(by=['Percentage'], ascending=False).reset_index(drop=True)"
   ]
  },
  {
   "cell_type": "code",
   "execution_count": null,
   "metadata": {
    "_kg_hide-input": true,
    "id": "qo1oZPs9XA5b",
    "outputId": "83e48c08-5d99-4ab8-b182-445ae5172a20",
    "trusted": true
   },
   "outputs": [],
   "source": [
    "print(tmp_only_frauds[['OtherPhysician','Num_of_cases','Percentage']].head(25), \"\\n\")\n",
    "\n",
    "with plt.style.context('seaborn'):\n",
    "    plt.figure(figsize=(14,8))\n",
    "    fig = sns.barplot(data=tmp_only_frauds.iloc[0:25], x=\"OtherPhysician\", y=\"Num_of_cases\", palette='Accent')\n",
    "    # Using the \"patches\" function we will get the location of the rectangle bars from the graph.\n",
    "    ## Then by using those location(width & height) values we will add the annotations\n",
    "    for p in fig.patches:\n",
    "        width = p.get_width()\n",
    "        height = p.get_height()\n",
    "        x, y = p.get_xy()\n",
    "        fig.annotate(f'{str(round((height*100)/tot_fraud_cases,2))+\"%\"}', (x + width/2, y + height*1.025), ha='center', fontsize=13.5, rotation=90)\n",
    "    \n",
    "    # Providing the labels and title to the graph\n",
    "    plt.xlabel(\"\\nTop Fraudulent OtherPhysician\", fontdict=label_font_dict)\n",
    "    plt.xticks(rotation=90, fontsize=12)\n",
    "    plt.ylabel(\"Number (or % share) of Cases\\n\", fontdict=label_font_dict)\n",
    "    plt.minorticks_on()\n",
    "    plt.grid(which='major', linestyle=\"--\", color='lightgrey')\n",
    "    plt.title(\"Top-25 OtherPhysician with most number of fraudulent cases\\n\", fontdict=title_font_dict)\n",
    "    plt.plot();"
   ]
  },
  {
   "cell_type": "markdown",
   "metadata": {
    "id": "TvLxRg1JXA5c"
   },
   "source": [
    "**`OBSERVATION`**\n",
    "* The above plot shows us the Top-25 Other Physicians with most percentage of Fraudulent Case Submissions.\n",
    "    * Here, PHY412132 has the highest percentage share of fraudulent cases. But, the difference with other providers is not so high."
   ]
  },
  {
   "cell_type": "markdown",
   "metadata": {
    "id": "-6oxPsNmXA5c"
   },
   "source": [
    "### **Q8. Which are the Top-25 `Other Physicians` with maximum number of non-fraudulent cases?**"
   ]
  },
  {
   "cell_type": "code",
   "execution_count": null,
   "metadata": {
    "id": "By2Aw8ghXA5c",
    "trusted": true
   },
   "outputs": [],
   "source": [
    "tmp_only_non_frauds = tmp[tmp['Fraud?'] == 'No'].sort_values(by=['Percentage'], ascending=False).reset_index(drop=True)"
   ]
  },
  {
   "cell_type": "code",
   "execution_count": null,
   "metadata": {
    "_kg_hide-input": true,
    "id": "qvlUFzmtXA5c",
    "outputId": "d684cb1f-60dc-48e8-b33d-d89cc3e3a124",
    "trusted": true
   },
   "outputs": [],
   "source": [
    "print(tmp_only_non_frauds[['OtherPhysician','Num_of_cases','Percentage']].head(25), \"\\n\")\n",
    "\n",
    "with plt.style.context('seaborn'):\n",
    "    plt.figure(figsize=(14,8))\n",
    "    fig = sns.barplot(data=tmp_only_non_frauds.iloc[0:25], x=\"OtherPhysician\", y=\"Num_of_cases\", palette='Accent')\n",
    "    # Using the \"patches\" function we will get the location of the rectangle bars from the graph.\n",
    "    ## Then by using those location(width & height) values we will add the annotations\n",
    "    for p in fig.patches:\n",
    "        width = p.get_width()\n",
    "        height = p.get_height()\n",
    "        x, y = p.get_xy()\n",
    "        fig.annotate(f'{str(round((height*100)/tot_non_fraud_cases,2))+\"%\"}', (x + width/2, y + height*1.025), ha='center', fontsize=13.5, rotation=90)\n",
    "    \n",
    "    # Providing the labels and title to the graph\n",
    "    plt.xlabel(\"\\nTop Non-Fraudulent OtherPhysician\", fontdict=label_font_dict)\n",
    "    plt.xticks(rotation=90, fontsize=12)\n",
    "    plt.ylabel(\"Number (or % share) of Cases\\n\", fontdict=label_font_dict)\n",
    "    plt.minorticks_on()\n",
    "    plt.grid(which='major', linestyle=\"--\", color='lightgrey')\n",
    "    plt.title(\"Top-25 OtherPhysician with most number of non-fraudulent cases\\n\", fontdict=title_font_dict)\n",
    "    plt.plot();"
   ]
  },
  {
   "cell_type": "markdown",
   "metadata": {
    "id": "KzL4Yr9cXA5d"
   },
   "source": [
    "**`OBSERVATION`**\n",
    "* The above plot shows us the Top-25 Other Physicians with most percentage of Non-Fraudulent Case Submissions.\n",
    "    * Here, PHY422235 has the highest percentage share of non-fraudulent cases. But, the difference with other providers is not so high."
   ]
  },
  {
   "cell_type": "markdown",
   "metadata": {
    "id": "jAgAT9NoXA5d"
   },
   "source": [
    "### **Q9. Which are the Top-25 `ClmAdmitDiagnosisCode` with maximum number of fraudulent cases?**"
   ]
  },
  {
   "cell_type": "code",
   "execution_count": null,
   "metadata": {
    "id": "1Z98JuBxXA5d",
    "outputId": "c178849d-d15c-48c7-cf02-d8a2d17bd6e4",
    "trusted": true
   },
   "outputs": [],
   "source": [
    "tmp = pd.DataFrame(train_iobp_df.groupby(['ClmAdmitDiagnosisCode','PotentialFraud'])['BeneID'].count()).reset_index()\n",
    "tmp.columns = ['ClmAdmitDiagnosisCode', 'Fraud?', 'Num_of_cases']\n",
    "tot_fraud_cases = tmp[tmp['Fraud?'] == 'Yes']['Num_of_cases'].sum()\n",
    "tot_non_fraud_cases = tmp[tmp['Fraud?'] == 'No']['Num_of_cases'].sum()\n",
    "tmp['Cases'] = tmp['Fraud?'].apply(lambda val: tot_non_fraud_cases if val == \"No\" else tot_fraud_cases)\n",
    "tmp['Percentage'] = round(((tmp['Num_of_cases'] / tmp['Cases']) * 100),2)\n",
    "\n",
    "tmp.head()"
   ]
  },
  {
   "cell_type": "code",
   "execution_count": null,
   "metadata": {
    "id": "sAwBmkJBXA5e",
    "trusted": true
   },
   "outputs": [],
   "source": [
    "tmp_only_frauds = tmp[tmp['Fraud?'] == 'Yes'].sort_values(by=['Percentage'], ascending=False).reset_index(drop=True)"
   ]
  },
  {
   "cell_type": "code",
   "execution_count": null,
   "metadata": {
    "_kg_hide-input": true,
    "id": "yH8VneOXXA5e",
    "outputId": "4879bcc0-9f5c-46bd-dbfc-ac1709cfb4dc",
    "trusted": true
   },
   "outputs": [],
   "source": [
    "print(tmp_only_frauds[['ClmAdmitDiagnosisCode','Num_of_cases','Percentage']].head(25), \"\\n\")\n",
    "\n",
    "with plt.style.context('seaborn'):\n",
    "    plt.figure(figsize=(14,8))\n",
    "    fig = sns.barplot(data=tmp_only_frauds.iloc[0:25], x=\"ClmAdmitDiagnosisCode\", y=\"Num_of_cases\", palette='Accent')\n",
    "    # Using the \"patches\" function we will get the location of the rectangle bars from the graph.\n",
    "    ## Then by using those location(width & height) values we will add the annotations\n",
    "    for p in fig.patches:\n",
    "        width = p.get_width()\n",
    "        height = p.get_height()\n",
    "        x, y = p.get_xy()\n",
    "        fig.annotate(f'{str(round((height*100)/tot_fraud_cases,2))+\"%\"}', (x + width/2, y + height*1.025), ha='center', fontsize=13.5, rotation=90)\n",
    "    \n",
    "    # Providing the labels and title to the graph\n",
    "    plt.xlabel(\"\\nTop Fraudulent ClmAdmitDiagnosisCode\", fontdict=label_font_dict)\n",
    "    plt.xticks(rotation=90, fontsize=12)\n",
    "    plt.ylabel(\"Number (or % share) of Cases\\n\", fontdict=label_font_dict)\n",
    "    plt.minorticks_on()\n",
    "    plt.grid(which='major', linestyle=\"--\", color='lightgrey')\n",
    "    plt.title(\"Top-25 ClmAdmitDiagnosisCode with most number of fraudulent cases\\n\", fontdict=title_font_dict)\n",
    "    plt.plot();"
   ]
  },
  {
   "cell_type": "markdown",
   "metadata": {
    "id": "UdBlYqX6XA5f"
   },
   "source": [
    "**`OBSERVATION`**\n",
    "* The above plot shows us the Top-25 'Claim Admit Diagnosis Code' with most percentage of Fraudulent Case Submissions."
   ]
  },
  {
   "cell_type": "markdown",
   "metadata": {
    "id": "EdS5f7CyXA5f"
   },
   "source": [
    "### **Q10. Which are the Top-25 `ClmAdmitDiagnosisCode` with maximum number of non-fraudulent cases?**"
   ]
  },
  {
   "cell_type": "code",
   "execution_count": null,
   "metadata": {
    "id": "3DG8W9VqXA5f",
    "trusted": true
   },
   "outputs": [],
   "source": [
    "tmp_only_non_frauds = tmp[tmp['Fraud?'] == 'No'].sort_values(by=['Percentage'], ascending=False).reset_index(drop=True)"
   ]
  },
  {
   "cell_type": "code",
   "execution_count": null,
   "metadata": {
    "_kg_hide-input": true,
    "id": "UAzulaASXA5f",
    "outputId": "9fd530ab-375e-4e0e-a82f-6c5f60950c2b",
    "trusted": true
   },
   "outputs": [],
   "source": [
    "print(tmp_only_non_frauds[['ClmAdmitDiagnosisCode','Num_of_cases','Percentage']].head(25), \"\\n\")\n",
    "\n",
    "with plt.style.context('seaborn'):\n",
    "    plt.figure(figsize=(14,8))\n",
    "    fig = sns.barplot(data=tmp_only_non_frauds.iloc[0:25], x=\"ClmAdmitDiagnosisCode\", y=\"Num_of_cases\", palette='Accent')\n",
    "    # Using the \"patches\" function we will get the location of the rectangle bars from the graph.\n",
    "    ## Then by using those location(width & height) values we will add the annotations\n",
    "    for p in fig.patches:\n",
    "        width = p.get_width()\n",
    "        height = p.get_height()\n",
    "        x, y = p.get_xy()\n",
    "        fig.annotate(f'{str(round((height*100)/tot_non_fraud_cases,2))+\"%\"}', (x + width/2, y + height*1.025), ha='center', fontsize=13.5, rotation=90)\n",
    "    \n",
    "    # Providing the labels and title to the graph\n",
    "    plt.xlabel(\"\\nTop Non-Fraudulent ClmAdmitDiagnosisCode\", fontdict=label_font_dict)\n",
    "    plt.xticks(rotation=90, fontsize=12)\n",
    "    plt.ylabel(\"Number (or % share) of Cases\\n\", fontdict=label_font_dict)\n",
    "    plt.minorticks_on()\n",
    "    plt.grid(which='major', linestyle=\"--\", color='lightgrey')\n",
    "    plt.title(\"Top-25 ClmAdmitDiagnosisCode with most number of non-fraudulent cases\\n\", fontdict=title_font_dict)\n",
    "    plt.plot();"
   ]
  },
  {
   "cell_type": "markdown",
   "metadata": {
    "id": "cADdgoItXA5g"
   },
   "source": [
    "**`OBSERVATION`**\n",
    "\n",
    "* The above plot shows us the Top-25 'Claim Admit Diagnosis Code' with most percentage of Non-Fraudulent Case Submissions.\n",
    "\n",
    "* Main observation from the above 2 plots is that same `Claim Admit Diagnostic Codes` have similar percentages for false and no-false claims. Therefore, it feels like this feature might not be very useful."
   ]
  },
  {
   "cell_type": "markdown",
   "metadata": {
    "id": "W6WBh8cbXA5g"
   },
   "source": [
    "### **Q11. Which are the Top-25 `DiagnosisGroupCode` with maximum number of fraudulent cases?**"
   ]
  },
  {
   "cell_type": "code",
   "execution_count": null,
   "metadata": {
    "id": "6U2YxtC0XA5h",
    "outputId": "a0befc75-0a12-43d5-ef61-fad19fc2f2ad",
    "trusted": true
   },
   "outputs": [],
   "source": [
    "tmp = pd.DataFrame(train_iobp_df.groupby(['DiagnosisGroupCode','PotentialFraud'])['BeneID'].count()).reset_index()\n",
    "tmp.columns = ['DiagnosisGroupCode', 'Fraud?', 'Num_of_cases']\n",
    "tot_fraud_cases = tmp[tmp['Fraud?'] == 'Yes']['Num_of_cases'].sum()\n",
    "tot_non_fraud_cases = tmp[tmp['Fraud?'] == 'No']['Num_of_cases'].sum()\n",
    "tmp['Cases'] = tmp['Fraud?'].apply(lambda val: tot_non_fraud_cases if val == \"No\" else tot_fraud_cases)\n",
    "tmp['Percentage'] = round(((tmp['Num_of_cases'] / tmp['Cases']) * 100),2)\n",
    "\n",
    "tmp.head()"
   ]
  },
  {
   "cell_type": "code",
   "execution_count": null,
   "metadata": {
    "id": "FsvgHcWAXA5h",
    "trusted": true
   },
   "outputs": [],
   "source": [
    "tmp_only_frauds = tmp[tmp['Fraud?'] == 'Yes'].sort_values(by=['Percentage'], ascending=False).reset_index(drop=True)"
   ]
  },
  {
   "cell_type": "code",
   "execution_count": null,
   "metadata": {
    "_kg_hide-input": true,
    "id": "K7B5g-GJXA5h",
    "outputId": "e83fa1c5-fa06-4d5c-b412-a3ba4521ee98",
    "trusted": true
   },
   "outputs": [],
   "source": [
    "print(tmp_only_frauds[['DiagnosisGroupCode','Num_of_cases','Percentage']].head(25), \"\\n\")\n",
    "\n",
    "with plt.style.context('seaborn'):\n",
    "    plt.figure(figsize=(14,8))\n",
    "    fig = sns.barplot(data=tmp_only_frauds.iloc[0:25], x=\"DiagnosisGroupCode\", y=\"Num_of_cases\", palette='Accent')\n",
    "    # Using the \"patches\" function we will get the location of the rectangle bars from the graph.\n",
    "    ## Then by using those location(width & height) values we will add the annotations\n",
    "    for p in fig.patches:\n",
    "        width = p.get_width()\n",
    "        height = p.get_height()\n",
    "        x, y = p.get_xy()\n",
    "        fig.annotate(f'{str(round((height*100)/tot_fraud_cases,2))+\"%\"}', (x + width/2, y + height*1.025), ha='center', fontsize=13.5, rotation=90)\n",
    "    \n",
    "    # Providing the labels and title to the graph\n",
    "    plt.xlabel(\"\\nTop Fraudulent DiagnosisGroupCode\", fontdict=label_font_dict)\n",
    "    plt.xticks(rotation=90, fontsize=12)\n",
    "    plt.ylabel(\"Number (or % share) of Cases\\n\", fontdict=label_font_dict)\n",
    "    plt.minorticks_on()\n",
    "    plt.grid(which='major', linestyle=\"--\", color='lightgrey')\n",
    "    plt.title(\"Top-25 DiagnosisGroupCode with most number of fraudulent cases\\n\", fontdict=title_font_dict)\n",
    "    plt.plot();"
   ]
  },
  {
   "cell_type": "markdown",
   "metadata": {
    "id": "wcz386ftXA5i"
   },
   "source": [
    "**`OBSERVATION`**\n",
    "* The above plot shows us the Top-25 'Diagnosis Group Code' with most percentage of Fraudulent Case Submissions."
   ]
  },
  {
   "cell_type": "markdown",
   "metadata": {
    "id": "ulCNmHNBXA5i"
   },
   "source": [
    "### **Q12. Which are the Top-25 `DiagnosisGroupCode` with maximum number of non-fraudulent cases?**"
   ]
  },
  {
   "cell_type": "code",
   "execution_count": null,
   "metadata": {
    "id": "DDCEsdJCXA5j",
    "trusted": true
   },
   "outputs": [],
   "source": [
    "tmp_only_non_frauds = tmp[tmp['Fraud?'] == 'No'].sort_values(by=['Percentage'], ascending=False).reset_index(drop=True)"
   ]
  },
  {
   "cell_type": "code",
   "execution_count": null,
   "metadata": {
    "_kg_hide-input": true,
    "id": "doDXBfT2XA5j",
    "outputId": "3ec44414-1501-42b3-84ed-1eeb7371d5a0",
    "trusted": true
   },
   "outputs": [],
   "source": [
    "print(tmp_only_non_frauds[['DiagnosisGroupCode','Num_of_cases','Percentage']].head(25), \"\\n\")\n",
    "\n",
    "with plt.style.context('seaborn'):\n",
    "    plt.figure(figsize=(14,8))\n",
    "    fig = sns.barplot(data=tmp_only_non_frauds.iloc[0:25], x=\"DiagnosisGroupCode\", y=\"Num_of_cases\", palette='Accent')\n",
    "    # Using the \"patches\" function we will get the location of the rectangle bars from the graph.\n",
    "    ## Then by using those location(width & height) values we will add the annotations\n",
    "    for p in fig.patches:\n",
    "        width = p.get_width()\n",
    "        height = p.get_height()\n",
    "        x, y = p.get_xy()\n",
    "        fig.annotate(f'{str(round((height*100)/tot_non_fraud_cases,2))+\"%\"}', (x + width/2, y + height*1.025), ha='center', fontsize=13.5, rotation=90)\n",
    "    \n",
    "    # Providing the labels and title to the graph\n",
    "    plt.xlabel(\"\\nTop Non-Fraudulent DiagnosisGroupCode\", fontdict=label_font_dict)\n",
    "    plt.xticks(rotation=90, fontsize=12)\n",
    "    plt.ylabel(\"Number (or % share) of Cases\\n\", fontdict=label_font_dict)\n",
    "    plt.minorticks_on()\n",
    "    plt.grid(which='major', linestyle=\"--\", color='lightgrey')\n",
    "    plt.title(\"Top-25 DiagnosisGroupCode with most number of non-fraudulent cases\\n\", fontdict=title_font_dict)\n",
    "    plt.plot();"
   ]
  },
  {
   "cell_type": "markdown",
   "metadata": {
    "id": "PsJpdCm9XA5k"
   },
   "source": [
    "**`OBSERVATION`**\n",
    "\n",
    "* The above plot shows us the Top-25 'Diagnosis Group Code' with most percentage of Non-Fraudulent Case Submissions.\n",
    "\n",
    "* Main observation from the above 2 plots is that same `Diagnosis Group Codes` have similar percentages for false and no-false claims. Therefore, it feels like this feature might not be very useful."
   ]
  },
  {
   "cell_type": "markdown",
   "metadata": {
    "id": "IBeTtt-XXA5k"
   },
   "source": [
    "### **Q13. Does `Age_groups` have any relationship with maximum number of fraudulent cases?**"
   ]
  },
  {
   "cell_type": "code",
   "execution_count": null,
   "metadata": {
    "id": "m8dXTY3ZXA5l",
    "trusted": true
   },
   "outputs": [],
   "source": [
    "def bene_age_brackets(val):\n",
    "    \"\"\"\n",
    "    Description : This function is created for allocating the age groups based on Beneficiary Age.\n",
    "    \"\"\"\n",
    "    if val >=1 and val <=40:\n",
    "        return 'Young'\n",
    "    elif val > 40 and val <=60:\n",
    "        return 'Mid'\n",
    "    elif val > 60 and val <= 80:\n",
    "        return 'Old'\n",
    "    else:\n",
    "        return 'Very Old'"
   ]
  },
  {
   "cell_type": "code",
   "execution_count": null,
   "metadata": {
    "id": "jDxkwReNXA5l",
    "trusted": true
   },
   "outputs": [],
   "source": [
    "train_iobp_df['AGE_groups'] = train_iobp_df['Bene_Age'].apply(lambda age: bene_age_brackets(age))"
   ]
  },
  {
   "cell_type": "code",
   "execution_count": null,
   "metadata": {
    "id": "pKG2ENCRXA5m",
    "outputId": "ce6dfb1e-a22e-4258-e1b4-c747cdaa2406",
    "trusted": true
   },
   "outputs": [],
   "source": [
    "tmp = pd.DataFrame(train_iobp_df.groupby(['AGE_groups','PotentialFraud'])['BeneID'].count()).reset_index()\n",
    "tmp.columns = ['AGE_groups', 'Fraud?', 'Num_of_cases']\n",
    "tot_fraud_cases = tmp[tmp['Fraud?'] == 'Yes']['Num_of_cases'].sum()\n",
    "tot_non_fraud_cases = tmp[tmp['Fraud?'] == 'No']['Num_of_cases'].sum()\n",
    "tmp['Cases'] = tmp['Fraud?'].apply(lambda val: tot_non_fraud_cases if val == \"No\" else tot_fraud_cases)\n",
    "tmp['Percentage'] = round(((tmp['Num_of_cases'] / tmp['Cases']) * 100),2)\n",
    "\n",
    "tmp.head()"
   ]
  },
  {
   "cell_type": "code",
   "execution_count": null,
   "metadata": {
    "id": "u2rQfK-EXA5m",
    "trusted": true
   },
   "outputs": [],
   "source": [
    "tmp_only_frauds = tmp[tmp['Fraud?'] == 'Yes'].sort_values(by=['Percentage'], ascending=False).reset_index(drop=True)"
   ]
  },
  {
   "cell_type": "code",
   "execution_count": null,
   "metadata": {
    "_kg_hide-input": true,
    "id": "gI5h6u6_XA5n",
    "outputId": "2bd8d0b7-dfc2-4ace-c493-163d30515fe7",
    "trusted": true
   },
   "outputs": [],
   "source": [
    "print(tmp_only_frauds[['AGE_groups','Num_of_cases','Percentage']].head(25), \"\\n\")\n",
    "\n",
    "with plt.style.context('seaborn'):\n",
    "    plt.figure(figsize=(10,8))\n",
    "    fig = sns.barplot(data=tmp_only_frauds, x=\"AGE_groups\", y=\"Num_of_cases\", palette='Accent')\n",
    "    # Using the \"patches\" function we will get the location of the rectangle bars from the graph.\n",
    "    ## Then by using those location(width & height) values we will add the annotations\n",
    "    for p in fig.patches:\n",
    "        width = p.get_width()\n",
    "        height = p.get_height()\n",
    "        x, y = p.get_xy()\n",
    "        fig.annotate(f'{str(round((height*100)/tot_fraud_cases,2))+\"%\"}', (x + width/2, y + height*1.025), ha='center', fontsize=13.5, rotation=0)\n",
    "    \n",
    "    # Providing the labels and title to the graph\n",
    "    plt.xlabel(\"\\nTop Fraudulent AGE_groups\", fontdict=label_font_dict)\n",
    "    plt.xticks(rotation=0, fontsize=12)\n",
    "    plt.ylabel(\"Number (or % share) of Cases\\n\", fontdict=label_font_dict)\n",
    "    plt.minorticks_on()\n",
    "    plt.grid(which='major', linestyle=\"--\", color='lightgrey')\n",
    "    plt.title(\"AGE_groups with most number of fraudulent cases\\n\", fontdict=title_font_dict)\n",
    "    plt.plot();"
   ]
  },
  {
   "cell_type": "markdown",
   "metadata": {
    "id": "kRnBAhFEXA5o"
   },
   "source": [
    "**`OBSERVATION`**\n",
    "* The above plot shows us the percentage of Fraudulent Case Submissions for various Age Groups."
   ]
  },
  {
   "cell_type": "markdown",
   "metadata": {
    "id": "onGPvgIEXA5o"
   },
   "source": [
    "### **Q14. Does `Age_groups` have any relationship with maximum number of non-fraudulent cases?**"
   ]
  },
  {
   "cell_type": "code",
   "execution_count": null,
   "metadata": {
    "id": "WEMlymXCXA5p",
    "trusted": true
   },
   "outputs": [],
   "source": [
    "tmp_only_non_frauds = tmp[tmp['Fraud?'] == 'No'].sort_values(by=['Percentage'], ascending=False).reset_index(drop=True)"
   ]
  },
  {
   "cell_type": "code",
   "execution_count": null,
   "metadata": {
    "_kg_hide-input": true,
    "id": "n828Hwh6XA5p",
    "outputId": "8fda5be3-dd99-4e62-b1a0-ced60a8a6dd3",
    "trusted": true
   },
   "outputs": [],
   "source": [
    "print(tmp_only_non_frauds[['AGE_groups','Num_of_cases','Percentage']].head(25), \"\\n\")\n",
    "\n",
    "with plt.style.context('seaborn'):\n",
    "    plt.figure(figsize=(10,8))\n",
    "    fig = sns.barplot(data=tmp_only_non_frauds, x=\"AGE_groups\", y=\"Num_of_cases\", palette='Accent')\n",
    "    # Using the \"patches\" function we will get the location of the rectangle bars from the graph.\n",
    "    ## Then by using those location(width & height) values we will add the annotations\n",
    "    for p in fig.patches:\n",
    "        width = p.get_width()\n",
    "        height = p.get_height()\n",
    "        x, y = p.get_xy()\n",
    "        fig.annotate(f'{str(round((height*100)/tot_non_fraud_cases,2))+\"%\"}', (x + width/2, y + height*1.025), ha='center', fontsize=13.5, rotation=0)\n",
    "    \n",
    "    # Providing the labels and title to the graph\n",
    "    plt.xlabel(\"\\nTop Non-Fraudulent AGE_groups\", fontdict=label_font_dict)\n",
    "    plt.xticks(rotation=0, fontsize=12)\n",
    "    plt.ylabel(\"Number (or % share) of Cases\\n\", fontdict=label_font_dict)\n",
    "    plt.minorticks_on()\n",
    "    plt.grid(which='major', linestyle=\"--\", color='lightgrey')\n",
    "    plt.title(\"AGE_groups with most number of non-fraudulent cases\\n\", fontdict=title_font_dict)\n",
    "    plt.plot();"
   ]
  },
  {
   "cell_type": "markdown",
   "metadata": {
    "id": "qIYAvV9OXA5q"
   },
   "source": [
    "**`OBSERVATION`**\n",
    "\n",
    "* The above plot shows us the percentage of Non-Fraudulent Case Submissions for various Age Groups.\n",
    "\n",
    "* Main observation from the above 2 plots is that same `Age Groups` have similar percentages for false and no-false claims. Therefore, it feels like this feature might not be very useful."
   ]
  },
  {
   "cell_type": "markdown",
   "metadata": {
    "id": "Dce-e4hnXA5q"
   },
   "source": [
    "### **Q15. Which are the Top-25 `States` with maximum number of fraudulent cases?**"
   ]
  },
  {
   "cell_type": "code",
   "execution_count": null,
   "metadata": {
    "id": "Tg90scQAXA5r",
    "outputId": "a3eb6c82-3aa8-45ba-f4a8-67806b3897b5",
    "trusted": true
   },
   "outputs": [],
   "source": [
    "tmp = pd.DataFrame(train_iobp_df.groupby(['State','PotentialFraud'])['BeneID'].count()).reset_index()\n",
    "tmp.columns = ['State', 'Fraud?', 'Num_of_cases']\n",
    "tot_fraud_cases = tmp[tmp['Fraud?'] == 'Yes']['Num_of_cases'].sum()\n",
    "tot_non_fraud_cases = tmp[tmp['Fraud?'] == 'No']['Num_of_cases'].sum()\n",
    "tmp['Cases'] = tmp['Fraud?'].apply(lambda val: tot_non_fraud_cases if val == \"No\" else tot_fraud_cases)\n",
    "tmp['Percentage'] = round(((tmp['Num_of_cases'] / tmp['Cases']) * 100),2)\n",
    "\n",
    "tmp.head()"
   ]
  },
  {
   "cell_type": "code",
   "execution_count": null,
   "metadata": {
    "id": "1EF0EQj3XA5s",
    "trusted": true
   },
   "outputs": [],
   "source": [
    "tmp_only_frauds = tmp[tmp['Fraud?'] == 'Yes'].sort_values(by=['Percentage'], ascending=False).reset_index(drop=True)"
   ]
  },
  {
   "cell_type": "code",
   "execution_count": null,
   "metadata": {
    "_kg_hide-input": true,
    "id": "FDRqPDgMXA5s",
    "outputId": "b0a87358-e70d-443c-c732-8cce9cffbf8d",
    "trusted": true
   },
   "outputs": [],
   "source": [
    "print(tmp_only_frauds[['State','Num_of_cases','Percentage']].head(25), \"\\n\")\n",
    "\n",
    "with plt.style.context('seaborn'):\n",
    "    plt.figure(figsize=(14,8))\n",
    "    fig = sns.barplot(data=tmp_only_frauds.iloc[0:25], x=\"State\", y=\"Num_of_cases\", palette='Accent')\n",
    "    # Using the \"patches\" function we will get the location of the rectangle bars from the graph.\n",
    "    ## Then by using those location(width & height) values we will add the annotations\n",
    "    for p in fig.patches:\n",
    "        width = p.get_width()\n",
    "        height = p.get_height()\n",
    "        x, y = p.get_xy()\n",
    "        fig.annotate(f'{str(round((height*100)/tot_fraud_cases,2))+\"%\"}', (x + width/2, y + height*1.025), ha='center', fontsize=13.5, rotation=90)\n",
    "    \n",
    "    # Providing the labels and title to the graph\n",
    "    plt.xlabel(\"\\nTop Fraudulent State Codes\", fontdict=label_font_dict)\n",
    "    plt.xticks(rotation=0, fontsize=12)\n",
    "    plt.ylabel(\"Number (or % share) of Cases\\n\", fontdict=label_font_dict)\n",
    "    plt.minorticks_on()\n",
    "    plt.grid(which='major', linestyle=\"--\", color='lightgrey')\n",
    "    plt.title(\"Top-25 State Codes with most number of fraudulent cases\\n\", fontdict=title_font_dict)\n",
    "    plt.plot();"
   ]
  },
  {
   "cell_type": "markdown",
   "metadata": {
    "id": "RCBk7b8RXA5t"
   },
   "source": [
    "**`OBSERVATION`**\n",
    "* The above plot shows us the Top-25 State Codes with most percentage of Fraudulent Case Submissions."
   ]
  },
  {
   "cell_type": "markdown",
   "metadata": {
    "id": "7fLAYo2mXA5u"
   },
   "source": [
    "### **Q16. What are the Top-25 `States` with maximum number of non-fraudulent cases?**"
   ]
  },
  {
   "cell_type": "code",
   "execution_count": null,
   "metadata": {
    "id": "iGwLHw4JXA5u",
    "trusted": true
   },
   "outputs": [],
   "source": [
    "tmp_only_non_frauds = tmp[tmp['Fraud?'] == 'No'].sort_values(by=['Percentage'], ascending=False).reset_index(drop=True)"
   ]
  },
  {
   "cell_type": "code",
   "execution_count": null,
   "metadata": {
    "_kg_hide-input": true,
    "id": "RK_jQdAHXA5v",
    "outputId": "50f8764b-024a-44a6-c8b0-5154f4db9fbf",
    "trusted": true
   },
   "outputs": [],
   "source": [
    "print(tmp_only_non_frauds[['State','Num_of_cases','Percentage']].head(25), \"\\n\")\n",
    "\n",
    "with plt.style.context('seaborn'):\n",
    "    plt.figure(figsize=(14,8))\n",
    "    fig = sns.barplot(data=tmp_only_non_frauds.iloc[0:25], x=\"State\", y=\"Num_of_cases\", palette='Accent')\n",
    "    # Using the \"patches\" function we will get the location of the rectangle bars from the graph.\n",
    "    ## Then by using those location(width & height) values we will add the annotations\n",
    "    for p in fig.patches:\n",
    "        width = p.get_width()\n",
    "        height = p.get_height()\n",
    "        x, y = p.get_xy()\n",
    "        fig.annotate(f'{str(round((height*100)/tot_non_fraud_cases,2))+\"%\"}', (x + width/2, y + height*1.025), ha='center', fontsize=13.5, rotation=90)\n",
    "    \n",
    "    # Providing the labels and title to the graph\n",
    "    plt.xlabel(\"\\nTop Non-Fraudulent State Codes\", fontdict=label_font_dict)\n",
    "    plt.xticks(rotation=0, fontsize=12)\n",
    "    plt.ylabel(\"Number (or % share) of Cases\\n\", fontdict=label_font_dict)\n",
    "    plt.minorticks_on()\n",
    "    plt.grid(which='major', linestyle=\"--\", color='lightgrey')\n",
    "    plt.title(\"Top-25 State Codes with most number of non-fraudulent cases\\n\", fontdict=title_font_dict)\n",
    "    plt.plot();"
   ]
  },
  {
   "cell_type": "markdown",
   "metadata": {
    "id": "POghhr-PXA5x"
   },
   "source": [
    "**`OBSERVATION`**\n",
    "\n",
    "* The above plot shows us the Top-25 State Codes with most percentage of Non-Fraudulent Case Submissions.\n",
    "\n",
    "* Main observation from the above 2 plots is that same `State Codes` have similar percentages for false and no-false claims. Therefore, it feels like this feature might not be very useful."
   ]
  },
  {
   "cell_type": "markdown",
   "metadata": {
    "id": "zIKcQ928XA5y"
   },
   "source": [
    "### **Q17. Which are the Top-25 `Country` with maximum number of fraudulent cases?**"
   ]
  },
  {
   "cell_type": "code",
   "execution_count": null,
   "metadata": {
    "id": "Qdm3mqiCXA5z",
    "outputId": "61b2a902-b917-47f3-bf2a-0af6516651fb",
    "trusted": true
   },
   "outputs": [],
   "source": [
    "tmp = pd.DataFrame(train_iobp_df.groupby(['County','PotentialFraud'])['BeneID'].count()).reset_index()\n",
    "tmp.columns = ['County', 'Fraud?', 'Num_of_cases']\n",
    "tot_fraud_cases = tmp[tmp['Fraud?'] == 'Yes']['Num_of_cases'].sum()\n",
    "tot_non_fraud_cases = tmp[tmp['Fraud?'] == 'No']['Num_of_cases'].sum()\n",
    "tmp['Cases'] = tmp['Fraud?'].apply(lambda val: tot_non_fraud_cases if val == \"No\" else tot_fraud_cases)\n",
    "tmp['Percentage'] = round(((tmp['Num_of_cases'] / tmp['Cases']) * 100),2)\n",
    "\n",
    "tmp.head()"
   ]
  },
  {
   "cell_type": "code",
   "execution_count": null,
   "metadata": {
    "id": "VKwWKod7XA5z",
    "trusted": true
   },
   "outputs": [],
   "source": [
    "tmp_only_frauds = tmp[tmp['Fraud?'] == 'Yes'].sort_values(by=['Percentage'], ascending=False).reset_index(drop=True)"
   ]
  },
  {
   "cell_type": "code",
   "execution_count": null,
   "metadata": {
    "_kg_hide-input": true,
    "id": "S10ymz5gXA50",
    "outputId": "76b08871-ce78-4be7-8a64-e32195f14af0",
    "trusted": true
   },
   "outputs": [],
   "source": [
    "print(tmp_only_frauds[['County','Num_of_cases','Percentage']].head(25), \"\\n\")\n",
    "\n",
    "with plt.style.context('seaborn'):\n",
    "    plt.figure(figsize=(15,10))\n",
    "    fig = sns.barplot(data=tmp_only_frauds.iloc[0:25], x=\"County\", y=\"Num_of_cases\", palette='Accent')\n",
    "    # Using the \"patches\" function we will get the location of the rectangle bars from the graph.\n",
    "    ## Then by using those location(width & height) values we will add the annotations\n",
    "    for p in fig.patches:\n",
    "        width = p.get_width()\n",
    "        height = p.get_height()\n",
    "        x, y = p.get_xy()\n",
    "        fig.annotate(f'{str(round((height*100)/tot_fraud_cases,2))+\"%\"}', (x + width/2, y + height*1.025), ha='center', fontsize=13.5, rotation=90)\n",
    "    \n",
    "    # Providing the labels and title to the graph\n",
    "    plt.xlabel(\"\\nTop Fraudulent Country Codes\", fontdict=label_font_dict)\n",
    "    plt.xticks(rotation=90, fontsize=12)\n",
    "    plt.ylabel(\"Number (or % share) of Cases\\n\", fontdict=label_font_dict)\n",
    "    plt.minorticks_on()\n",
    "    plt.grid(which='major', linestyle=\"--\", color='lightgrey')\n",
    "    plt.title(\"Top-25 Country Codes with most number of fraudulent cases\\n\", fontdict=title_font_dict)\n",
    "    plt.plot();"
   ]
  },
  {
   "cell_type": "markdown",
   "metadata": {
    "id": "3ioFhUVTXA51"
   },
   "source": [
    "**`OBSERVATION`**\n",
    "* The above plot shows us the Top-25 Country Codes with most percentage of Fraudulent Case Submissions."
   ]
  },
  {
   "cell_type": "markdown",
   "metadata": {
    "id": "AtQzab3xXA52"
   },
   "source": [
    "### **Q18. What are the Top-25 `Country` with maximum number of non-fraudulent cases?**"
   ]
  },
  {
   "cell_type": "code",
   "execution_count": null,
   "metadata": {
    "id": "_6fNLNi9XA52",
    "trusted": true
   },
   "outputs": [],
   "source": [
    "tmp_only_non_frauds = tmp[tmp['Fraud?'] == 'No'].sort_values(by=['Percentage'], ascending=False).reset_index(drop=True)"
   ]
  },
  {
   "cell_type": "code",
   "execution_count": null,
   "metadata": {
    "_kg_hide-input": true,
    "id": "_ZF_cHpWXA53",
    "outputId": "1cdf82f3-92be-4db4-f3b9-8f91cfd8e314",
    "trusted": true
   },
   "outputs": [],
   "source": [
    "print(tmp_only_non_frauds[['County','Num_of_cases','Percentage']].head(25), \"\\n\")\n",
    "\n",
    "with plt.style.context('seaborn'):\n",
    "    plt.figure(figsize=(15,10))\n",
    "    fig = sns.barplot(data=tmp_only_non_frauds.iloc[0:25], x=\"County\", y=\"Num_of_cases\", palette='Accent')\n",
    "    # Using the \"patches\" function we will get the location of the rectangle bars from the graph.\n",
    "    ## Then by using those location(width & height) values we will add the annotations\n",
    "    for p in fig.patches:\n",
    "        width = p.get_width()\n",
    "        height = p.get_height()\n",
    "        x, y = p.get_xy()\n",
    "        fig.annotate(f'{str(round((height*100)/tot_non_fraud_cases,2))+\"%\"}', (x + width/2, y + height*1.025), ha='center', fontsize=13.5, rotation=90)\n",
    "    \n",
    "    # Providing the labels and title to the graph\n",
    "    plt.xlabel(\"\\nTop Non-Fraudulent Country Codes\", fontdict=label_font_dict)\n",
    "    plt.xticks(rotation=90, fontsize=12)\n",
    "    plt.ylabel(\"Number (or % share) of Cases\\n\", fontdict=label_font_dict)\n",
    "    plt.minorticks_on()\n",
    "    plt.grid(which='major', linestyle=\"--\", color='lightgrey')\n",
    "    plt.title(\"Top-25 Country Codes with most number of non-fraudulent cases\\n\", fontdict=title_font_dict)\n",
    "    plt.plot();"
   ]
  },
  {
   "cell_type": "markdown",
   "metadata": {
    "id": "fdHRDgWuXA54"
   },
   "source": [
    "**`OBSERVATION`**\n",
    "\n",
    "* The above plot shows us the Top-25 Country Codes with most percentage of Non-Fraudulent Case Submissions.\n",
    "\n",
    "* Main observation from the above 2 plots is that same `Country Codes` have similar percentages for false and no-false claims. Therefore, it feels like this feature might not be very useful."
   ]
  },
  {
   "cell_type": "markdown",
   "metadata": {
    "id": "xl1VurG1XA54"
   },
   "source": [
    "### **Q19. Does various `Human Races` have any relationship with maximum number of fraudulent cases?**"
   ]
  },
  {
   "cell_type": "code",
   "execution_count": null,
   "metadata": {
    "id": "RlfRoTiNXA55",
    "outputId": "cb476e66-6ac7-4397-e7fd-ccca568f258a",
    "trusted": true
   },
   "outputs": [],
   "source": [
    "tmp = pd.DataFrame(train_iobp_df.groupby(['Race','PotentialFraud'])['BeneID'].count()).reset_index()\n",
    "tmp.columns = ['Race', 'Fraud?', 'Num_of_cases']\n",
    "tot_fraud_cases = tmp[tmp['Fraud?'] == 'Yes']['Num_of_cases'].sum()\n",
    "tot_non_fraud_cases = tmp[tmp['Fraud?'] == 'No']['Num_of_cases'].sum()\n",
    "tmp['Cases'] = tmp['Fraud?'].apply(lambda val: tot_non_fraud_cases if val == \"No\" else tot_fraud_cases)\n",
    "tmp['Percentage'] = round(((tmp['Num_of_cases'] / tmp['Cases']) * 100),2)\n",
    "\n",
    "tmp.head()"
   ]
  },
  {
   "cell_type": "code",
   "execution_count": null,
   "metadata": {
    "id": "C00opeNKXA56",
    "trusted": true
   },
   "outputs": [],
   "source": [
    "tmp_only_frauds = tmp[tmp['Fraud?'] == 'Yes'].sort_values(by=['Percentage'], ascending=False).reset_index(drop=True)"
   ]
  },
  {
   "cell_type": "code",
   "execution_count": null,
   "metadata": {
    "_kg_hide-input": true,
    "id": "yM_ZWK1QXA56",
    "outputId": "f90f42e7-21d8-4207-eb42-6c692503be4b",
    "trusted": true
   },
   "outputs": [],
   "source": [
    "print(tmp_only_frauds[['Race','Num_of_cases','Percentage']].head(25), \"\\n\")\n",
    "\n",
    "with plt.style.context('seaborn'):\n",
    "    plt.figure(figsize=(10,8))\n",
    "    fig = sns.barplot(data=tmp_only_frauds, x=\"Race\", y=\"Num_of_cases\", palette='Accent')\n",
    "    # Using the \"patches\" function we will get the location of the rectangle bars from the graph.\n",
    "    ## Then by using those location(width & height) values we will add the annotations\n",
    "    for p in fig.patches:\n",
    "        width = p.get_width()\n",
    "        height = p.get_height()\n",
    "        x, y = p.get_xy()\n",
    "        fig.annotate(f'{str(round((height*100)/tot_fraud_cases,2))+\"%\"}', (x + width/2, y + height*1.025), ha='center', fontsize=13.5, rotation=0)\n",
    "    \n",
    "    # Providing the labels and title to the graph\n",
    "    plt.xlabel(\"\\nTop Fraudulent Race\", fontdict=label_font_dict)\n",
    "    plt.xticks(rotation=0, fontsize=12)\n",
    "    plt.ylabel(\"Number (or % share) of Cases\\n\", fontdict=label_font_dict)\n",
    "    plt.minorticks_on()\n",
    "    plt.grid(which='major', linestyle=\"--\", color='lightgrey')\n",
    "    plt.title(\"Human Race with most number of fraudulent cases\\n\", fontdict=title_font_dict)\n",
    "    plt.plot();"
   ]
  },
  {
   "cell_type": "markdown",
   "metadata": {
    "id": "w45zjV2PXA57"
   },
   "source": [
    "**`OBSERVATION`**\n",
    "* The above plot shows us the percentage of Fraudulent Case Submissions for various Human Races."
   ]
  },
  {
   "cell_type": "markdown",
   "metadata": {
    "id": "4vEaiKf2XA57"
   },
   "source": [
    "### **Q20. Does various `Human Races` have any relationship with maximum number of non-fraudulent cases?**"
   ]
  },
  {
   "cell_type": "code",
   "execution_count": null,
   "metadata": {
    "id": "Qmg1tS3JXA57",
    "trusted": true
   },
   "outputs": [],
   "source": [
    "tmp_only_non_frauds = tmp[tmp['Fraud?'] == 'No'].sort_values(by=['Percentage'], ascending=False).reset_index(drop=True)"
   ]
  },
  {
   "cell_type": "code",
   "execution_count": null,
   "metadata": {
    "_kg_hide-input": true,
    "id": "Db7ssgavXA58",
    "outputId": "912eda06-8057-4e88-bddb-4fb6873b810b",
    "trusted": true
   },
   "outputs": [],
   "source": [
    "print(tmp_only_non_frauds[['Race','Num_of_cases','Percentage']].head(25), \"\\n\")\n",
    "\n",
    "with plt.style.context('seaborn'):\n",
    "    plt.figure(figsize=(10,8))\n",
    "    fig = sns.barplot(data=tmp_only_non_frauds, x=\"Race\", y=\"Num_of_cases\", palette='Accent')\n",
    "    # Using the \"patches\" function we will get the location of the rectangle bars from the graph.\n",
    "    ## Then by using those location(width & height) values we will add the annotations\n",
    "    for p in fig.patches:\n",
    "        width = p.get_width()\n",
    "        height = p.get_height()\n",
    "        x, y = p.get_xy()\n",
    "        fig.annotate(f'{str(round((height*100)/tot_non_fraud_cases,2))+\"%\"}', (x + width/2, y + height*1.025), ha='center', fontsize=13.5, rotation=0)\n",
    "    \n",
    "    # Providing the labels and title to the graph\n",
    "    plt.xlabel(\"\\nTop Non-Fraudulent Race\", fontdict=label_font_dict)\n",
    "    plt.xticks(rotation=0, fontsize=12)\n",
    "    plt.ylabel(\"Number (or % share) of Cases\\n\", fontdict=label_font_dict)\n",
    "    plt.minorticks_on()\n",
    "    plt.grid(which='major', linestyle=\"--\", color='lightgrey')\n",
    "    plt.title(\"Human Race with most number of non-fraudulent cases\\n\", fontdict=title_font_dict)\n",
    "    plt.plot();"
   ]
  },
  {
   "cell_type": "markdown",
   "metadata": {
    "id": "TVRz5oJGXA59"
   },
   "source": [
    "**`OBSERVATION`**\n",
    "\n",
    "* The above plot shows us the percentage of Non-Fraudulent Case Submissions for various Human Races.\n",
    "\n",
    "* Main observation from the above 2 plots is that same `Human Races` have similar percentages for false and no-false claims. Therefore, it feels like this feature might not be very useful."
   ]
  },
  {
   "cell_type": "markdown",
   "metadata": {
    "id": "c16_htZKnucm"
   },
   "source": [
    "# **Feature Engg - SET 1**"
   ]
  },
  {
   "cell_type": "code",
   "execution_count": null,
   "metadata": {},
   "outputs": [],
   "source": [
    "from IPython.display import Image\n",
    "Image(\"../input/medicare-prv-fraud-files/Feat_Engg_SET1.png\")"
   ]
  },
  {
   "cell_type": "code",
   "execution_count": null,
   "metadata": {
    "id": "zK3dEaKAnugE",
    "trusted": true
   },
   "outputs": [],
   "source": [
    "train_bene_df = pd.read_csv(\"../input/healthcare-provider-fraud-detection-analysis/Train_Beneficiarydata-1542865627584.csv\")\n",
    "train_ip_df = pd.read_csv(\"../input/healthcare-provider-fraud-detection-analysis/Train_Inpatientdata-1542865627584.csv\")\n",
    "train_op_df = pd.read_csv(\"../input/healthcare-provider-fraud-detection-analysis/Train_Outpatientdata-1542865627584.csv\")\n",
    "train_tgt_lbls_df = pd.read_csv(\"../input/healthcare-provider-fraud-detection-analysis/Train-1542865627584.csv\")"
   ]
  },
  {
   "cell_type": "markdown",
   "metadata": {
    "id": "25UO_fXHte6_"
   },
   "source": [
    "## ***Exploring_Target_Labels_Data***"
   ]
  },
  {
   "cell_type": "code",
   "execution_count": null,
   "metadata": {
    "id": "JsbO4lEIXA4v",
    "outputId": "dd5d83e2-8a49-4cb7-974d-810e50b87296",
    "trusted": true
   },
   "outputs": [],
   "source": [
    "train_tgt_lbls_df.head()"
   ]
  },
  {
   "cell_type": "markdown",
   "metadata": {
    "id": "SoocuAlKXA4y"
   },
   "source": [
    "* **Check the Fraud and Non-Fraud Counts**"
   ]
  },
  {
   "cell_type": "code",
   "execution_count": null,
   "metadata": {
    "id": "r8BFPCEvXA4z",
    "outputId": "a53f21c9-7473-4cfb-c69b-51a49729a6f4",
    "trusted": true
   },
   "outputs": [],
   "source": [
    "print(\"### The unique number of providers are {}. ###\".format(train_tgt_lbls_df.shape[0]))"
   ]
  },
  {
   "cell_type": "code",
   "execution_count": null,
   "metadata": {
    "_kg_hide-input": true,
    "id": "5X-Yy7AhXA40",
    "outputId": "096f42d7-f257-472d-d387-7e89bf95d58d",
    "trusted": true
   },
   "outputs": [],
   "source": [
    "with plt.style.context('seaborn-poster'):\n",
    "    fig = train_tgt_lbls_df[\"PotentialFraud\"].value_counts().plot(kind='bar', color=['green','orange'])\n",
    "    # Using the \"patches\" function we will get the location of the rectangle bars from the graph.\n",
    "    ## Then by using those location(width & height) values we will add the annotations\n",
    "    for p in fig.patches:\n",
    "        width = p.get_width()\n",
    "        height = p.get_height()\n",
    "        x, y = p.get_xy()\n",
    "        fig.annotate(f'{str(round((height*100)/train_tgt_lbls_df.shape[0],2))+\"%\"}', (x + width/2, y + height*1.015), ha='center', fontsize=13.5)\n",
    "    # Providing the labels and title to the graph\n",
    "    plt.xlabel(\"Provider Fraud or Not?\", fontdict=label_font_dict)\n",
    "    plt.ylabel(\"Number or % share of providers\\n\", fontdict=label_font_dict)\n",
    "    plt.yticks(np.arange(0,5100,500))\n",
    "    plt.grid(which='major', linestyle=\"--\", color='lightgrey')\n",
    "    plt.minorticks_on()\n",
    "    plt.title(\"Distribution of Fraud & Non-fraud providers\\n\", fontdict=title_font_dict)\n",
    "    plt.plot();"
   ]
  },
  {
   "cell_type": "markdown",
   "metadata": {
    "id": "yZGLu8zzKskq"
   },
   "source": [
    "**`OBSERVATION`**\n",
    "* From the above plot, we can say that 90% of the providers are not frausters and only 9% of them are involved in frauds."
   ]
  },
  {
   "cell_type": "markdown",
   "metadata": {
    "id": "UzS9VJNVXA42"
   },
   "source": [
    "### **Adding `New Feature - 1` :: `Admitted` or `Not Admitted` indicator in IP and OP Dataset**"
   ]
  },
  {
   "cell_type": "markdown",
   "metadata": {
    "id": "OGXrtbB5XA42"
   },
   "source": [
    "* **Adding in IP Dataset**"
   ]
  },
  {
   "cell_type": "code",
   "execution_count": null,
   "metadata": {
    "id": "GCN00sfgXA43",
    "trusted": true
   },
   "outputs": [],
   "source": [
    "train_ip_df[\"Admitted?\"] = 1"
   ]
  },
  {
   "cell_type": "code",
   "execution_count": null,
   "metadata": {
    "id": "DpaO8jvSXA44",
    "outputId": "c50a5fe7-932e-4819-c463-23b704e920cd",
    "trusted": true
   },
   "outputs": [],
   "source": [
    "train_ip_df.head()"
   ]
  },
  {
   "cell_type": "markdown",
   "metadata": {
    "id": "2e5BlaofXA44"
   },
   "source": [
    "* **Adding in OP Dataset**"
   ]
  },
  {
   "cell_type": "code",
   "execution_count": null,
   "metadata": {
    "id": "8NEnLcMpXA45",
    "trusted": true
   },
   "outputs": [],
   "source": [
    "train_op_df[\"Admitted?\"] = 0"
   ]
  },
  {
   "cell_type": "code",
   "execution_count": null,
   "metadata": {
    "id": "SOp2rpixXA45",
    "outputId": "4b2fba6f-995a-4734-a5ee-d41a8867eec1",
    "trusted": true
   },
   "outputs": [],
   "source": [
    "train_op_df.head()"
   ]
  },
  {
   "cell_type": "markdown",
   "metadata": {
    "id": "yS_zDW4FXA46"
   },
   "source": [
    "### **Merging the Datasets**"
   ]
  },
  {
   "cell_type": "code",
   "execution_count": null,
   "metadata": {
    "id": "63LhjzN_XA47",
    "outputId": "f4648f98-7820-42a7-84bd-e26e2f8b0ddf",
    "trusted": true
   },
   "outputs": [],
   "source": [
    "# Commom columns must be 28\n",
    "common_cols = [col for col in train_ip_df.columns if col in train_op_df.columns]\n",
    "len(common_cols)"
   ]
  },
  {
   "cell_type": "code",
   "execution_count": null,
   "metadata": {
    "id": "5IQZ3WuEXA47",
    "outputId": "6a80f17b-6838-45d2-eef5-486b26aac789",
    "trusted": true
   },
   "outputs": [],
   "source": [
    "# Merging the IP and OP dataset on the basis of common columns\n",
    "train_ip_op_df = pd.merge(left=train_ip_df, right=train_op_df, left_on=common_cols, right_on=common_cols, how=\"outer\")\n",
    "train_ip_op_df.shape"
   ]
  },
  {
   "cell_type": "code",
   "execution_count": null,
   "metadata": {
    "id": "IxbtI7weXA48",
    "outputId": "019ac386-863e-42b6-ce5e-a32096b998c3",
    "trusted": true
   },
   "outputs": [],
   "source": [
    "train_ip_op_df.head()"
   ]
  },
  {
   "cell_type": "markdown",
   "metadata": {
    "id": "C-2lOdqSXA48"
   },
   "source": [
    "### **Merging the IP_OP Dataset with BENE Data**"
   ]
  },
  {
   "cell_type": "code",
   "execution_count": null,
   "metadata": {
    "id": "o684n3aOXA49",
    "outputId": "34c12ac7-5194-4e8f-bf05-2ab5f5bd3a09",
    "trusted": true
   },
   "outputs": [],
   "source": [
    "# Joining the IP_OP dataset with the BENE data\n",
    "train_ip_op_bene_df = pd.merge(left=train_ip_op_df, right=train_bene_df, left_on='BeneID', right_on='BeneID',how='inner')\n",
    "train_ip_op_bene_df.shape"
   ]
  },
  {
   "cell_type": "markdown",
   "metadata": {
    "id": "GDGBH08qXA49"
   },
   "source": [
    "### **Merging the IP_OP_BENE Dataset with PROVIDER level Tgt Labels Data**"
   ]
  },
  {
   "cell_type": "code",
   "execution_count": null,
   "metadata": {
    "id": "VRaogF81XA4-",
    "outputId": "f0e47a5f-0053-496f-8f14-51d2c8332737",
    "trusted": true
   },
   "outputs": [],
   "source": [
    "# Joining the IP_OP_BENE dataset with the Tgt Label Provider Data\n",
    "train_iobp_df = pd.merge(left=train_ip_op_bene_df, right=train_tgt_lbls_df, left_on='Provider', right_on='Provider',how='inner')\n",
    "train_iobp_df.shape"
   ]
  },
  {
   "cell_type": "markdown",
   "metadata": {
    "id": "UIcqllzRXA4-"
   },
   "source": [
    "### **Entire Dataset**"
   ]
  },
  {
   "cell_type": "code",
   "execution_count": null,
   "metadata": {
    "id": "IvC4ZEKSXA4_",
    "outputId": "93268fcd-d874-4211-a8df-96b215161551",
    "trusted": true
   },
   "outputs": [],
   "source": [
    "train_iobp_df.shape"
   ]
  },
  {
   "cell_type": "code",
   "execution_count": null,
   "metadata": {
    "id": "DKh9PYl3XA4_",
    "outputId": "768c4657-e3d7-48fe-bb2a-c8b23402b530",
    "trusted": true
   },
   "outputs": [],
   "source": [
    "# Unique Providers\n",
    "train_iobp_df[\"Provider\"].nunique()"
   ]
  },
  {
   "cell_type": "code",
   "execution_count": null,
   "metadata": {
    "id": "h2TD1eaAXA5A",
    "outputId": "f78159b9-57e7-402b-9fec-17d8539ecc6b",
    "trusted": true
   },
   "outputs": [],
   "source": [
    "# Unique Claim numbers\n",
    "train_iobp_df[\"ClaimID\"].nunique()"
   ]
  },
  {
   "cell_type": "code",
   "execution_count": null,
   "metadata": {
    "id": "o3QIXIQAXA5B",
    "outputId": "5b69f76d-d97c-4080-97de-ee9baf0a0a92",
    "trusted": true
   },
   "outputs": [],
   "source": [
    "# Joining with the PRV Tgt Labels\n",
    "prvs_claims_df = pd.DataFrame(train_iobp_df.groupby(['Provider'])['ClaimID'].count()).reset_index()\n",
    "prvs_claims_tgt_lbls_df = pd.merge(left=prvs_claims_df, right=train_tgt_lbls_df, on='Provider', how='inner')\n",
    "prvs_claims_tgt_lbls_df"
   ]
  },
  {
   "cell_type": "markdown",
   "metadata": {
    "id": "t8PlIGrXXA5I"
   },
   "source": [
    "- **Fraud Count at Claims level**"
   ]
  },
  {
   "cell_type": "code",
   "execution_count": null,
   "metadata": {
    "_kg_hide-input": true,
    "id": "oujYVt62XA5I",
    "outputId": "f6747c86-32b5-4e64-e3b7-101b55e397f8",
    "trusted": true
   },
   "outputs": [],
   "source": [
    "print(pd.DataFrame(train_iobp_df['PotentialFraud'].value_counts()), \"\\n\")\n",
    "\n",
    "with plt.style.context('seaborn-poster'):\n",
    "    fig = train_iobp_df['PotentialFraud'].value_counts().plot(kind='bar', color=['green','orange'])\n",
    "    # Using the \"patches\" function we will get the location of the rectangle bars from the graph.\n",
    "    ## Then by using those location(width & height) values we will add the annotations\n",
    "    for p in fig.patches:\n",
    "        width = p.get_width()\n",
    "        height = p.get_height()\n",
    "        x, y = p.get_xy()\n",
    "        fig.annotate(f'{str(round((height*100)/train_iobp_df.shape[0],2))+\"%\"}', (x + width/2, y + height*1.015), ha='center', fontsize=13.5)\n",
    "    # Providing the labels and title to the graph\n",
    "    plt.xlabel(\"Fraud or Not?\", fontdict=label_font_dict)\n",
    "    plt.ylabel(\"Number (or %) of claims\\n\", fontdict=label_font_dict)\n",
    "    plt.grid(which='major', linestyle=\"--\", color='lightgrey')\n",
    "    plt.minorticks_on()\n",
    "    plt.title(\"Distribution of Fraud & Non-fraud claims\\n\", fontdict=title_font_dict)\n",
    "    plt.plot();"
   ]
  },
  {
   "cell_type": "markdown",
   "metadata": {
    "id": "0w7xDfJYXA5J"
   },
   "source": [
    "**`OBSERVATION`**\n",
    "* The above plot shows us that, 62% of claims are Non-Fraud and 32% of them are Fraudulent. \n",
    "    * By looking at the percentages we may say that there is a class-imbalance problem but after looking at the number of records it doesn't seem to be a severe class-imbalance problem. \n",
    "        * So, I'll try some class balancing techniques only after training a baseline model w/o any synthetic or class weighting techniques."
   ]
  },
  {
   "cell_type": "markdown",
   "metadata": {
    "id": "dO5kzZxUYxEd"
   },
   "source": [
    "## **Feature Engineering**\n",
    "**`Let's create some features`**"
   ]
  },
  {
   "cell_type": "markdown",
   "metadata": {
    "id": "Q8NGb3byXA5L"
   },
   "source": [
    "### **Adding `New Feature - 2` :: `Is_Alive?`**\n",
    "\n",
    "    - Is Alive? = No if DOD is NaN else Yes"
   ]
  },
  {
   "cell_type": "code",
   "execution_count": null,
   "metadata": {
    "id": "FTXUUC80XA5L",
    "trusted": true
   },
   "outputs": [],
   "source": [
    "train_iobp_df['DOB'] = pd.to_datetime(train_iobp_df['DOB'], format=\"%Y-%m-%d\")\n",
    "train_iobp_df['DOD'] = pd.to_datetime(train_iobp_df['DOD'], format=\"%Y-%m-%d\")"
   ]
  },
  {
   "cell_type": "code",
   "execution_count": null,
   "metadata": {
    "id": "ud_XF0OVXA5M",
    "trusted": true
   },
   "outputs": [],
   "source": [
    "train_iobp_df['Is_Alive?'] = train_iobp_df['DOD'].apply(lambda val: 'No' if val != val else 'Yes')"
   ]
  },
  {
   "cell_type": "code",
   "execution_count": null,
   "metadata": {
    "id": "UnrfO0QXXA5M",
    "outputId": "e7a20c07-cbb4-42c1-fe9d-6076a98dcf98",
    "trusted": true
   },
   "outputs": [],
   "source": [
    "train_iobp_df['Is_Alive?'].value_counts()"
   ]
  },
  {
   "cell_type": "markdown",
   "metadata": {
    "id": "3Jx9IsC2XA5J"
   },
   "source": [
    "### **Adding `New Feature - 3` :: `Claim_Duration`**\n",
    "    \n",
    "    - Claim Duration = Claim End Date - Claim Start Date"
   ]
  },
  {
   "cell_type": "code",
   "execution_count": null,
   "metadata": {
    "id": "WwA5YY7uXA5K",
    "trusted": true
   },
   "outputs": [],
   "source": [
    "train_iobp_df['ClaimStartDt'] = pd.to_datetime(train_iobp_df['ClaimStartDt'], format=\"%Y-%m-%d\")\n",
    "train_iobp_df['ClaimEndDt'] = pd.to_datetime(train_iobp_df['ClaimEndDt'], format=\"%Y-%m-%d\")\n",
    "\n",
    "train_iobp_df['Claim_Duration'] = (train_iobp_df['ClaimEndDt'] - train_iobp_df['ClaimStartDt']).dt.days"
   ]
  },
  {
   "cell_type": "markdown",
   "metadata": {
    "id": "Meku-w63XA5K"
   },
   "source": [
    "### **Adding `New Feature - 4` :: `Admitted_Duration`**\n",
    "\n",
    "    - Admitted Duration = Discharge Date - Admission Date"
   ]
  },
  {
   "cell_type": "code",
   "execution_count": null,
   "metadata": {
    "id": "b_UrJsbkXA5K",
    "trusted": true
   },
   "outputs": [],
   "source": [
    "train_iobp_df['AdmissionDt'] = pd.to_datetime(train_iobp_df['AdmissionDt'], format=\"%Y-%m-%d\")\n",
    "train_iobp_df['DischargeDt'] = pd.to_datetime(train_iobp_df['DischargeDt'], format=\"%Y-%m-%d\")\n",
    "\n",
    "train_iobp_df['Admitted_Duration'] = (train_iobp_df['DischargeDt'] - train_iobp_df['AdmissionDt']).dt.days"
   ]
  },
  {
   "cell_type": "markdown",
   "metadata": {
    "id": "n_WDPpDOXA5N"
   },
   "source": [
    "### **Adding `New Feature - 5` :: `Bene_Age`**\n",
    "\n",
    "    - Bene Age = DOD - DOB (if DOD is Null then replace it with MAX date in DOD)"
   ]
  },
  {
   "cell_type": "code",
   "execution_count": null,
   "metadata": {
    "id": "_OQFdTA6XA5N",
    "trusted": true
   },
   "outputs": [],
   "source": [
    "# Filling the Null values as MAX Date of Death in the Dataset\n",
    "train_iobp_df['DOD'].fillna(value=train_iobp_df['DOD'].max(), inplace=True)"
   ]
  },
  {
   "cell_type": "code",
   "execution_count": null,
   "metadata": {
    "id": "UDvZko1VXA5O",
    "trusted": true
   },
   "outputs": [],
   "source": [
    "train_iobp_df['Bene_Age'] = round(((train_iobp_df['DOD'] - train_iobp_df['DOB']).dt.days)/365,1)"
   ]
  },
  {
   "cell_type": "markdown",
   "metadata": {
    "id": "T1NQk3UWYxEp"
   },
   "source": [
    "### **Adding `New Feature - 6` :: `Att_Opr_Oth_Phy_Tot_Claims`**\n",
    "    \n",
    "   * It represents the total claims submitted by Attending, Operating and Other Physicians.\n",
    "       \n",
    "       * **`Reasoning`** :: The idea behind adding this feature is to see whether a total of physicians claims submission will help in influencing the potential frauds.\n",
    "\n",
    "\n",
    "   * **`Logic`** :: Att_Phy_tot_claims + Opr_Phy_tot_claims + Oth_Phy_tot_claims"
   ]
  },
  {
   "cell_type": "markdown",
   "metadata": {
    "id": "Ozum0zALYxEq"
   },
   "source": [
    "- **`Att_Phy_tot_claims`** :: **Total Number of claims or cases seen by Attending Physician**"
   ]
  },
  {
   "cell_type": "code",
   "execution_count": null,
   "metadata": {
    "id": "iyI1bDFbYxEr",
    "outputId": "7ee8bf60-6e69-49c2-b053-86e931f7f8ee",
    "trusted": true
   },
   "outputs": [],
   "source": [
    "# Total unique number of Attended Physicians\n",
    "print(\"Unique number of Attending Physicians present in the dataset are --> {}\".format(train_iobp_df['AttendingPhysician'].nunique()))"
   ]
  },
  {
   "cell_type": "code",
   "execution_count": null,
   "metadata": {
    "id": "BlxFuS8bYxEs",
    "outputId": "84fb7ee7-4eef-4057-90e7-dee9af975704",
    "trusted": true
   },
   "outputs": [],
   "source": [
    "train_iobp_df['Att_Phy_tot_claims'] = train_iobp_df.groupby(['AttendingPhysician'])['ClaimID'].transform('count')\n",
    "train_iobp_df['Att_Phy_tot_claims'].describe()"
   ]
  },
  {
   "cell_type": "markdown",
   "metadata": {
    "id": "AICtZeyjYxEt"
   },
   "source": [
    "- **`Opr_Phy_tot_claims`** :: **Total Number of claims or cases seen by Opearting Physician**"
   ]
  },
  {
   "cell_type": "code",
   "execution_count": null,
   "metadata": {
    "id": "lU_vtB1BYxEv",
    "outputId": "89a563bf-867d-45b4-cc26-36bd8d17e523",
    "trusted": true
   },
   "outputs": [],
   "source": [
    "# Total unique number of Operating Physicians\n",
    "print(\"Unique number of Operating Physicians present in the dataset are --> {}\".format(train_iobp_df['OperatingPhysician'].nunique()))"
   ]
  },
  {
   "cell_type": "code",
   "execution_count": null,
   "metadata": {
    "id": "JoPU0TPYYxEw",
    "outputId": "bfa34130-74af-4bbd-cf71-9f7765ae4104",
    "trusted": true
   },
   "outputs": [],
   "source": [
    "train_iobp_df['Opr_Phy_tot_claims'] = train_iobp_df.groupby(['OperatingPhysician'])['ClaimID'].transform('count')\n",
    "train_iobp_df['Opr_Phy_tot_claims'].describe()"
   ]
  },
  {
   "cell_type": "markdown",
   "metadata": {
    "id": "ilIOzmFOYxEx"
   },
   "source": [
    "- **`Oth_Phy_tot_claims`** :: **Total Number of claims or cases seen by Other Physician**"
   ]
  },
  {
   "cell_type": "code",
   "execution_count": null,
   "metadata": {
    "id": "v7Wn8pmGYxEy",
    "outputId": "2b81fc71-174d-4f47-ee42-2d9caae21cca",
    "trusted": true
   },
   "outputs": [],
   "source": [
    "# Total unique number of Other Physicians\n",
    "print(\"Unique number of Other Physicians present in the dataset are --> {}\".format(train_iobp_df['OtherPhysician'].nunique()))"
   ]
  },
  {
   "cell_type": "code",
   "execution_count": null,
   "metadata": {
    "id": "pnWJuxx7YxEz",
    "outputId": "8aab02ae-5977-4581-d9d7-979d1665595b",
    "trusted": true
   },
   "outputs": [],
   "source": [
    "train_iobp_df['Oth_Phy_tot_claims'] = train_iobp_df.groupby(['OtherPhysician'])['ClaimID'].transform('count')\n",
    "train_iobp_df['Oth_Phy_tot_claims'].describe()"
   ]
  },
  {
   "cell_type": "code",
   "execution_count": null,
   "metadata": {
    "id": "GnBpyg6IYxE0",
    "trusted": true
   },
   "outputs": [],
   "source": [
    "# Creating the combined feature\n",
    "train_iobp_df['Att_Phy_tot_claims'].fillna(value=0, inplace=True)\n",
    "train_iobp_df['Opr_Phy_tot_claims'].fillna(value=0, inplace=True)\n",
    "train_iobp_df['Oth_Phy_tot_claims'].fillna(value=0, inplace=True)"
   ]
  },
  {
   "cell_type": "code",
   "execution_count": null,
   "metadata": {
    "id": "2KP3whcXYxE1",
    "trusted": true
   },
   "outputs": [],
   "source": [
    "train_iobp_df['Att_Opr_Oth_Phy_Tot_Claims'] = train_iobp_df['Att_Phy_tot_claims'] + train_iobp_df['Opr_Phy_tot_claims'] + train_iobp_df['Oth_Phy_tot_claims']"
   ]
  },
  {
   "cell_type": "code",
   "execution_count": null,
   "metadata": {
    "id": "dXAHSNLWYxE2",
    "outputId": "d1d8c574-8c10-43b1-89d3-956074f7e596",
    "trusted": true
   },
   "outputs": [],
   "source": [
    "train_iobp_df['Att_Opr_Oth_Phy_Tot_Claims'].describe()"
   ]
  },
  {
   "cell_type": "code",
   "execution_count": null,
   "metadata": {
    "id": "jS_ZOqU1YxE3",
    "trusted": true
   },
   "outputs": [],
   "source": [
    "train_iobp_df.drop(['Att_Phy_tot_claims', 'Opr_Phy_tot_claims', 'Oth_Phy_tot_claims'], axis=1, inplace=True)"
   ]
  },
  {
   "cell_type": "markdown",
   "metadata": {
    "id": "VBjTHMKCYxE5"
   },
   "source": [
    "### **Adding `New Feature - 7` :: `Prv_Tot_Att_Opr_Oth_Phys`**\n",
    "    \n",
    "   * It represents the total of all kind of physicians that a provider has interacted with.\n",
    "       \n",
    "       * **`Reasoning`** :: The idea behind adding this feature is to see whether a fraudulent provider interacts with higher or lower numberof of various physicians.\n",
    "\n",
    "\n",
    "   * **`Logic`** :: Prv_Tot_Att_Phy + Prv_Tot_Opr_Phy + Prv_Tot_Oth_Phy"
   ]
  },
  {
   "cell_type": "code",
   "execution_count": null,
   "metadata": {
    "id": "CeNOo6HVYxE5",
    "trusted": true
   },
   "outputs": [],
   "source": [
    "train_iobp_df[\"Prv_Tot_Att_Phy\"] = train_iobp_df.groupby(['Provider'])['AttendingPhysician'].transform('count')\n",
    "train_iobp_df[\"Prv_Tot_Opr_Phy\"] = train_iobp_df.groupby(['Provider'])['OperatingPhysician'].transform('count')\n",
    "train_iobp_df[\"Prv_Tot_Oth_Phy\"] = train_iobp_df.groupby(['Provider'])['OtherPhysician'].transform('count')"
   ]
  },
  {
   "cell_type": "code",
   "execution_count": null,
   "metadata": {
    "id": "NTVuT_xxYxE6",
    "outputId": "61635695-38b9-4cc1-dfa6-36ab94fbdd44",
    "trusted": true
   },
   "outputs": [],
   "source": [
    "# Nulls in the above features\n",
    "train_iobp_df.isna().sum().tail(3)"
   ]
  },
  {
   "cell_type": "code",
   "execution_count": null,
   "metadata": {
    "id": "KRmMbU86YxE8",
    "outputId": "a9289caf-c1ca-4bf2-a786-b45622f879e3",
    "trusted": true
   },
   "outputs": [],
   "source": [
    "train_iobp_df[\"Prv_Tot_Att_Phy\"].describe()"
   ]
  },
  {
   "cell_type": "markdown",
   "metadata": {
    "id": "5B0EaptRYxE9"
   },
   "source": [
    "* The average number of attending physicians for providers are 820."
   ]
  },
  {
   "cell_type": "code",
   "execution_count": null,
   "metadata": {
    "id": "2v7QKDMeYxE-",
    "outputId": "bf7a41e5-a465-45ca-de43-3af93dd3e06b",
    "trusted": true
   },
   "outputs": [],
   "source": [
    "train_iobp_df[\"Prv_Tot_Opr_Phy\"].describe()"
   ]
  },
  {
   "cell_type": "markdown",
   "metadata": {
    "id": "CfARfireYxE_"
   },
   "source": [
    "* The average number of operating physicians for providers are 155."
   ]
  },
  {
   "cell_type": "code",
   "execution_count": null,
   "metadata": {
    "id": "wSRMdDx3YxFA",
    "outputId": "f6002424-1fdd-494d-c3a2-8b66430967bc",
    "trusted": true
   },
   "outputs": [],
   "source": [
    "train_iobp_df[\"Prv_Tot_Oth_Phy\"].describe()"
   ]
  },
  {
   "cell_type": "markdown",
   "metadata": {
    "id": "Zra8hbMbYxFB"
   },
   "source": [
    "* The average number of other physicians for providers are 306."
   ]
  },
  {
   "cell_type": "code",
   "execution_count": null,
   "metadata": {
    "id": "lqBOXhvNYxFC",
    "trusted": true
   },
   "outputs": [],
   "source": [
    "train_iobp_df['Prv_Tot_Att_Opr_Oth_Phys'] = train_iobp_df['Prv_Tot_Att_Phy'] + train_iobp_df['Prv_Tot_Opr_Phy'] + train_iobp_df['Prv_Tot_Oth_Phy']"
   ]
  },
  {
   "cell_type": "code",
   "execution_count": null,
   "metadata": {
    "id": "XsRRC-fxYxFD",
    "outputId": "cfb69f6f-d785-4f86-a768-1ff8dfe2cca2",
    "trusted": true
   },
   "outputs": [],
   "source": [
    "train_iobp_df[\"Prv_Tot_Att_Opr_Oth_Phys\"].describe()"
   ]
  },
  {
   "cell_type": "code",
   "execution_count": null,
   "metadata": {
    "id": "NfZ59ueRYxFE",
    "trusted": true
   },
   "outputs": [],
   "source": [
    "train_iobp_df.drop(['Prv_Tot_Att_Phy', 'Prv_Tot_Opr_Phy', 'Prv_Tot_Oth_Phy'], axis=1, inplace=True)"
   ]
  },
  {
   "cell_type": "markdown",
   "metadata": {
    "id": "txQdFlDmYxFF"
   },
   "source": [
    "### **Adding `New Feature - 8` :: `Total Unique Claim Admit Codes used by a PROVIDER`**\n",
    "   \n",
    "   * **`Reasoning`** :: The idea behind adding this feature is to see how many unique number of `Claim Admit Diagnosis Codes` used by the Provider. \n",
    "       * As there may be a pattern that if a provider has used so many Admit Diagnosis Codes then it might increases or decreases the chances of fraud."
   ]
  },
  {
   "cell_type": "code",
   "execution_count": null,
   "metadata": {
    "id": "GVkNhJa8YxFX",
    "trusted": true
   },
   "outputs": [],
   "source": [
    "train_iobp_df['PRV_Tot_Admit_DCodes'] = train_iobp_df.groupby(['Provider'])['ClmAdmitDiagnosisCode'].transform('nunique')"
   ]
  },
  {
   "cell_type": "code",
   "execution_count": null,
   "metadata": {
    "id": "-uYl9beRYxFY",
    "outputId": "8cff7906-532c-44f1-f502-dd914b8bbc40",
    "trusted": true
   },
   "outputs": [],
   "source": [
    "train_iobp_df[\"PRV_Tot_Admit_DCodes\"].describe()"
   ]
  },
  {
   "cell_type": "markdown",
   "metadata": {
    "id": "qPk20RCSYxFZ"
   },
   "source": [
    "### **Adding `New Feature - 9` :: `Total Unique Number of Diagnosis Group Codes used by a PROVIDER`**\n",
    "   \n",
    "   * **`Reasoning`** :: The idea behind adding this feature is to see how many unique `Diagnosis Group Codes` used by the Provider.\n",
    "       * As there may be a pattern that if a provider has used so many Diagnosis Group Codes then it might increases or decreases the chances of fraud."
   ]
  },
  {
   "cell_type": "code",
   "execution_count": null,
   "metadata": {
    "id": "J1nuwbrOYxFZ",
    "trusted": true
   },
   "outputs": [],
   "source": [
    "train_iobp_df['PRV_Tot_DGrpCodes'] = train_iobp_df.groupby(['Provider'])['DiagnosisGroupCode'].transform('nunique')"
   ]
  },
  {
   "cell_type": "code",
   "execution_count": null,
   "metadata": {
    "id": "T8qWDKQrYxFa",
    "outputId": "4cb5d77b-7792-4a1e-9bec-e655bf34d435",
    "trusted": true
   },
   "outputs": [],
   "source": [
    "train_iobp_df[\"PRV_Tot_DGrpCodes\"].describe()"
   ]
  },
  {
   "cell_type": "markdown",
   "metadata": {
    "id": "jyG5igPHYxFb"
   },
   "source": [
    "### **Adding `New Feature - 10` :: `Total unique Date of Birth years of beneficiaries provided by a Provider`**\n",
    "   \n",
    "   * **`Reasoning`** :: The idea behind adding this feature is that if a provider has very high variability in the year of birth of patients then that might be one of the signs of medicare frauds.\n",
    "       - Because generally private hospitals who treat poor patients make false claims on their names. For example, Nazia is 10 years old. But, according to a claim filed by Chhattisgarh-based Shaheed Hospital with the Rashtriya Swasthya Bima Yojna (RSBY), she has delivered a baby after a caesarean operation. Mukul (name changed) is only 7. But Agarwal Hospital, Raipur, has made a claim for removing cataract from his eyes.\n",
    "\n",
    "Read more at:\n",
    "https://economictimes.indiatimes.com/news/politics-and-nation/private-hospitals-perform-fake-surgeries-to-claim-thousands-in-insurance-cover/articleshow/16934229.cms?utm_source=contentofinterest&utm_medium=text&utm_campaign=cppst"
   ]
  },
  {
   "cell_type": "code",
   "execution_count": null,
   "metadata": {
    "id": "hJQPzPLcYxFb",
    "trusted": true
   },
   "outputs": [],
   "source": [
    "train_iobp_df['DOB_Year'] = train_iobp_df['DOB'].dt.year"
   ]
  },
  {
   "cell_type": "code",
   "execution_count": null,
   "metadata": {
    "id": "RSv9M2_WYxFc",
    "trusted": true
   },
   "outputs": [],
   "source": [
    "train_iobp_df['PRV_Tot_Unq_DOB_Years'] = train_iobp_df.groupby(['Provider'])['DOB_Year'].transform('nunique')"
   ]
  },
  {
   "cell_type": "code",
   "execution_count": null,
   "metadata": {
    "id": "L__Dbd9ZYxFd",
    "outputId": "a969d2a8-6767-47e1-df70-b0a3f8005667",
    "trusted": true
   },
   "outputs": [],
   "source": [
    "train_iobp_df['PRV_Tot_Unq_DOB_Years'].describe()"
   ]
  },
  {
   "cell_type": "code",
   "execution_count": null,
   "metadata": {
    "id": "vaOBDCAmYxFd",
    "trusted": true
   },
   "outputs": [],
   "source": [
    "train_iobp_df.drop(['DOB_Year'], axis=1, inplace=True)"
   ]
  },
  {
   "cell_type": "markdown",
   "metadata": {
    "id": "FsgyP-fRYxFe"
   },
   "source": [
    "### **Adding `New Feature - 11` :: `Sum of patients age treated by a Provider`**\n",
    "   \n",
    "   * **`Reasoning`** :: The idea behind adding this feature is that there might be a pattern like if the sum of patients age treated by a provider is very high or low then it might influence the fraud."
   ]
  },
  {
   "cell_type": "code",
   "execution_count": null,
   "metadata": {
    "id": "B-6mRSfKYxFe",
    "trusted": true
   },
   "outputs": [],
   "source": [
    "train_iobp_df['PRV_Bene_Age_Sum'] = train_iobp_df.groupby(['Provider'])['Bene_Age'].transform('sum')"
   ]
  },
  {
   "cell_type": "code",
   "execution_count": null,
   "metadata": {
    "id": "qf05nA-mYxFf",
    "outputId": "9bff61c6-3f3d-48b5-8617-76cd416f37b0",
    "trusted": true
   },
   "outputs": [],
   "source": [
    "train_iobp_df['PRV_Bene_Age_Sum'].describe()"
   ]
  },
  {
   "cell_type": "markdown",
   "metadata": {
    "id": "FuPQ5VE9YxFg"
   },
   "source": [
    "### **Adding `New Feature - 12` :: `Sum of Insc Claim Re-Imb Amount for a Provider`**\n",
    "   \n",
    "   * **`Reasoning`** :: The idea behind adding this feature is that there might be a pattern like if the sum of claim re-imb amount for a provider is very high or low then it might influence the fraud."
   ]
  },
  {
   "cell_type": "code",
   "execution_count": null,
   "metadata": {
    "id": "KqpTScbGYxFg",
    "trusted": true
   },
   "outputs": [],
   "source": [
    "train_iobp_df['PRV_Insc_Clm_ReImb_Amt'] = train_iobp_df.groupby(['Provider'])['InscClaimAmtReimbursed'].transform('sum')"
   ]
  },
  {
   "cell_type": "code",
   "execution_count": null,
   "metadata": {
    "id": "qfZVf6EoYxFh",
    "outputId": "33dabd01-5e82-4e20-cc0d-1336aac0708b",
    "trusted": true
   },
   "outputs": [],
   "source": [
    "train_iobp_df['PRV_Insc_Clm_ReImb_Amt'].describe()"
   ]
  },
  {
   "cell_type": "markdown",
   "metadata": {
    "id": "xK38bGKFYxFh"
   },
   "source": [
    "### **Adding `New Feature - 13` :: `Total number of RKD Patients seen by a Provider`**\n",
    "   \n",
    "   * **`Reasoning`** :: The idea behind adding this feature is that there might be a pattern like if the total number of RKD Patients seen by a Provider is very high or low then it might influence the fraud."
   ]
  },
  {
   "cell_type": "code",
   "execution_count": null,
   "metadata": {
    "id": "DjAnwbBuYxFi",
    "trusted": true
   },
   "outputs": [],
   "source": [
    "train_iobp_df['RenalDiseaseIndicator'] = train_iobp_df['RenalDiseaseIndicator'].apply(lambda val: 1 if val == \"Y\" else 0)"
   ]
  },
  {
   "cell_type": "code",
   "execution_count": null,
   "metadata": {
    "id": "6fhRcSbrYxFi",
    "trusted": true
   },
   "outputs": [],
   "source": [
    "train_iobp_df['PRV_Tot_RKD_Patients'] = train_iobp_df.groupby(['Provider'])['RenalDiseaseIndicator'].transform('sum')"
   ]
  },
  {
   "cell_type": "code",
   "execution_count": null,
   "metadata": {
    "id": "Y3mo04lVYxFj",
    "outputId": "512df983-3069-444c-8d9f-3472d72dbccd",
    "trusted": true
   },
   "outputs": [],
   "source": [
    "train_iobp_df['PRV_Tot_RKD_Patients'].describe()"
   ]
  },
  {
   "cell_type": "code",
   "execution_count": null,
   "metadata": {
    "id": "QJJMxrzkYxFk",
    "trusted": true
   },
   "outputs": [],
   "source": [
    "# Dropping these 2 columns as there 99% of values are same\n",
    "train_iobp_df.drop(['NoOfMonths_PartACov', 'NoOfMonths_PartBCov'], axis=1, inplace=True)"
   ]
  },
  {
   "cell_type": "code",
   "execution_count": null,
   "metadata": {
    "id": "Lfu6HEcVYxFk",
    "trusted": true
   },
   "outputs": [],
   "source": [
    "# Filling null values in Admitted_Duration with 0 (as it will represent the patients were admitted for 0 days)\n",
    "train_iobp_df['Admitted_Duration'].fillna(value=0,inplace=True)"
   ]
  },
  {
   "cell_type": "code",
   "execution_count": null,
   "metadata": {
    "id": "L9Xp-2rTYxFl",
    "outputId": "b90683bb-95a2-4134-e0ac-7ec0b845efc4",
    "trusted": true
   },
   "outputs": [],
   "source": [
    "train_iobp_df.shape"
   ]
  },
  {
   "cell_type": "markdown",
   "metadata": {
    "id": "0uoiEEnDYxFo"
   },
   "source": [
    "### **Adding `Aggregated Features` :: For every possible level**\n",
    "    - Provider\n",
    "    - Beneficiary\n",
    "    - Attending Physician\n",
    "    - Operating Physician\n",
    "    - Other Physician and etc..\n",
    "   \n",
    "   \n",
    "   * **`Reasoning`** :: The idea behind adding the aggregated features at different levels is that fraud can be done by an individual or group of individuals or entities involved in the claim process."
   ]
  },
  {
   "cell_type": "code",
   "execution_count": null,
   "metadata": {
    "id": "IsJRBu2RYxFp",
    "trusted": true
   },
   "outputs": [],
   "source": [
    "# PRV Aggregate features\n",
    "train_iobp_df[\"PRV_CoPayment\"] = train_iobp_df.groupby('Provider')['DeductibleAmtPaid'].transform('sum')\n",
    "train_iobp_df[\"PRV_IP_Annual_ReImb_Amt\"] = train_iobp_df.groupby('Provider')['IPAnnualReimbursementAmt'].transform('sum')\n",
    "train_iobp_df[\"PRV_IP_Annual_Ded_Amt\"] = train_iobp_df.groupby('Provider')['IPAnnualDeductibleAmt'].transform('sum')\n",
    "train_iobp_df[\"PRV_OP_Annual_ReImb_Amt\"] = train_iobp_df.groupby('Provider')['OPAnnualReimbursementAmt'].transform('sum')\n",
    "train_iobp_df[\"PRV_OP_Annual_Ded_Amt\"] = train_iobp_df.groupby('Provider')['OPAnnualDeductibleAmt'].transform('sum')\n",
    "train_iobp_df[\"PRV_Admit_Duration\"] = train_iobp_df.groupby('Provider')['Admitted_Duration'].transform('sum')\n",
    "train_iobp_df[\"PRV_Claim_Duration\"] = train_iobp_df.groupby('Provider')['Claim_Duration'].transform('sum')"
   ]
  },
  {
   "cell_type": "code",
   "execution_count": null,
   "metadata": {
    "id": "cObXyY8bYxFp",
    "trusted": true
   },
   "outputs": [],
   "source": [
    "def create_agg_feats(grp_col, feat_name, operation='sum'):\n",
    "    \"\"\"\n",
    "    Description :: This function is created for adding the aggregated features in the dataset for every level like:\n",
    "        - Beneficiary\n",
    "        - Attending Physician\n",
    "        - Operating Physician\n",
    "        - Other Physician and etc..\n",
    "        \n",
    "    Input Parameters :: It accepts below inputs:\n",
    "        - grp_col : `str`\n",
    "            - It represents the feature or level at which you want to perform the aggregation.\n",
    "        \n",
    "        - feat_name : `str`\n",
    "            - It represents the feature whose aggregated aspect you want to capture.\n",
    "        \n",
    "        - operation : `str`\n",
    "            - It represents the aggregation operation you want to perform.(By default it is SUM)\n",
    "    \"\"\"\n",
    "    feat_1 = feat_name + \"_Insc_ReImb_Amt\"\n",
    "    train_iobp_df[feat_1] = train_iobp_df.groupby(grp_col)['InscClaimAmtReimbursed'].transform(operation)\n",
    "\n",
    "    feat_2 = feat_name + \"_CoPayment\"\n",
    "    train_iobp_df[feat_2] = train_iobp_df.groupby(grp_col)['DeductibleAmtPaid'].transform(operation)\n",
    "\n",
    "    feat_3 = feat_name + \"_IP_Annual_ReImb_Amt\"\n",
    "    train_iobp_df[feat_3] = train_iobp_df.groupby(grp_col)['IPAnnualReimbursementAmt'].transform(operation)\n",
    "\n",
    "    feat_4 = feat_name + \"_IP_Annual_Ded_Amt\"\n",
    "    train_iobp_df[feat_4] = train_iobp_df.groupby(grp_col)['IPAnnualDeductibleAmt'].transform(operation)\n",
    "\n",
    "    feat_5 = feat_name + \"_OP_Annual_ReImb_Amt\"\n",
    "    train_iobp_df[feat_5] = train_iobp_df.groupby(grp_col)['OPAnnualReimbursementAmt'].transform(operation)\n",
    "\n",
    "    feat_6 = feat_name + \"_OP_Annual_Ded_Amt\"\n",
    "    train_iobp_df[feat_6] = train_iobp_df.groupby(grp_col)['OPAnnualDeductibleAmt'].transform(operation)\n",
    "\n",
    "    feat_7 = feat_name + \"_Admit_Duration\"\n",
    "    train_iobp_df[feat_7] = train_iobp_df.groupby(grp_col)['Admitted_Duration'].transform(operation)\n",
    "\n",
    "    feat_8 = feat_name + \"_Claim_Duration\"\n",
    "    train_iobp_df[feat_8] = train_iobp_df.groupby(grp_col)['Claim_Duration'].transform(operation)"
   ]
  },
  {
   "cell_type": "code",
   "execution_count": null,
   "metadata": {
    "id": "pNqJZY6rYxFq",
    "trusted": true
   },
   "outputs": [],
   "source": [
    "# BENE, PHYs, Diagnosis Admit and Group Codes columns\n",
    "create_agg_feats(grp_col='BeneID', feat_name=\"BENE\")\n",
    "create_agg_feats(grp_col='AttendingPhysician', feat_name=\"ATT_PHY\")\n",
    "create_agg_feats(grp_col='OperatingPhysician', feat_name=\"OPT_PHY\")\n",
    "create_agg_feats(grp_col='OtherPhysician', feat_name=\"OTH_PHY\")\n",
    "create_agg_feats(grp_col='ClmAdmitDiagnosisCode', feat_name=\"Claim_Admit_Diag_Code\")\n",
    "create_agg_feats(grp_col='DiagnosisGroupCode', feat_name=\"Diag_GCode\")"
   ]
  },
  {
   "cell_type": "code",
   "execution_count": null,
   "metadata": {
    "id": "KRRUOb7pYxFr",
    "trusted": true
   },
   "outputs": [],
   "source": [
    "# Dropping these 3 columns as there 99% of values are same\n",
    "train_iobp_df.drop(['ClmProcedureCode_4', 'ClmProcedureCode_5', 'ClmProcedureCode_6'], axis=1, inplace=True)"
   ]
  },
  {
   "cell_type": "code",
   "execution_count": null,
   "metadata": {
    "id": "KCtJ7ywSYxFr",
    "trusted": true
   },
   "outputs": [],
   "source": [
    "# Diagnosis Codes columns\n",
    "create_agg_feats(grp_col='ClmDiagnosisCode_1', feat_name=\"Claim_DiagCode1\")\n",
    "create_agg_feats(grp_col='ClmDiagnosisCode_2', feat_name=\"Claim_DiagCode2\")\n",
    "create_agg_feats(grp_col='ClmDiagnosisCode_3', feat_name=\"Claim_DiagCode3\")\n",
    "create_agg_feats(grp_col='ClmDiagnosisCode_4', feat_name=\"Claim_DiagCode4\")\n",
    "create_agg_feats(grp_col='ClmDiagnosisCode_5', feat_name=\"Claim_DiagCode5\")\n",
    "create_agg_feats(grp_col='ClmDiagnosisCode_6', feat_name=\"Claim_DiagCode6\")\n",
    "create_agg_feats(grp_col='ClmDiagnosisCode_7', feat_name=\"Claim_DiagCode7\")\n",
    "create_agg_feats(grp_col='ClmDiagnosisCode_8', feat_name=\"Claim_DiagCode8\")\n",
    "create_agg_feats(grp_col='ClmDiagnosisCode_9', feat_name=\"Claim_DiagCode9\")\n",
    "create_agg_feats(grp_col='ClmDiagnosisCode_10', feat_name=\"Claim_DiagCode10\")\n",
    "\n",
    "# Medical Procedure Codes columns\n",
    "create_agg_feats(grp_col='ClmProcedureCode_1', feat_name=\"Claim_ProcCode1\")\n",
    "create_agg_feats(grp_col='ClmProcedureCode_2', feat_name=\"Claim_ProcCode2\")\n",
    "create_agg_feats(grp_col='ClmProcedureCode_3', feat_name=\"Claim_ProcCode3\")"
   ]
  },
  {
   "cell_type": "code",
   "execution_count": null,
   "metadata": {
    "id": "lCkA-oLRYxFs",
    "outputId": "e68960d8-28da-44b1-9e75-036283fb5a43",
    "trusted": true
   },
   "outputs": [],
   "source": [
    "train_iobp_df.shape"
   ]
  },
  {
   "cell_type": "markdown",
   "metadata": {
    "id": "C9bseqGRYxFs"
   },
   "source": [
    "### **Adding `Aggregated Features` :: Based on various combinations of different levels in order to introduce their interactions in the dataset.**\n",
    "    - PROVIDER <--> BENE <--> PHYSICIANS\n",
    "    - PROVIDER <--> BENE <--> ATTENDING PHYSICIAN <--> PROCEDURE CODES\n",
    "    - PROVIDER <--> BENE <--> OPERATING PHYSICIAN <--> PROCEDURE CODES\n",
    "    - PROVIDER <--> BENE <--> OTHER PHYSICIAN <--> PROCEDURE CODES\n",
    "    - PROVIDER <--> BENE <--> ATTENDING PHYSICIAN <--> DIAGNOSIS CODES\n",
    "    - PROVIDER <--> BENE <--> OPERATING PHYSICIAN <--> DIAGNOSIS CODES\n",
    "    - PROVIDER <--> BENE <--> OTHER PHYSICIAN <--> DIAGNOSIS CODES\n",
    "    - PROVIDER <--> BENE <--> DIAGNOSIS CODES <--> PROCEDURE CODES and etc..\n",
    "\n",
    "   * **`Reasoning`** :: The idea behind adding the aggregated features based on the combinations of various features is that many parties or entities might work together to make a medicare fraud. Thus, we need to capture interactions among them to better classify the fraudsters."
   ]
  },
  {
   "cell_type": "code",
   "execution_count": null,
   "metadata": {
    "id": "rrtVUDSHYxFw",
    "trusted": true
   },
   "outputs": [],
   "source": [
    "# PROVIDER <--> other features :: To get claim counts\n",
    "train_iobp_df[\"ClmCount_Provider\"]=train_iobp_df.groupby(['Provider'])['ClaimID'].transform('count')\n",
    "train_iobp_df[\"ClmCount_Provider_BeneID\"]=train_iobp_df.groupby(['Provider','BeneID'])['ClaimID'].transform('count')\n",
    "train_iobp_df[\"ClmCount_Provider_AttendingPhysician\"]=train_iobp_df.groupby(['Provider','AttendingPhysician'])['ClaimID'].transform('count')\n",
    "train_iobp_df[\"ClmCount_Provider_OtherPhysician\"]=train_iobp_df.groupby(['Provider','OtherPhysician'])['ClaimID'].transform('count')\n",
    "train_iobp_df[\"ClmCount_Provider_OperatingPhysician\"]=train_iobp_df.groupby(['Provider','OperatingPhysician'])['ClaimID'].transform('count')\n",
    "train_iobp_df[\"ClmCount_Provider_ClmAdmitDiagnosisCode\"]=train_iobp_df.groupby(['Provider','ClmAdmitDiagnosisCode'])['ClaimID'].transform('count')\n",
    "train_iobp_df[\"ClmCount_Provider_ClmProcedureCode_1\"]=train_iobp_df.groupby(['Provider','ClmProcedureCode_1'])['ClaimID'].transform('count')\n",
    "train_iobp_df[\"ClmCount_Provider_ClmProcedureCode_2\"]=train_iobp_df.groupby(['Provider','ClmProcedureCode_2'])['ClaimID'].transform('count')\n",
    "train_iobp_df[\"ClmCount_Provider_ClmProcedureCode_3\"]=train_iobp_df.groupby(['Provider','ClmProcedureCode_3'])['ClaimID'].transform('count')\n",
    "train_iobp_df[\"ClmCount_Provider_ClmDiagnosisCode_1\"]=train_iobp_df.groupby(['Provider','ClmDiagnosisCode_1'])['ClaimID'].transform('count')\n",
    "train_iobp_df[\"ClmCount_Provider_ClmDiagnosisCode_2\"]=train_iobp_df.groupby(['Provider','ClmDiagnosisCode_2'])['ClaimID'].transform('count')\n",
    "train_iobp_df[\"ClmCount_Provider_ClmDiagnosisCode_3\"]=train_iobp_df.groupby(['Provider','ClmDiagnosisCode_3'])['ClaimID'].transform('count')\n",
    "train_iobp_df[\"ClmCount_Provider_ClmDiagnosisCode_4\"]=train_iobp_df.groupby(['Provider','ClmDiagnosisCode_4'])['ClaimID'].transform('count')\n",
    "train_iobp_df[\"ClmCount_Provider_ClmDiagnosisCode_5\"]=train_iobp_df.groupby(['Provider','ClmDiagnosisCode_5'])['ClaimID'].transform('count')\n",
    "train_iobp_df[\"ClmCount_Provider_ClmDiagnosisCode_6\"]=train_iobp_df.groupby(['Provider','ClmDiagnosisCode_6'])['ClaimID'].transform('count')\n",
    "train_iobp_df[\"ClmCount_Provider_ClmDiagnosisCode_7\"]=train_iobp_df.groupby(['Provider','ClmDiagnosisCode_7'])['ClaimID'].transform('count')\n",
    "train_iobp_df[\"ClmCount_Provider_ClmDiagnosisCode_8\"]=train_iobp_df.groupby(['Provider','ClmDiagnosisCode_8'])['ClaimID'].transform('count')\n",
    "train_iobp_df[\"ClmCount_Provider_ClmDiagnosisCode_9\"]=train_iobp_df.groupby(['Provider','ClmDiagnosisCode_9'])['ClaimID'].transform('count')\n",
    "train_iobp_df[\"ClmCount_Provider_ClmDiagnosisCode_10\"]=train_iobp_df.groupby(['Provider','ClmDiagnosisCode_10'])['ClaimID'].transform('count')\n",
    "train_iobp_df[\"ClmCount_Provider_DiagnosisGroupCode\"]=train_iobp_df.groupby(['Provider','DiagnosisGroupCode'])['ClaimID'].transform('count')\n",
    "\n",
    "# PROVIDER <--> BENE <--> PHYSICIANS :: To get claim counts\n",
    "train_iobp_df[\"ClmCount_Provider_BeneID_AttendingPhysician\"]=train_iobp_df.groupby(['Provider','BeneID','AttendingPhysician'])['ClaimID'].transform('count')\n",
    "train_iobp_df[\"ClmCount_Provider_BeneID_OtherPhysician\"]=train_iobp_df.groupby(['Provider','BeneID','OtherPhysician'])['ClaimID'].transform('count')\n",
    "train_iobp_df[\"ClmCount_Provider_BeneID_OperatingPhysician\"]=train_iobp_df.groupby(['Provider','BeneID','OperatingPhysician'])['ClaimID'].transform('count')\n",
    "\n",
    "# PROVIDER <--> BENE <--> ATTENDING PHYSICIAN <--> PROCEDURE CODES :: To get claim counts\n",
    "train_iobp_df[\"ClmCount_Provider_BeneID_AttendingPhysician_ClmProcedureCode_1\"]=train_iobp_df.groupby(['Provider','BeneID','AttendingPhysician','ClmProcedureCode_1'])['ClaimID'].transform('count')\n",
    "train_iobp_df[\"ClmCount_Provider_BeneID_AttendingPhysician_ClmProcedureCode_2\"]=train_iobp_df.groupby(['Provider','BeneID','AttendingPhysician','ClmProcedureCode_2'])['ClaimID'].transform('count')\n",
    "train_iobp_df[\"ClmCount_Provider_BeneID_AttendingPhysician_ClmProcedureCode_3\"]=train_iobp_df.groupby(['Provider','BeneID','AttendingPhysician','ClmProcedureCode_3'])['ClaimID'].transform('count')\n",
    "\n",
    "# PROVIDER <--> BENE <--> OPERATING PHYSICIAN <--> PROCEDURE CODES :: To get claim counts\n",
    "train_iobp_df[\"ClmCount_Provider_BeneID_OperatingPhysician_ClmProcedureCode_1\"]=train_iobp_df.groupby(['Provider','BeneID','OperatingPhysician','ClmProcedureCode_1'])['ClaimID'].transform('count')\n",
    "train_iobp_df[\"ClmCount_Provider_BeneID_OperatingPhysician_ClmProcedureCode_2\"]=train_iobp_df.groupby(['Provider','BeneID','OperatingPhysician','ClmProcedureCode_2'])['ClaimID'].transform('count')\n",
    "train_iobp_df[\"ClmCount_Provider_BeneID_OperatingPhysician_ClmProcedureCode_3\"]=train_iobp_df.groupby(['Provider','BeneID','OperatingPhysician','ClmProcedureCode_3'])['ClaimID'].transform('count')\n",
    "\n",
    "# PROVIDER <--> BENE <--> OTHER PHYSICIAN <--> PROCEDURE CODES :: To get claim counts\n",
    "train_iobp_df[\"ClmCount_Provider_BeneID_OtherPhysician_ClmProcedureCode_1\"]=train_iobp_df.groupby(['Provider','BeneID','OtherPhysician','ClmProcedureCode_1'])['ClaimID'].transform('count')\n",
    "train_iobp_df[\"ClmCount_Provider_BeneID_OtherPhysician_ClmProcedureCode_2\"]=train_iobp_df.groupby(['Provider','BeneID','OtherPhysician','ClmProcedureCode_2'])['ClaimID'].transform('count')\n",
    "train_iobp_df[\"ClmCount_Provider_BeneID_OtherPhysician_ClmProcedureCode_3\"]=train_iobp_df.groupby(['Provider','BeneID','OtherPhysician','ClmProcedureCode_3'])['ClaimID'].transform('count')\n",
    "\n",
    "# PROVIDER <--> BENE <--> ATTENDING PHYSICIAN <--> DIAGNOSIS CODES :: To get claim counts\n",
    "train_iobp_df[\"ClmCount_Provider_BeneID_AttendingPhysician_ClmDiagnosisCode_1\"]=train_iobp_df.groupby(['Provider','BeneID','AttendingPhysician','ClmDiagnosisCode_1'])['ClaimID'].transform('count')\n",
    "train_iobp_df[\"ClmCount_Provider_BeneID_AttendingPhysician_ClmDiagnosisCode_2\"]=train_iobp_df.groupby(['Provider','BeneID','AttendingPhysician','ClmDiagnosisCode_2'])['ClaimID'].transform('count')\n",
    "train_iobp_df[\"ClmCount_Provider_BeneID_AttendingPhysician_ClmDiagnosisCode_3\"]=train_iobp_df.groupby(['Provider','BeneID','AttendingPhysician','ClmDiagnosisCode_3'])['ClaimID'].transform('count')\n",
    "train_iobp_df[\"ClmCount_Provider_BeneID_AttendingPhysician_ClmDiagnosisCode_4\"]=train_iobp_df.groupby(['Provider','BeneID','AttendingPhysician','ClmDiagnosisCode_4'])['ClaimID'].transform('count')\n",
    "train_iobp_df[\"ClmCount_Provider_BeneID_AttendingPhysician_ClmDiagnosisCode_5\"]=train_iobp_df.groupby(['Provider','BeneID','AttendingPhysician','ClmDiagnosisCode_5'])['ClaimID'].transform('count')\n",
    "train_iobp_df[\"ClmCount_Provider_BeneID_AttendingPhysician_ClmDiagnosisCode_6\"]=train_iobp_df.groupby(['Provider','BeneID','AttendingPhysician','ClmDiagnosisCode_6'])['ClaimID'].transform('count')\n",
    "train_iobp_df[\"ClmCount_Provider_BeneID_AttendingPhysician_ClmDiagnosisCode_7\"]=train_iobp_df.groupby(['Provider','BeneID','AttendingPhysician','ClmDiagnosisCode_7'])['ClaimID'].transform('count')\n",
    "train_iobp_df[\"ClmCount_Provider_BeneID_AttendingPhysician_ClmDiagnosisCode_8\"]=train_iobp_df.groupby(['Provider','BeneID','AttendingPhysician','ClmDiagnosisCode_8'])['ClaimID'].transform('count')\n",
    "train_iobp_df[\"ClmCount_Provider_BeneID_AttendingPhysician_ClmDiagnosisCode_9\"]=train_iobp_df.groupby(['Provider','BeneID','AttendingPhysician','ClmDiagnosisCode_9'])['ClaimID'].transform('count')\n",
    "train_iobp_df[\"ClmCount_Provider_BeneID_AttendingPhysician_ClmDiagnosisCode_10\"]=train_iobp_df.groupby(['Provider','BeneID','AttendingPhysician','ClmDiagnosisCode_10'])['ClaimID'].transform('count')\n",
    "\n",
    "# PROVIDER <--> BENE <--> OPERATING PHYSICIAN <--> DIAGNOSIS CODES :: To get claim counts\n",
    "train_iobp_df[\"ClmCount_Provider_BeneID_OperatingPhysician_ClmDiagnosisCode_1\"]=train_iobp_df.groupby(['Provider','BeneID','OperatingPhysician','ClmDiagnosisCode_1'])['ClaimID'].transform('count')\n",
    "train_iobp_df[\"ClmCount_Provider_BeneID_OperatingPhysician_ClmDiagnosisCode_2\"]=train_iobp_df.groupby(['Provider','BeneID','OperatingPhysician','ClmDiagnosisCode_2'])['ClaimID'].transform('count')\n",
    "train_iobp_df[\"ClmCount_Provider_BeneID_OperatingPhysician_ClmDiagnosisCode_3\"]=train_iobp_df.groupby(['Provider','BeneID','OperatingPhysician','ClmDiagnosisCode_3'])['ClaimID'].transform('count')\n",
    "train_iobp_df[\"ClmCount_Provider_BeneID_OperatingPhysician_ClmDiagnosisCode_4\"]=train_iobp_df.groupby(['Provider','BeneID','OperatingPhysician','ClmDiagnosisCode_4'])['ClaimID'].transform('count')\n",
    "train_iobp_df[\"ClmCount_Provider_BeneID_OperatingPhysician_ClmDiagnosisCode_5\"]=train_iobp_df.groupby(['Provider','BeneID','OperatingPhysician','ClmDiagnosisCode_5'])['ClaimID'].transform('count')\n",
    "train_iobp_df[\"ClmCount_Provider_BeneID_OperatingPhysician_ClmDiagnosisCode_6\"]=train_iobp_df.groupby(['Provider','BeneID','OperatingPhysician','ClmDiagnosisCode_6'])['ClaimID'].transform('count')\n",
    "train_iobp_df[\"ClmCount_Provider_BeneID_OperatingPhysician_ClmDiagnosisCode_7\"]=train_iobp_df.groupby(['Provider','BeneID','OperatingPhysician','ClmDiagnosisCode_7'])['ClaimID'].transform('count')\n",
    "train_iobp_df[\"ClmCount_Provider_BeneID_OperatingPhysician_ClmDiagnosisCode_8\"]=train_iobp_df.groupby(['Provider','BeneID','OperatingPhysician','ClmDiagnosisCode_8'])['ClaimID'].transform('count')\n",
    "train_iobp_df[\"ClmCount_Provider_BeneID_OperatingPhysician_ClmDiagnosisCode_9\"]=train_iobp_df.groupby(['Provider','BeneID','OperatingPhysician','ClmDiagnosisCode_9'])['ClaimID'].transform('count')\n",
    "train_iobp_df[\"ClmCount_Provider_BeneID_OperatingPhysician_ClmDiagnosisCode_10\"]=train_iobp_df.groupby(['Provider','BeneID','OperatingPhysician','ClmDiagnosisCode_10'])['ClaimID'].transform('count')\n",
    "\n",
    "# PROVIDER <--> BENE <--> OTHER PHYSICIAN <--> DIAGNOSIS CODES :: To get claim counts\n",
    "train_iobp_df[\"ClmCount_Provider_BeneID_OtherPhysician_ClmDiagnosisCode_1\"]=train_iobp_df.groupby(['Provider','BeneID','OtherPhysician','ClmDiagnosisCode_1'])['ClaimID'].transform('count')\n",
    "train_iobp_df[\"ClmCount_Provider_BeneID_OtherPhysician_ClmDiagnosisCode_2\"]=train_iobp_df.groupby(['Provider','BeneID','OtherPhysician','ClmDiagnosisCode_2'])['ClaimID'].transform('count')\n",
    "train_iobp_df[\"ClmCount_Provider_BeneID_OtherPhysician_ClmDiagnosisCode_3\"]=train_iobp_df.groupby(['Provider','BeneID','OtherPhysician','ClmDiagnosisCode_3'])['ClaimID'].transform('count')\n",
    "train_iobp_df[\"ClmCount_Provider_BeneID_OtherPhysician_ClmDiagnosisCode_4\"]=train_iobp_df.groupby(['Provider','BeneID','OtherPhysician','ClmDiagnosisCode_4'])['ClaimID'].transform('count')\n",
    "train_iobp_df[\"ClmCount_Provider_BeneID_OtherPhysician_ClmDiagnosisCode_5\"]=train_iobp_df.groupby(['Provider','BeneID','OtherPhysician','ClmDiagnosisCode_5'])['ClaimID'].transform('count')\n",
    "train_iobp_df[\"ClmCount_Provider_BeneID_OtherPhysician_ClmDiagnosisCode_6\"]=train_iobp_df.groupby(['Provider','BeneID','OtherPhysician','ClmDiagnosisCode_6'])['ClaimID'].transform('count')\n",
    "train_iobp_df[\"ClmCount_Provider_BeneID_OtherPhysician_ClmDiagnosisCode_7\"]=train_iobp_df.groupby(['Provider','BeneID','OtherPhysician','ClmDiagnosisCode_7'])['ClaimID'].transform('count')\n",
    "train_iobp_df[\"ClmCount_Provider_BeneID_OtherPhysician_ClmDiagnosisCode_8\"]=train_iobp_df.groupby(['Provider','BeneID','OtherPhysician','ClmDiagnosisCode_8'])['ClaimID'].transform('count')\n",
    "train_iobp_df[\"ClmCount_Provider_BeneID_OtherPhysician_ClmDiagnosisCode_9\"]=train_iobp_df.groupby(['Provider','BeneID','OtherPhysician','ClmDiagnosisCode_9'])['ClaimID'].transform('count')\n",
    "train_iobp_df[\"ClmCount_Provider_BeneID_OtherPhysician_ClmDiagnosisCode_10\"]=train_iobp_df.groupby(['Provider','BeneID','OtherPhysician','ClmDiagnosisCode_10'])['ClaimID'].transform('count')\n",
    "\n",
    "# PROVIDER <--> BENE <--> PROCEDURE CODES :: To get claim counts\n",
    "train_iobp_df[\"ClmCount_Provider_BeneID_ClmProcedureCode_1\"]=train_iobp_df.groupby(['Provider','BeneID','ClmProcedureCode_1'])['ClaimID'].transform('count')\n",
    "train_iobp_df[\"ClmCount_Provider_BeneID_ClmProcedureCode_2\"]=train_iobp_df.groupby(['Provider','BeneID','ClmProcedureCode_2'])['ClaimID'].transform('count')\n",
    "train_iobp_df[\"ClmCount_Provider_BeneID_ClmProcedureCode_3\"]=train_iobp_df.groupby(['Provider','BeneID','ClmProcedureCode_3'])['ClaimID'].transform('count')\n",
    "\n",
    "# PROVIDER <--> BENE <--> DIAGNOSIS CODES :: To get claim counts\n",
    "train_iobp_df[\"ClmCount_Provider_BeneID_ClmDiagnosisCode_1\"]=train_iobp_df.groupby(['Provider','BeneID','ClmDiagnosisCode_1'])['ClaimID'].transform('count')\n",
    "train_iobp_df[\"ClmCount_Provider_BeneID_ClmDiagnosisCode_2\"]=train_iobp_df.groupby(['Provider','BeneID','ClmDiagnosisCode_2'])['ClaimID'].transform('count')\n",
    "train_iobp_df[\"ClmCount_Provider_BeneID_ClmDiagnosisCode_3\"]=train_iobp_df.groupby(['Provider','BeneID','ClmDiagnosisCode_3'])['ClaimID'].transform('count')\n",
    "train_iobp_df[\"ClmCount_Provider_BeneID_ClmDiagnosisCode_4\"]=train_iobp_df.groupby(['Provider','BeneID','ClmDiagnosisCode_4'])['ClaimID'].transform('count')\n",
    "train_iobp_df[\"ClmCount_Provider_BeneID_ClmDiagnosisCode_5\"]=train_iobp_df.groupby(['Provider','BeneID','ClmDiagnosisCode_5'])['ClaimID'].transform('count')\n",
    "train_iobp_df[\"ClmCount_Provider_BeneID_ClmDiagnosisCode_6\"]=train_iobp_df.groupby(['Provider','BeneID','ClmDiagnosisCode_6'])['ClaimID'].transform('count')\n",
    "train_iobp_df[\"ClmCount_Provider_BeneID_ClmDiagnosisCode_7\"]=train_iobp_df.groupby(['Provider','BeneID','ClmDiagnosisCode_7'])['ClaimID'].transform('count')\n",
    "train_iobp_df[\"ClmCount_Provider_BeneID_ClmDiagnosisCode_8\"]=train_iobp_df.groupby(['Provider','BeneID','ClmDiagnosisCode_8'])['ClaimID'].transform('count')\n",
    "train_iobp_df[\"ClmCount_Provider_BeneID_ClmDiagnosisCode_9\"]=train_iobp_df.groupby(['Provider','BeneID','ClmDiagnosisCode_9'])['ClaimID'].transform('count')\n",
    "train_iobp_df[\"ClmCount_Provider_BeneID_ClmDiagnosisCode_10\"]=train_iobp_df.groupby(['Provider','BeneID','ClmDiagnosisCode_10'])['ClaimID'].transform('count')\n",
    "\n",
    "# PROVIDER <--> BENE <--> DIAGNOSIS CODES <--> PROCEDURE CODES :: To get claim counts\n",
    "train_iobp_df[\"ClmCount_Provider_BeneID_ClmDiagnosisCode_1_ClmProcedureCode_1\"]=train_iobp_df.groupby(['Provider','BeneID','ClmDiagnosisCode_1','ClmProcedureCode_1'])['ClaimID'].transform('count')\n",
    "train_iobp_df[\"ClmCount_Provider_BeneID_ClmDiagnosisCode_1_ClmProcedureCode_2\"]=train_iobp_df.groupby(['Provider','BeneID','ClmDiagnosisCode_1','ClmProcedureCode_2'])['ClaimID'].transform('count')\n",
    "train_iobp_df[\"ClmCount_Provider_BeneID_ClmDiagnosisCode_1_ClmProcedureCode_3\"]=train_iobp_df.groupby(['Provider','BeneID','ClmDiagnosisCode_1','ClmProcedureCode_3'])['ClaimID'].transform('count')\n",
    "train_iobp_df[\"ClmCount_Provider_BeneID_ClmDiagnosisCode_2_ClmProcedureCode_1\"]=train_iobp_df.groupby(['Provider','BeneID','ClmDiagnosisCode_2','ClmProcedureCode_1'])['ClaimID'].transform('count')\n",
    "train_iobp_df[\"ClmCount_Provider_BeneID_ClmDiagnosisCode_2_ClmProcedureCode_2\"]=train_iobp_df.groupby(['Provider','BeneID','ClmDiagnosisCode_2','ClmProcedureCode_2'])['ClaimID'].transform('count')\n",
    "train_iobp_df[\"ClmCount_Provider_BeneID_ClmDiagnosisCode_2_ClmProcedureCode_3\"]=train_iobp_df.groupby(['Provider','BeneID','ClmDiagnosisCode_2','ClmProcedureCode_3'])['ClaimID'].transform('count')\n",
    "train_iobp_df[\"ClmCount_Provider_BeneID_ClmDiagnosisCode_3_ClmProcedureCode_1\"]=train_iobp_df.groupby(['Provider','BeneID','ClmDiagnosisCode_3','ClmProcedureCode_1'])['ClaimID'].transform('count')\n",
    "train_iobp_df[\"ClmCount_Provider_BeneID_ClmDiagnosisCode_3_ClmProcedureCode_2\"]=train_iobp_df.groupby(['Provider','BeneID','ClmDiagnosisCode_3','ClmProcedureCode_2'])['ClaimID'].transform('count')\n",
    "train_iobp_df[\"ClmCount_Provider_BeneID_ClmDiagnosisCode_3_ClmProcedureCode_3\"]=train_iobp_df.groupby(['Provider','BeneID','ClmDiagnosisCode_3','ClmProcedureCode_3'])['ClaimID'].transform('count')\n",
    "train_iobp_df[\"ClmCount_Provider_BeneID_ClmDiagnosisCode_4_ClmProcedureCode_1\"]=train_iobp_df.groupby(['Provider','BeneID','ClmDiagnosisCode_4','ClmProcedureCode_1'])['ClaimID'].transform('count')\n",
    "train_iobp_df[\"ClmCount_Provider_BeneID_ClmDiagnosisCode_4_ClmProcedureCode_2\"]=train_iobp_df.groupby(['Provider','BeneID','ClmDiagnosisCode_4','ClmProcedureCode_2'])['ClaimID'].transform('count')\n",
    "train_iobp_df[\"ClmCount_Provider_BeneID_ClmDiagnosisCode_4_ClmProcedureCode_3\"]=train_iobp_df.groupby(['Provider','BeneID','ClmDiagnosisCode_4','ClmProcedureCode_3'])['ClaimID'].transform('count')\n",
    "train_iobp_df[\"ClmCount_Provider_BeneID_ClmDiagnosisCode_5_ClmProcedureCode_1\"]=train_iobp_df.groupby(['Provider','BeneID','ClmDiagnosisCode_5','ClmProcedureCode_1'])['ClaimID'].transform('count')\n",
    "train_iobp_df[\"ClmCount_Provider_BeneID_ClmDiagnosisCode_5_ClmProcedureCode_2\"]=train_iobp_df.groupby(['Provider','BeneID','ClmDiagnosisCode_5','ClmProcedureCode_2'])['ClaimID'].transform('count')\n",
    "train_iobp_df[\"ClmCount_Provider_BeneID_ClmDiagnosisCode_5_ClmProcedureCode_3\"]=train_iobp_df.groupby(['Provider','BeneID','ClmDiagnosisCode_5','ClmProcedureCode_3'])['ClaimID'].transform('count')\n",
    "train_iobp_df[\"ClmCount_Provider_BeneID_ClmDiagnosisCode_6_ClmProcedureCode_1\"]=train_iobp_df.groupby(['Provider','BeneID','ClmDiagnosisCode_6','ClmProcedureCode_1'])['ClaimID'].transform('count')\n",
    "train_iobp_df[\"ClmCount_Provider_BeneID_ClmDiagnosisCode_6_ClmProcedureCode_2\"]=train_iobp_df.groupby(['Provider','BeneID','ClmDiagnosisCode_6','ClmProcedureCode_2'])['ClaimID'].transform('count')\n",
    "train_iobp_df[\"ClmCount_Provider_BeneID_ClmDiagnosisCode_6_ClmProcedureCode_3\"]=train_iobp_df.groupby(['Provider','BeneID','ClmDiagnosisCode_6','ClmProcedureCode_3'])['ClaimID'].transform('count')\n",
    "train_iobp_df[\"ClmCount_Provider_BeneID_ClmDiagnosisCode_7_ClmProcedureCode_1\"]=train_iobp_df.groupby(['Provider','BeneID','ClmDiagnosisCode_7','ClmProcedureCode_1'])['ClaimID'].transform('count')\n",
    "train_iobp_df[\"ClmCount_Provider_BeneID_ClmDiagnosisCode_7_ClmProcedureCode_2\"]=train_iobp_df.groupby(['Provider','BeneID','ClmDiagnosisCode_7','ClmProcedureCode_2'])['ClaimID'].transform('count')\n",
    "train_iobp_df[\"ClmCount_Provider_BeneID_ClmDiagnosisCode_7_ClmProcedureCode_3\"]=train_iobp_df.groupby(['Provider','BeneID','ClmDiagnosisCode_7','ClmProcedureCode_3'])['ClaimID'].transform('count')\n",
    "train_iobp_df[\"ClmCount_Provider_BeneID_ClmDiagnosisCode_8_ClmProcedureCode_1\"]=train_iobp_df.groupby(['Provider','BeneID','ClmDiagnosisCode_8','ClmProcedureCode_1'])['ClaimID'].transform('count')\n",
    "train_iobp_df[\"ClmCount_Provider_BeneID_ClmDiagnosisCode_8_ClmProcedureCode_2\"]=train_iobp_df.groupby(['Provider','BeneID','ClmDiagnosisCode_8','ClmProcedureCode_2'])['ClaimID'].transform('count')\n",
    "train_iobp_df[\"ClmCount_Provider_BeneID_ClmDiagnosisCode_8_ClmProcedureCode_3\"]=train_iobp_df.groupby(['Provider','BeneID','ClmDiagnosisCode_8','ClmProcedureCode_3'])['ClaimID'].transform('count')\n",
    "train_iobp_df[\"ClmCount_Provider_BeneID_ClmDiagnosisCode_9_ClmProcedureCode_1\"]=train_iobp_df.groupby(['Provider','BeneID','ClmDiagnosisCode_9','ClmProcedureCode_1'])['ClaimID'].transform('count')\n",
    "train_iobp_df[\"ClmCount_Provider_BeneID_ClmDiagnosisCode_9_ClmProcedureCode_2\"]=train_iobp_df.groupby(['Provider','BeneID','ClmDiagnosisCode_9','ClmProcedureCode_2'])['ClaimID'].transform('count')\n",
    "train_iobp_df[\"ClmCount_Provider_BeneID_ClmDiagnosisCode_9_ClmProcedureCode_3\"]=train_iobp_df.groupby(['Provider','BeneID','ClmDiagnosisCode_9','ClmProcedureCode_3'])['ClaimID'].transform('count')\n",
    "train_iobp_df[\"ClmCount_Provider_BeneID_ClmDiagnosisCode_10_ClmProcedureCode_1\"]=train_iobp_df.groupby(['Provider','BeneID','ClmDiagnosisCode_10','ClmProcedureCode_1'])['ClaimID'].transform('count')\n",
    "train_iobp_df[\"ClmCount_Provider_BeneID_ClmDiagnosisCode_10_ClmProcedureCode_2\"]=train_iobp_df.groupby(['Provider','BeneID','ClmDiagnosisCode_10','ClmProcedureCode_2'])['ClaimID'].transform('count')\n",
    "train_iobp_df[\"ClmCount_Provider_BeneID_ClmDiagnosisCode_10_ClmProcedureCode_3\"]=train_iobp_df.groupby(['Provider','BeneID','ClmDiagnosisCode_10','ClmProcedureCode_3'])['ClaimID'].transform('count')"
   ]
  },
  {
   "cell_type": "code",
   "execution_count": null,
   "metadata": {
    "id": "K1nHDbZ0YxFy",
    "outputId": "10a8fbdd-3e6b-4ff7-b095-808216c4517a",
    "trusted": true
   },
   "outputs": [],
   "source": [
    "train_iobp_df.shape"
   ]
  },
  {
   "cell_type": "code",
   "execution_count": null,
   "metadata": {
    "id": "A-IfH9L7YxF0",
    "trusted": true
   },
   "outputs": [],
   "source": [
    "# Removing unwanted columns\n",
    "remove_unwanted_columns=['BeneID', 'ClaimID', 'ClaimStartDt','ClaimEndDt','AttendingPhysician','OperatingPhysician', 'OtherPhysician',\n",
    "                      'AdmissionDt', 'ClmAdmitDiagnosisCode', 'DischargeDt', 'DiagnosisGroupCode',\n",
    "                      'ClmDiagnosisCode_1', 'ClmDiagnosisCode_2', 'ClmDiagnosisCode_3', 'ClmDiagnosisCode_4', 'ClmDiagnosisCode_5', \n",
    "                      'ClmDiagnosisCode_6', 'ClmDiagnosisCode_7', 'ClmDiagnosisCode_8', 'ClmDiagnosisCode_9', 'ClmDiagnosisCode_10',\n",
    "                      'ClmProcedureCode_1', 'ClmProcedureCode_2', 'ClmProcedureCode_3', 'DOB', 'DOD', 'State', 'County']\n",
    "\n",
    "train_iobp_df.drop(columns=remove_unwanted_columns, axis=1, inplace=True)"
   ]
  },
  {
   "cell_type": "code",
   "execution_count": null,
   "metadata": {
    "id": "R0yIBYw2YxF0",
    "outputId": "583fbe14-9e21-4d11-9582-926ec7b598f0",
    "trusted": true
   },
   "outputs": [],
   "source": [
    "train_iobp_df.shape"
   ]
  },
  {
   "cell_type": "code",
   "execution_count": null,
   "metadata": {
    "id": "MXW3R6wfYxF1",
    "trusted": true
   },
   "outputs": [],
   "source": [
    "# Filling Nulls in Deductible Amt Paid by Patient\n",
    "train_iobp_df['DeductibleAmtPaid'].fillna(value=0, inplace=True)"
   ]
  },
  {
   "cell_type": "code",
   "execution_count": null,
   "metadata": {
    "id": "BSv_9CscYxF2",
    "trusted": true
   },
   "outputs": [],
   "source": [
    "# Binary encoding the categorical features --> 0 means No and 1 means Yes\n",
    "train_iobp_df['Gender'] = train_iobp_df['Gender'].apply(lambda val: 0 if val == 2 else val)\n",
    "train_iobp_df['PotentialFraud'] = train_iobp_df['PotentialFraud'].apply(lambda val: 0 if val == \"No\" else 1)\n",
    "train_iobp_df['Is_Alive?'] = train_iobp_df['Is_Alive?'].apply(lambda val: 0 if val == \"No\" else 1)\n",
    "\n",
    "train_iobp_df['ChronicCond_Alzheimer'] = train_iobp_df['ChronicCond_Alzheimer'].apply(lambda val: 0 if val == 2 else val)\n",
    "train_iobp_df['ChronicCond_Heartfailure'] = train_iobp_df['ChronicCond_Heartfailure'].apply(lambda val: 0 if val == 2 else val)\n",
    "train_iobp_df['ChronicCond_KidneyDisease'] = train_iobp_df['ChronicCond_KidneyDisease'].apply(lambda val: 0 if val == 2 else val)\n",
    "train_iobp_df['ChronicCond_Cancer'] = train_iobp_df['ChronicCond_Cancer'].apply(lambda val: 0 if val == 2 else val)\n",
    "train_iobp_df['ChronicCond_ObstrPulmonary'] = train_iobp_df['ChronicCond_ObstrPulmonary'].apply(lambda val: 0 if val == 2 else val)\n",
    "train_iobp_df['ChronicCond_Depression'] = train_iobp_df['ChronicCond_Depression'].apply(lambda val: 0 if val == 2 else val)\n",
    "train_iobp_df['ChronicCond_Diabetes'] = train_iobp_df['ChronicCond_Diabetes'].apply(lambda val: 0 if val == 2 else val)\n",
    "train_iobp_df['ChronicCond_IschemicHeart'] = train_iobp_df['ChronicCond_IschemicHeart'].apply(lambda val: 0 if val == 2 else val)\n",
    "train_iobp_df['ChronicCond_Osteoporasis'] = train_iobp_df['ChronicCond_Osteoporasis'].apply(lambda val: 0 if val == 2 else val)\n",
    "train_iobp_df['ChronicCond_rheumatoidarthritis'] = train_iobp_df['ChronicCond_rheumatoidarthritis'].apply(lambda val: 0 if val == 2 else val)\n",
    "train_iobp_df['ChronicCond_stroke'] = train_iobp_df['ChronicCond_stroke'].apply(lambda val: 0 if val == 2 else val)"
   ]
  },
  {
   "cell_type": "code",
   "execution_count": null,
   "metadata": {
    "id": "RU-Dh403YxF2",
    "trusted": true
   },
   "outputs": [],
   "source": [
    "# Encoding the Categorical features\n",
    "train_iobp_df = pd.get_dummies(train_iobp_df,columns=['Gender', 'Race', 'Admitted?', 'Is_Alive?'], drop_first=True)"
   ]
  },
  {
   "cell_type": "code",
   "execution_count": null,
   "metadata": {
    "id": "gdRpRT8oYxF3",
    "trusted": true
   },
   "outputs": [],
   "source": [
    "pd.set_option('display.max_rows',310)"
   ]
  },
  {
   "cell_type": "code",
   "execution_count": null,
   "metadata": {
    "id": "13RvpVuuYxF4",
    "outputId": "1b68675e-54a3-4c49-8808-7b5b7b62788b",
    "trusted": true
   },
   "outputs": [],
   "source": [
    "# Checking Nulls in the features\n",
    "pd.DataFrame(train_iobp_df.isna().sum())"
   ]
  },
  {
   "cell_type": "code",
   "execution_count": null,
   "metadata": {
    "id": "_n0ZrDCvYxF5",
    "trusted": true
   },
   "outputs": [],
   "source": [
    "# Filling Nulls in the aggregated features\n",
    "train_iobp_df.fillna(value=0, inplace=True)"
   ]
  },
  {
   "cell_type": "code",
   "execution_count": null,
   "metadata": {
    "id": "fC6zx2R2YxF5",
    "outputId": "bef8c2da-fd40-4aba-dd73-5940a75ca873",
    "trusted": true
   },
   "outputs": [],
   "source": [
    "# Checking Nulls in the features\n",
    "pd.DataFrame(train_iobp_df.isna().sum())"
   ]
  },
  {
   "cell_type": "code",
   "execution_count": null,
   "metadata": {
    "id": "N8aw4iPoYxF6",
    "outputId": "e2ede33c-5e8f-4cec-d653-f5422c15d5b8",
    "trusted": true
   },
   "outputs": [],
   "source": [
    "# Checking the Datatypes of the features\n",
    "train_iobp_df.dtypes"
   ]
  },
  {
   "cell_type": "markdown",
   "metadata": {
    "id": "aA19z2SuYxF7"
   },
   "source": [
    "## **Entire Data `Aggregation` :: At provider level**\n",
    "\n",
    "   * **`Reasoning`** :: The main objective is to predict the `Medicare Provider Fraud`. Thus, here we are grouping the entire dataset at the level of PROVIDER and taking SUM of all the columns to create n-dimensional representation of each provider."
   ]
  },
  {
   "cell_type": "code",
   "execution_count": null,
   "metadata": {
    "id": "M6sseco_YxF7",
    "trusted": true
   },
   "outputs": [],
   "source": [
    "train_iobp_df = train_iobp_df.groupby(['Provider','PotentialFraud'],as_index=False).agg('sum')"
   ]
  },
  {
   "cell_type": "code",
   "execution_count": null,
   "metadata": {
    "id": "0DwYAF2xYxF8",
    "outputId": "691f3482-6f74-43d3-cba3-fec2904149e5",
    "trusted": true
   },
   "outputs": [],
   "source": [
    "train_iobp_df.shape"
   ]
  },
  {
   "cell_type": "markdown",
   "metadata": {
    "id": "Af9an9wSYxF9"
   },
   "source": [
    "# **`Data Seggregation`**\n",
    "\n",
    "## **Creating separate sets of independent features and target column.**\n",
    "\n",
    "   * **`Reasoning`** :: These sets will be used for training the ML Models."
   ]
  },
  {
   "cell_type": "code",
   "execution_count": null,
   "metadata": {
    "id": "iIZV-VktYxF_",
    "trusted": true
   },
   "outputs": [],
   "source": [
    "X = train_iobp_df.drop(axis=1, columns=['Provider','PotentialFraud'])\n",
    "y = train_iobp_df['PotentialFraud']"
   ]
  },
  {
   "cell_type": "code",
   "execution_count": null,
   "metadata": {
    "id": "AmwMkD4mYxGB",
    "outputId": "dece1b07-b3f6-4d4c-de76-58c3b74bd7e6",
    "trusted": true
   },
   "outputs": [],
   "source": [
    "X.shape, type(X), y.shape, type(y)"
   ]
  },
  {
   "cell_type": "code",
   "execution_count": null,
   "metadata": {
    "id": "ONMDoLfKYxGC",
    "outputId": "a5621af0-5c65-41a8-f1ca-7a8423abc9e8",
    "trusted": true
   },
   "outputs": [],
   "source": [
    "X.head()"
   ]
  },
  {
   "cell_type": "code",
   "execution_count": null,
   "metadata": {
    "id": "zi2uPKQuYxGC",
    "outputId": "00ff36fd-97dc-4998-87f4-ad47befb0f4f",
    "trusted": true
   },
   "outputs": [],
   "source": [
    "y.head()"
   ]
  },
  {
   "cell_type": "markdown",
   "metadata": {
    "id": "VD2vxhwLYxGD"
   },
   "source": [
    "## **`Train Test Split` :: Creating TRAIN and VALIDATION sets.**\n",
    "\n",
    "   * **`Reasoning`** :: These sets will be used for measurng the performance of ML Models."
   ]
  },
  {
   "cell_type": "code",
   "execution_count": null,
   "metadata": {},
   "outputs": [],
   "source": [
    "from IPython.display import Image\n",
    "Image(\"../input/medicare-prv-fraud-files/Model_Training_and_Validation_Strategy.png\")"
   ]
  },
  {
   "cell_type": "code",
   "execution_count": null,
   "metadata": {
    "id": "RmugO0K_YxGE",
    "trusted": true
   },
   "outputs": [],
   "source": [
    "from sklearn.model_selection import train_test_split as tts"
   ]
  },
  {
   "cell_type": "code",
   "execution_count": null,
   "metadata": {
    "id": "mHVjshguYxGE",
    "trusted": true
   },
   "outputs": [],
   "source": [
    "X_train, X_test, y_train, y_test = tts(X, y, test_size=0.20, stratify=y, random_state=39)"
   ]
  },
  {
   "cell_type": "code",
   "execution_count": null,
   "metadata": {
    "id": "NTScQfCRYxGF",
    "outputId": "33ed05d7-53c0-46ff-ce25-ee28236c59d4",
    "trusted": true
   },
   "outputs": [],
   "source": [
    "# Checking shape of each set\n",
    "X_train.shape, X_test.shape, y_train.shape, y_test.shape"
   ]
  },
  {
   "cell_type": "code",
   "execution_count": null,
   "metadata": {
    "id": "eDlzKlRLYxGF",
    "outputId": "bc1493c9-8473-4987-e344-3d87687e106f",
    "trusted": true
   },
   "outputs": [],
   "source": [
    "# Checking count of tgt labels in y_train\n",
    "y_train.value_counts()"
   ]
  },
  {
   "cell_type": "code",
   "execution_count": null,
   "metadata": {
    "id": "bv2zU9EGYxGG",
    "outputId": "6ba9ef10-6e40-4451-8c98-02317d92fc78",
    "trusted": true
   },
   "outputs": [],
   "source": [
    "# Checking count of tgt labels in y_test\n",
    "y_test.value_counts()"
   ]
  },
  {
   "cell_type": "markdown",
   "metadata": {
    "id": "tEI7U2krYxGH"
   },
   "source": [
    "# **`Standardizing TRAIN & TEST sets`** \n",
    "## **Bringing every feature into the same scale.**"
   ]
  },
  {
   "cell_type": "code",
   "execution_count": null,
   "metadata": {
    "id": "McX24RjqYxGH",
    "trusted": true
   },
   "outputs": [],
   "source": [
    "from sklearn.preprocessing import RobustScaler"
   ]
  },
  {
   "cell_type": "code",
   "execution_count": null,
   "metadata": {
    "id": "V5xuwYLsYxGI",
    "trusted": true
   },
   "outputs": [],
   "source": [
    "# Standardize the data (train and test)\n",
    "robust_scaler = RobustScaler()\n",
    "robust_scaler.fit(X_train)\n",
    "X_train_std = robust_scaler.transform(X_train)\n",
    "X_test_std = robust_scaler.transform(X_test)"
   ]
  },
  {
   "cell_type": "markdown",
   "metadata": {
    "id": "z532QrJwYxGI"
   },
   "source": [
    "# **`Baseline Model Training`**"
   ]
  },
  {
   "cell_type": "markdown",
   "metadata": {
    "id": "rJLrpM66qKvk"
   },
   "source": [
    "### **`Using Class Weighting Scheme`**"
   ]
  },
  {
   "cell_type": "markdown",
   "metadata": {
    "id": "zAD9I_AlYxGJ"
   },
   "source": [
    "#### **`1. Logistic Regression`**"
   ]
  },
  {
   "cell_type": "code",
   "execution_count": null,
   "metadata": {
    "id": "B8ja1V9SYxGJ",
    "trusted": true
   },
   "outputs": [],
   "source": [
    "from sklearn.linear_model import LogisticRegressionCV\n",
    "from sklearn import metrics\n",
    "from sklearn.metrics import accuracy_score, precision_score, recall_score, f1_score, roc_auc_score, confusion_matrix, roc_curve, auc\n",
    "from sklearn.linear_model import LogisticRegression\n",
    "from sklearn.model_selection import GridSearchCV\n",
    "from sklearn.model_selection import RandomizedSearchCV\n",
    "from sklearn.calibration import CalibratedClassifierCV"
   ]
  },
  {
   "cell_type": "code",
   "execution_count": null,
   "metadata": {
    "id": "Pmt17FoAcjNm",
    "outputId": "3d6dc541-5b92-494f-b41f-aa127bfd20ab",
    "trusted": true
   },
   "outputs": [],
   "source": [
    "# Training the model with all features and hyper-parameterized values\n",
    "log_reg_1 = LogisticRegression(C=0.0316228, penalty='l1',\n",
    "                               fit_intercept=True, solver='liblinear', tol=0.0001, max_iter=500, \n",
    "                               class_weight='balanced',\n",
    "                               verbose=0, \n",
    "                               intercept_scaling=1.0,\n",
    "                               multi_class='auto',\n",
    "                               random_state=49)\n",
    "\n",
    "log_reg_1.fit(X_train_std, y_train)"
   ]
  },
  {
   "cell_type": "code",
   "execution_count": null,
   "metadata": {
    "id": "Lb5Hc96Jci_h",
    "trusted": true
   },
   "outputs": [],
   "source": [
    "def pred_prob(clf, data): \n",
    "    \"\"\"\n",
    "    Description :: This function is created for storing the predicted probabability using the trained model.\n",
    "    \n",
    "    Input :: It accepts below input parameters :\n",
    "      - clf : Trained model classifier\n",
    "      - data : Dataset for which we want to generate the predictions\n",
    "    \"\"\"\n",
    "    y_pred = clf.predict_proba(data)[:,1]\n",
    "    return y_pred\n",
    "\n",
    "def draw_roc(train_fpr, train_tpr, test_fpr, test_tpr):\n",
    "    \"\"\"\n",
    "    Description :: This function is created for calculating the AUC score on train and test data. And, plotting the ROC curve.\n",
    "    \n",
    "    Input :: It accepts below input parameters :\n",
    "      - train_fpr : Train False +ve rate\n",
    "      - train_tpr : Train True +ve rate\n",
    "      - test_fpr : Test False +ve rate\n",
    "      - test_tpr : Test True +ve rate\n",
    "    \"\"\"\n",
    "    # calculate auc for train and test\n",
    "    train_auc = auc(train_fpr, train_tpr)\n",
    "    test_auc = auc(test_fpr, test_tpr)\n",
    "    with plt.style.context('seaborn-poster'):\n",
    "      plt.plot(train_fpr, train_tpr, label=\"Train AUC =\"+\"{:.4f}\".format(train_auc), color='blue')\n",
    "      plt.plot(test_fpr, test_tpr, label=\"Test AUC =\"+\"{:.4f}\".format(test_auc), color='red')\n",
    "      plt.legend()\n",
    "      plt.xlabel(\"False Positive Rate(FPR)\", fontdict=label_font_dict)\n",
    "      plt.ylabel(\"True Positive Rate(TPR)\", fontdict=label_font_dict)\n",
    "      plt.title(\"Area Under Curve\", fontdict=title_font_dict)\n",
    "      plt.grid(b=True, which='major', color='lightgrey', linestyle='--')\n",
    "      plt.minorticks_on()\n",
    "      plt.show()\n",
    "    \n",
    "def find_best_threshold(threshold, fpr, tpr):\n",
    "    \"\"\"\n",
    "    Description :: This function is created for finding the best threshold value.\n",
    "    \"\"\"\n",
    "    t = threshold[np.argmax(tpr * (1-fpr))]\n",
    "    return t\n",
    "\n",
    "def predict_with_best_t(proba, threshold):\n",
    "    \"\"\"\n",
    "    Description :: This function is created for generating the predictions based on the best threshold value.\n",
    "    \"\"\"\n",
    "    predictions = []\n",
    "    for i in proba:\n",
    "        if i>=threshold:\n",
    "            predictions.append(1)\n",
    "        else:\n",
    "            predictions.append(0)\n",
    "    return predictions\n",
    "\n",
    "def draw_confusion_matrix(best_t, x_train, x_test, y_train, y_test, y_train_pred, y_test_pred):\n",
    "    \"\"\"\n",
    "    Description :: This function is created for plotting the confusion matrix of TRAIN and TEST sets.\n",
    "    \"\"\"\n",
    "    fig, ax = plt.subplots(1,2, figsize=(20,6))\n",
    "\n",
    "    train_prediction = predict_with_best_t(y_train_pred, best_t)\n",
    "    cm = confusion_matrix(y_train, train_prediction)\n",
    "    with plt.style.context('seaborn'):\n",
    "        sns.heatmap(cm, annot=True, fmt='d', ax=ax[0], cmap='viridis')\n",
    "        ax[0].set_title('Train Dataset Confusion Matrix', fontdict=title_font_dict)\n",
    "        ax[0].set_xlabel(\"Predicted Label\", fontdict=label_font_dict)\n",
    "        ax[0].set_ylabel(\"Actual Label\", fontdict=label_font_dict)\n",
    "\n",
    "    test_prediction = predict_with_best_t(y_test_pred, best_t)\n",
    "    cm = confusion_matrix(y_test, test_prediction)\n",
    "    with plt.style.context('seaborn'):\n",
    "        sns.heatmap(cm, annot=True, fmt='d', ax=ax[1], cmap='summer')\n",
    "        ax[1].set_title('Test Dataset Confusion Matrix', fontdict=title_font_dict)\n",
    "        ax[1].set_xlabel(\"Predicted Label\", fontdict=label_font_dict)\n",
    "        ax[1].set_ylabel(\"Actual Label\", fontdict=label_font_dict)\n",
    "    \n",
    "    plt.show()\n",
    "    \n",
    "    return train_prediction, test_prediction"
   ]
  },
  {
   "cell_type": "code",
   "execution_count": null,
   "metadata": {
    "id": "_r3xu3XXeS9v",
    "trusted": true
   },
   "outputs": [],
   "source": [
    "def validate_model(clf, x_train, x_test, y_train, y_test):\n",
    "    \"\"\"\n",
    "    Description :: This function is created for performing the evaluation of the trained model.\n",
    "    \"\"\"\n",
    "    # predict the probability of train data\n",
    "    y_train_pred = pred_prob(clf, x_train)\n",
    "    \n",
    "    # predict the probability of test data\n",
    "    y_test_pred = pred_prob(clf, x_test)\n",
    "    \n",
    "    # calculate tpr, fpr using roc_curve\n",
    "    train_fpr, train_tpr, tr_thresholds = roc_curve(y_train, y_train_pred)\n",
    "    test_fpr, test_tpr, te_thresholds = roc_curve(y_test, y_test_pred)\n",
    "    \n",
    "    # calculate auc for train and test\n",
    "    train_auc = auc(train_fpr, train_tpr)\n",
    "    print(\"### Train AUC = {}\".format(train_auc))\n",
    "    test_auc = auc(test_fpr, test_tpr)\n",
    "    print(\"### Test AUC = {}\".format(test_auc))\n",
    "    \n",
    "    # plotting the ROC curve\n",
    "    draw_roc(train_fpr, train_tpr, test_fpr, test_tpr)\n",
    "    \n",
    "    # Best threshold value\n",
    "    best_t = find_best_threshold(tr_thresholds, train_fpr, train_tpr)\n",
    "    \n",
    "    # Plotting the confusion matrices\n",
    "    train_prediction, test_prediction = draw_confusion_matrix(best_t, x_train, x_test, y_train, y_test, y_train_pred, y_test_pred)\n",
    "    \n",
    "    # Generating the F1-scores\n",
    "    train_f1_score = f1_score(y_train, train_prediction)\n",
    "    test_f1_score = f1_score(y_test, test_prediction)\n",
    "    \n",
    "    return test_auc, train_f1_score, test_f1_score, best_t"
   ]
  },
  {
   "cell_type": "code",
   "execution_count": null,
   "metadata": {
    "id": "zGBb6fFGeSk5",
    "outputId": "3b75f3f7-39a4-455a-dca6-2eb712266c69",
    "trusted": true
   },
   "outputs": [],
   "source": [
    "# Validate Logistic Regression model\n",
    "test_auc, train_f1_score, test_f1_score, best_t = validate_model(log_reg_1, X_train_std, X_test_std, y_train, y_test)\n",
    "\n",
    "print(\"\\n\")\n",
    "print(\"### Best Threshold = {:.4f}\".format(best_t))\n",
    "print(\"### Model AUC is : {:.4f}\".format(test_auc))\n",
    "print(\"### Model Train F1 Score is : {:.4f}\".format(train_f1_score))\n",
    "print(\"### Model Test F1 Score is : {:.4f}\".format(test_f1_score))"
   ]
  },
  {
   "cell_type": "code",
   "execution_count": null,
   "metadata": {
    "id": "w9VjXuXcqKvu",
    "outputId": "fc7a3965-ac07-4acb-accd-e34d5265c872",
    "trusted": true
   },
   "outputs": [],
   "source": [
    "feats_imps = pd.DataFrame({'Features': X_train.columns, 'Importance_Model_1': log_reg_1.coef_[0]})\n",
    "feats_imps = feats_imps[feats_imps['Importance_Model_1'] != 0]\n",
    "feats_imps.reset_index(drop=True, inplace=True)\n",
    "feats_imps.head()"
   ]
  },
  {
   "cell_type": "code",
   "execution_count": null,
   "metadata": {
    "id": "_gFjqSSeqKvu",
    "trusted": true
   },
   "outputs": [],
   "source": [
    "top_15_pos_feats = feats_imps.sort_values(by='Importance_Model_1',axis=0,ascending=False)['Features'].iloc[0:15]\n",
    "top_15_pos_feats_scores = feats_imps.sort_values(by='Importance_Model_1',axis=0,ascending=False)['Importance_Model_1'].iloc[0:15]"
   ]
  },
  {
   "cell_type": "code",
   "execution_count": null,
   "metadata": {
    "id": "5ribJzqmqKvv",
    "trusted": true
   },
   "outputs": [],
   "source": [
    "top_15_neg_feats = feats_imps.sort_values(by='Importance_Model_1',axis=0,ascending=True)['Features'].iloc[0:15]\n",
    "top_15_neg_feats_scores = feats_imps.sort_values(by='Importance_Model_1',axis=0,ascending=True)['Importance_Model_1'].iloc[0:15]"
   ]
  },
  {
   "cell_type": "code",
   "execution_count": null,
   "metadata": {
    "id": "G9qwdTr-qKvw",
    "outputId": "4f4ba835-20ff-4efd-ec3d-22afd3fb1071",
    "trusted": true
   },
   "outputs": [],
   "source": [
    "with plt.style.context('seaborn-poster'):\n",
    "    sns.barplot(y=top_15_pos_feats, x=top_15_pos_feats_scores, orient='h', palette='coolwarm')\n",
    "    plt.xlabel(\"\\nFeatures Importance\", fontdict=label_font_dict)\n",
    "    plt.ylabel(\"Features\\n\", fontdict=label_font_dict)\n",
    "    plt.title(\"Top 15 Importance Positive Features\\n\", fontdict=title_font_dict)"
   ]
  },
  {
   "cell_type": "code",
   "execution_count": null,
   "metadata": {
    "id": "zpVvOXEkqKvw",
    "outputId": "bf9fe33a-55e4-4751-80ab-ede2bfdbd45b",
    "trusted": true
   },
   "outputs": [],
   "source": [
    "with plt.style.context('seaborn-poster'):\n",
    "    sns.barplot(y=top_15_neg_feats, x=top_15_neg_feats_scores, orient='h', palette='coolwarm')\n",
    "    plt.xlabel(\"\\nFeatures Importance\", fontdict=label_font_dict)\n",
    "    plt.ylabel(\"Features\\n\", fontdict=label_font_dict)\n",
    "    plt.title(\"Top 15 Importance Negative Features\\n\", fontdict=title_font_dict)"
   ]
  },
  {
   "cell_type": "markdown",
   "metadata": {
    "id": "b8f1bYjgqKvx"
   },
   "source": [
    "#### **`2. Decision Tree`**"
   ]
  },
  {
   "cell_type": "code",
   "execution_count": null,
   "metadata": {
    "id": "eZ-4u-uAqKvy",
    "trusted": true
   },
   "outputs": [],
   "source": [
    "from sklearn.tree import DecisionTreeClassifier"
   ]
  },
  {
   "cell_type": "code",
   "execution_count": null,
   "metadata": {
    "id": "PhK9JucGqKv3",
    "outputId": "1b00a34e-53f7-4fcc-a5ac-5477de40485a",
    "trusted": true
   },
   "outputs": [],
   "source": [
    "# Training the model with all features and hyper-parameterized values\n",
    "dec_tree_2 = DecisionTreeClassifier(criterion='gini',\n",
    "                                   max_depth= 6,\n",
    "                                   max_features='log2',\n",
    "                                   min_samples_leaf=150,\n",
    "                                   min_samples_split=150,\n",
    "                                   class_weight='balanced',\n",
    "                                   random_state=49,\n",
    "                                   splitter='best',\n",
    "                                   min_weight_fraction_leaf=0.0,\n",
    "                                   max_leaf_nodes=None,\n",
    "                                   min_impurity_decrease=0.0,\n",
    "                                   ccp_alpha=0.0,)\n",
    "\n",
    "dec_tree_2.fit(X_train_std, y_train)"
   ]
  },
  {
   "cell_type": "code",
   "execution_count": null,
   "metadata": {
    "id": "-ojiwCljqKv4",
    "outputId": "1b3e45c1-65c2-437c-9ea1-942bf7eac518",
    "trusted": true
   },
   "outputs": [],
   "source": [
    "# Validate model\n",
    "test_auc, train_f1_score, test_f1_score, best_t = validate_model(dec_tree_2, X_train_std, X_test_std, y_train, y_test)\n",
    "\n",
    "print(\"\\n\")\n",
    "print(\"### Best Threshold = {:.4f}\".format(best_t))\n",
    "print(\"### Model AUC is : {:.4f}\".format(test_auc))\n",
    "print(\"### Model Train F1 Score is : {:.4f}\".format(train_f1_score))\n",
    "print(\"### Model Test F1 Score is : {:.4f}\".format(test_f1_score))"
   ]
  },
  {
   "cell_type": "code",
   "execution_count": null,
   "metadata": {
    "id": "2PXpm2cUqKv4",
    "outputId": "779e75ea-c917-461d-c183-fb9657c240fa",
    "trusted": true
   },
   "outputs": [],
   "source": [
    "feats_imps = pd.DataFrame({'Features': X_train.columns, 'Importance_Model_1': dec_tree_2.feature_importances_})\n",
    "feats_imps = feats_imps[feats_imps['Importance_Model_1'] != 0]\n",
    "feats_imps.reset_index(drop=True, inplace=True)\n",
    "feats_imps.head()"
   ]
  },
  {
   "cell_type": "code",
   "execution_count": null,
   "metadata": {
    "id": "2-1XhSASqKv5",
    "trusted": true
   },
   "outputs": [],
   "source": [
    "top_15_pos_feats = feats_imps.sort_values(by='Importance_Model_1',axis=0,ascending=False)['Features'].iloc[0:15]\n",
    "top_15_pos_feats_scores = feats_imps.sort_values(by='Importance_Model_1',axis=0,ascending=False)['Importance_Model_1'].iloc[0:15]"
   ]
  },
  {
   "cell_type": "code",
   "execution_count": null,
   "metadata": {
    "id": "hX-_VBsmqKv5",
    "outputId": "0bcca50d-d76d-4a07-bfbc-441f6d8bc48e",
    "trusted": true
   },
   "outputs": [],
   "source": [
    "with plt.style.context('seaborn-poster'):\n",
    "    sns.barplot(y=top_15_pos_feats, x=top_15_pos_feats_scores, orient='h', palette='coolwarm')\n",
    "    plt.xlabel(\"\\nFeatures Importance\", fontdict=label_font_dict)\n",
    "    plt.ylabel(\"Features\\n\", fontdict=label_font_dict)\n",
    "    plt.title(\"Top 15 Importance Positive Features\\n\", fontdict=title_font_dict)"
   ]
  },
  {
   "cell_type": "markdown",
   "metadata": {
    "id": "nPY846BaqKv7"
   },
   "source": [
    "#### **`3. Random Forest Classifier`**"
   ]
  },
  {
   "cell_type": "code",
   "execution_count": null,
   "metadata": {
    "id": "GZJRQVcDqKv8",
    "trusted": true
   },
   "outputs": [],
   "source": [
    "from sklearn.ensemble import RandomForestClassifier"
   ]
  },
  {
   "cell_type": "code",
   "execution_count": null,
   "metadata": {
    "id": "Dn7QK93hqKwB",
    "outputId": "14dbae7e-8b8d-4e92-c66e-370d350003a5",
    "trusted": true
   },
   "outputs": [],
   "source": [
    "# Training the model with all features and hyper-parameterized values\n",
    "rfc_3 = RandomForestClassifier(n_estimators=30,criterion='gini',\n",
    "                                   max_depth= 4,\n",
    "                                   max_features='auto',\n",
    "                                   min_samples_leaf=50,\n",
    "                                   min_samples_split=50,\n",
    "                                   class_weight='balanced',\n",
    "                                   random_state=49,\n",
    "                                   min_weight_fraction_leaf=0.0,\n",
    "                                   max_leaf_nodes=None,\n",
    "                                   min_impurity_decrease=0.0,\n",
    "                                   ccp_alpha=0.0,)\n",
    "\n",
    "rfc_3.fit(X_train_std, y_train)"
   ]
  },
  {
   "cell_type": "code",
   "execution_count": null,
   "metadata": {
    "id": "IWRhas-VqKwC",
    "outputId": "7ef2422f-f66a-4523-8684-7a06a6abd775",
    "trusted": true
   },
   "outputs": [],
   "source": [
    "# Validate model\n",
    "test_auc, train_f1_score, test_f1_score, best_t = validate_model(rfc_3, X_train_std, X_test_std, y_train, y_test)\n",
    "\n",
    "print(\"\\n\")\n",
    "print(\"### Best Threshold = {:.4f}\".format(best_t))\n",
    "print(\"### Model AUC is : {:.4f}\".format(test_auc))\n",
    "print(\"### Model Train F1 Score is : {:.4f}\".format(train_f1_score))\n",
    "print(\"### Model Test F1 Score is : {:.4f}\".format(test_f1_score))"
   ]
  },
  {
   "cell_type": "code",
   "execution_count": null,
   "metadata": {
    "id": "YXW-VBhBqKwD",
    "outputId": "56d9e582-f19f-4ec1-869a-b48145fba06c",
    "trusted": true
   },
   "outputs": [],
   "source": [
    "feats_imps = pd.DataFrame({'Features': X_train.columns, 'Importance_Model_1': rfc_3.feature_importances_})\n",
    "feats_imps = feats_imps[feats_imps['Importance_Model_1'] != 0]\n",
    "feats_imps.reset_index(drop=True, inplace=True)\n",
    "feats_imps.head()"
   ]
  },
  {
   "cell_type": "code",
   "execution_count": null,
   "metadata": {
    "id": "mFoFu7sVqKwE",
    "trusted": true
   },
   "outputs": [],
   "source": [
    "top_20_pos_feats = feats_imps.sort_values(by='Importance_Model_1',axis=0,ascending=False)['Features'].iloc[0:20]\n",
    "top_20_pos_feats_scores = feats_imps.sort_values(by='Importance_Model_1',axis=0,ascending=False)['Importance_Model_1'].iloc[0:20]"
   ]
  },
  {
   "cell_type": "code",
   "execution_count": null,
   "metadata": {
    "id": "bra5_3tVqKwF",
    "outputId": "b1dc2ebb-4311-4db9-cec4-3f40439ae3cf",
    "trusted": true
   },
   "outputs": [],
   "source": [
    "with plt.style.context('seaborn-poster'):\n",
    "    sns.barplot(y=top_20_pos_feats, x=top_20_pos_feats_scores, orient='h', palette='coolwarm')\n",
    "    plt.xlabel(\"\\nFeatures Importance\", fontdict=label_font_dict)\n",
    "    plt.ylabel(\"Features\\n\", fontdict=label_font_dict)\n",
    "    plt.title(\"Top 20 Importance Positive Features\\n\", fontdict=title_font_dict)"
   ]
  },
  {
   "cell_type": "markdown",
   "metadata": {
    "id": "2jOTCZ4MqKwH"
   },
   "source": [
    "### **`Using Minority Synthetic Oversampling`**"
   ]
  },
  {
   "cell_type": "markdown",
   "metadata": {
    "id": "bTJ347vHqKwI"
   },
   "source": [
    "#### **`Train Test Split` :: Creating TRAIN and VALIDATION sets.**\n",
    "\n",
    "   * **`Reasoning`** :: These sets will be used for measurng the performance of ML Models."
   ]
  },
  {
   "cell_type": "code",
   "execution_count": null,
   "metadata": {
    "id": "k3_tn2rpqKwI",
    "trusted": true
   },
   "outputs": [],
   "source": [
    "from sklearn.model_selection import train_test_split as tts"
   ]
  },
  {
   "cell_type": "code",
   "execution_count": null,
   "metadata": {
    "id": "rB_xQCrKqKwJ",
    "trusted": true
   },
   "outputs": [],
   "source": [
    "X_train, X_test, y_train, y_test = tts(X, y, test_size=0.25, stratify=y, random_state=39)"
   ]
  },
  {
   "cell_type": "code",
   "execution_count": null,
   "metadata": {
    "id": "-aCneLL-qKwJ",
    "outputId": "33ed05d7-53c0-46ff-ce25-ee28236c59d4",
    "trusted": true
   },
   "outputs": [],
   "source": [
    "# Checking shape of each set\n",
    "X_train.shape, X_test.shape, y_train.shape, y_test.shape"
   ]
  },
  {
   "cell_type": "code",
   "execution_count": null,
   "metadata": {
    "id": "4Q-4VmWnqKwJ",
    "outputId": "bc1493c9-8473-4987-e344-3d87687e106f",
    "trusted": true
   },
   "outputs": [],
   "source": [
    "# Checking count of tgt labels in y_train\n",
    "y_train.value_counts()"
   ]
  },
  {
   "cell_type": "code",
   "execution_count": null,
   "metadata": {
    "id": "BHam8lmQqKwK",
    "outputId": "6ba9ef10-6e40-4451-8c98-02317d92fc78",
    "trusted": true
   },
   "outputs": [],
   "source": [
    "# Checking count of tgt labels in y_test\n",
    "y_test.value_counts()"
   ]
  },
  {
   "cell_type": "markdown",
   "metadata": {
    "id": "z7Lf2B-EqKwK"
   },
   "source": [
    "#### **`Standardizing the TRAIN & TEST sets` :: Bringing every feature into the same scale.**"
   ]
  },
  {
   "cell_type": "code",
   "execution_count": null,
   "metadata": {
    "id": "ghI-qzE4qKwL",
    "trusted": true
   },
   "outputs": [],
   "source": [
    "from sklearn.preprocessing import RobustScaler"
   ]
  },
  {
   "cell_type": "code",
   "execution_count": null,
   "metadata": {
    "id": "6De5UzHNqKwL",
    "trusted": true
   },
   "outputs": [],
   "source": [
    "# Standardize the data (train and test)\n",
    "robust_scaler = RobustScaler()\n",
    "robust_scaler.fit(X_train)\n",
    "X_train_std = robust_scaler.transform(X_train)\n",
    "X_test_std = robust_scaler.transform(X_test)"
   ]
  },
  {
   "cell_type": "code",
   "execution_count": null,
   "metadata": {
    "id": "CFg_N1qGqKwM",
    "trusted": true
   },
   "outputs": [],
   "source": [
    "from collections import Counter"
   ]
  },
  {
   "cell_type": "code",
   "execution_count": null,
   "metadata": {
    "id": "EXmGIrM1qKwN",
    "outputId": "54e0464a-dabf-417f-f9e1-1fb07713dd06",
    "trusted": true
   },
   "outputs": [],
   "source": [
    "# BEFORE Oversampling :: Checking the percentage share of fraud and non-fraud records in the TRAIN set\n",
    "counter = Counter(y_train)\n",
    "counter"
   ]
  },
  {
   "cell_type": "code",
   "execution_count": null,
   "metadata": {
    "id": "zmjwPg8EqKwN",
    "outputId": "da2313eb-efbb-480b-9bd8-0f2ebaf7d08e",
    "trusted": true
   },
   "outputs": [],
   "source": [
    "fraud_percentage = (counter[1]*100 / (counter[0]+counter[1]))\n",
    "non_fraud_percentage = (counter[0]*100 / (counter[0]+counter[1]))\n",
    "print(\"Fraud Percentage = {:.2f}% and Non-Fraud Percentage = {:.2f}%\".format(fraud_percentage, non_fraud_percentage))"
   ]
  },
  {
   "cell_type": "code",
   "execution_count": null,
   "metadata": {
    "id": "3_1EdQyQqKwO",
    "trusted": true
   },
   "outputs": [],
   "source": [
    "# Performing minority oversampling\n",
    "from imblearn.over_sampling import ADASYN"
   ]
  },
  {
   "cell_type": "code",
   "execution_count": null,
   "metadata": {
    "id": "K7UI2BLkqKwP",
    "outputId": "92c2cd55-0c5f-4619-cc81-3fa40cb6e24a",
    "trusted": true
   },
   "outputs": [],
   "source": [
    "oversample = ADASYN(sampling_strategy=0.35, n_neighbors=12)\n",
    "X_train_ovsamp, y_train_ovsamp = oversample.fit_resample(X_train_std, y_train)\n",
    "\n",
    "X_train_ovsamp.shape, y_train_ovsamp.shape"
   ]
  },
  {
   "cell_type": "code",
   "execution_count": null,
   "metadata": {
    "id": "vRmwlWTLqKwQ",
    "outputId": "1554c8d9-3c62-4529-9f38-18bd85bf3062",
    "trusted": true
   },
   "outputs": [],
   "source": [
    "counter = Counter(y_train_ovsamp)\n",
    "counter"
   ]
  },
  {
   "cell_type": "code",
   "execution_count": null,
   "metadata": {
    "id": "YUoSq1BFqKwQ",
    "outputId": "1b6406b5-d69b-4642-a93d-f0caa867141d",
    "trusted": true
   },
   "outputs": [],
   "source": [
    "fraud_percentage = (counter[1]*100 / (counter[0]+counter[1]))\n",
    "non_fraud_percentage = (counter[0]*100 / (counter[0]+counter[1]))\n",
    "print(\"Fraud Percentage = {:.2f}% and Non-Fraud Percentage = {:.2f}%\".format(fraud_percentage, non_fraud_percentage))"
   ]
  },
  {
   "cell_type": "markdown",
   "metadata": {
    "id": "WeW0QTFrqKwR"
   },
   "source": [
    "#### **`4. Logistic Regression`**"
   ]
  },
  {
   "cell_type": "code",
   "execution_count": null,
   "metadata": {
    "id": "j0PF7ZtgqKwS",
    "outputId": "e823fd55-5658-4f38-e9b1-481a77087291",
    "trusted": true
   },
   "outputs": [],
   "source": [
    "# Training the model with all features and hyper-parameterized values\n",
    "log_reg_4 = LogisticRegression(C=0.0316228, penalty='l1',\n",
    "                               fit_intercept=True, \n",
    "                               solver='liblinear', \n",
    "                               tol=0.0001, \n",
    "                               max_iter=500, \n",
    "                               verbose=0, \n",
    "                               intercept_scaling=1.0,\n",
    "                               multi_class='auto',\n",
    "                               random_state=49)\n",
    "\n",
    "log_reg_4.fit(X_train_ovsamp, y_train_ovsamp)"
   ]
  },
  {
   "cell_type": "code",
   "execution_count": null,
   "metadata": {
    "id": "14Hk8nf2qKwT",
    "outputId": "08a34c9e-fb10-4b65-e644-2de7fcc3eb41",
    "trusted": true
   },
   "outputs": [],
   "source": [
    "# Validate Logistic Regression model\n",
    "test_auc, train_f1_score, test_f1_score, best_t = validate_model(log_reg_4, X_train_ovsamp, X_test_std, y_train_ovsamp, y_test)\n",
    "\n",
    "print(\"\\n\")\n",
    "print(\"### Best Threshold = {:.4f}\".format(best_t))\n",
    "print(\"### Model AUC is : {:.4f}\".format(test_auc))\n",
    "print(\"### Model Train F1 Score is : {:.4f}\".format(train_f1_score))\n",
    "print(\"### Model Test F1 Score is : {:.4f}\".format(test_f1_score))"
   ]
  },
  {
   "cell_type": "code",
   "execution_count": null,
   "metadata": {
    "id": "b3KKLTuNqKwT",
    "outputId": "0820a579-370d-4527-fa23-78a9c3a576a0",
    "trusted": true
   },
   "outputs": [],
   "source": [
    "feats_imps = pd.DataFrame({'Features': X_train.columns, 'Importance_Model_1': log_reg_4.coef_[0]})\n",
    "feats_imps = feats_imps[feats_imps['Importance_Model_1'] != 0]\n",
    "feats_imps.reset_index(drop=True, inplace=True)\n",
    "feats_imps.head()"
   ]
  },
  {
   "cell_type": "code",
   "execution_count": null,
   "metadata": {
    "id": "IGZebfDbqKwU",
    "trusted": true
   },
   "outputs": [],
   "source": [
    "top_15_pos_feats = feats_imps.sort_values(by='Importance_Model_1',axis=0,ascending=False)['Features'].iloc[0:15]\n",
    "top_15_pos_feats_scores = feats_imps.sort_values(by='Importance_Model_1',axis=0,ascending=False)['Importance_Model_1'].iloc[0:15]"
   ]
  },
  {
   "cell_type": "code",
   "execution_count": null,
   "metadata": {
    "id": "1K-vKYTYqKwV",
    "trusted": true
   },
   "outputs": [],
   "source": [
    "top_15_neg_feats = feats_imps.sort_values(by='Importance_Model_1',axis=0,ascending=True)['Features'].iloc[0:15]\n",
    "top_15_neg_feats_scores = feats_imps.sort_values(by='Importance_Model_1',axis=0,ascending=True)['Importance_Model_1'].iloc[0:15]"
   ]
  },
  {
   "cell_type": "code",
   "execution_count": null,
   "metadata": {
    "id": "gDGPC-BFqKwW",
    "outputId": "d851aad6-8c37-4b11-8d41-58aaeadfc9cf",
    "trusted": true
   },
   "outputs": [],
   "source": [
    "with plt.style.context('seaborn-poster'):\n",
    "    sns.barplot(y=top_15_pos_feats, x=top_15_pos_feats_scores, orient='h', palette='coolwarm')\n",
    "    plt.xlabel(\"\\nFeatures Importance\", fontdict=label_font_dict)\n",
    "    plt.ylabel(\"Features\\n\", fontdict=label_font_dict)\n",
    "    plt.title(\"Top 15 Importance Positive Features\\n\", fontdict=title_font_dict)"
   ]
  },
  {
   "cell_type": "code",
   "execution_count": null,
   "metadata": {
    "id": "urDBcAOrqKwW",
    "outputId": "09af6b55-4ea5-4cfc-e0e8-726a111d42c2",
    "trusted": true
   },
   "outputs": [],
   "source": [
    "with plt.style.context('seaborn-poster'):\n",
    "    sns.barplot(y=top_15_neg_feats, x=top_15_neg_feats_scores, orient='h', palette='coolwarm')\n",
    "    plt.xlabel(\"\\nFeatures Importance\", fontdict=label_font_dict)\n",
    "    plt.ylabel(\"Features\\n\", fontdict=label_font_dict)\n",
    "    plt.title(\"Top 15 Importance Negative Features\\n\", fontdict=title_font_dict)"
   ]
  },
  {
   "cell_type": "markdown",
   "metadata": {
    "id": "PlzxckEdqKwX"
   },
   "source": [
    "#### **`5. Decision Tree`**"
   ]
  },
  {
   "cell_type": "code",
   "execution_count": null,
   "metadata": {
    "id": "0PU1-dEdqKwX",
    "trusted": true
   },
   "outputs": [],
   "source": [
    "from sklearn.tree import DecisionTreeClassifier"
   ]
  },
  {
   "cell_type": "code",
   "execution_count": null,
   "metadata": {
    "id": "YqXM4ONtqKwY",
    "outputId": "50593f59-50e4-49d4-8d82-58f48a0b5a23",
    "trusted": true
   },
   "outputs": [],
   "source": [
    "# Training the model with all features and hyper-parameterized values\n",
    "dec_tree_5 = DecisionTreeClassifier(criterion='gini',\n",
    "                                   max_depth= 6,\n",
    "                                   max_features='log2',\n",
    "                                   min_samples_leaf=150,\n",
    "                                   min_samples_split=150,\n",
    "                                   random_state=49,\n",
    "                                   splitter='best',\n",
    "                                   min_weight_fraction_leaf=0.0,\n",
    "                                   max_leaf_nodes=None,\n",
    "                                   min_impurity_decrease=0.0,\n",
    "                                   ccp_alpha=0.0,)\n",
    "\n",
    "dec_tree_5.fit(X_train_ovsamp, y_train_ovsamp)"
   ]
  },
  {
   "cell_type": "code",
   "execution_count": null,
   "metadata": {
    "id": "9CfLSANQqKwZ",
    "outputId": "ffaf9f8a-c0ba-49a7-8e88-f56d9c21bc8f",
    "trusted": true
   },
   "outputs": [],
   "source": [
    "# Validate model\n",
    "test_auc, train_f1_score, test_f1_score, best_t = validate_model(dec_tree_5, X_train_ovsamp, X_test_std, y_train_ovsamp, y_test)\n",
    "\n",
    "print(\"\\n\")\n",
    "print(\"### Best Threshold = {:.4f}\".format(best_t))\n",
    "print(\"### Model AUC is : {:.4f}\".format(test_auc))\n",
    "print(\"### Model Train F1 Score is : {:.4f}\".format(train_f1_score))\n",
    "print(\"### Model Test F1 Score is : {:.4f}\".format(test_f1_score))"
   ]
  },
  {
   "cell_type": "code",
   "execution_count": null,
   "metadata": {
    "id": "38vTKOFoqKwa",
    "outputId": "74d2de84-7877-4051-8073-6b1e42477f26",
    "trusted": true
   },
   "outputs": [],
   "source": [
    "feats_imps = pd.DataFrame({'Features': X_train.columns, 'Importance_Model_1': dec_tree_5.feature_importances_})\n",
    "feats_imps = feats_imps[feats_imps['Importance_Model_1'] != 0]\n",
    "feats_imps.reset_index(drop=True, inplace=True)\n",
    "feats_imps.head()"
   ]
  },
  {
   "cell_type": "code",
   "execution_count": null,
   "metadata": {
    "id": "jM0dzF15qKwa",
    "trusted": true
   },
   "outputs": [],
   "source": [
    "top_15_pos_feats = feats_imps.sort_values(by='Importance_Model_1',axis=0,ascending=False)['Features'].iloc[0:15]\n",
    "top_15_pos_feats_scores = feats_imps.sort_values(by='Importance_Model_1',axis=0,ascending=False)['Importance_Model_1'].iloc[0:15]"
   ]
  },
  {
   "cell_type": "code",
   "execution_count": null,
   "metadata": {
    "id": "nOEKFhDXqKwb",
    "outputId": "8091baba-0be9-4240-a6fd-759ffe447cfb",
    "trusted": true
   },
   "outputs": [],
   "source": [
    "with plt.style.context('seaborn-poster'):\n",
    "    sns.barplot(y=top_15_pos_feats, x=top_15_pos_feats_scores, orient='h', palette='coolwarm')\n",
    "    plt.xlabel(\"\\nFeatures Importance\", fontdict=label_font_dict)\n",
    "    plt.ylabel(\"Features\\n\", fontdict=label_font_dict)\n",
    "    plt.title(\"Top 15 Importance Positive Features\\n\", fontdict=title_font_dict)"
   ]
  },
  {
   "cell_type": "markdown",
   "metadata": {
    "id": "ZqTFJ-pmqKwc"
   },
   "source": [
    "#### **`6. Random Forest Classifier`**"
   ]
  },
  {
   "cell_type": "code",
   "execution_count": null,
   "metadata": {
    "id": "L3Ykf3-1qKwc",
    "trusted": true
   },
   "outputs": [],
   "source": [
    "from sklearn.ensemble import RandomForestClassifier"
   ]
  },
  {
   "cell_type": "code",
   "execution_count": null,
   "metadata": {
    "id": "49hNonm4qKwd",
    "outputId": "2713ae89-0ffc-421b-dc0b-b31663c3c2fd",
    "trusted": true
   },
   "outputs": [],
   "source": [
    "# Training the model with all features and hyper-parameterized values\n",
    "rfc_6 = RandomForestClassifier(n_estimators=30,criterion='gini',\n",
    "                                   max_depth= 4,\n",
    "                                   max_features='auto',\n",
    "                                   min_samples_leaf=50,\n",
    "                                   min_samples_split=50,\n",
    "                                   random_state=49,\n",
    "                                   min_weight_fraction_leaf=0.0,\n",
    "                                   max_leaf_nodes=None,\n",
    "                                   min_impurity_decrease=0.0,\n",
    "                                   ccp_alpha=0.0,)\n",
    "\n",
    "rfc_6.fit(X_train_std, y_train)"
   ]
  },
  {
   "cell_type": "code",
   "execution_count": null,
   "metadata": {
    "id": "8h33br6hqKwd",
    "outputId": "300107bc-33f8-44b6-ea86-82ce9a65e01f",
    "trusted": true
   },
   "outputs": [],
   "source": [
    "# Validate model\n",
    "test_auc, train_f1_score, test_f1_score, best_t = validate_model(rfc_6, X_train_ovsamp, X_test_std, y_train_ovsamp, y_test)\n",
    "\n",
    "print(\"\\n\")\n",
    "print(\"### Best Threshold = {:.4f}\".format(best_t))\n",
    "print(\"### Model AUC is : {:.4f}\".format(test_auc))\n",
    "print(\"### Model Train F1 Score is : {:.4f}\".format(train_f1_score))\n",
    "print(\"### Model Test F1 Score is : {:.4f}\".format(test_f1_score))"
   ]
  },
  {
   "cell_type": "code",
   "execution_count": null,
   "metadata": {
    "id": "8Z9WC4EXqKwe",
    "outputId": "fe37b17d-d74c-4304-c599-3df0230e052c",
    "trusted": true
   },
   "outputs": [],
   "source": [
    "feats_imps = pd.DataFrame({'Features': X_train.columns, 'Importance_Model_1': rfc_6.feature_importances_})\n",
    "feats_imps = feats_imps[feats_imps['Importance_Model_1'] != 0]\n",
    "feats_imps.reset_index(drop=True, inplace=True)\n",
    "feats_imps.head()"
   ]
  },
  {
   "cell_type": "code",
   "execution_count": null,
   "metadata": {
    "id": "puYoHQZzqKwf",
    "trusted": true
   },
   "outputs": [],
   "source": [
    "top_20_pos_feats = feats_imps.sort_values(by='Importance_Model_1',axis=0,ascending=False)['Features'].iloc[0:20]\n",
    "top_20_pos_feats_scores = feats_imps.sort_values(by='Importance_Model_1',axis=0,ascending=False)['Importance_Model_1'].iloc[0:20]"
   ]
  },
  {
   "cell_type": "code",
   "execution_count": null,
   "metadata": {
    "id": "Bw6ntLBoqKwf",
    "outputId": "688d122d-bde6-46c1-df02-1d170322ec68",
    "trusted": true
   },
   "outputs": [],
   "source": [
    "with plt.style.context('seaborn-poster'):\n",
    "    sns.barplot(y=top_15_pos_feats, x=top_20_pos_feats_scores, orient='h', palette='coolwarm')\n",
    "    plt.xlabel(\"\\nFeatures Importance\", fontdict=label_font_dict)\n",
    "    plt.ylabel(\"Features\\n\", fontdict=label_font_dict)\n",
    "    plt.title(\"Top 15 Importance Positive Features\\n\", fontdict=title_font_dict)"
   ]
  },
  {
   "cell_type": "markdown",
   "metadata": {
    "id": "TyFc6VqIqKwg"
   },
   "source": [
    "# **`Models - SET 1 - RESULTS`**\n",
    "- Best performing model highlighted in light yellow in the below table."
   ]
  },
  {
   "cell_type": "code",
   "execution_count": null,
   "metadata": {},
   "outputs": [],
   "source": [
    "from IPython.display import Image\n",
    "Image(\"../input/medicare-prv-fraud-files/Models_Set_1_Results.png\")"
   ]
  },
  {
   "cell_type": "markdown",
   "metadata": {
    "id": "M4iM30JdeSL1"
   },
   "source": [
    "## **`Models - SET 1 - OBSERVATIONS`**"
   ]
  },
  {
   "cell_type": "markdown",
   "metadata": {
    "id": "-SFflt9JqKwh"
   },
   "source": [
    "- **Adding Aggregated features at below mentioned levels certainly helped in achieving the good performance scores.**\n",
    "    - Provider\n",
    "    - Beneficiary\n",
    "    - Attending Physician\n",
    "    - Operating Physician\n",
    "    - Other Physician and etc..\n",
    "    \n",
    "    \n",
    "- **Adding below mentioned Aggregated features in order to capture the interactions b/w the different parties involved in the CLAIM process certainly helped in achieving the good performance scores.**  \n",
    "    - PROVIDER <--> BENE <--> PHYSICIANS\n",
    "    - PROVIDER <--> BENE <--> ATTENDING PHYSICIAN <--> PROCEDURE CODES\n",
    "    - PROVIDER <--> BENE <--> OPERATING PHYSICIAN <--> PROCEDURE CODES\n",
    "    - PROVIDER <--> BENE <--> OTHER PHYSICIAN <--> PROCEDURE CODES\n",
    "    - PROVIDER <--> BENE <--> ATTENDING PHYSICIAN <--> DIAGNOSIS CODES\n",
    "    - PROVIDER <--> BENE <--> OPERATING PHYSICIAN <--> DIAGNOSIS CODES\n",
    "    - PROVIDER <--> BENE <--> OTHER PHYSICIAN <--> DIAGNOSIS CODES\n",
    "    - PROVIDER <--> BENE <--> DIAGNOSIS CODES <--> PROCEDURE CODES and etc..\n",
    "    \n",
    "\n",
    "- **Doing the synthetic oversampling of the minority class doesn't provide gain in the model's performance whehreas we can see a slight drop in the performace.** "
   ]
  },
  {
   "cell_type": "markdown",
   "metadata": {
    "id": "c16_htZKnucm"
   },
   "source": [
    "# **Feature Engg - SET 2**"
   ]
  },
  {
   "cell_type": "code",
   "execution_count": null,
   "metadata": {},
   "outputs": [],
   "source": [
    "from IPython.display import Image\n",
    "Image(\"../input/medicare-prv-fraud-files/Feat_Engg_SET2.png\")"
   ]
  },
  {
   "cell_type": "code",
   "execution_count": null,
   "metadata": {
    "id": "zK3dEaKAnugE",
    "trusted": true
   },
   "outputs": [],
   "source": [
    "train_bene_df = pd.read_csv(\"../input/healthcare-provider-fraud-detection-analysis/Train_Beneficiarydata-1542865627584.csv\")\n",
    "train_ip_df = pd.read_csv(\"../input/healthcare-provider-fraud-detection-analysis/Train_Inpatientdata-1542865627584.csv\")\n",
    "train_op_df = pd.read_csv(\"../input/healthcare-provider-fraud-detection-analysis/Train_Outpatientdata-1542865627584.csv\")\n",
    "train_tgt_lbls_df = pd.read_csv(\"../input/healthcare-provider-fraud-detection-analysis/Train-1542865627584.csv\")"
   ]
  },
  {
   "cell_type": "code",
   "execution_count": null,
   "metadata": {
    "id": "8P3fHTcRq0Ys",
    "trusted": true
   },
   "outputs": [],
   "source": [
    "test_bene_df = pd.read_csv(\"../input/healthcare-provider-fraud-detection-analysis/Test_Beneficiarydata-1542969243754.csv\")\n",
    "test_ip_df = pd.read_csv(\"../input/healthcare-provider-fraud-detection-analysis/Test_Inpatientdata-1542969243754.csv\")\n",
    "test_op_df = pd.read_csv(\"../input/healthcare-provider-fraud-detection-analysis/Test_Outpatientdata-1542969243754.csv\")\n",
    "test_tgt_lbls_df = pd.read_csv(\"../input/healthcare-provider-fraud-detection-analysis/Test-1542969243754.csv\")"
   ]
  },
  {
   "cell_type": "markdown",
   "metadata": {
    "id": "25UO_fXHte6_"
   },
   "source": [
    "## ***Exploring_Target_Labels_Data***"
   ]
  },
  {
   "cell_type": "code",
   "execution_count": null,
   "metadata": {
    "id": "JsbO4lEIXA4v",
    "outputId": "dd5d83e2-8a49-4cb7-974d-810e50b87296",
    "trusted": true
   },
   "outputs": [],
   "source": [
    "train_tgt_lbls_df.head()"
   ]
  },
  {
   "cell_type": "code",
   "execution_count": null,
   "metadata": {
    "id": "EOggzY1nq0Yv",
    "outputId": "dd5d83e2-8a49-4cb7-974d-810e50b87296",
    "trusted": true
   },
   "outputs": [],
   "source": [
    "test_tgt_lbls_df.head()"
   ]
  },
  {
   "cell_type": "markdown",
   "metadata": {
    "id": "SoocuAlKXA4y"
   },
   "source": [
    "* **Check the Fraud and Non-Fraud Counts**"
   ]
  },
  {
   "cell_type": "code",
   "execution_count": null,
   "metadata": {
    "id": "r8BFPCEvXA4z",
    "outputId": "a53f21c9-7473-4cfb-c69b-51a49729a6f4",
    "trusted": true
   },
   "outputs": [],
   "source": [
    "print(\"### The unique number of train providers are {}. ###\".format(train_tgt_lbls_df.shape[0]))"
   ]
  },
  {
   "cell_type": "code",
   "execution_count": null,
   "metadata": {
    "id": "tv1zCphxq0Yz",
    "outputId": "a53f21c9-7473-4cfb-c69b-51a49729a6f4",
    "trusted": true
   },
   "outputs": [],
   "source": [
    "print(\"### The unique number of test providers are {}. ###\".format(test_tgt_lbls_df.shape[0]))"
   ]
  },
  {
   "cell_type": "code",
   "execution_count": null,
   "metadata": {
    "id": "5X-Yy7AhXA40",
    "outputId": "096f42d7-f257-472d-d387-7e89bf95d58d",
    "trusted": true
   },
   "outputs": [],
   "source": [
    "with plt.style.context('seaborn-poster'):\n",
    "    fig = train_tgt_lbls_df[\"PotentialFraud\"].value_counts().plot(kind='bar', color=['green','orange'])\n",
    "    # Using the \"patches\" function we will get the location of the rectangle bars from the graph.\n",
    "    ## Then by using those location(width & height) values we will add the annotations\n",
    "    for p in fig.patches:\n",
    "        width = p.get_width()\n",
    "        height = p.get_height()\n",
    "        x, y = p.get_xy()\n",
    "        fig.annotate(f'{str(round((height*100)/train_tgt_lbls_df.shape[0],2))+\"%\"}', (x + width/2, y + height*1.015), ha='center', fontsize=13.5)\n",
    "    # Providing the labels and title to the graph\n",
    "    plt.xlabel(\"Provider Fraud or Not?\", fontdict=label_font_dict)\n",
    "    plt.ylabel(\"Number or % share of providers\\n\", fontdict=label_font_dict)\n",
    "    plt.yticks(np.arange(0,5100,500))\n",
    "    plt.grid(which='major', linestyle=\"--\", color='lightgrey')\n",
    "    plt.minorticks_on()\n",
    "    plt.title(\"Distribution of Fraud & Non-fraud providers\\n\", fontdict=title_font_dict)\n",
    "    plt.plot();"
   ]
  },
  {
   "cell_type": "markdown",
   "metadata": {
    "id": "yZGLu8zzKskq"
   },
   "source": [
    "**`OBSERVATION`**\n",
    "* From the above plot, we can say that 90% of the providers are not frausters and only 9% of them are involved in frauds."
   ]
  },
  {
   "cell_type": "markdown",
   "metadata": {
    "id": "aWTKv0gYq0Y2"
   },
   "source": [
    "- **Removing some entirely NULL Procedure Codes Features**"
   ]
  },
  {
   "cell_type": "markdown",
   "metadata": {
    "id": "dMXRK_7iq0Y3"
   },
   "source": [
    "- TRAIN Set"
   ]
  },
  {
   "cell_type": "code",
   "execution_count": null,
   "metadata": {
    "id": "wNS-BII2q0Y3",
    "outputId": "60668ee5-efea-4b53-fea7-a48c93587f15",
    "trusted": true
   },
   "outputs": [],
   "source": [
    "train_ip_df.shape, train_op_df.shape"
   ]
  },
  {
   "cell_type": "code",
   "execution_count": null,
   "metadata": {
    "id": "ST1glU9oq0Y4",
    "outputId": "5a2a8552-5d96-43ae-aa82-67747151ac36",
    "trusted": true
   },
   "outputs": [],
   "source": [
    "(train_ip_df['ClmProcedureCode_4'].isna().sum() / train_ip_df.shape[0])*100,\\\n",
    "(train_ip_df['ClmProcedureCode_5'].isna().sum() / train_ip_df.shape[0])*100,\\\n",
    "(train_ip_df['ClmProcedureCode_6'].isna().sum() / train_ip_df.shape[0])*100"
   ]
  },
  {
   "cell_type": "code",
   "execution_count": null,
   "metadata": {
    "id": "bHMviTPOq0Y5",
    "outputId": "d1ed28d4-111c-487c-9f4e-4d6a4cbdcbdd",
    "trusted": true
   },
   "outputs": [],
   "source": [
    "(train_op_df['ClmProcedureCode_4'].isna().sum() / train_op_df.shape[0])*100,\\\n",
    "(train_op_df['ClmProcedureCode_5'].isna().sum() / train_op_df.shape[0])*100,\\\n",
    "(train_op_df['ClmProcedureCode_6'].isna().sum() / train_op_df.shape[0])*100"
   ]
  },
  {
   "cell_type": "markdown",
   "metadata": {
    "execution": {
     "iopub.execute_input": "2022-08-21T05:12:23.826336Z",
     "iopub.status.busy": "2022-08-21T05:12:23.825334Z",
     "iopub.status.idle": "2022-08-21T05:12:23.849333Z",
     "shell.execute_reply": "2022-08-21T05:12:23.846333Z",
     "shell.execute_reply.started": "2022-08-21T05:12:23.826336Z"
    },
    "id": "JzV7Pc3Hq0Y5"
   },
   "source": [
    "- Unseen Set"
   ]
  },
  {
   "cell_type": "code",
   "execution_count": null,
   "metadata": {
    "id": "nVPIVux7q0Y6",
    "outputId": "7f55060e-d868-4068-8140-b50edcb3be88",
    "trusted": true
   },
   "outputs": [],
   "source": [
    "test_ip_df.shape, test_op_df.shape"
   ]
  },
  {
   "cell_type": "code",
   "execution_count": null,
   "metadata": {
    "id": "kp_KCgDMq0Y6",
    "outputId": "5ef812fe-1a17-404b-af0c-8e7314cea2d9",
    "trusted": true
   },
   "outputs": [],
   "source": [
    "(test_ip_df['ClmProcedureCode_4'].isna().sum() / test_ip_df.shape[0])*100,\\\n",
    "(test_ip_df['ClmProcedureCode_5'].isna().sum() / test_ip_df.shape[0])*100,\\\n",
    "(test_ip_df['ClmProcedureCode_6'].isna().sum() / test_ip_df.shape[0])*100"
   ]
  },
  {
   "cell_type": "code",
   "execution_count": null,
   "metadata": {
    "id": "rMD0ZRMsq0Y7",
    "outputId": "28a2651f-f5e7-4303-ad9f-4876acaa00cf",
    "trusted": true
   },
   "outputs": [],
   "source": [
    "(test_op_df['ClmProcedureCode_4'].isna().sum() / test_op_df.shape[0])*100,\\\n",
    "(test_op_df['ClmProcedureCode_5'].isna().sum() / test_op_df.shape[0])*100,\\\n",
    "(test_op_df['ClmProcedureCode_6'].isna().sum() / test_op_df.shape[0])*100"
   ]
  },
  {
   "cell_type": "markdown",
   "metadata": {
    "id": "0fNa2dF4q0Y8"
   },
   "source": [
    "- **Removing the above columns**"
   ]
  },
  {
   "cell_type": "code",
   "execution_count": null,
   "metadata": {
    "id": "III6PtKfq0Y8",
    "trusted": true
   },
   "outputs": [],
   "source": [
    "train_ip_df.drop(['ClmProcedureCode_4','ClmProcedureCode_5','ClmProcedureCode_6'],axis=1,inplace=True)\n",
    "train_op_df.drop(['ClmProcedureCode_4','ClmProcedureCode_5','ClmProcedureCode_6'],axis=1,inplace=True)"
   ]
  },
  {
   "cell_type": "code",
   "execution_count": null,
   "metadata": {
    "id": "40Mqq9Enq0Y8",
    "trusted": true
   },
   "outputs": [],
   "source": [
    "test_ip_df.drop(['ClmProcedureCode_4','ClmProcedureCode_5','ClmProcedureCode_6'],axis=1,inplace=True)\n",
    "test_op_df.drop(['ClmProcedureCode_4','ClmProcedureCode_5','ClmProcedureCode_6'],axis=1,inplace=True)"
   ]
  },
  {
   "cell_type": "code",
   "execution_count": null,
   "metadata": {
    "id": "rZm5vwh8q0Y9",
    "trusted": true
   },
   "outputs": [],
   "source": [
    "# Converting the PROC CODES into STRING format\n",
    "train_ip_df['ClmProcedureCode_1'] = train_ip_df['ClmProcedureCode_1'].apply(lambda val: str(val).split(\".\")[0] if val == val else np.NaN)\n",
    "train_ip_df['ClmProcedureCode_2'] = train_ip_df['ClmProcedureCode_2'].apply(lambda val: str(val).split(\".\")[0] if val == val else np.NaN)\n",
    "train_ip_df['ClmProcedureCode_3'] = train_ip_df['ClmProcedureCode_3'].apply(lambda val: str(val).split(\".\")[0] if val == val else np.NaN)\n",
    "\n",
    "train_op_df['ClmProcedureCode_1'] = train_op_df['ClmProcedureCode_1'].apply(lambda val: str(val).split(\".\")[0] if val == val else np.NaN)\n",
    "train_op_df['ClmProcedureCode_2'] = train_op_df['ClmProcedureCode_2'].apply(lambda val: str(val).split(\".\")[0] if val == val else np.NaN)\n",
    "train_op_df['ClmProcedureCode_3'] = train_op_df['ClmProcedureCode_3'].apply(lambda val: str(val).split(\".\")[0] if val == val else np.NaN)"
   ]
  },
  {
   "cell_type": "code",
   "execution_count": null,
   "metadata": {
    "id": "YTrOJPexq0Y9",
    "trusted": true
   },
   "outputs": [],
   "source": [
    "# Converting the PROC CODES into STRING format\n",
    "test_ip_df['ClmProcedureCode_1'] = test_ip_df['ClmProcedureCode_1'].apply(lambda val: str(val).split(\".\")[0] if val == val else np.NaN)\n",
    "test_ip_df['ClmProcedureCode_2'] = test_ip_df['ClmProcedureCode_2'].apply(lambda val: str(val).split(\".\")[0] if val == val else np.NaN)\n",
    "test_ip_df['ClmProcedureCode_3'] = test_ip_df['ClmProcedureCode_3'].apply(lambda val: str(val).split(\".\")[0] if val == val else np.NaN)\n",
    "\n",
    "test_op_df['ClmProcedureCode_1'] = test_op_df['ClmProcedureCode_1'].apply(lambda val: str(val).split(\".\")[0] if val == val else np.NaN)\n",
    "test_op_df['ClmProcedureCode_2'] = test_op_df['ClmProcedureCode_2'].apply(lambda val: str(val).split(\".\")[0] if val == val else np.NaN)\n",
    "test_op_df['ClmProcedureCode_3'] = test_op_df['ClmProcedureCode_3'].apply(lambda val: str(val).split(\".\")[0] if val == val else np.NaN)"
   ]
  },
  {
   "cell_type": "markdown",
   "metadata": {
    "id": "UzS9VJNVXA42"
   },
   "source": [
    "### **Adding `New Feature - 1` :: `Admitted` or `Not Admitted` indicator in IP and OP Dataset**"
   ]
  },
  {
   "cell_type": "markdown",
   "metadata": {
    "id": "OGXrtbB5XA42"
   },
   "source": [
    "* **Adding in IP Dataset**"
   ]
  },
  {
   "cell_type": "code",
   "execution_count": null,
   "metadata": {
    "id": "GCN00sfgXA43",
    "trusted": true
   },
   "outputs": [],
   "source": [
    "train_ip_df[\"Admitted?\"] = 1"
   ]
  },
  {
   "cell_type": "code",
   "execution_count": null,
   "metadata": {
    "id": "pm7heKPDq0ZA",
    "trusted": true
   },
   "outputs": [],
   "source": [
    "test_ip_df[\"Admitted?\"] = 1"
   ]
  },
  {
   "cell_type": "code",
   "execution_count": null,
   "metadata": {
    "id": "DpaO8jvSXA44",
    "outputId": "c50a5fe7-932e-4819-c463-23b704e920cd",
    "trusted": true
   },
   "outputs": [],
   "source": [
    "train_ip_df.head()"
   ]
  },
  {
   "cell_type": "code",
   "execution_count": null,
   "metadata": {
    "id": "lNzCaIo2q0ZB",
    "outputId": "9be49b9f-0a31-4313-b744-53385fae4cfd",
    "trusted": true
   },
   "outputs": [],
   "source": [
    "test_ip_df.head()"
   ]
  },
  {
   "cell_type": "markdown",
   "metadata": {
    "id": "2e5BlaofXA44"
   },
   "source": [
    "* **Adding in OP Dataset**"
   ]
  },
  {
   "cell_type": "code",
   "execution_count": null,
   "metadata": {
    "id": "8NEnLcMpXA45",
    "trusted": true
   },
   "outputs": [],
   "source": [
    "train_op_df[\"Admitted?\"] = 0"
   ]
  },
  {
   "cell_type": "code",
   "execution_count": null,
   "metadata": {
    "id": "Mp0LzX-Jq0ZD",
    "trusted": true
   },
   "outputs": [],
   "source": [
    "test_op_df[\"Admitted?\"] = 0"
   ]
  },
  {
   "cell_type": "code",
   "execution_count": null,
   "metadata": {
    "id": "SOp2rpixXA45",
    "outputId": "4b2fba6f-995a-4734-a5ee-d41a8867eec1",
    "trusted": true
   },
   "outputs": [],
   "source": [
    "train_op_df.head()"
   ]
  },
  {
   "cell_type": "code",
   "execution_count": null,
   "metadata": {
    "id": "EH1U2LQhq0ZE",
    "outputId": "4b2fba6f-995a-4734-a5ee-d41a8867eec1",
    "trusted": true
   },
   "outputs": [],
   "source": [
    "test_op_df.head()"
   ]
  },
  {
   "cell_type": "markdown",
   "metadata": {
    "id": "yS_zDW4FXA46"
   },
   "source": [
    "### **Merging the Datasets**"
   ]
  },
  {
   "cell_type": "code",
   "execution_count": null,
   "metadata": {
    "id": "63LhjzN_XA47",
    "outputId": "f4648f98-7820-42a7-84bd-e26e2f8b0ddf",
    "trusted": true
   },
   "outputs": [],
   "source": [
    "# Commom columns must be 28\n",
    "common_cols_tr = [col for col in train_ip_df.columns if col in train_op_df.columns]\n",
    "len(common_cols_tr)"
   ]
  },
  {
   "cell_type": "code",
   "execution_count": null,
   "metadata": {
    "id": "5IQZ3WuEXA47",
    "outputId": "6a80f17b-6838-45d2-eef5-486b26aac789",
    "trusted": true
   },
   "outputs": [],
   "source": [
    "# Merging the IP and OP dataset on the basis of common columns\n",
    "train_ip_op_df = pd.merge(left=train_ip_df, right=train_op_df, left_on=common_cols_tr, right_on=common_cols_tr, how=\"outer\")\n",
    "train_ip_op_df.shape"
   ]
  },
  {
   "cell_type": "code",
   "execution_count": null,
   "metadata": {
    "id": "KMXk_k5tq0ZF",
    "outputId": "6a80f17b-6838-45d2-eef5-486b26aac789",
    "trusted": true
   },
   "outputs": [],
   "source": [
    "# Merging the IP and OP dataset on the basis of common columns\n",
    "test_ip_op_df = pd.merge(left=test_ip_df, right=test_op_df, left_on=common_cols_tr, right_on=common_cols_tr, how=\"outer\")\n",
    "test_ip_op_df.shape"
   ]
  },
  {
   "cell_type": "code",
   "execution_count": null,
   "metadata": {
    "id": "IxbtI7weXA48",
    "outputId": "019ac386-863e-42b6-ce5e-a32096b998c3",
    "trusted": true
   },
   "outputs": [],
   "source": [
    "train_ip_op_df.head()"
   ]
  },
  {
   "cell_type": "code",
   "execution_count": null,
   "metadata": {
    "id": "ZhEWvKgAq0ZG",
    "outputId": "019ac386-863e-42b6-ce5e-a32096b998c3",
    "trusted": true
   },
   "outputs": [],
   "source": [
    "test_ip_op_df.head()"
   ]
  },
  {
   "cell_type": "markdown",
   "metadata": {
    "id": "C-2lOdqSXA48"
   },
   "source": [
    "### **Merging the IP_OP Dataset with BENE Data**"
   ]
  },
  {
   "cell_type": "code",
   "execution_count": null,
   "metadata": {
    "id": "o684n3aOXA49",
    "outputId": "34c12ac7-5194-4e8f-bf05-2ab5f5bd3a09",
    "trusted": true
   },
   "outputs": [],
   "source": [
    "# Joining the IP_OP dataset with the BENE data\n",
    "train_ip_op_bene_df = pd.merge(left=train_ip_op_df, right=train_bene_df, left_on='BeneID', right_on='BeneID',how='inner')\n",
    "train_ip_op_bene_df.shape"
   ]
  },
  {
   "cell_type": "code",
   "execution_count": null,
   "metadata": {
    "id": "k5-k_EGmq0ZI",
    "outputId": "34c12ac7-5194-4e8f-bf05-2ab5f5bd3a09",
    "trusted": true
   },
   "outputs": [],
   "source": [
    "# Joining the IP_OP dataset with the BENE data\n",
    "test_ip_op_bene_df = pd.merge(left=test_ip_op_df, right=test_bene_df, left_on='BeneID', right_on='BeneID',how='inner')\n",
    "test_ip_op_bene_df.shape"
   ]
  },
  {
   "cell_type": "markdown",
   "metadata": {
    "id": "GDGBH08qXA49"
   },
   "source": [
    "### **Merging the IP_OP_BENE Dataset with PROVIDER level Tgt Labels Data**"
   ]
  },
  {
   "cell_type": "code",
   "execution_count": null,
   "metadata": {
    "id": "VRaogF81XA4-",
    "outputId": "f0e47a5f-0053-496f-8f14-51d2c8332737",
    "trusted": true
   },
   "outputs": [],
   "source": [
    "# Joining the IP_OP_BENE dataset with the Tgt Label Provider Data\n",
    "train_iobp_df = pd.merge(left=train_ip_op_bene_df, right=train_tgt_lbls_df, left_on='Provider', right_on='Provider',how='inner')\n",
    "train_iobp_df.shape"
   ]
  },
  {
   "cell_type": "code",
   "execution_count": null,
   "metadata": {
    "id": "fyQ0O5W-q0ZJ",
    "outputId": "f0e47a5f-0053-496f-8f14-51d2c8332737",
    "trusted": true
   },
   "outputs": [],
   "source": [
    "# Joining the IP_OP_BENE dataset with the Tgt Label Provider Data\n",
    "test_iobp_df = pd.merge(left=test_ip_op_bene_df, right=test_tgt_lbls_df, left_on='Provider', right_on='Provider',how='inner')\n",
    "test_iobp_df.shape"
   ]
  },
  {
   "cell_type": "markdown",
   "metadata": {
    "id": "UIcqllzRXA4-"
   },
   "source": [
    "### **Entire Dataset**"
   ]
  },
  {
   "cell_type": "code",
   "execution_count": null,
   "metadata": {
    "id": "IvC4ZEKSXA4_",
    "outputId": "93268fcd-d874-4211-a8df-96b215161551",
    "trusted": true
   },
   "outputs": [],
   "source": [
    "train_iobp_df.shape"
   ]
  },
  {
   "cell_type": "code",
   "execution_count": null,
   "metadata": {
    "id": "4F_iaLX-q0ZL",
    "outputId": "93268fcd-d874-4211-a8df-96b215161551",
    "trusted": true
   },
   "outputs": [],
   "source": [
    "test_iobp_df.shape"
   ]
  },
  {
   "cell_type": "code",
   "execution_count": null,
   "metadata": {
    "id": "DKh9PYl3XA4_",
    "outputId": "768c4657-e3d7-48fe-bb2a-c8b23402b530",
    "trusted": true
   },
   "outputs": [],
   "source": [
    "# Unique Providers\n",
    "train_iobp_df[\"Provider\"].nunique()"
   ]
  },
  {
   "cell_type": "code",
   "execution_count": null,
   "metadata": {
    "id": "NiRqfZHHq0ZM",
    "outputId": "768c4657-e3d7-48fe-bb2a-c8b23402b530",
    "trusted": true
   },
   "outputs": [],
   "source": [
    "# Unique Providers\n",
    "test_iobp_df[\"Provider\"].nunique()"
   ]
  },
  {
   "cell_type": "code",
   "execution_count": null,
   "metadata": {
    "id": "h2TD1eaAXA5A",
    "outputId": "f78159b9-57e7-402b-9fec-17d8539ecc6b",
    "trusted": true
   },
   "outputs": [],
   "source": [
    "# Unique Claim numbers\n",
    "train_iobp_df[\"ClaimID\"].nunique()"
   ]
  },
  {
   "cell_type": "code",
   "execution_count": null,
   "metadata": {
    "id": "GHtj1L9gq0ZN",
    "outputId": "f78159b9-57e7-402b-9fec-17d8539ecc6b",
    "trusted": true
   },
   "outputs": [],
   "source": [
    "# Unique Claim numbers\n",
    "test_iobp_df[\"ClaimID\"].nunique()"
   ]
  },
  {
   "cell_type": "code",
   "execution_count": null,
   "metadata": {
    "id": "o3QIXIQAXA5B",
    "outputId": "5b69f76d-d97c-4080-97de-ee9baf0a0a92",
    "trusted": true
   },
   "outputs": [],
   "source": [
    "# Joining with the PRV Tgt Labels\n",
    "prvs_claims_df = pd.DataFrame(train_iobp_df.groupby(['Provider'])['ClaimID'].count()).reset_index()\n",
    "prvs_claims_tgt_lbls_df = pd.merge(left=prvs_claims_df, right=train_tgt_lbls_df, on='Provider', how='inner')\n",
    "prvs_claims_tgt_lbls_df"
   ]
  },
  {
   "cell_type": "code",
   "execution_count": null,
   "metadata": {
    "id": "6nZguC_zq0ZO",
    "outputId": "5b69f76d-d97c-4080-97de-ee9baf0a0a92",
    "trusted": true
   },
   "outputs": [],
   "source": [
    "# Joining with the PRV Tgt Labels\n",
    "prvs_claims_df = pd.DataFrame(test_iobp_df.groupby(['Provider'])['ClaimID'].count()).reset_index()\n",
    "prvs_claims_tgt_lbls_df = pd.merge(left=prvs_claims_df, right=test_tgt_lbls_df, on='Provider', how='inner')\n",
    "prvs_claims_tgt_lbls_df"
   ]
  },
  {
   "cell_type": "markdown",
   "metadata": {
    "id": "t8PlIGrXXA5I"
   },
   "source": [
    "- **Fraud Count at Claims level**"
   ]
  },
  {
   "cell_type": "code",
   "execution_count": null,
   "metadata": {
    "id": "oujYVt62XA5I",
    "outputId": "f6747c86-32b5-4e64-e3b7-101b55e397f8",
    "trusted": true
   },
   "outputs": [],
   "source": [
    "print(pd.DataFrame(train_iobp_df['PotentialFraud'].value_counts()), \"\\n\")\n",
    "\n",
    "with plt.style.context('seaborn-poster'):\n",
    "    fig = train_iobp_df['PotentialFraud'].value_counts().plot(kind='bar', color=['green','orange'])\n",
    "    # Using the \"patches\" function we will get the location of the rectangle bars from the graph.\n",
    "    ## Then by using those location(width & height) values we will add the annotations\n",
    "    for p in fig.patches:\n",
    "        width = p.get_width()\n",
    "        height = p.get_height()\n",
    "        x, y = p.get_xy()\n",
    "        fig.annotate(f'{str(round((height*100)/train_iobp_df.shape[0],2))+\"%\"}', (x + width/2, y + height*1.015), ha='center', fontsize=13.5)\n",
    "    # Providing the labels and title to the graph\n",
    "    plt.xlabel(\"Fraud or Not?\", fontdict=label_font_dict)\n",
    "    plt.ylabel(\"Number (or %) of claims\\n\", fontdict=label_font_dict)\n",
    "    plt.grid(which='major', linestyle=\"--\", color='lightgrey')\n",
    "    plt.minorticks_on()\n",
    "    plt.title(\"Distribution of Fraud & Non-fraud claims\\n\", fontdict=title_font_dict)\n",
    "    plt.plot();"
   ]
  },
  {
   "cell_type": "markdown",
   "metadata": {
    "id": "0w7xDfJYXA5J"
   },
   "source": [
    "**`OBSERVATION`**\n",
    "* The above plot shows us that, 62% of claims are Non-Fraud and 32% of them are Fraudulent. \n",
    "    * By looking at the percentages we may say that there is a class-imbalance problem but after looking at the number of records it doesn't seem to be a severe class-imbalance problem. \n",
    "        * So, I'll try some class balancing techniques only after training a baseline model w/o any synthetic or class weighting techniques."
   ]
  },
  {
   "cell_type": "markdown",
   "metadata": {
    "id": "L2yQqQATq0ZQ"
   },
   "source": [
    "# **`VECTOR Embeddings`**\n",
    "\n",
    "- Generating the vector embeddings of ::\n",
    "    - `CLAIM Admit Diagnosis Codes`\n",
    "    - `Diagnosis Codes`\n",
    "    - `Procedure Codes`\n",
    "\n",
    "\n",
    "- For now, I'm not including the `Dx Related Group Code` for generating the similarity score b/w these features."
   ]
  },
  {
   "cell_type": "code",
   "execution_count": null,
   "metadata": {
    "id": "YEu_Ixreq0ZR",
    "trusted": true
   },
   "outputs": [],
   "source": [
    "import pickle \n",
    "\n",
    "# Loading the embeddings of CAD, DIAG and PROC codes\n",
    "## Sentence embeddings are generated from the pre-trained Bio-BERT on PubMed and PMC datasets\n",
    "### Dx and Proc Codes are downloaded from ICD-9 portal Effective from 2014\n",
    "#### Refer Notebook --> CS_1_Codes_Desc_Embeddings.ipynb\n",
    "with open('../input/medicare-prv-fraud-files/cad_diag_codes_embeddings.pkl', 'rb') as f:\n",
    "    loaded_cad_dict = pickle.load(f)\n",
    "\n",
    "with open('../input/medicare-prv-fraud-files/proc_codes_embeddings.pkl', 'rb') as f:\n",
    "    loaded_proc_dict = pickle.load(f)"
   ]
  },
  {
   "cell_type": "code",
   "execution_count": null,
   "metadata": {
    "id": "GZaKvLjfq0ZT",
    "trusted": true
   },
   "outputs": [],
   "source": [
    "zeros_vec = np.zeros(shape=(1,768),dtype='float')"
   ]
  },
  {
   "cell_type": "code",
   "execution_count": null,
   "metadata": {
    "id": "5YHn-okZq0ZU",
    "trusted": true
   },
   "outputs": [],
   "source": [
    "# Fetching the embeddings of every CAD and Dx CODE\n",
    "train_iobp_df['Clm_Admit_Dx_embeddings'] = train_iobp_df['ClmAdmitDiagnosisCode'].apply(lambda code: loaded_cad_dict.get(code,zeros_vec[0]))\n",
    "train_iobp_df['Clm_Dx_1_embeddings'] = train_iobp_df['ClmDiagnosisCode_1'].apply(lambda code: loaded_cad_dict.get(code,zeros_vec[0]))\n",
    "train_iobp_df['Clm_Dx_2_embeddings'] = train_iobp_df['ClmDiagnosisCode_2'].apply(lambda code: loaded_cad_dict.get(code,zeros_vec[0]))\n",
    "train_iobp_df['Clm_Dx_3_embeddings'] = train_iobp_df['ClmDiagnosisCode_3'].apply(lambda code: loaded_cad_dict.get(code,zeros_vec[0]))\n",
    "train_iobp_df['Clm_Dx_4_embeddings'] = train_iobp_df['ClmDiagnosisCode_4'].apply(lambda code: loaded_cad_dict.get(code,zeros_vec[0]))\n",
    "train_iobp_df['Clm_Dx_5_embeddings'] = train_iobp_df['ClmDiagnosisCode_5'].apply(lambda code: loaded_cad_dict.get(code,zeros_vec[0]))\n",
    "train_iobp_df['Clm_Dx_6_embeddings'] = train_iobp_df['ClmDiagnosisCode_6'].apply(lambda code: loaded_cad_dict.get(code,zeros_vec[0]))\n",
    "train_iobp_df['Clm_Dx_7_embeddings'] = train_iobp_df['ClmDiagnosisCode_7'].apply(lambda code: loaded_cad_dict.get(code,zeros_vec[0]))\n",
    "train_iobp_df['Clm_Dx_8_embeddings'] = train_iobp_df['ClmDiagnosisCode_8'].apply(lambda code: loaded_cad_dict.get(code,zeros_vec[0]))\n",
    "train_iobp_df['Clm_Dx_9_embeddings'] = train_iobp_df['ClmDiagnosisCode_9'].apply(lambda code: loaded_cad_dict.get(code,zeros_vec[0]))\n",
    "train_iobp_df['Clm_Dx_10_embeddings'] = train_iobp_df['ClmDiagnosisCode_10'].apply(lambda code: loaded_cad_dict.get(code,zeros_vec[0]))"
   ]
  },
  {
   "cell_type": "code",
   "execution_count": null,
   "metadata": {
    "id": "WUiSHxfPq0ZV",
    "trusted": true
   },
   "outputs": [],
   "source": [
    "# Fetching the embeddings of every CAD and Dx CODE\n",
    "test_iobp_df['Clm_Admit_Dx_embeddings'] = test_iobp_df['ClmAdmitDiagnosisCode'].apply(lambda code: loaded_cad_dict.get(code,zeros_vec[0]))\n",
    "test_iobp_df['Clm_Dx_1_embeddings'] = test_iobp_df['ClmDiagnosisCode_1'].apply(lambda code: loaded_cad_dict.get(code,zeros_vec[0]))\n",
    "test_iobp_df['Clm_Dx_2_embeddings'] = test_iobp_df['ClmDiagnosisCode_2'].apply(lambda code: loaded_cad_dict.get(code,zeros_vec[0]))\n",
    "test_iobp_df['Clm_Dx_3_embeddings'] = test_iobp_df['ClmDiagnosisCode_3'].apply(lambda code: loaded_cad_dict.get(code,zeros_vec[0]))\n",
    "test_iobp_df['Clm_Dx_4_embeddings'] = test_iobp_df['ClmDiagnosisCode_4'].apply(lambda code: loaded_cad_dict.get(code,zeros_vec[0]))\n",
    "test_iobp_df['Clm_Dx_5_embeddings'] = test_iobp_df['ClmDiagnosisCode_5'].apply(lambda code: loaded_cad_dict.get(code,zeros_vec[0]))\n",
    "test_iobp_df['Clm_Dx_6_embeddings'] = test_iobp_df['ClmDiagnosisCode_6'].apply(lambda code: loaded_cad_dict.get(code,zeros_vec[0]))\n",
    "test_iobp_df['Clm_Dx_7_embeddings'] = test_iobp_df['ClmDiagnosisCode_7'].apply(lambda code: loaded_cad_dict.get(code,zeros_vec[0]))\n",
    "test_iobp_df['Clm_Dx_8_embeddings'] = test_iobp_df['ClmDiagnosisCode_8'].apply(lambda code: loaded_cad_dict.get(code,zeros_vec[0]))\n",
    "test_iobp_df['Clm_Dx_9_embeddings'] = test_iobp_df['ClmDiagnosisCode_9'].apply(lambda code: loaded_cad_dict.get(code,zeros_vec[0]))\n",
    "test_iobp_df['Clm_Dx_10_embeddings'] = test_iobp_df['ClmDiagnosisCode_10'].apply(lambda code: loaded_cad_dict.get(code,zeros_vec[0]))"
   ]
  },
  {
   "cell_type": "code",
   "execution_count": null,
   "metadata": {
    "id": "mcoKyDtfq0ZV",
    "trusted": true
   },
   "outputs": [],
   "source": [
    "# Adding the embeddings of all the Dx Codes for every claim\n",
    "train_iobp_df['Clm_All_Dx_embeddings'] = train_iobp_df[['Clm_Dx_1_embeddings','Clm_Dx_2_embeddings','Clm_Dx_3_embeddings','Clm_Dx_4_embeddings','Clm_Dx_5_embeddings','Clm_Dx_6_embeddings','Clm_Dx_7_embeddings','Clm_Dx_8_embeddings','Clm_Dx_9_embeddings','Clm_Dx_10_embeddings']]\\\n",
    ".apply(lambda row : row['Clm_Dx_1_embeddings'] + row['Clm_Dx_2_embeddings'] + row['Clm_Dx_3_embeddings'] + row['Clm_Dx_4_embeddings'] + row['Clm_Dx_5_embeddings'] + row['Clm_Dx_6_embeddings'] + row['Clm_Dx_7_embeddings'] + row['Clm_Dx_8_embeddings'] + row['Clm_Dx_9_embeddings'] + row['Clm_Dx_10_embeddings'], axis=1)"
   ]
  },
  {
   "cell_type": "code",
   "execution_count": null,
   "metadata": {
    "id": "QqVMgD60q0ZW",
    "outputId": "ddf71820-ca81-4d34-cdfe-da326f108b61",
    "trusted": true
   },
   "outputs": [],
   "source": [
    "# Final embeddings of all the Dx Codes for every claim\n",
    "train_iobp_df['Clm_All_Dx_embeddings']"
   ]
  },
  {
   "cell_type": "code",
   "execution_count": null,
   "metadata": {
    "id": "ozb0iMD1q0ZW",
    "trusted": true
   },
   "outputs": [],
   "source": [
    "# Adding the embeddings of all the Dx Codes for every claim\n",
    "test_iobp_df['Clm_All_Dx_embeddings'] = test_iobp_df[['Clm_Dx_1_embeddings','Clm_Dx_2_embeddings','Clm_Dx_3_embeddings','Clm_Dx_4_embeddings','Clm_Dx_5_embeddings','Clm_Dx_6_embeddings','Clm_Dx_7_embeddings','Clm_Dx_8_embeddings','Clm_Dx_9_embeddings','Clm_Dx_10_embeddings']]\\\n",
    ".apply(lambda row : row['Clm_Dx_1_embeddings'] + row['Clm_Dx_2_embeddings'] + row['Clm_Dx_3_embeddings'] + row['Clm_Dx_4_embeddings'] + row['Clm_Dx_5_embeddings'] + row['Clm_Dx_6_embeddings'] + row['Clm_Dx_7_embeddings'] + row['Clm_Dx_8_embeddings'] + row['Clm_Dx_9_embeddings'] + row['Clm_Dx_10_embeddings'], axis=1)"
   ]
  },
  {
   "cell_type": "code",
   "execution_count": null,
   "metadata": {
    "id": "a4E82IRtq0ZX",
    "outputId": "dd6a7545-df36-4f09-e3f0-b5d58700829d",
    "trusted": true
   },
   "outputs": [],
   "source": [
    "# Final embeddings of all the Dx Codes for every claim\n",
    "test_iobp_df['Clm_All_Dx_embeddings']"
   ]
  },
  {
   "cell_type": "code",
   "execution_count": null,
   "metadata": {
    "id": "0-W8CnnKq0ZX",
    "trusted": true
   },
   "outputs": [],
   "source": [
    "# Fetching the embeddings of every PROC Code\n",
    "train_iobp_df['Clm_PROC_1_embeddings'] = train_iobp_df['ClmProcedureCode_1'].apply(lambda code: loaded_proc_dict.get(code,zeros_vec[0]))\n",
    "train_iobp_df['Clm_PROC_2_embeddings'] = train_iobp_df['ClmProcedureCode_2'].apply(lambda code: loaded_proc_dict.get(code,zeros_vec[0]))\n",
    "train_iobp_df['Clm_PROC_3_embeddings'] = train_iobp_df['ClmProcedureCode_3'].apply(lambda code: loaded_proc_dict.get(code,zeros_vec[0]))"
   ]
  },
  {
   "cell_type": "code",
   "execution_count": null,
   "metadata": {
    "id": "srH1MN1Dq0ZY",
    "trusted": true
   },
   "outputs": [],
   "source": [
    "# Fetching the embeddings of every PROC Code\n",
    "test_iobp_df['Clm_PROC_1_embeddings'] = test_iobp_df['ClmProcedureCode_1'].apply(lambda code: loaded_proc_dict.get(code,zeros_vec[0]))\n",
    "test_iobp_df['Clm_PROC_2_embeddings'] = test_iobp_df['ClmProcedureCode_2'].apply(lambda code: loaded_proc_dict.get(code,zeros_vec[0]))\n",
    "test_iobp_df['Clm_PROC_3_embeddings'] = test_iobp_df['ClmProcedureCode_3'].apply(lambda code: loaded_proc_dict.get(code,zeros_vec[0]))"
   ]
  },
  {
   "cell_type": "code",
   "execution_count": null,
   "metadata": {
    "id": "R94FSCnPq0ZY",
    "trusted": true
   },
   "outputs": [],
   "source": [
    "# Adding the embeddings of all the PROC Codes for every claim\n",
    "train_iobp_df['Clm_All_PROC_embeddings'] = train_iobp_df[['Clm_PROC_1_embeddings','Clm_PROC_2_embeddings','Clm_PROC_3_embeddings']]\\\n",
    ".apply(lambda row : row['Clm_PROC_1_embeddings'] + row['Clm_PROC_2_embeddings'] + row['Clm_PROC_3_embeddings'], axis=1)"
   ]
  },
  {
   "cell_type": "code",
   "execution_count": null,
   "metadata": {
    "id": "6j_OyZuhq0ZZ",
    "outputId": "f3496534-055f-42c4-e7dc-1ca7ac46e8fe",
    "trusted": true
   },
   "outputs": [],
   "source": [
    "# Final embeddings of all the PROC Codes for every claim\n",
    "train_iobp_df['Clm_All_PROC_embeddings']"
   ]
  },
  {
   "cell_type": "code",
   "execution_count": null,
   "metadata": {
    "id": "ZQ-qVtyhq0ZZ",
    "trusted": true
   },
   "outputs": [],
   "source": [
    "# Adding the embeddings of all the PROC Codes for every claim\n",
    "test_iobp_df['Clm_All_PROC_embeddings'] = test_iobp_df[['Clm_PROC_1_embeddings','Clm_PROC_2_embeddings','Clm_PROC_3_embeddings']]\\\n",
    ".apply(lambda row : row['Clm_PROC_1_embeddings'] + row['Clm_PROC_2_embeddings'] + row['Clm_PROC_3_embeddings'], axis=1)"
   ]
  },
  {
   "cell_type": "code",
   "execution_count": null,
   "metadata": {
    "id": "_N7tAtonq0Za",
    "outputId": "08997540-1d56-423a-b5a8-2dcdfedcfadb",
    "trusted": true
   },
   "outputs": [],
   "source": [
    "# Final embeddings of all the PROC Codes for every claim\n",
    "test_iobp_df['Clm_All_PROC_embeddings']"
   ]
  },
  {
   "cell_type": "code",
   "execution_count": null,
   "metadata": {
    "id": "4YuKBvRbq0Za",
    "trusted": true
   },
   "outputs": [],
   "source": [
    "from scipy.spatial import distance"
   ]
  },
  {
   "cell_type": "code",
   "execution_count": null,
   "metadata": {
    "id": "0epVIj-gq0Zb",
    "outputId": "1b406f71-cdc4-422b-b8d1-37501cf642c5",
    "trusted": true
   },
   "outputs": [],
   "source": [
    "# Generating the similarity scores features\n",
    "## Similarity b/w CAD and Dx Codes\n",
    "## Similarity b/w CAD and Proc Codes\n",
    "## Similarity b/w Dx and Proc Codes\n",
    "train_iobp_df['Clm_Admit_Diag_Dx_Similarity'] = train_iobp_df[['Clm_Admit_Dx_embeddings','Clm_All_Dx_embeddings']].apply(lambda row: 1 - distance.cosine(row['Clm_Admit_Dx_embeddings'], row['Clm_All_Dx_embeddings']), axis=1)\n",
    "train_iobp_df['Clm_Admit_Diag_Proc_Similarity'] = train_iobp_df[['Clm_Admit_Dx_embeddings','Clm_All_PROC_embeddings']].apply(lambda row: 1 - distance.cosine(row['Clm_Admit_Dx_embeddings'], row['Clm_All_PROC_embeddings']), axis=1)\n",
    "train_iobp_df['Clm_Dx_Proc_Similarity'] = train_iobp_df[['Clm_All_Dx_embeddings','Clm_All_PROC_embeddings']].apply(lambda row: 1 - distance.cosine(row['Clm_All_Dx_embeddings'], row['Clm_All_PROC_embeddings']), axis=1)"
   ]
  },
  {
   "cell_type": "code",
   "execution_count": null,
   "metadata": {
    "id": "tUdTNkEnq0Zb",
    "trusted": true
   },
   "outputs": [],
   "source": [
    "train_iobp_df['Clm_Admit_Diag_Dx_Similarity'].fillna(value=0,inplace=True)\n",
    "train_iobp_df['Clm_Admit_Diag_Proc_Similarity'].fillna(value=0,inplace=True)\n",
    "train_iobp_df['Clm_Dx_Proc_Similarity'].fillna(value=0,inplace=True)"
   ]
  },
  {
   "cell_type": "code",
   "execution_count": null,
   "metadata": {
    "id": "B7eZX4v_q0Zb",
    "trusted": true
   },
   "outputs": [],
   "source": [
    "train_iobp_df['Clm_CAD_Dx_Proc_Similarity'] = train_iobp_df['Clm_Admit_Diag_Dx_Similarity'] + train_iobp_df['Clm_Admit_Diag_Proc_Similarity'] + train_iobp_df['Clm_Dx_Proc_Similarity']"
   ]
  },
  {
   "cell_type": "code",
   "execution_count": null,
   "metadata": {
    "id": "M6uB2joQq0Zc",
    "trusted": true
   },
   "outputs": [],
   "source": [
    "# Generating the similarity scores features\n",
    "## Similarity b/w CAD and Dx Codes\n",
    "## Similarity b/w CAD and Proc Codes\n",
    "## Similarity b/w Dx and Proc Codes\n",
    "test_iobp_df['Clm_Admit_Diag_Dx_Similarity'] = test_iobp_df[['Clm_Admit_Dx_embeddings','Clm_All_Dx_embeddings']].apply(lambda row: 1 - distance.cosine(row['Clm_Admit_Dx_embeddings'], row['Clm_All_Dx_embeddings']), axis=1)\n",
    "test_iobp_df['Clm_Admit_Diag_Proc_Similarity'] = test_iobp_df[['Clm_Admit_Dx_embeddings','Clm_All_PROC_embeddings']].apply(lambda row: 1 - distance.cosine(row['Clm_Admit_Dx_embeddings'], row['Clm_All_PROC_embeddings']), axis=1)\n",
    "test_iobp_df['Clm_Dx_Proc_Similarity'] = test_iobp_df[['Clm_All_Dx_embeddings','Clm_All_PROC_embeddings']].apply(lambda row: 1 - distance.cosine(row['Clm_All_Dx_embeddings'], row['Clm_All_PROC_embeddings']), axis=1)"
   ]
  },
  {
   "cell_type": "code",
   "execution_count": null,
   "metadata": {
    "id": "GTHY6nH9q0Zc",
    "trusted": true
   },
   "outputs": [],
   "source": [
    "test_iobp_df['Clm_Admit_Diag_Dx_Similarity'].fillna(value=0,inplace=True)\n",
    "test_iobp_df['Clm_Admit_Diag_Proc_Similarity'].fillna(value=0,inplace=True)\n",
    "test_iobp_df['Clm_Dx_Proc_Similarity'].fillna(value=0,inplace=True)"
   ]
  },
  {
   "cell_type": "code",
   "execution_count": null,
   "metadata": {
    "id": "FowqzSZeq0Zc",
    "trusted": true
   },
   "outputs": [],
   "source": [
    "test_iobp_df['Clm_CAD_Dx_Proc_Similarity'] = test_iobp_df['Clm_Admit_Diag_Dx_Similarity'] + test_iobp_df['Clm_Admit_Diag_Proc_Similarity'] + test_iobp_df['Clm_Dx_Proc_Similarity']"
   ]
  },
  {
   "cell_type": "code",
   "execution_count": null,
   "metadata": {
    "id": "ekDYMPv8q0Zd",
    "trusted": true
   },
   "outputs": [],
   "source": [
    "# Dropping the individual CAD, Dx and PROC embeddings features\n",
    "train_iobp_df.drop(['Clm_Admit_Dx_embeddings',\n",
    "'Clm_Dx_1_embeddings',\n",
    "'Clm_Dx_2_embeddings',\n",
    "'Clm_Dx_3_embeddings',\n",
    "'Clm_Dx_4_embeddings',\n",
    "'Clm_Dx_5_embeddings',\n",
    "'Clm_Dx_6_embeddings',\n",
    "'Clm_Dx_7_embeddings',\n",
    "'Clm_Dx_8_embeddings',\n",
    "'Clm_Dx_9_embeddings',\n",
    "'Clm_Dx_10_embeddings',\n",
    "'Clm_PROC_1_embeddings',\n",
    "'Clm_PROC_2_embeddings',\n",
    "'Clm_PROC_3_embeddings'],axis=1,inplace=True)\n",
    "\n",
    "test_iobp_df.drop(['Clm_Admit_Dx_embeddings',\n",
    "'Clm_Dx_1_embeddings',\n",
    "'Clm_Dx_2_embeddings',\n",
    "'Clm_Dx_3_embeddings',\n",
    "'Clm_Dx_4_embeddings',\n",
    "'Clm_Dx_5_embeddings',\n",
    "'Clm_Dx_6_embeddings',\n",
    "'Clm_Dx_7_embeddings',\n",
    "'Clm_Dx_8_embeddings',\n",
    "'Clm_Dx_9_embeddings',\n",
    "'Clm_Dx_10_embeddings',\n",
    "'Clm_PROC_1_embeddings',\n",
    "'Clm_PROC_2_embeddings',\n",
    "'Clm_PROC_3_embeddings'],axis=1,inplace=True)"
   ]
  },
  {
   "cell_type": "markdown",
   "metadata": {
    "id": "dO5kzZxUYxEd"
   },
   "source": [
    "## **Feature Engineering**\n",
    "**`Let's create some features`**"
   ]
  },
  {
   "cell_type": "markdown",
   "metadata": {
    "id": "Q8NGb3byXA5L"
   },
   "source": [
    "### **Adding `New Feature - 2` :: `Is_Alive?`**\n",
    "\n",
    "    - Is Alive? = No if DOD is NaN else Yes"
   ]
  },
  {
   "cell_type": "code",
   "execution_count": null,
   "metadata": {
    "id": "FTXUUC80XA5L",
    "trusted": true
   },
   "outputs": [],
   "source": [
    "train_iobp_df['DOB'] = pd.to_datetime(train_iobp_df['DOB'], format=\"%Y-%m-%d\")\n",
    "train_iobp_df['DOD'] = pd.to_datetime(train_iobp_df['DOD'], format=\"%Y-%m-%d\")"
   ]
  },
  {
   "cell_type": "code",
   "execution_count": null,
   "metadata": {
    "id": "GDllezcGq0Ze",
    "trusted": true
   },
   "outputs": [],
   "source": [
    "test_iobp_df['DOB'] = pd.to_datetime(test_iobp_df['DOB'], format=\"%Y-%m-%d\")\n",
    "test_iobp_df['DOD'] = pd.to_datetime(test_iobp_df['DOD'], format=\"%Y-%m-%d\")"
   ]
  },
  {
   "cell_type": "code",
   "execution_count": null,
   "metadata": {
    "id": "ud_XF0OVXA5M",
    "trusted": true
   },
   "outputs": [],
   "source": [
    "train_iobp_df['Is_Alive?'] = train_iobp_df['DOD'].apply(lambda val: 'No' if val != val else 'Yes')"
   ]
  },
  {
   "cell_type": "code",
   "execution_count": null,
   "metadata": {
    "id": "GoP8XPj7q0Zf",
    "trusted": true
   },
   "outputs": [],
   "source": [
    "test_iobp_df['Is_Alive?'] = test_iobp_df['DOD'].apply(lambda val: 'No' if val != val else 'Yes')"
   ]
  },
  {
   "cell_type": "code",
   "execution_count": null,
   "metadata": {
    "id": "UnrfO0QXXA5M",
    "outputId": "e7a20c07-cbb4-42c1-fe9d-6076a98dcf98",
    "trusted": true
   },
   "outputs": [],
   "source": [
    "train_iobp_df['Is_Alive?'].value_counts()"
   ]
  },
  {
   "cell_type": "code",
   "execution_count": null,
   "metadata": {
    "id": "b1EVKe9Lq0Zg",
    "outputId": "e7a20c07-cbb4-42c1-fe9d-6076a98dcf98",
    "trusted": true
   },
   "outputs": [],
   "source": [
    "test_iobp_df['Is_Alive?'].value_counts()"
   ]
  },
  {
   "cell_type": "markdown",
   "metadata": {
    "id": "3Jx9IsC2XA5J"
   },
   "source": [
    "### **Adding `New Feature - 3` :: `Claim_Duration`**\n",
    "    \n",
    "    - Claim Duration = Claim End Date - Claim Start Date"
   ]
  },
  {
   "cell_type": "code",
   "execution_count": null,
   "metadata": {
    "id": "WwA5YY7uXA5K",
    "trusted": true
   },
   "outputs": [],
   "source": [
    "train_iobp_df['ClaimStartDt'] = pd.to_datetime(train_iobp_df['ClaimStartDt'], format=\"%Y-%m-%d\")\n",
    "train_iobp_df['ClaimEndDt'] = pd.to_datetime(train_iobp_df['ClaimEndDt'], format=\"%Y-%m-%d\")\n",
    "\n",
    "train_iobp_df['Claim_Duration'] = (train_iobp_df['ClaimEndDt'] - train_iobp_df['ClaimStartDt']).dt.days"
   ]
  },
  {
   "cell_type": "code",
   "execution_count": null,
   "metadata": {
    "id": "a-zKQ2djq0Zh",
    "trusted": true
   },
   "outputs": [],
   "source": [
    "test_iobp_df['ClaimStartDt'] = pd.to_datetime(test_iobp_df['ClaimStartDt'], format=\"%Y-%m-%d\")\n",
    "test_iobp_df['ClaimEndDt'] = pd.to_datetime(test_iobp_df['ClaimEndDt'], format=\"%Y-%m-%d\")\n",
    "\n",
    "test_iobp_df['Claim_Duration'] = (test_iobp_df['ClaimEndDt'] - test_iobp_df['ClaimStartDt']).dt.days"
   ]
  },
  {
   "cell_type": "markdown",
   "metadata": {
    "id": "Meku-w63XA5K"
   },
   "source": [
    "### **Adding `New Feature - 4` :: `Admitted_Duration`**\n",
    "\n",
    "    - Admitted Duration = Discharge Date - Admission Date"
   ]
  },
  {
   "cell_type": "code",
   "execution_count": null,
   "metadata": {
    "id": "b_UrJsbkXA5K",
    "trusted": true
   },
   "outputs": [],
   "source": [
    "train_iobp_df['AdmissionDt'] = pd.to_datetime(train_iobp_df['AdmissionDt'], format=\"%Y-%m-%d\")\n",
    "train_iobp_df['DischargeDt'] = pd.to_datetime(train_iobp_df['DischargeDt'], format=\"%Y-%m-%d\")\n",
    "\n",
    "train_iobp_df['Admitted_Duration'] = (train_iobp_df['DischargeDt'] - train_iobp_df['AdmissionDt']).dt.days"
   ]
  },
  {
   "cell_type": "code",
   "execution_count": null,
   "metadata": {
    "id": "Ze9H9Aegq0Zj",
    "trusted": true
   },
   "outputs": [],
   "source": [
    "test_iobp_df['AdmissionDt'] = pd.to_datetime(test_iobp_df['AdmissionDt'], format=\"%Y-%m-%d\")\n",
    "test_iobp_df['DischargeDt'] = pd.to_datetime(test_iobp_df['DischargeDt'], format=\"%Y-%m-%d\")\n",
    "\n",
    "test_iobp_df['Admitted_Duration'] = (test_iobp_df['DischargeDt'] - test_iobp_df['AdmissionDt']).dt.days"
   ]
  },
  {
   "cell_type": "markdown",
   "metadata": {
    "id": "n_WDPpDOXA5N"
   },
   "source": [
    "### **Adding `New Feature - 5` :: `Bene_Age`**\n",
    "\n",
    "    - Bene Age = DOD - DOB (if DOD is Null then replace it with MAX date in DOD)"
   ]
  },
  {
   "cell_type": "code",
   "execution_count": null,
   "metadata": {
    "id": "_OQFdTA6XA5N",
    "trusted": true
   },
   "outputs": [],
   "source": [
    "# Filling the Null values as MAX Date of Death in the Dataset\n",
    "train_iobp_df['DOD'].fillna(value=train_iobp_df['DOD'].max(), inplace=True)"
   ]
  },
  {
   "cell_type": "code",
   "execution_count": null,
   "metadata": {
    "id": "3UmkabM-q0Zk",
    "trusted": true
   },
   "outputs": [],
   "source": [
    "# Filling the Null values as MAX Date of Death in the Dataset\n",
    "test_iobp_df['DOD'].fillna(value=train_iobp_df['DOD'].max(), inplace=True)"
   ]
  },
  {
   "cell_type": "code",
   "execution_count": null,
   "metadata": {
    "id": "UDvZko1VXA5O",
    "trusted": true
   },
   "outputs": [],
   "source": [
    "train_iobp_df['Bene_Age'] = round(((train_iobp_df['DOD'] - train_iobp_df['DOB']).dt.days)/365,1)"
   ]
  },
  {
   "cell_type": "code",
   "execution_count": null,
   "metadata": {
    "id": "xLJzonGgq0Zl",
    "trusted": true
   },
   "outputs": [],
   "source": [
    "test_iobp_df['Bene_Age'] = round(((test_iobp_df['DOD'] - test_iobp_df['DOB']).dt.days)/365,1)"
   ]
  },
  {
   "cell_type": "markdown",
   "metadata": {
    "id": "T1NQk3UWYxEp"
   },
   "source": [
    "### **Adding `New Feature - 6` :: `Att_Opr_Oth_Phy_Tot_Claims`**\n",
    "    \n",
    "   * It represents the total claims submitted by Attending, Operating and Other Physicians.\n",
    "       \n",
    "       * **`Reasoning`** :: The idea behind adding this feature is to see whether a total of physicians claims submission will help in influencing the potential frauds.\n",
    "\n",
    "\n",
    "   * **`Logic`** :: Att_Phy_tot_claims + Opr_Phy_tot_claims + Oth_Phy_tot_claims"
   ]
  },
  {
   "cell_type": "markdown",
   "metadata": {
    "id": "Ozum0zALYxEq"
   },
   "source": [
    "- **`Att_Phy_tot_claims`** :: **Total Number of claims or cases seen by Attending Physician**"
   ]
  },
  {
   "cell_type": "code",
   "execution_count": null,
   "metadata": {
    "id": "iyI1bDFbYxEr",
    "outputId": "7ee8bf60-6e69-49c2-b053-86e931f7f8ee",
    "trusted": true
   },
   "outputs": [],
   "source": [
    "# Total unique number of Attended Physicians\n",
    "print(\"Unique number of Attending Physicians present in the dataset are --> {}\".format(train_iobp_df['AttendingPhysician'].nunique()))"
   ]
  },
  {
   "cell_type": "code",
   "execution_count": null,
   "metadata": {
    "id": "X9afogWLq0Zn",
    "outputId": "7ee8bf60-6e69-49c2-b053-86e931f7f8ee",
    "trusted": true
   },
   "outputs": [],
   "source": [
    "# Total unique number of Attended Physicians\n",
    "print(\"Unique number of Attending Physicians present in the dataset are --> {}\".format(test_iobp_df['AttendingPhysician'].nunique()))"
   ]
  },
  {
   "cell_type": "code",
   "execution_count": null,
   "metadata": {
    "id": "BlxFuS8bYxEs",
    "outputId": "84fb7ee7-4eef-4057-90e7-dee9af975704",
    "trusted": true
   },
   "outputs": [],
   "source": [
    "train_iobp_df['Att_Phy_tot_claims'] = train_iobp_df.groupby(['AttendingPhysician'])['ClaimID'].transform('count')\n",
    "train_iobp_df['Att_Phy_tot_claims'].describe()"
   ]
  },
  {
   "cell_type": "code",
   "execution_count": null,
   "metadata": {
    "id": "Ovu7VME7q0Zo",
    "outputId": "84fb7ee7-4eef-4057-90e7-dee9af975704",
    "trusted": true
   },
   "outputs": [],
   "source": [
    "test_iobp_df['Att_Phy_tot_claims'] = test_iobp_df.groupby(['AttendingPhysician'])['ClaimID'].transform('count')\n",
    "test_iobp_df['Att_Phy_tot_claims'].describe()"
   ]
  },
  {
   "cell_type": "markdown",
   "metadata": {
    "id": "AICtZeyjYxEt"
   },
   "source": [
    "- **`Opr_Phy_tot_claims`** :: **Total Number of claims or cases seen by Opearting Physician**"
   ]
  },
  {
   "cell_type": "code",
   "execution_count": null,
   "metadata": {
    "id": "lU_vtB1BYxEv",
    "outputId": "89a563bf-867d-45b4-cc26-36bd8d17e523",
    "trusted": true
   },
   "outputs": [],
   "source": [
    "# Total unique number of Operating Physicians\n",
    "print(\"Unique number of Operating Physicians present in the dataset are --> {}\".format(train_iobp_df['OperatingPhysician'].nunique()))"
   ]
  },
  {
   "cell_type": "code",
   "execution_count": null,
   "metadata": {
    "id": "oHe-ieswq0Zq",
    "outputId": "89a563bf-867d-45b4-cc26-36bd8d17e523",
    "trusted": true
   },
   "outputs": [],
   "source": [
    "# Total unique number of Operating Physicians\n",
    "print(\"Unique number of Operating Physicians present in the dataset are --> {}\".format(test_iobp_df['OperatingPhysician'].nunique()))"
   ]
  },
  {
   "cell_type": "code",
   "execution_count": null,
   "metadata": {
    "id": "JoPU0TPYYxEw",
    "outputId": "bfa34130-74af-4bbd-cf71-9f7765ae4104",
    "trusted": true
   },
   "outputs": [],
   "source": [
    "train_iobp_df['Opr_Phy_tot_claims'] = train_iobp_df.groupby(['OperatingPhysician'])['ClaimID'].transform('count')\n",
    "train_iobp_df['Opr_Phy_tot_claims'].describe()"
   ]
  },
  {
   "cell_type": "code",
   "execution_count": null,
   "metadata": {
    "id": "-iiP_aS2q0Zr",
    "outputId": "bfa34130-74af-4bbd-cf71-9f7765ae4104",
    "trusted": true
   },
   "outputs": [],
   "source": [
    "test_iobp_df['Opr_Phy_tot_claims'] = test_iobp_df.groupby(['OperatingPhysician'])['ClaimID'].transform('count')\n",
    "test_iobp_df['Opr_Phy_tot_claims'].describe()"
   ]
  },
  {
   "cell_type": "markdown",
   "metadata": {
    "id": "ilIOzmFOYxEx"
   },
   "source": [
    "- **`Oth_Phy_tot_claims`** :: **Total Number of claims or cases seen by Other Physician**"
   ]
  },
  {
   "cell_type": "code",
   "execution_count": null,
   "metadata": {
    "id": "v7Wn8pmGYxEy",
    "outputId": "2b81fc71-174d-4f47-ee42-2d9caae21cca",
    "trusted": true
   },
   "outputs": [],
   "source": [
    "# Total unique number of Other Physicians\n",
    "print(\"Unique number of Other Physicians present in the dataset are --> {}\".format(train_iobp_df['OtherPhysician'].nunique()))"
   ]
  },
  {
   "cell_type": "code",
   "execution_count": null,
   "metadata": {
    "id": "Vfyvsl02q0Zt",
    "outputId": "2b81fc71-174d-4f47-ee42-2d9caae21cca",
    "trusted": true
   },
   "outputs": [],
   "source": [
    "# Total unique number of Other Physicians\n",
    "print(\"Unique number of Other Physicians present in the dataset are --> {}\".format(test_iobp_df['OtherPhysician'].nunique()))"
   ]
  },
  {
   "cell_type": "code",
   "execution_count": null,
   "metadata": {
    "id": "pnWJuxx7YxEz",
    "outputId": "8aab02ae-5977-4581-d9d7-979d1665595b",
    "trusted": true
   },
   "outputs": [],
   "source": [
    "train_iobp_df['Oth_Phy_tot_claims'] = train_iobp_df.groupby(['OtherPhysician'])['ClaimID'].transform('count')\n",
    "train_iobp_df['Oth_Phy_tot_claims'].describe()"
   ]
  },
  {
   "cell_type": "code",
   "execution_count": null,
   "metadata": {
    "id": "wCz18KA7q0Zw",
    "outputId": "8aab02ae-5977-4581-d9d7-979d1665595b",
    "trusted": true
   },
   "outputs": [],
   "source": [
    "test_iobp_df['Oth_Phy_tot_claims'] = test_iobp_df.groupby(['OtherPhysician'])['ClaimID'].transform('count')\n",
    "test_iobp_df['Oth_Phy_tot_claims'].describe()"
   ]
  },
  {
   "cell_type": "code",
   "execution_count": null,
   "metadata": {
    "id": "GnBpyg6IYxE0",
    "trusted": true
   },
   "outputs": [],
   "source": [
    "# Creating the combined feature\n",
    "train_iobp_df['Att_Phy_tot_claims'].fillna(value=0, inplace=True)\n",
    "train_iobp_df['Opr_Phy_tot_claims'].fillna(value=0, inplace=True)\n",
    "train_iobp_df['Oth_Phy_tot_claims'].fillna(value=0, inplace=True)"
   ]
  },
  {
   "cell_type": "code",
   "execution_count": null,
   "metadata": {
    "id": "v-OSJNOzq0Zx",
    "trusted": true
   },
   "outputs": [],
   "source": [
    "# Creating the combined feature\n",
    "test_iobp_df['Att_Phy_tot_claims'].fillna(value=0, inplace=True)\n",
    "test_iobp_df['Opr_Phy_tot_claims'].fillna(value=0, inplace=True)\n",
    "test_iobp_df['Oth_Phy_tot_claims'].fillna(value=0, inplace=True)"
   ]
  },
  {
   "cell_type": "code",
   "execution_count": null,
   "metadata": {
    "id": "2KP3whcXYxE1",
    "trusted": true
   },
   "outputs": [],
   "source": [
    "train_iobp_df['Att_Opr_Oth_Phy_Tot_Claims'] = train_iobp_df['Att_Phy_tot_claims'] + train_iobp_df['Opr_Phy_tot_claims'] + train_iobp_df['Oth_Phy_tot_claims']"
   ]
  },
  {
   "cell_type": "code",
   "execution_count": null,
   "metadata": {
    "id": "wnnLx7mpq0Z1",
    "trusted": true
   },
   "outputs": [],
   "source": [
    "test_iobp_df['Att_Opr_Oth_Phy_Tot_Claims'] = test_iobp_df['Att_Phy_tot_claims'] + test_iobp_df['Opr_Phy_tot_claims'] + test_iobp_df['Oth_Phy_tot_claims']"
   ]
  },
  {
   "cell_type": "code",
   "execution_count": null,
   "metadata": {
    "id": "dXAHSNLWYxE2",
    "outputId": "d1d8c574-8c10-43b1-89d3-956074f7e596",
    "trusted": true
   },
   "outputs": [],
   "source": [
    "train_iobp_df['Att_Opr_Oth_Phy_Tot_Claims'].describe()"
   ]
  },
  {
   "cell_type": "code",
   "execution_count": null,
   "metadata": {
    "id": "uaQRqqyQq0Z2",
    "outputId": "d1d8c574-8c10-43b1-89d3-956074f7e596",
    "trusted": true
   },
   "outputs": [],
   "source": [
    "test_iobp_df['Att_Opr_Oth_Phy_Tot_Claims'].describe()"
   ]
  },
  {
   "cell_type": "code",
   "execution_count": null,
   "metadata": {
    "id": "jS_ZOqU1YxE3",
    "trusted": true
   },
   "outputs": [],
   "source": [
    "train_iobp_df.drop(['Att_Phy_tot_claims', 'Opr_Phy_tot_claims', 'Oth_Phy_tot_claims'], axis=1, inplace=True)"
   ]
  },
  {
   "cell_type": "code",
   "execution_count": null,
   "metadata": {
    "id": "22L5fyO1q0Z3",
    "trusted": true
   },
   "outputs": [],
   "source": [
    "test_iobp_df.drop(['Att_Phy_tot_claims', 'Opr_Phy_tot_claims', 'Oth_Phy_tot_claims'], axis=1, inplace=True)"
   ]
  },
  {
   "cell_type": "markdown",
   "metadata": {
    "id": "VBjTHMKCYxE5"
   },
   "source": [
    "### **Adding `New Feature - 7` :: `Prv_Tot_Att_Opr_Oth_Phys`**\n",
    "    \n",
    "   * It represents the total of all kind of physicians that a provider has interacted with.\n",
    "       \n",
    "       * **`Reasoning`** :: The idea behind adding this feature is to see whether a fraudulent provider interacts with higher or lower numberof of various physicians.\n",
    "\n",
    "\n",
    "   * **`Logic`** :: Prv_Tot_Att_Phy + Prv_Tot_Opr_Phy + Prv_Tot_Oth_Phy"
   ]
  },
  {
   "cell_type": "code",
   "execution_count": null,
   "metadata": {
    "id": "CeNOo6HVYxE5",
    "trusted": true
   },
   "outputs": [],
   "source": [
    "train_iobp_df[\"Prv_Tot_Att_Phy\"] = train_iobp_df.groupby(['Provider'])['AttendingPhysician'].transform('count')\n",
    "train_iobp_df[\"Prv_Tot_Opr_Phy\"] = train_iobp_df.groupby(['Provider'])['OperatingPhysician'].transform('count')\n",
    "train_iobp_df[\"Prv_Tot_Oth_Phy\"] = train_iobp_df.groupby(['Provider'])['OtherPhysician'].transform('count')"
   ]
  },
  {
   "cell_type": "code",
   "execution_count": null,
   "metadata": {
    "id": "NF4soe60q0Z5",
    "trusted": true
   },
   "outputs": [],
   "source": [
    "test_iobp_df[\"Prv_Tot_Att_Phy\"] = test_iobp_df.groupby(['Provider'])['AttendingPhysician'].transform('count')\n",
    "test_iobp_df[\"Prv_Tot_Opr_Phy\"] = test_iobp_df.groupby(['Provider'])['OperatingPhysician'].transform('count')\n",
    "test_iobp_df[\"Prv_Tot_Oth_Phy\"] = test_iobp_df.groupby(['Provider'])['OtherPhysician'].transform('count')"
   ]
  },
  {
   "cell_type": "code",
   "execution_count": null,
   "metadata": {
    "id": "NTVuT_xxYxE6",
    "outputId": "61635695-38b9-4cc1-dfa6-36ab94fbdd44",
    "trusted": true
   },
   "outputs": [],
   "source": [
    "# Nulls in the above features\n",
    "train_iobp_df.isna().sum().tail(3)"
   ]
  },
  {
   "cell_type": "code",
   "execution_count": null,
   "metadata": {
    "id": "ketsLtZ9q0Z6",
    "outputId": "61635695-38b9-4cc1-dfa6-36ab94fbdd44",
    "trusted": true
   },
   "outputs": [],
   "source": [
    "# Nulls in the above features\n",
    "test_iobp_df.isna().sum().tail(3)"
   ]
  },
  {
   "cell_type": "code",
   "execution_count": null,
   "metadata": {
    "id": "KRmMbU86YxE8",
    "outputId": "a9289caf-c1ca-4bf2-a786-b45622f879e3",
    "trusted": true
   },
   "outputs": [],
   "source": [
    "train_iobp_df[\"Prv_Tot_Att_Phy\"].describe()"
   ]
  },
  {
   "cell_type": "code",
   "execution_count": null,
   "metadata": {
    "id": "D-D8-ZQmq0Z8",
    "outputId": "a9289caf-c1ca-4bf2-a786-b45622f879e3",
    "trusted": true
   },
   "outputs": [],
   "source": [
    "test_iobp_df[\"Prv_Tot_Att_Phy\"].describe()"
   ]
  },
  {
   "cell_type": "markdown",
   "metadata": {
    "id": "5B0EaptRYxE9"
   },
   "source": [
    "* The average number of attending physicians for providers are 820."
   ]
  },
  {
   "cell_type": "code",
   "execution_count": null,
   "metadata": {
    "id": "2v7QKDMeYxE-",
    "outputId": "bf7a41e5-a465-45ca-de43-3af93dd3e06b",
    "trusted": true
   },
   "outputs": [],
   "source": [
    "train_iobp_df[\"Prv_Tot_Opr_Phy\"].describe()"
   ]
  },
  {
   "cell_type": "code",
   "execution_count": null,
   "metadata": {
    "id": "gakIKdJkq0Z9",
    "outputId": "bf7a41e5-a465-45ca-de43-3af93dd3e06b",
    "trusted": true
   },
   "outputs": [],
   "source": [
    "test_iobp_df[\"Prv_Tot_Opr_Phy\"].describe()"
   ]
  },
  {
   "cell_type": "markdown",
   "metadata": {
    "id": "CfARfireYxE_"
   },
   "source": [
    "* The average number of operating physicians for providers are 155."
   ]
  },
  {
   "cell_type": "code",
   "execution_count": null,
   "metadata": {
    "id": "wSRMdDx3YxFA",
    "outputId": "f6002424-1fdd-494d-c3a2-8b66430967bc",
    "trusted": true
   },
   "outputs": [],
   "source": [
    "train_iobp_df[\"Prv_Tot_Oth_Phy\"].describe()"
   ]
  },
  {
   "cell_type": "code",
   "execution_count": null,
   "metadata": {
    "id": "LLqtxxltq0Z_",
    "outputId": "f6002424-1fdd-494d-c3a2-8b66430967bc",
    "trusted": true
   },
   "outputs": [],
   "source": [
    "test_iobp_df[\"Prv_Tot_Oth_Phy\"].describe()"
   ]
  },
  {
   "cell_type": "markdown",
   "metadata": {
    "id": "Zra8hbMbYxFB"
   },
   "source": [
    "* The average number of other physicians for providers are 306."
   ]
  },
  {
   "cell_type": "code",
   "execution_count": null,
   "metadata": {
    "id": "lqBOXhvNYxFC",
    "trusted": true
   },
   "outputs": [],
   "source": [
    "train_iobp_df['Prv_Tot_Att_Opr_Oth_Phys'] = train_iobp_df['Prv_Tot_Att_Phy'] + train_iobp_df['Prv_Tot_Opr_Phy'] + train_iobp_df['Prv_Tot_Oth_Phy']"
   ]
  },
  {
   "cell_type": "code",
   "execution_count": null,
   "metadata": {
    "id": "HTv28lC0q0aA",
    "trusted": true
   },
   "outputs": [],
   "source": [
    "test_iobp_df['Prv_Tot_Att_Opr_Oth_Phys'] = test_iobp_df['Prv_Tot_Att_Phy'] + test_iobp_df['Prv_Tot_Opr_Phy'] + test_iobp_df['Prv_Tot_Oth_Phy']"
   ]
  },
  {
   "cell_type": "code",
   "execution_count": null,
   "metadata": {
    "id": "XsRRC-fxYxFD",
    "outputId": "cfb69f6f-d785-4f86-a768-1ff8dfe2cca2",
    "trusted": true
   },
   "outputs": [],
   "source": [
    "train_iobp_df[\"Prv_Tot_Att_Opr_Oth_Phys\"].describe()"
   ]
  },
  {
   "cell_type": "code",
   "execution_count": null,
   "metadata": {
    "id": "KHXBKwvKq0aB",
    "outputId": "cfb69f6f-d785-4f86-a768-1ff8dfe2cca2",
    "trusted": true
   },
   "outputs": [],
   "source": [
    "test_iobp_df[\"Prv_Tot_Att_Opr_Oth_Phys\"].describe()"
   ]
  },
  {
   "cell_type": "code",
   "execution_count": null,
   "metadata": {
    "id": "NfZ59ueRYxFE",
    "trusted": true
   },
   "outputs": [],
   "source": [
    "train_iobp_df.drop(['Prv_Tot_Att_Phy', 'Prv_Tot_Opr_Phy', 'Prv_Tot_Oth_Phy'], axis=1, inplace=True)"
   ]
  },
  {
   "cell_type": "code",
   "execution_count": null,
   "metadata": {
    "id": "T9u7ft0zq0aD",
    "trusted": true
   },
   "outputs": [],
   "source": [
    "test_iobp_df.drop(['Prv_Tot_Att_Phy', 'Prv_Tot_Opr_Phy', 'Prv_Tot_Oth_Phy'], axis=1, inplace=True)"
   ]
  },
  {
   "cell_type": "markdown",
   "metadata": {
    "id": "txQdFlDmYxFF"
   },
   "source": [
    "### **Adding `New Feature - 8` :: `Total Unique Claim Admit Codes used by a PROVIDER`**\n",
    "   \n",
    "   * **`Reasoning`** :: The idea behind adding this feature is to see how many unique number of `Claim Admit Diagnosis Codes` used by the Provider. \n",
    "       * As there may be a pattern that if a provider has used so many Admit Diagnosis Codes then it might increases or decreases the chances of fraud."
   ]
  },
  {
   "cell_type": "code",
   "execution_count": null,
   "metadata": {
    "id": "GVkNhJa8YxFX",
    "trusted": true
   },
   "outputs": [],
   "source": [
    "train_iobp_df['PRV_Tot_Admit_DCodes'] = train_iobp_df.groupby(['Provider'])['ClmAdmitDiagnosisCode'].transform('nunique')"
   ]
  },
  {
   "cell_type": "code",
   "execution_count": null,
   "metadata": {
    "id": "UUydFLvWq0aE",
    "trusted": true
   },
   "outputs": [],
   "source": [
    "test_iobp_df['PRV_Tot_Admit_DCodes'] = test_iobp_df.groupby(['Provider'])['ClmAdmitDiagnosisCode'].transform('nunique')"
   ]
  },
  {
   "cell_type": "code",
   "execution_count": null,
   "metadata": {
    "id": "-uYl9beRYxFY",
    "outputId": "8cff7906-532c-44f1-f502-dd914b8bbc40",
    "trusted": true
   },
   "outputs": [],
   "source": [
    "train_iobp_df[\"PRV_Tot_Admit_DCodes\"].describe()"
   ]
  },
  {
   "cell_type": "code",
   "execution_count": null,
   "metadata": {
    "id": "eHFZBo-Wq0aG",
    "outputId": "8cff7906-532c-44f1-f502-dd914b8bbc40",
    "trusted": true
   },
   "outputs": [],
   "source": [
    "test_iobp_df[\"PRV_Tot_Admit_DCodes\"].describe()"
   ]
  },
  {
   "cell_type": "markdown",
   "metadata": {
    "id": "qPk20RCSYxFZ"
   },
   "source": [
    "### **Adding `New Feature - 9` :: `Total Unique Number of Diagnosis Group Codes used by a PROVIDER`**\n",
    "   \n",
    "   * **`Reasoning`** :: The idea behind adding this feature is to see how many unique `Diagnosis Group Codes` used by the Provider.\n",
    "       * As there may be a pattern that if a provider has used so many Diagnosis Group Codes then it might increases or decreases the chances of fraud."
   ]
  },
  {
   "cell_type": "code",
   "execution_count": null,
   "metadata": {
    "id": "J1nuwbrOYxFZ",
    "trusted": true
   },
   "outputs": [],
   "source": [
    "train_iobp_df['PRV_Tot_DGrpCodes'] = train_iobp_df.groupby(['Provider'])['DiagnosisGroupCode'].transform('nunique')"
   ]
  },
  {
   "cell_type": "code",
   "execution_count": null,
   "metadata": {
    "id": "a_oPfttGq0aH",
    "trusted": true
   },
   "outputs": [],
   "source": [
    "test_iobp_df['PRV_Tot_DGrpCodes'] = test_iobp_df.groupby(['Provider'])['DiagnosisGroupCode'].transform('nunique')"
   ]
  },
  {
   "cell_type": "code",
   "execution_count": null,
   "metadata": {
    "id": "T8qWDKQrYxFa",
    "outputId": "4cb5d77b-7792-4a1e-9bec-e655bf34d435",
    "trusted": true
   },
   "outputs": [],
   "source": [
    "train_iobp_df[\"PRV_Tot_DGrpCodes\"].describe()"
   ]
  },
  {
   "cell_type": "code",
   "execution_count": null,
   "metadata": {
    "id": "b7Q8vK-Eq0aI",
    "outputId": "4cb5d77b-7792-4a1e-9bec-e655bf34d435",
    "trusted": true
   },
   "outputs": [],
   "source": [
    "test_iobp_df[\"PRV_Tot_DGrpCodes\"].describe()"
   ]
  },
  {
   "cell_type": "markdown",
   "metadata": {
    "id": "jyG5igPHYxFb"
   },
   "source": [
    "### **Adding `New Feature - 10` :: `Total unique Date of Birth years of beneficiaries provided by a Provider`**\n",
    "   \n",
    "   * **`Reasoning`** :: The idea behind adding this feature is that if a provider has very high variability in the year of birth of patients then that might be one of the signs of medicare frauds.\n",
    "       - Because generally private hospitals who treat poor patients make false claims on their names. For example, Nazia is 10 years old. But, according to a claim filed by Chhattisgarh-based Shaheed Hospital with the Rashtriya Swasthya Bima Yojna (RSBY), she has delivered a baby after a caesarean operation. Mukul (name changed) is only 7. But Agarwal Hospital, Raipur, has made a claim for removing cataract from his eyes.\n",
    "\n",
    "Read more at:\n",
    "https://economictimes.indiatimes.com/news/politics-and-nation/private-hospitals-perform-fake-surgeries-to-claim-thousands-in-insurance-cover/articleshow/16934229.cms?utm_source=contentofinterest&utm_medium=text&utm_campaign=cppst"
   ]
  },
  {
   "cell_type": "code",
   "execution_count": null,
   "metadata": {
    "id": "hJQPzPLcYxFb",
    "trusted": true
   },
   "outputs": [],
   "source": [
    "train_iobp_df['DOB_Year'] = train_iobp_df['DOB'].dt.year"
   ]
  },
  {
   "cell_type": "code",
   "execution_count": null,
   "metadata": {
    "id": "wQ3JqVvoq0aJ",
    "trusted": true
   },
   "outputs": [],
   "source": [
    "test_iobp_df['DOB_Year'] = test_iobp_df['DOB'].dt.year"
   ]
  },
  {
   "cell_type": "code",
   "execution_count": null,
   "metadata": {
    "id": "RSv9M2_WYxFc",
    "trusted": true
   },
   "outputs": [],
   "source": [
    "train_iobp_df['PRV_Tot_Unq_DOB_Years'] = train_iobp_df.groupby(['Provider'])['DOB_Year'].transform('nunique')"
   ]
  },
  {
   "cell_type": "code",
   "execution_count": null,
   "metadata": {
    "id": "Ficb2kj4q0aK",
    "trusted": true
   },
   "outputs": [],
   "source": [
    "test_iobp_df['PRV_Tot_Unq_DOB_Years'] = test_iobp_df.groupby(['Provider'])['DOB_Year'].transform('nunique')"
   ]
  },
  {
   "cell_type": "code",
   "execution_count": null,
   "metadata": {
    "id": "L__Dbd9ZYxFd",
    "outputId": "a969d2a8-6767-47e1-df70-b0a3f8005667",
    "trusted": true
   },
   "outputs": [],
   "source": [
    "train_iobp_df['PRV_Tot_Unq_DOB_Years'].describe()"
   ]
  },
  {
   "cell_type": "code",
   "execution_count": null,
   "metadata": {
    "id": "LRHRUay-q0aL",
    "outputId": "a969d2a8-6767-47e1-df70-b0a3f8005667",
    "trusted": true
   },
   "outputs": [],
   "source": [
    "test_iobp_df['PRV_Tot_Unq_DOB_Years'].describe()"
   ]
  },
  {
   "cell_type": "code",
   "execution_count": null,
   "metadata": {
    "id": "vaOBDCAmYxFd",
    "trusted": true
   },
   "outputs": [],
   "source": [
    "train_iobp_df.drop(['DOB_Year'], axis=1, inplace=True)"
   ]
  },
  {
   "cell_type": "code",
   "execution_count": null,
   "metadata": {
    "id": "YbztEP-4q0aM",
    "trusted": true
   },
   "outputs": [],
   "source": [
    "test_iobp_df.drop(['DOB_Year'], axis=1, inplace=True)"
   ]
  },
  {
   "cell_type": "markdown",
   "metadata": {
    "id": "FsgyP-fRYxFe"
   },
   "source": [
    "### **Adding `New Feature - 11` :: `Sum of patients age treated by a Provider`**\n",
    "   \n",
    "   * **`Reasoning`** :: The idea behind adding this feature is that there might be a pattern like if the sum of patients age treated by a provider is very high or low then it might influence the fraud."
   ]
  },
  {
   "cell_type": "code",
   "execution_count": null,
   "metadata": {
    "id": "B-6mRSfKYxFe",
    "trusted": true
   },
   "outputs": [],
   "source": [
    "train_iobp_df['PRV_Bene_Age_Sum'] = train_iobp_df.groupby(['Provider'])['Bene_Age'].transform('sum')"
   ]
  },
  {
   "cell_type": "code",
   "execution_count": null,
   "metadata": {
    "id": "7F4M_nNFq0aO",
    "trusted": true
   },
   "outputs": [],
   "source": [
    "test_iobp_df['PRV_Bene_Age_Sum'] = test_iobp_df.groupby(['Provider'])['Bene_Age'].transform('sum')"
   ]
  },
  {
   "cell_type": "code",
   "execution_count": null,
   "metadata": {
    "id": "qf05nA-mYxFf",
    "outputId": "9bff61c6-3f3d-48b5-8617-76cd416f37b0",
    "trusted": true
   },
   "outputs": [],
   "source": [
    "train_iobp_df['PRV_Bene_Age_Sum'].describe()"
   ]
  },
  {
   "cell_type": "code",
   "execution_count": null,
   "metadata": {
    "id": "B4TH9EcAq0aP",
    "outputId": "9bff61c6-3f3d-48b5-8617-76cd416f37b0",
    "trusted": true
   },
   "outputs": [],
   "source": [
    "test_iobp_df['PRV_Bene_Age_Sum'].describe()"
   ]
  },
  {
   "cell_type": "markdown",
   "metadata": {
    "id": "FuPQ5VE9YxFg"
   },
   "source": [
    "### **Adding `New Feature - 12` :: `Sum of Insc Claim Re-Imb Amount for a Provider`**\n",
    "   \n",
    "   * **`Reasoning`** :: The idea behind adding this feature is that there might be a pattern like if the sum of claim re-imb amount for a provider is very high or low then it might influence the fraud."
   ]
  },
  {
   "cell_type": "code",
   "execution_count": null,
   "metadata": {
    "id": "KqpTScbGYxFg",
    "trusted": true
   },
   "outputs": [],
   "source": [
    "train_iobp_df['PRV_Insc_Clm_ReImb_Amt'] = train_iobp_df.groupby(['Provider'])['InscClaimAmtReimbursed'].transform('sum')"
   ]
  },
  {
   "cell_type": "code",
   "execution_count": null,
   "metadata": {
    "id": "_uhEO5T9q0aQ",
    "trusted": true
   },
   "outputs": [],
   "source": [
    "test_iobp_df['PRV_Insc_Clm_ReImb_Amt'] = test_iobp_df.groupby(['Provider'])['InscClaimAmtReimbursed'].transform('sum')"
   ]
  },
  {
   "cell_type": "code",
   "execution_count": null,
   "metadata": {
    "id": "qfZVf6EoYxFh",
    "outputId": "33dabd01-5e82-4e20-cc0d-1336aac0708b",
    "trusted": true
   },
   "outputs": [],
   "source": [
    "train_iobp_df['PRV_Insc_Clm_ReImb_Amt'].describe()"
   ]
  },
  {
   "cell_type": "code",
   "execution_count": null,
   "metadata": {
    "id": "5pG09Aa8q0aR",
    "outputId": "33dabd01-5e82-4e20-cc0d-1336aac0708b",
    "trusted": true
   },
   "outputs": [],
   "source": [
    "test_iobp_df['PRV_Insc_Clm_ReImb_Amt'].describe()"
   ]
  },
  {
   "cell_type": "markdown",
   "metadata": {
    "id": "xK38bGKFYxFh"
   },
   "source": [
    "### **Adding `New Feature - 13` :: `Total number of RKD Patients seen by a Provider`**\n",
    "   \n",
    "   * **`Reasoning`** :: The idea behind adding this feature is that there might be a pattern like if the total number of RKD Patients seen by a Provider is very high or low then it might influence the fraud."
   ]
  },
  {
   "cell_type": "code",
   "execution_count": null,
   "metadata": {
    "id": "DjAnwbBuYxFi",
    "trusted": true
   },
   "outputs": [],
   "source": [
    "train_iobp_df['RenalDiseaseIndicator'] = train_iobp_df['RenalDiseaseIndicator'].apply(lambda val: 1 if val == \"Y\" else 0)"
   ]
  },
  {
   "cell_type": "code",
   "execution_count": null,
   "metadata": {
    "id": "5oDukYPAq0aT",
    "trusted": true
   },
   "outputs": [],
   "source": [
    "test_iobp_df['RenalDiseaseIndicator'] = test_iobp_df['RenalDiseaseIndicator'].apply(lambda val: 1 if val == \"Y\" else 0)"
   ]
  },
  {
   "cell_type": "code",
   "execution_count": null,
   "metadata": {
    "id": "6fhRcSbrYxFi",
    "trusted": true
   },
   "outputs": [],
   "source": [
    "train_iobp_df['PRV_Tot_RKD_Patients'] = train_iobp_df.groupby(['Provider'])['RenalDiseaseIndicator'].transform('sum')"
   ]
  },
  {
   "cell_type": "code",
   "execution_count": null,
   "metadata": {
    "id": "LNBZBZqHq0aW",
    "trusted": true
   },
   "outputs": [],
   "source": [
    "test_iobp_df['PRV_Tot_RKD_Patients'] = test_iobp_df.groupby(['Provider'])['RenalDiseaseIndicator'].transform('sum')"
   ]
  },
  {
   "cell_type": "code",
   "execution_count": null,
   "metadata": {
    "id": "Y3mo04lVYxFj",
    "outputId": "512df983-3069-444c-8d9f-3472d72dbccd",
    "trusted": true
   },
   "outputs": [],
   "source": [
    "train_iobp_df['PRV_Tot_RKD_Patients'].describe()"
   ]
  },
  {
   "cell_type": "code",
   "execution_count": null,
   "metadata": {
    "id": "ys0fpioyq0aX",
    "outputId": "512df983-3069-444c-8d9f-3472d72dbccd",
    "trusted": true
   },
   "outputs": [],
   "source": [
    "test_iobp_df['PRV_Tot_RKD_Patients'].describe()"
   ]
  },
  {
   "cell_type": "code",
   "execution_count": null,
   "metadata": {
    "id": "QJJMxrzkYxFk",
    "trusted": true
   },
   "outputs": [],
   "source": [
    "# Dropping these 2 columns as there 99% of values are same\n",
    "train_iobp_df.drop(['NoOfMonths_PartACov', 'NoOfMonths_PartBCov'], axis=1, inplace=True)"
   ]
  },
  {
   "cell_type": "code",
   "execution_count": null,
   "metadata": {
    "id": "GlblfTtFq0aY",
    "trusted": true
   },
   "outputs": [],
   "source": [
    "# Dropping these 2 columns as there 99% of values are same\n",
    "test_iobp_df.drop(['NoOfMonths_PartACov', 'NoOfMonths_PartBCov'], axis=1, inplace=True)"
   ]
  },
  {
   "cell_type": "code",
   "execution_count": null,
   "metadata": {
    "id": "Lfu6HEcVYxFk",
    "trusted": true
   },
   "outputs": [],
   "source": [
    "# Filling null values in Admitted_Duration with 0 (as it will represent the patients were admitted for 0 days)\n",
    "train_iobp_df['Admitted_Duration'].fillna(value=0,inplace=True)"
   ]
  },
  {
   "cell_type": "code",
   "execution_count": null,
   "metadata": {
    "id": "83L4Zaprq0aZ",
    "trusted": true
   },
   "outputs": [],
   "source": [
    "# Filling null values in Admitted_Duration with 0 (as it will represent the patients were admitted for 0 days)\n",
    "test_iobp_df['Admitted_Duration'].fillna(value=0,inplace=True)"
   ]
  },
  {
   "cell_type": "code",
   "execution_count": null,
   "metadata": {
    "id": "L9Xp-2rTYxFl",
    "outputId": "b90683bb-95a2-4134-e0ac-7ec0b845efc4",
    "trusted": true
   },
   "outputs": [],
   "source": [
    "train_iobp_df.shape"
   ]
  },
  {
   "cell_type": "code",
   "execution_count": null,
   "metadata": {
    "id": "ZUSNQsYCq0aa",
    "outputId": "b90683bb-95a2-4134-e0ac-7ec0b845efc4",
    "trusted": true
   },
   "outputs": [],
   "source": [
    "test_iobp_df.shape"
   ]
  },
  {
   "cell_type": "markdown",
   "metadata": {
    "id": "0uoiEEnDYxFo"
   },
   "source": [
    "### **Adding `Aggregated Features` :: For every possible level**\n",
    "    - Provider\n",
    "    - Beneficiary\n",
    "    - Attending Physician\n",
    "    - Operating Physician\n",
    "    - Other Physician and etc..\n",
    "   \n",
    "   \n",
    "   * **`Reasoning`** :: The idea behind adding the aggregated features at different levels is that fraud can be done by an individual or group of individuals or entities involved in the claim process."
   ]
  },
  {
   "cell_type": "code",
   "execution_count": null,
   "metadata": {
    "id": "IsJRBu2RYxFp",
    "trusted": true
   },
   "outputs": [],
   "source": [
    "# PRV Aggregate features\n",
    "train_iobp_df[\"PRV_CoPayment\"] = train_iobp_df.groupby('Provider')['DeductibleAmtPaid'].transform('sum')\n",
    "train_iobp_df[\"PRV_IP_Annual_ReImb_Amt\"] = train_iobp_df.groupby('Provider')['IPAnnualReimbursementAmt'].transform('sum')\n",
    "train_iobp_df[\"PRV_IP_Annual_Ded_Amt\"] = train_iobp_df.groupby('Provider')['IPAnnualDeductibleAmt'].transform('sum')\n",
    "train_iobp_df[\"PRV_OP_Annual_ReImb_Amt\"] = train_iobp_df.groupby('Provider')['OPAnnualReimbursementAmt'].transform('sum')\n",
    "train_iobp_df[\"PRV_OP_Annual_Ded_Amt\"] = train_iobp_df.groupby('Provider')['OPAnnualDeductibleAmt'].transform('sum')\n",
    "train_iobp_df[\"PRV_Admit_Duration\"] = train_iobp_df.groupby('Provider')['Admitted_Duration'].transform('sum')\n",
    "train_iobp_df[\"PRV_Claim_Duration\"] = train_iobp_df.groupby('Provider')['Claim_Duration'].transform('sum')"
   ]
  },
  {
   "cell_type": "code",
   "execution_count": null,
   "metadata": {
    "id": "Dh8G7xiNq0ac",
    "trusted": true
   },
   "outputs": [],
   "source": [
    "# PRV Aggregate features\n",
    "test_iobp_df[\"PRV_CoPayment\"] = test_iobp_df.groupby('Provider')['DeductibleAmtPaid'].transform('sum')\n",
    "test_iobp_df[\"PRV_IP_Annual_ReImb_Amt\"] = test_iobp_df.groupby('Provider')['IPAnnualReimbursementAmt'].transform('sum')\n",
    "test_iobp_df[\"PRV_IP_Annual_Ded_Amt\"] = test_iobp_df.groupby('Provider')['IPAnnualDeductibleAmt'].transform('sum')\n",
    "test_iobp_df[\"PRV_OP_Annual_ReImb_Amt\"] = test_iobp_df.groupby('Provider')['OPAnnualReimbursementAmt'].transform('sum')\n",
    "test_iobp_df[\"PRV_OP_Annual_Ded_Amt\"] = test_iobp_df.groupby('Provider')['OPAnnualDeductibleAmt'].transform('sum')\n",
    "test_iobp_df[\"PRV_Admit_Duration\"] = test_iobp_df.groupby('Provider')['Admitted_Duration'].transform('sum')\n",
    "test_iobp_df[\"PRV_Claim_Duration\"] = test_iobp_df.groupby('Provider')['Claim_Duration'].transform('sum')"
   ]
  },
  {
   "cell_type": "code",
   "execution_count": null,
   "metadata": {
    "id": "cObXyY8bYxFp",
    "trusted": true
   },
   "outputs": [],
   "source": [
    "def create_agg_feats(grp_col, feat_name, operation='sum'):\n",
    "    \"\"\"\n",
    "    Description :: This function is created for adding the aggregated features in the dataset for every level like:\n",
    "        - Beneficiary\n",
    "        - Attending Physician\n",
    "        - Operating Physician\n",
    "        - Other Physician and etc..\n",
    "        \n",
    "    Input Parameters :: It accepts below inputs:\n",
    "        - grp_col : `str`\n",
    "            - It represents the feature or level at which you want to perform the aggregation.\n",
    "        \n",
    "        - feat_name : `str`\n",
    "            - It represents the feature whose aggregated aspect you want to capture.\n",
    "        \n",
    "        - operation : `str`\n",
    "            - It represents the aggregation operation you want to perform.(By default it is SUM)\n",
    "    \"\"\"\n",
    "    feat_1 = feat_name + \"_Insc_ReImb_Amt\"\n",
    "    train_iobp_df[feat_1] = train_iobp_df.groupby(grp_col)['InscClaimAmtReimbursed'].transform(operation)\n",
    "    test_iobp_df[feat_1] = test_iobp_df.groupby(grp_col)['InscClaimAmtReimbursed'].transform(operation)\n",
    "\n",
    "    feat_2 = feat_name + \"_CoPayment\"\n",
    "    train_iobp_df[feat_2] = train_iobp_df.groupby(grp_col)['DeductibleAmtPaid'].transform(operation)\n",
    "    test_iobp_df[feat_2] = test_iobp_df.groupby(grp_col)['DeductibleAmtPaid'].transform(operation)\n",
    "\n",
    "    feat_3 = feat_name + \"_IP_Annual_ReImb_Amt\"\n",
    "    train_iobp_df[feat_3] = train_iobp_df.groupby(grp_col)['IPAnnualReimbursementAmt'].transform(operation)\n",
    "    test_iobp_df[feat_3] = test_iobp_df.groupby(grp_col)['IPAnnualReimbursementAmt'].transform(operation)\n",
    "\n",
    "    feat_4 = feat_name + \"_IP_Annual_Ded_Amt\"\n",
    "    train_iobp_df[feat_4] = train_iobp_df.groupby(grp_col)['IPAnnualDeductibleAmt'].transform(operation)\n",
    "    test_iobp_df[feat_4] = test_iobp_df.groupby(grp_col)['IPAnnualDeductibleAmt'].transform(operation)\n",
    "\n",
    "    feat_5 = feat_name + \"_OP_Annual_ReImb_Amt\"\n",
    "    train_iobp_df[feat_5] = train_iobp_df.groupby(grp_col)['OPAnnualReimbursementAmt'].transform(operation)\n",
    "    test_iobp_df[feat_5] = test_iobp_df.groupby(grp_col)['OPAnnualReimbursementAmt'].transform(operation)\n",
    "\n",
    "    feat_6 = feat_name + \"_OP_Annual_Ded_Amt\"\n",
    "    train_iobp_df[feat_6] = train_iobp_df.groupby(grp_col)['OPAnnualDeductibleAmt'].transform(operation)\n",
    "    test_iobp_df[feat_6] = test_iobp_df.groupby(grp_col)['OPAnnualDeductibleAmt'].transform(operation)\n",
    "\n",
    "    feat_7 = feat_name + \"_Admit_Duration\"\n",
    "    train_iobp_df[feat_7] = train_iobp_df.groupby(grp_col)['Admitted_Duration'].transform(operation)\n",
    "    test_iobp_df[feat_7] = test_iobp_df.groupby(grp_col)['Admitted_Duration'].transform(operation)\n",
    "\n",
    "    feat_8 = feat_name + \"_Claim_Duration\"\n",
    "    train_iobp_df[feat_8] = train_iobp_df.groupby(grp_col)['Claim_Duration'].transform(operation)\n",
    "    test_iobp_df[feat_8] = test_iobp_df.groupby(grp_col)['Claim_Duration'].transform(operation)"
   ]
  },
  {
   "cell_type": "code",
   "execution_count": null,
   "metadata": {
    "id": "pNqJZY6rYxFq",
    "trusted": true
   },
   "outputs": [],
   "source": [
    "# BENE, PHYs, Diagnosis Admit and Group Codes columns\n",
    "create_agg_feats(grp_col='BeneID', feat_name=\"BENE\")\n",
    "create_agg_feats(grp_col='AttendingPhysician', feat_name=\"ATT_PHY\")\n",
    "create_agg_feats(grp_col='OperatingPhysician', feat_name=\"OPT_PHY\")\n",
    "create_agg_feats(grp_col='OtherPhysician', feat_name=\"OTH_PHY\")\n",
    "create_agg_feats(grp_col='ClmAdmitDiagnosisCode', feat_name=\"Claim_Admit_Diag_Code\")\n",
    "create_agg_feats(grp_col='DiagnosisGroupCode', feat_name=\"Diag_GCode\")"
   ]
  },
  {
   "cell_type": "code",
   "execution_count": null,
   "metadata": {
    "id": "lCkA-oLRYxFs",
    "outputId": "e68960d8-28da-44b1-9e75-036283fb5a43",
    "trusted": true
   },
   "outputs": [],
   "source": [
    "train_iobp_df.shape"
   ]
  },
  {
   "cell_type": "code",
   "execution_count": null,
   "metadata": {
    "id": "IHIqngBIq0af",
    "outputId": "e68960d8-28da-44b1-9e75-036283fb5a43",
    "trusted": true
   },
   "outputs": [],
   "source": [
    "test_iobp_df.shape"
   ]
  },
  {
   "cell_type": "markdown",
   "metadata": {
    "id": "C9bseqGRYxFs"
   },
   "source": [
    "### **Adding `Aggregated Features` :: Based on various combinations of different levels in order to introduce their interactions in the dataset.**\n",
    "    - PROVIDER <--> BENE <--> PHYSICIANS\n",
    "    - PROVIDER <--> BENE <--> ATTENDING PHYSICIAN <--> PROCEDURE CODES\n",
    "    - PROVIDER <--> BENE <--> OPERATING PHYSICIAN <--> PROCEDURE CODES\n",
    "    - PROVIDER <--> BENE <--> OTHER PHYSICIAN <--> PROCEDURE CODES\n",
    "    - PROVIDER <--> BENE <--> ATTENDING PHYSICIAN <--> DIAGNOSIS CODES\n",
    "    - PROVIDER <--> BENE <--> OPERATING PHYSICIAN <--> DIAGNOSIS CODES\n",
    "    - PROVIDER <--> BENE <--> OTHER PHYSICIAN <--> DIAGNOSIS CODES\n",
    "    - PROVIDER <--> BENE <--> DIAGNOSIS CODES <--> PROCEDURE CODES and etc..\n",
    "\n",
    "   * **`Reasoning`** :: The idea behind adding the aggregated features based on the combinations of various features is that many parties or entities might work together to make a medicare fraud. Thus, we need to capture interactions among them to better classify the fraudsters."
   ]
  },
  {
   "cell_type": "code",
   "execution_count": null,
   "metadata": {
    "id": "rrtVUDSHYxFw",
    "trusted": true
   },
   "outputs": [],
   "source": [
    "# PROVIDER <--> other features :: To get claim counts\n",
    "train_iobp_df[\"ClmCount_Provider\"]=train_iobp_df.groupby(['Provider'])['ClaimID'].transform('count')\n",
    "train_iobp_df[\"ClmCount_Provider_BeneID\"]=train_iobp_df.groupby(['Provider','BeneID'])['ClaimID'].transform('count')\n",
    "train_iobp_df[\"ClmCount_Provider_AttendingPhysician\"]=train_iobp_df.groupby(['Provider','AttendingPhysician'])['ClaimID'].transform('count')\n",
    "train_iobp_df[\"ClmCount_Provider_OtherPhysician\"]=train_iobp_df.groupby(['Provider','OtherPhysician'])['ClaimID'].transform('count')\n",
    "train_iobp_df[\"ClmCount_Provider_OperatingPhysician\"]=train_iobp_df.groupby(['Provider','OperatingPhysician'])['ClaimID'].transform('count')\n",
    "\n",
    "# PROVIDER <--> BENE <--> PHYSICIANS :: To get claim counts\n",
    "train_iobp_df[\"ClmCount_Provider_BeneID_AttendingPhysician\"]=train_iobp_df.groupby(['Provider','BeneID','AttendingPhysician'])['ClaimID'].transform('count')\n",
    "train_iobp_df[\"ClmCount_Provider_BeneID_OtherPhysician\"]=train_iobp_df.groupby(['Provider','BeneID','OtherPhysician'])['ClaimID'].transform('count')\n",
    "train_iobp_df[\"ClmCount_Provider_BeneID_OperatingPhysician\"]=train_iobp_df.groupby(['Provider','BeneID','OperatingPhysician'])['ClaimID'].transform('count')"
   ]
  },
  {
   "cell_type": "code",
   "execution_count": null,
   "metadata": {
    "id": "K1nHDbZ0YxFy",
    "outputId": "10a8fbdd-3e6b-4ff7-b095-808216c4517a",
    "trusted": true
   },
   "outputs": [],
   "source": [
    "train_iobp_df.shape"
   ]
  },
  {
   "cell_type": "code",
   "execution_count": null,
   "metadata": {
    "id": "qoXF9da3q0aq",
    "trusted": true
   },
   "outputs": [],
   "source": [
    "# PROVIDER <--> other features :: To get claim counts\n",
    "test_iobp_df[\"ClmCount_Provider\"]=test_iobp_df.groupby(['Provider'])['ClaimID'].transform('count')\n",
    "test_iobp_df[\"ClmCount_Provider_BeneID\"]=test_iobp_df.groupby(['Provider','BeneID'])['ClaimID'].transform('count')\n",
    "test_iobp_df[\"ClmCount_Provider_AttendingPhysician\"]=test_iobp_df.groupby(['Provider','AttendingPhysician'])['ClaimID'].transform('count')\n",
    "test_iobp_df[\"ClmCount_Provider_OtherPhysician\"]=test_iobp_df.groupby(['Provider','OtherPhysician'])['ClaimID'].transform('count')\n",
    "test_iobp_df[\"ClmCount_Provider_OperatingPhysician\"]=test_iobp_df.groupby(['Provider','OperatingPhysician'])['ClaimID'].transform('count')\n",
    "\n",
    "# PROVIDER <--> BENE <--> PHYSICIANS :: To get claim counts\n",
    "test_iobp_df[\"ClmCount_Provider_BeneID_AttendingPhysician\"]=test_iobp_df.groupby(['Provider','BeneID','AttendingPhysician'])['ClaimID'].transform('count')\n",
    "test_iobp_df[\"ClmCount_Provider_BeneID_OtherPhysician\"]=test_iobp_df.groupby(['Provider','BeneID','OtherPhysician'])['ClaimID'].transform('count')\n",
    "test_iobp_df[\"ClmCount_Provider_BeneID_OperatingPhysician\"]=test_iobp_df.groupby(['Provider','BeneID','OperatingPhysician'])['ClaimID'].transform('count')"
   ]
  },
  {
   "cell_type": "code",
   "execution_count": null,
   "metadata": {
    "id": "EvEgC-1Wq0ar",
    "outputId": "10a8fbdd-3e6b-4ff7-b095-808216c4517a",
    "trusted": true
   },
   "outputs": [],
   "source": [
    "test_iobp_df.shape"
   ]
  },
  {
   "cell_type": "code",
   "execution_count": null,
   "metadata": {
    "id": "A-IfH9L7YxF0",
    "trusted": true
   },
   "outputs": [],
   "source": [
    "# Removing unwanted columns\n",
    "remove_unwanted_columns=['BeneID', 'ClaimID', 'ClaimStartDt','ClaimEndDt','AttendingPhysician','OperatingPhysician', 'OtherPhysician',\n",
    "                      'AdmissionDt', 'ClmAdmitDiagnosisCode', 'DischargeDt', 'DiagnosisGroupCode',\n",
    "                      'ClmDiagnosisCode_1', 'ClmDiagnosisCode_2', 'ClmDiagnosisCode_3', 'ClmDiagnosisCode_4', 'ClmDiagnosisCode_5', \n",
    "                      'ClmDiagnosisCode_6', 'ClmDiagnosisCode_7', 'ClmDiagnosisCode_8', 'ClmDiagnosisCode_9', 'ClmDiagnosisCode_10',\n",
    "                      'ClmProcedureCode_1', 'ClmProcedureCode_2', 'ClmProcedureCode_3', 'DOB', 'DOD', 'State', 'County']\n",
    "\n",
    "train_iobp_df.drop(columns=remove_unwanted_columns, axis=1, inplace=True)\n",
    "test_iobp_df.drop(columns=remove_unwanted_columns, axis=1, inplace=True)"
   ]
  },
  {
   "cell_type": "code",
   "execution_count": null,
   "metadata": {
    "id": "R0yIBYw2YxF0",
    "outputId": "583fbe14-9e21-4d11-9582-926ec7b598f0",
    "trusted": true
   },
   "outputs": [],
   "source": [
    "train_iobp_df.shape"
   ]
  },
  {
   "cell_type": "code",
   "execution_count": null,
   "metadata": {
    "id": "oINPFalFq0as",
    "outputId": "583fbe14-9e21-4d11-9582-926ec7b598f0",
    "trusted": true
   },
   "outputs": [],
   "source": [
    "test_iobp_df.shape"
   ]
  },
  {
   "cell_type": "code",
   "execution_count": null,
   "metadata": {
    "id": "MXW3R6wfYxF1",
    "trusted": true
   },
   "outputs": [],
   "source": [
    "# Filling Nulls in Deductible Amt Paid by Patient\n",
    "train_iobp_df['DeductibleAmtPaid'].fillna(value=0, inplace=True)"
   ]
  },
  {
   "cell_type": "code",
   "execution_count": null,
   "metadata": {
    "id": "UmeHvBCyq0as",
    "trusted": true
   },
   "outputs": [],
   "source": [
    "# Filling Nulls in Deductible Amt Paid by Patient\n",
    "test_iobp_df['DeductibleAmtPaid'].fillna(value=0, inplace=True)"
   ]
  },
  {
   "cell_type": "code",
   "execution_count": null,
   "metadata": {
    "id": "BSv_9CscYxF2",
    "trusted": true
   },
   "outputs": [],
   "source": [
    "# Binary encoding the categorical features --> 0 means No and 1 means Yes\n",
    "train_iobp_df['Gender'] = train_iobp_df['Gender'].apply(lambda val: 0 if val == 2 else val)\n",
    "train_iobp_df['PotentialFraud'] = train_iobp_df['PotentialFraud'].apply(lambda val: 0 if val == \"No\" else 1)\n",
    "train_iobp_df['Is_Alive?'] = train_iobp_df['Is_Alive?'].apply(lambda val: 0 if val == \"No\" else 1)\n",
    "\n",
    "train_iobp_df['ChronicCond_Alzheimer'] = train_iobp_df['ChronicCond_Alzheimer'].apply(lambda val: 0 if val == 2 else val)\n",
    "train_iobp_df['ChronicCond_Heartfailure'] = train_iobp_df['ChronicCond_Heartfailure'].apply(lambda val: 0 if val == 2 else val)\n",
    "train_iobp_df['ChronicCond_KidneyDisease'] = train_iobp_df['ChronicCond_KidneyDisease'].apply(lambda val: 0 if val == 2 else val)\n",
    "train_iobp_df['ChronicCond_Cancer'] = train_iobp_df['ChronicCond_Cancer'].apply(lambda val: 0 if val == 2 else val)\n",
    "train_iobp_df['ChronicCond_ObstrPulmonary'] = train_iobp_df['ChronicCond_ObstrPulmonary'].apply(lambda val: 0 if val == 2 else val)\n",
    "train_iobp_df['ChronicCond_Depression'] = train_iobp_df['ChronicCond_Depression'].apply(lambda val: 0 if val == 2 else val)\n",
    "train_iobp_df['ChronicCond_Diabetes'] = train_iobp_df['ChronicCond_Diabetes'].apply(lambda val: 0 if val == 2 else val)\n",
    "train_iobp_df['ChronicCond_IschemicHeart'] = train_iobp_df['ChronicCond_IschemicHeart'].apply(lambda val: 0 if val == 2 else val)\n",
    "train_iobp_df['ChronicCond_Osteoporasis'] = train_iobp_df['ChronicCond_Osteoporasis'].apply(lambda val: 0 if val == 2 else val)\n",
    "train_iobp_df['ChronicCond_rheumatoidarthritis'] = train_iobp_df['ChronicCond_rheumatoidarthritis'].apply(lambda val: 0 if val == 2 else val)\n",
    "train_iobp_df['ChronicCond_stroke'] = train_iobp_df['ChronicCond_stroke'].apply(lambda val: 0 if val == 2 else val)"
   ]
  },
  {
   "cell_type": "code",
   "execution_count": null,
   "metadata": {
    "id": "ryTMh5xTq0at",
    "trusted": true
   },
   "outputs": [],
   "source": [
    "# Binary encoding the categorical features --> 0 means No and 1 means Yes\n",
    "test_iobp_df['Gender'] = test_iobp_df['Gender'].apply(lambda val: 0 if val == 2 else val)\n",
    "test_iobp_df['Is_Alive?'] = test_iobp_df['Is_Alive?'].apply(lambda val: 0 if val == \"No\" else 1)\n",
    "\n",
    "test_iobp_df['ChronicCond_Alzheimer'] = test_iobp_df['ChronicCond_Alzheimer'].apply(lambda val: 0 if val == 2 else val)\n",
    "test_iobp_df['ChronicCond_Heartfailure'] = test_iobp_df['ChronicCond_Heartfailure'].apply(lambda val: 0 if val == 2 else val)\n",
    "test_iobp_df['ChronicCond_KidneyDisease'] = test_iobp_df['ChronicCond_KidneyDisease'].apply(lambda val: 0 if val == 2 else val)\n",
    "test_iobp_df['ChronicCond_Cancer'] = test_iobp_df['ChronicCond_Cancer'].apply(lambda val: 0 if val == 2 else val)\n",
    "test_iobp_df['ChronicCond_ObstrPulmonary'] = test_iobp_df['ChronicCond_ObstrPulmonary'].apply(lambda val: 0 if val == 2 else val)\n",
    "test_iobp_df['ChronicCond_Depression'] = test_iobp_df['ChronicCond_Depression'].apply(lambda val: 0 if val == 2 else val)\n",
    "test_iobp_df['ChronicCond_Diabetes'] = test_iobp_df['ChronicCond_Diabetes'].apply(lambda val: 0 if val == 2 else val)\n",
    "test_iobp_df['ChronicCond_IschemicHeart'] = test_iobp_df['ChronicCond_IschemicHeart'].apply(lambda val: 0 if val == 2 else val)\n",
    "test_iobp_df['ChronicCond_Osteoporasis'] = test_iobp_df['ChronicCond_Osteoporasis'].apply(lambda val: 0 if val == 2 else val)\n",
    "test_iobp_df['ChronicCond_rheumatoidarthritis'] = test_iobp_df['ChronicCond_rheumatoidarthritis'].apply(lambda val: 0 if val == 2 else val)\n",
    "test_iobp_df['ChronicCond_stroke'] = test_iobp_df['ChronicCond_stroke'].apply(lambda val: 0 if val == 2 else val)"
   ]
  },
  {
   "cell_type": "code",
   "execution_count": null,
   "metadata": {
    "id": "RU-Dh403YxF2",
    "trusted": true
   },
   "outputs": [],
   "source": [
    "# Encoding the Categorical features\n",
    "train_iobp_df = pd.get_dummies(train_iobp_df,columns=['Gender', 'Race', 'Admitted?', 'Is_Alive?'], drop_first=True)"
   ]
  },
  {
   "cell_type": "code",
   "execution_count": null,
   "metadata": {
    "id": "I1PxBhikq0au",
    "trusted": true
   },
   "outputs": [],
   "source": [
    "# Encoding the Categorical features\n",
    "test_iobp_df = pd.get_dummies(test_iobp_df,columns=['Gender', 'Race', 'Admitted?', 'Is_Alive?'], drop_first=True)"
   ]
  },
  {
   "cell_type": "code",
   "execution_count": null,
   "metadata": {
    "id": "QEOEJVwpq0au",
    "outputId": "583fbe14-9e21-4d11-9582-926ec7b598f0",
    "trusted": true
   },
   "outputs": [],
   "source": [
    "train_iobp_df.shape"
   ]
  },
  {
   "cell_type": "code",
   "execution_count": null,
   "metadata": {
    "id": "HAX7r8v7q0av",
    "outputId": "583fbe14-9e21-4d11-9582-926ec7b598f0",
    "trusted": true
   },
   "outputs": [],
   "source": [
    "test_iobp_df.shape"
   ]
  },
  {
   "cell_type": "code",
   "execution_count": null,
   "metadata": {
    "id": "gdRpRT8oYxF3",
    "trusted": true
   },
   "outputs": [],
   "source": [
    "pd.set_option('display.max_rows',120)"
   ]
  },
  {
   "cell_type": "code",
   "execution_count": null,
   "metadata": {
    "id": "13RvpVuuYxF4",
    "outputId": "1b68675e-54a3-4c49-8808-7b5b7b62788b",
    "trusted": true
   },
   "outputs": [],
   "source": [
    "# Checking Nulls in the features\n",
    "pd.DataFrame(train_iobp_df.isna().sum())"
   ]
  },
  {
   "cell_type": "code",
   "execution_count": null,
   "metadata": {
    "id": "L3On0Hegq0aw",
    "outputId": "1b68675e-54a3-4c49-8808-7b5b7b62788b",
    "trusted": true
   },
   "outputs": [],
   "source": [
    "# Checking Nulls in the features\n",
    "pd.DataFrame(test_iobp_df.isna().sum())"
   ]
  },
  {
   "cell_type": "code",
   "execution_count": null,
   "metadata": {
    "id": "_n0ZrDCvYxF5",
    "trusted": true
   },
   "outputs": [],
   "source": [
    "# Filling Nulls in the aggregated features\n",
    "train_iobp_df.fillna(value=0, inplace=True)"
   ]
  },
  {
   "cell_type": "code",
   "execution_count": null,
   "metadata": {
    "id": "GgyKhY4mq0ax",
    "trusted": true
   },
   "outputs": [],
   "source": [
    "# Filling Nulls in the aggregated features\n",
    "test_iobp_df.fillna(value=0, inplace=True)"
   ]
  },
  {
   "cell_type": "code",
   "execution_count": null,
   "metadata": {
    "id": "fC6zx2R2YxF5",
    "outputId": "bef8c2da-fd40-4aba-dd73-5940a75ca873",
    "trusted": true
   },
   "outputs": [],
   "source": [
    "# Checking Nulls in the features\n",
    "pd.DataFrame(train_iobp_df.isna().sum())"
   ]
  },
  {
   "cell_type": "code",
   "execution_count": null,
   "metadata": {
    "id": "FeMdA0oLq0ay",
    "outputId": "bef8c2da-fd40-4aba-dd73-5940a75ca873",
    "trusted": true
   },
   "outputs": [],
   "source": [
    "# Checking Nulls in the features\n",
    "pd.DataFrame(test_iobp_df.isna().sum())"
   ]
  },
  {
   "cell_type": "code",
   "execution_count": null,
   "metadata": {
    "id": "N8aw4iPoYxF6",
    "outputId": "e2ede33c-5e8f-4cec-d653-f5422c15d5b8",
    "trusted": true
   },
   "outputs": [],
   "source": [
    "# Checking the Datatypes of the features\n",
    "train_iobp_df.dtypes"
   ]
  },
  {
   "cell_type": "code",
   "execution_count": null,
   "metadata": {
    "id": "WtpdqTCdq0az",
    "outputId": "e2ede33c-5e8f-4cec-d653-f5422c15d5b8",
    "trusted": true
   },
   "outputs": [],
   "source": [
    "# Checking the Datatypes of the features\n",
    "test_iobp_df.dtypes"
   ]
  },
  {
   "cell_type": "markdown",
   "metadata": {
    "id": "aA19z2SuYxF7"
   },
   "source": [
    "## **Entire Data `Aggregation` :: At provider level**\n",
    "\n",
    "   * **`Reasoning`** :: The main objective is to predict the `Medicare Provider Fraud`. Thus, here we are grouping the entire dataset at the level of PROVIDER and taking SUM of all the columns to create n-dimensional representation of each provider."
   ]
  },
  {
   "cell_type": "code",
   "execution_count": null,
   "metadata": {
    "id": "M6sseco_YxF7",
    "trusted": true
   },
   "outputs": [],
   "source": [
    "train_iobp_df = train_iobp_df.groupby(['Provider','PotentialFraud'],as_index=False).agg('sum')"
   ]
  },
  {
   "cell_type": "code",
   "execution_count": null,
   "metadata": {
    "id": "469l_Le5q0a0",
    "trusted": true
   },
   "outputs": [],
   "source": [
    "test_iobp_df = test_iobp_df.groupby(['Provider'],as_index=False).agg('sum')"
   ]
  },
  {
   "cell_type": "code",
   "execution_count": null,
   "metadata": {
    "id": "0DwYAF2xYxF8",
    "outputId": "691f3482-6f74-43d3-cba3-fec2904149e5",
    "trusted": true
   },
   "outputs": [],
   "source": [
    "train_iobp_df.shape"
   ]
  },
  {
   "cell_type": "code",
   "execution_count": null,
   "metadata": {
    "id": "qdU5xlESq0a1",
    "outputId": "691f3482-6f74-43d3-cba3-fec2904149e5",
    "trusted": true
   },
   "outputs": [],
   "source": [
    "test_iobp_df.shape"
   ]
  },
  {
   "cell_type": "markdown",
   "metadata": {
    "id": "Af9an9wSYxF9"
   },
   "source": [
    "## **`Data Segregation` :: Creating separate sets of independent features and target column.**\n",
    "\n",
    "   * **`Reasoning`** :: These sets will be used for training the ML Models."
   ]
  },
  {
   "cell_type": "code",
   "execution_count": null,
   "metadata": {
    "id": "iIZV-VktYxF_",
    "trusted": true
   },
   "outputs": [],
   "source": [
    "X = train_iobp_df.drop(axis=1, columns=['Provider','PotentialFraud'])\n",
    "y = train_iobp_df['PotentialFraud']"
   ]
  },
  {
   "cell_type": "code",
   "execution_count": null,
   "metadata": {
    "id": "dhWdBYzQq0a3",
    "trusted": true
   },
   "outputs": [],
   "source": [
    "X_unseen = test_iobp_df.drop(axis=1, columns=['Provider'])\n",
    "y_unseen_prvs = test_iobp_df['Provider']"
   ]
  },
  {
   "cell_type": "code",
   "execution_count": null,
   "metadata": {
    "id": "AmwMkD4mYxGB",
    "outputId": "dece1b07-b3f6-4d4c-de76-58c3b74bd7e6",
    "trusted": true
   },
   "outputs": [],
   "source": [
    "X.shape, type(X), y.shape, type(y)"
   ]
  },
  {
   "cell_type": "code",
   "execution_count": null,
   "metadata": {
    "id": "Noqa7bNQq0a5",
    "outputId": "dece1b07-b3f6-4d4c-de76-58c3b74bd7e6",
    "trusted": true
   },
   "outputs": [],
   "source": [
    "X_unseen.shape, type(X), y_unseen_prvs.shape, type(y_unseen_prvs)"
   ]
  },
  {
   "cell_type": "code",
   "execution_count": null,
   "metadata": {
    "id": "ONMDoLfKYxGC",
    "outputId": "a5621af0-5c65-41a8-f1ca-7a8423abc9e8",
    "trusted": true
   },
   "outputs": [],
   "source": [
    "X.head()"
   ]
  },
  {
   "cell_type": "code",
   "execution_count": null,
   "metadata": {
    "id": "1IqBbQsoq0a6",
    "outputId": "f8b7d8f6-88e8-4a65-bc70-0c731f2696c3",
    "trusted": true
   },
   "outputs": [],
   "source": [
    "X_unseen.head()"
   ]
  },
  {
   "cell_type": "code",
   "execution_count": null,
   "metadata": {
    "id": "zi2uPKQuYxGC",
    "outputId": "00ff36fd-97dc-4998-87f4-ad47befb0f4f",
    "trusted": true
   },
   "outputs": [],
   "source": [
    "y.head()"
   ]
  },
  {
   "cell_type": "code",
   "execution_count": null,
   "metadata": {
    "id": "8Y2EnNhGq0a7",
    "outputId": "5abded1c-f7bc-4656-a3de-a7d56502a66f",
    "trusted": true
   },
   "outputs": [],
   "source": [
    "y_unseen_prvs"
   ]
  },
  {
   "cell_type": "markdown",
   "metadata": {
    "id": "VD2vxhwLYxGD"
   },
   "source": [
    "## **`Train Test Split` :: Creating TRAIN and VALIDATION sets.**\n",
    "\n",
    "   * **`Reasoning`** :: These sets will be used for measurng the performance of ML Models."
   ]
  },
  {
   "cell_type": "code",
   "execution_count": null,
   "metadata": {
    "id": "RmugO0K_YxGE",
    "trusted": true
   },
   "outputs": [],
   "source": [
    "from sklearn.model_selection import train_test_split as tts"
   ]
  },
  {
   "cell_type": "code",
   "execution_count": null,
   "metadata": {
    "id": "mHVjshguYxGE",
    "trusted": true
   },
   "outputs": [],
   "source": [
    "X_train, X_test, y_train, y_test = tts(X, y, test_size=0.20, stratify=y, random_state=39)"
   ]
  },
  {
   "cell_type": "code",
   "execution_count": null,
   "metadata": {
    "id": "NTScQfCRYxGF",
    "outputId": "33ed05d7-53c0-46ff-ce25-ee28236c59d4",
    "trusted": true
   },
   "outputs": [],
   "source": [
    "# Checking shape of each set\n",
    "X_train.shape, X_test.shape, y_train.shape, y_test.shape"
   ]
  },
  {
   "cell_type": "code",
   "execution_count": null,
   "metadata": {
    "id": "eDlzKlRLYxGF",
    "outputId": "bc1493c9-8473-4987-e344-3d87687e106f",
    "trusted": true
   },
   "outputs": [],
   "source": [
    "# Checking count of tgt labels in y_train\n",
    "y_train.value_counts()"
   ]
  },
  {
   "cell_type": "code",
   "execution_count": null,
   "metadata": {
    "id": "bv2zU9EGYxGG",
    "outputId": "6ba9ef10-6e40-4451-8c98-02317d92fc78",
    "trusted": true
   },
   "outputs": [],
   "source": [
    "# Checking count of tgt labels in y_test\n",
    "y_test.value_counts()"
   ]
  },
  {
   "cell_type": "markdown",
   "metadata": {
    "id": "tEI7U2krYxGH"
   },
   "source": [
    "## **`Standardizing the TRAIN & TEST sets` :: Bringing every feature into the same scale.**"
   ]
  },
  {
   "cell_type": "code",
   "execution_count": null,
   "metadata": {
    "id": "McX24RjqYxGH",
    "trusted": true
   },
   "outputs": [],
   "source": [
    "from sklearn.preprocessing import RobustScaler"
   ]
  },
  {
   "cell_type": "code",
   "execution_count": null,
   "metadata": {
    "id": "V5xuwYLsYxGI",
    "trusted": true
   },
   "outputs": [],
   "source": [
    "# Standardize the data (train and test)\n",
    "robust_scaler = RobustScaler()\n",
    "robust_scaler.fit(X_train)\n",
    "X_train_std = robust_scaler.transform(X_train)\n",
    "X_test_std = robust_scaler.transform(X_test)\n",
    "X_unseen_std = robust_scaler.transform(X_unseen)"
   ]
  },
  {
   "cell_type": "markdown",
   "metadata": {
    "id": "z532QrJwYxGI"
   },
   "source": [
    "## **`Baseline Model Training`**"
   ]
  },
  {
   "cell_type": "markdown",
   "metadata": {
    "id": "Xm04FJT5q0a_"
   },
   "source": [
    "### **`Using Class Weighting Scheme`**"
   ]
  },
  {
   "cell_type": "markdown",
   "metadata": {
    "id": "zAD9I_AlYxGJ"
   },
   "source": [
    "#### **`1. Logistic Regression`**"
   ]
  },
  {
   "cell_type": "code",
   "execution_count": null,
   "metadata": {
    "id": "B8ja1V9SYxGJ",
    "trusted": true
   },
   "outputs": [],
   "source": [
    "from sklearn.linear_model import LogisticRegressionCV\n",
    "from sklearn import metrics\n",
    "from sklearn.metrics import accuracy_score, precision_score, recall_score, f1_score, roc_auc_score, confusion_matrix, roc_curve, auc\n",
    "from sklearn.linear_model import LogisticRegression\n",
    "from sklearn.model_selection import GridSearchCV\n",
    "from sklearn.model_selection import RandomizedSearchCV\n",
    "from sklearn.calibration import CalibratedClassifierCV"
   ]
  },
  {
   "cell_type": "code",
   "execution_count": null,
   "metadata": {
    "id": "Pmt17FoAcjNm",
    "outputId": "ec7fcb89-6961-467a-f535-85d3185a16f3",
    "trusted": true
   },
   "outputs": [],
   "source": [
    "# Training the model with all features and hyper-parameterized values\n",
    "log_reg_1 = LogisticRegression(C=0.03, penalty='l1',\n",
    "                               fit_intercept=True, solver='liblinear', tol=0.0001, max_iter=500, \n",
    "                               class_weight='balanced',\n",
    "                               verbose=0, \n",
    "                               intercept_scaling=1.0,\n",
    "                               multi_class='auto',\n",
    "                               random_state=49)\n",
    "\n",
    "log_reg_1.fit(X_train_std, y_train)"
   ]
  },
  {
   "cell_type": "code",
   "execution_count": null,
   "metadata": {
    "id": "zGBb6fFGeSk5",
    "outputId": "b70bc2ac-8723-427e-9613-35de898940b7",
    "trusted": true
   },
   "outputs": [],
   "source": [
    "# Validate Logistic Regression model\n",
    "test_auc, train_f1_score, test_f1_score, best_t = validate_model(log_reg_1, X_train_std, X_test_std, y_train, y_test)\n",
    "\n",
    "print(\"\\n\")\n",
    "print(\"### Best Threshold = {:.4f}\".format(best_t))\n",
    "print(\"### Model AUC is : {:.4f}\".format(test_auc))\n",
    "print(\"### Model Train F1 Score is : {:.4f}\".format(train_f1_score))\n",
    "print(\"### Model Test F1 Score is : {:.4f}\".format(test_f1_score))"
   ]
  },
  {
   "cell_type": "code",
   "execution_count": null,
   "metadata": {
    "id": "uh2PE1hyq0bE",
    "outputId": "d04097e0-07c7-4692-8d2c-41b9f4552250",
    "trusted": true
   },
   "outputs": [],
   "source": [
    "feats_imps = pd.DataFrame({'Features': X_train.columns, 'Importance_Model_1': log_reg_1.coef_[0]})\n",
    "feats_imps = feats_imps[feats_imps['Importance_Model_1'] != 0]\n",
    "feats_imps.reset_index(drop=True, inplace=True)\n",
    "feats_imps.head()"
   ]
  },
  {
   "cell_type": "code",
   "execution_count": null,
   "metadata": {
    "id": "KJfaefeSq0bE",
    "trusted": true
   },
   "outputs": [],
   "source": [
    "top_15_pos_feats = feats_imps.sort_values(by='Importance_Model_1',axis=0,ascending=False)['Features'].iloc[0:15]\n",
    "top_15_pos_feats_scores = feats_imps.sort_values(by='Importance_Model_1',axis=0,ascending=False)['Importance_Model_1'].iloc[0:15]"
   ]
  },
  {
   "cell_type": "code",
   "execution_count": null,
   "metadata": {
    "id": "rkKMvC7Dq0bF",
    "trusted": true
   },
   "outputs": [],
   "source": [
    "top_15_neg_feats = feats_imps.sort_values(by='Importance_Model_1',axis=0,ascending=True)['Features'].iloc[0:15]\n",
    "top_15_neg_feats_scores = feats_imps.sort_values(by='Importance_Model_1',axis=0,ascending=True)['Importance_Model_1'].iloc[0:15]"
   ]
  },
  {
   "cell_type": "code",
   "execution_count": null,
   "metadata": {
    "id": "_mB_CCvuq0bF",
    "outputId": "44aa7d7e-97ac-4985-9738-b98c9a26ada7",
    "trusted": true
   },
   "outputs": [],
   "source": [
    "with plt.style.context('seaborn-poster'):\n",
    "    sns.barplot(y=top_15_pos_feats, x=top_15_pos_feats_scores, orient='h', palette='coolwarm')\n",
    "    plt.xlabel(\"\\nFeatures Importance\", fontdict=label_font_dict)\n",
    "    plt.ylabel(\"Features\\n\", fontdict=label_font_dict)\n",
    "    plt.title(\"Top 15 Importance Positive Features\\n\", fontdict=title_font_dict)"
   ]
  },
  {
   "cell_type": "code",
   "execution_count": null,
   "metadata": {
    "id": "JYxEkAjlq0bG",
    "outputId": "904db30b-cdec-4fad-8b76-d65e5ee89095",
    "trusted": true
   },
   "outputs": [],
   "source": [
    "with plt.style.context('seaborn-poster'):\n",
    "    sns.barplot(y=top_15_neg_feats, x=top_15_neg_feats_scores, orient='h', palette='coolwarm')\n",
    "    plt.xlabel(\"\\nFeatures Importance\", fontdict=label_font_dict)\n",
    "    plt.ylabel(\"Features\\n\", fontdict=label_font_dict)\n",
    "    plt.title(\"Top 15 Importance Negative Features\\n\", fontdict=title_font_dict)"
   ]
  },
  {
   "cell_type": "markdown",
   "metadata": {
    "id": "YV-ed2Xeq0bH"
   },
   "source": [
    "#### **`2. Decision Tree`**"
   ]
  },
  {
   "cell_type": "code",
   "execution_count": null,
   "metadata": {
    "id": "tv9XFwPiq0bH",
    "trusted": true
   },
   "outputs": [],
   "source": [
    "from sklearn.tree import DecisionTreeClassifier"
   ]
  },
  {
   "cell_type": "code",
   "execution_count": null,
   "metadata": {
    "id": "QaI3UZ-eq0bJ",
    "outputId": "c0951cbf-d6ee-4ed4-db9a-b424366c115b",
    "trusted": true
   },
   "outputs": [],
   "source": [
    "# Training the model with all features and hyper-parameterized values\n",
    "dec_tree_2 = DecisionTreeClassifier(criterion='gini',\n",
    "                                   max_depth= 6,\n",
    "                                   max_features='auto',\n",
    "                                   min_samples_leaf=100,\n",
    "                                   min_samples_split=50,\n",
    "                                   class_weight='balanced',\n",
    "                                   random_state=49,\n",
    "                                   splitter='best',\n",
    "                                   min_weight_fraction_leaf=0.0,\n",
    "                                   max_leaf_nodes=None,\n",
    "                                   min_impurity_decrease=0.0,\n",
    "                                   ccp_alpha=0.0,)\n",
    "\n",
    "dec_tree_2.fit(X_train_std, y_train)"
   ]
  },
  {
   "cell_type": "code",
   "execution_count": null,
   "metadata": {
    "id": "2ylZa6TRq0bK",
    "outputId": "ce3315a8-fb62-4a81-c129-c5f6f645cd36",
    "trusted": true
   },
   "outputs": [],
   "source": [
    "# Validate model\n",
    "test_auc, train_f1_score, test_f1_score, best_t = validate_model(dec_tree_2, X_train_std, X_test_std, y_train, y_test)\n",
    "\n",
    "print(\"\\n\")\n",
    "print(\"### Best Threshold = {:.4f}\".format(best_t))\n",
    "print(\"### Model AUC is : {:.4f}\".format(test_auc))\n",
    "print(\"### Model Train F1 Score is : {:.4f}\".format(train_f1_score))\n",
    "print(\"### Model Test F1 Score is : {:.4f}\".format(test_f1_score))"
   ]
  },
  {
   "cell_type": "code",
   "execution_count": null,
   "metadata": {
    "id": "hglpUv8cq0bK",
    "outputId": "7fb9c113-88b2-4987-dc9d-7f6c114fb21d",
    "trusted": true
   },
   "outputs": [],
   "source": [
    "feats_imps = pd.DataFrame({'Features': X_train.columns, 'Importance_Model_1': dec_tree_2.feature_importances_})\n",
    "feats_imps = feats_imps[feats_imps['Importance_Model_1'] != 0]\n",
    "feats_imps.reset_index(drop=True, inplace=True)\n",
    "feats_imps.head()"
   ]
  },
  {
   "cell_type": "code",
   "execution_count": null,
   "metadata": {
    "id": "LKrIbddlq0bK",
    "trusted": true
   },
   "outputs": [],
   "source": [
    "top_15_pos_feats = feats_imps.sort_values(by='Importance_Model_1',axis=0,ascending=False)['Features'].iloc[0:15]\n",
    "top_15_pos_feats_scores = feats_imps.sort_values(by='Importance_Model_1',axis=0,ascending=False)['Importance_Model_1'].iloc[0:15]"
   ]
  },
  {
   "cell_type": "code",
   "execution_count": null,
   "metadata": {
    "id": "pL8qDA7iq0bL",
    "outputId": "8b3226cf-0529-440d-ce7b-f221763da9eb",
    "trusted": true
   },
   "outputs": [],
   "source": [
    "with plt.style.context('seaborn-poster'):\n",
    "    sns.barplot(y=top_15_pos_feats, x=top_15_pos_feats_scores, orient='h', palette='coolwarm')\n",
    "    plt.xlabel(\"\\nFeatures Importance\", fontdict=label_font_dict)\n",
    "    plt.ylabel(\"Features\\n\", fontdict=label_font_dict)\n",
    "    plt.title(\"Top 15 Importance Positive Features\\n\", fontdict=title_font_dict)"
   ]
  },
  {
   "cell_type": "markdown",
   "metadata": {
    "id": "gvorKjd7q0bL"
   },
   "source": [
    "#### **`3. Random Forest Classifier`**"
   ]
  },
  {
   "cell_type": "code",
   "execution_count": null,
   "metadata": {
    "id": "FiGuP8rsq0bL",
    "trusted": true
   },
   "outputs": [],
   "source": [
    "from sklearn.ensemble import RandomForestClassifier"
   ]
  },
  {
   "cell_type": "code",
   "execution_count": null,
   "metadata": {
    "id": "x5uDbGB3q0bL",
    "outputId": "c2103c1c-32db-4bb7-baa2-e9255d2e11c8",
    "trusted": true
   },
   "outputs": [],
   "source": [
    "# Training the model with all features and hyper-parameterized values\n",
    "rfc_3 = RandomForestClassifier(n_estimators=30,criterion='gini',\n",
    "                                   max_depth= 4,\n",
    "                                   max_features='auto',\n",
    "                                   min_samples_leaf=50,\n",
    "                                   min_samples_split=50,\n",
    "                                   class_weight='balanced',\n",
    "                                   random_state=49,\n",
    "                                   min_weight_fraction_leaf=0.0,\n",
    "                                   max_leaf_nodes=None,\n",
    "                                   min_impurity_decrease=0.0,\n",
    "                                   ccp_alpha=0.0,)\n",
    "\n",
    "rfc_3.fit(X_train_std, y_train)"
   ]
  },
  {
   "cell_type": "code",
   "execution_count": null,
   "metadata": {
    "id": "RmGMdhPTq0bM",
    "outputId": "f59f31f0-78ec-4eee-b930-b7169e007f04",
    "trusted": true
   },
   "outputs": [],
   "source": [
    "# Validate model\n",
    "test_auc, train_f1_score, test_f1_score, best_t = validate_model(rfc_3, X_train_std, X_test_std, y_train, y_test)\n",
    "\n",
    "print(\"\\n\")\n",
    "print(\"### Best Threshold = {:.4f}\".format(best_t))\n",
    "print(\"### Model AUC is : {:.4f}\".format(test_auc))\n",
    "print(\"### Model Train F1 Score is : {:.4f}\".format(train_f1_score))\n",
    "print(\"### Model Test F1 Score is : {:.4f}\".format(test_f1_score))"
   ]
  },
  {
   "cell_type": "code",
   "execution_count": null,
   "metadata": {
    "id": "ooWaDmN1q0bM",
    "outputId": "276b2177-a167-47b6-9140-672ec0eca478",
    "trusted": true
   },
   "outputs": [],
   "source": [
    "feats_imps = pd.DataFrame({'Features': X_train.columns, 'Importance_Model_1': rfc_3.feature_importances_})\n",
    "feats_imps = feats_imps[feats_imps['Importance_Model_1'] != 0]\n",
    "feats_imps.reset_index(drop=True, inplace=True)\n",
    "feats_imps.head()"
   ]
  },
  {
   "cell_type": "code",
   "execution_count": null,
   "metadata": {
    "id": "_YeSOZW3q0bN",
    "trusted": true
   },
   "outputs": [],
   "source": [
    "top_20_pos_feats = feats_imps.sort_values(by='Importance_Model_1',axis=0,ascending=False)['Features'].iloc[0:20]\n",
    "top_20_pos_feats_scores = feats_imps.sort_values(by='Importance_Model_1',axis=0,ascending=False)['Importance_Model_1'].iloc[0:20]"
   ]
  },
  {
   "cell_type": "code",
   "execution_count": null,
   "metadata": {
    "id": "qZmXkpDUq0bN",
    "outputId": "f108c599-cdcf-4e07-95aa-1ad5159ebf36",
    "trusted": true
   },
   "outputs": [],
   "source": [
    "with plt.style.context('seaborn-poster'):\n",
    "    sns.barplot(y=top_20_pos_feats, x=top_20_pos_feats_scores, orient='h', palette='coolwarm')\n",
    "    plt.xlabel(\"\\nFeatures Importance\", fontdict=label_font_dict)\n",
    "    plt.ylabel(\"Features\\n\", fontdict=label_font_dict)\n",
    "    plt.title(\"Top 20 Importance Positive Features\\n\", fontdict=title_font_dict)"
   ]
  },
  {
   "cell_type": "markdown",
   "metadata": {
    "id": "VOaOuabmq0bO"
   },
   "source": [
    "### **`Using Minority Synthetic Oversampling`**"
   ]
  },
  {
   "cell_type": "markdown",
   "metadata": {
    "id": "H5LU8Yi1q0bO"
   },
   "source": [
    "#### **`Train Test Split` :: Creating TRAIN and VALIDATION sets.**\n",
    "\n",
    "   * **`Reasoning`** :: These sets will be used for measurng the performance of ML Models."
   ]
  },
  {
   "cell_type": "code",
   "execution_count": null,
   "metadata": {
    "id": "R9MIYqrIq0bO",
    "trusted": true
   },
   "outputs": [],
   "source": [
    "from sklearn.model_selection import train_test_split as tts"
   ]
  },
  {
   "cell_type": "code",
   "execution_count": null,
   "metadata": {
    "id": "YM5uMh-tq0bP",
    "trusted": true
   },
   "outputs": [],
   "source": [
    "X_train, X_test, y_train, y_test = tts(X, y, test_size=0.25, stratify=y, random_state=39)"
   ]
  },
  {
   "cell_type": "code",
   "execution_count": null,
   "metadata": {
    "id": "rZXVXLRqq0bP",
    "outputId": "33ed05d7-53c0-46ff-ce25-ee28236c59d4",
    "trusted": true
   },
   "outputs": [],
   "source": [
    "# Checking shape of each set\n",
    "X_train.shape, X_test.shape, y_train.shape, y_test.shape"
   ]
  },
  {
   "cell_type": "code",
   "execution_count": null,
   "metadata": {
    "id": "4zRSPDD-q0bP",
    "outputId": "bc1493c9-8473-4987-e344-3d87687e106f",
    "trusted": true
   },
   "outputs": [],
   "source": [
    "# Checking count of tgt labels in y_train\n",
    "y_train.value_counts()"
   ]
  },
  {
   "cell_type": "code",
   "execution_count": null,
   "metadata": {
    "id": "sg9yb_xJq0bQ",
    "outputId": "6ba9ef10-6e40-4451-8c98-02317d92fc78",
    "trusted": true
   },
   "outputs": [],
   "source": [
    "# Checking count of tgt labels in y_test\n",
    "y_test.value_counts()"
   ]
  },
  {
   "cell_type": "markdown",
   "metadata": {
    "id": "JA93ex42q0bQ"
   },
   "source": [
    "#### **`Standardizing the TRAIN & TEST sets` :: Bringing every feature into the same scale.**"
   ]
  },
  {
   "cell_type": "code",
   "execution_count": null,
   "metadata": {
    "id": "p1137-F5q0bR",
    "trusted": true
   },
   "outputs": [],
   "source": [
    "from sklearn.preprocessing import RobustScaler"
   ]
  },
  {
   "cell_type": "code",
   "execution_count": null,
   "metadata": {
    "id": "CwTyc6xvq0bR",
    "trusted": true
   },
   "outputs": [],
   "source": [
    "# Standardize the data (train and test)\n",
    "robust_scaler = RobustScaler()\n",
    "robust_scaler.fit(X_train)\n",
    "X_train_std = robust_scaler.transform(X_train)\n",
    "X_test_std = robust_scaler.transform(X_test)"
   ]
  },
  {
   "cell_type": "code",
   "execution_count": null,
   "metadata": {
    "id": "Yk1bVBdnq0bR",
    "trusted": true
   },
   "outputs": [],
   "source": [
    "from collections import Counter"
   ]
  },
  {
   "cell_type": "code",
   "execution_count": null,
   "metadata": {
    "id": "bszwuIKvq0bS",
    "outputId": "6eb99979-a486-45ac-ae8d-d225818b2c58",
    "trusted": true
   },
   "outputs": [],
   "source": [
    "# BEFORE Oversampling :: Checking the percentage share of fraud and non-fraud records in the TRAIN set\n",
    "counter = Counter(y_train)\n",
    "counter"
   ]
  },
  {
   "cell_type": "code",
   "execution_count": null,
   "metadata": {
    "id": "-JQtGVQ5q0bS",
    "outputId": "b99bb24c-0c34-4e39-c0ea-2ee20b332897",
    "trusted": true
   },
   "outputs": [],
   "source": [
    "fraud_percentage = (counter[1]*100 / (counter[0]+counter[1]))\n",
    "non_fraud_percentage = (counter[0]*100 / (counter[0]+counter[1]))\n",
    "print(\"Fraud Percentage = {:.2f}% and Non-Fraud Percentage = {:.2f}%\".format(fraud_percentage, non_fraud_percentage))"
   ]
  },
  {
   "cell_type": "code",
   "execution_count": null,
   "metadata": {
    "id": "Pie0LxPDq0bT",
    "trusted": true
   },
   "outputs": [],
   "source": [
    "# Performing minority oversampling\n",
    "from imblearn.over_sampling import ADASYN"
   ]
  },
  {
   "cell_type": "code",
   "execution_count": null,
   "metadata": {
    "id": "nQk_uOzYq0bT",
    "outputId": "cb17a7e2-3912-473a-bc4a-78cb64257b5e",
    "trusted": true
   },
   "outputs": [],
   "source": [
    "oversample = ADASYN(sampling_strategy=0.35, n_neighbors=12)\n",
    "X_train_ovsamp, y_train_ovsamp = oversample.fit_resample(X_train_std, y_train)\n",
    "\n",
    "X_train_ovsamp.shape, y_train_ovsamp.shape"
   ]
  },
  {
   "cell_type": "code",
   "execution_count": null,
   "metadata": {
    "id": "cnALgXNNq0bT",
    "outputId": "5ad6c036-2eab-406d-ab51-1b8d17d8c107",
    "trusted": true
   },
   "outputs": [],
   "source": [
    "counter = Counter(y_train_ovsamp)\n",
    "counter"
   ]
  },
  {
   "cell_type": "code",
   "execution_count": null,
   "metadata": {
    "id": "9W9GrsfJq0bU",
    "outputId": "1573a53f-42e3-494c-d250-1790a04cbf21",
    "trusted": true
   },
   "outputs": [],
   "source": [
    "fraud_percentage = (counter[1]*100 / (counter[0]+counter[1]))\n",
    "non_fraud_percentage = (counter[0]*100 / (counter[0]+counter[1]))\n",
    "print(\"Fraud Percentage = {:.2f}% and Non-Fraud Percentage = {:.2f}%\".format(fraud_percentage, non_fraud_percentage))"
   ]
  },
  {
   "cell_type": "markdown",
   "metadata": {
    "id": "xZesxgKCq0bU"
   },
   "source": [
    "#### **`4. Logistic Regression`**"
   ]
  },
  {
   "cell_type": "code",
   "execution_count": null,
   "metadata": {
    "id": "YcP8QJX_q0bV",
    "outputId": "00df9872-e76a-4ae4-9bc7-ecdf5eed0377",
    "trusted": true
   },
   "outputs": [],
   "source": [
    "# Training the model with all features and hyper-parameterized values\n",
    "log_reg_4 = LogisticRegression(C=0.03, penalty='l1',\n",
    "                               fit_intercept=True, \n",
    "                               solver='liblinear', \n",
    "                               tol=0.0001, \n",
    "                               max_iter=500, \n",
    "                               verbose=0, \n",
    "                               intercept_scaling=1.0,\n",
    "                               multi_class='auto',\n",
    "                               random_state=49)\n",
    "\n",
    "log_reg_4.fit(X_train_ovsamp, y_train_ovsamp)"
   ]
  },
  {
   "cell_type": "code",
   "execution_count": null,
   "metadata": {
    "id": "wyJ6L97vq0bV",
    "outputId": "e08317bc-2bb5-4eed-8607-96a17022b3d7",
    "trusted": true
   },
   "outputs": [],
   "source": [
    "# Validate Logistic Regression model\n",
    "test_auc, train_f1_score, test_f1_score, best_t = validate_model(log_reg_4, X_train_ovsamp, X_test_std, y_train_ovsamp, y_test)\n",
    "\n",
    "print(\"\\n\")\n",
    "print(\"### Best Threshold = {:.4f}\".format(best_t))\n",
    "print(\"### Model AUC is : {:.4f}\".format(test_auc))\n",
    "print(\"### Model Train F1 Score is : {:.4f}\".format(train_f1_score))\n",
    "print(\"### Model Test F1 Score is : {:.4f}\".format(test_f1_score))"
   ]
  },
  {
   "cell_type": "code",
   "execution_count": null,
   "metadata": {
    "id": "CKG2boHOq0bW",
    "outputId": "7a7fac96-e583-4bab-ed48-d9905cda4be5",
    "trusted": true
   },
   "outputs": [],
   "source": [
    "feats_imps = pd.DataFrame({'Features': X_train.columns, 'Importance_Model_1': log_reg_4.coef_[0]})\n",
    "feats_imps = feats_imps[feats_imps['Importance_Model_1'] != 0]\n",
    "feats_imps.reset_index(drop=True, inplace=True)\n",
    "feats_imps.head()"
   ]
  },
  {
   "cell_type": "code",
   "execution_count": null,
   "metadata": {
    "id": "_nuFW7r-q0bW",
    "trusted": true
   },
   "outputs": [],
   "source": [
    "top_15_pos_feats = feats_imps.sort_values(by='Importance_Model_1',axis=0,ascending=False)['Features'].iloc[0:15]\n",
    "top_15_pos_feats_scores = feats_imps.sort_values(by='Importance_Model_1',axis=0,ascending=False)['Importance_Model_1'].iloc[0:15]"
   ]
  },
  {
   "cell_type": "code",
   "execution_count": null,
   "metadata": {
    "id": "q9MfhSrpq0bX",
    "trusted": true
   },
   "outputs": [],
   "source": [
    "top_15_neg_feats = feats_imps.sort_values(by='Importance_Model_1',axis=0,ascending=True)['Features'].iloc[0:15]\n",
    "top_15_neg_feats_scores = feats_imps.sort_values(by='Importance_Model_1',axis=0,ascending=True)['Importance_Model_1'].iloc[0:15]"
   ]
  },
  {
   "cell_type": "code",
   "execution_count": null,
   "metadata": {
    "id": "wcnBdE5pq0bY",
    "outputId": "eb73592b-90e6-4d9d-b29a-c9719bfb57c0",
    "trusted": true
   },
   "outputs": [],
   "source": [
    "with plt.style.context('seaborn-poster'):\n",
    "    sns.barplot(y=top_15_pos_feats, x=top_15_pos_feats_scores, orient='h', palette='coolwarm')\n",
    "    plt.xlabel(\"\\nFeatures Importance\", fontdict=label_font_dict)\n",
    "    plt.ylabel(\"Features\\n\", fontdict=label_font_dict)\n",
    "    plt.title(\"Top 15 Importance Positive Features\\n\", fontdict=title_font_dict)"
   ]
  },
  {
   "cell_type": "code",
   "execution_count": null,
   "metadata": {
    "id": "5n8wxzzhq0ba",
    "outputId": "1862df05-9bf1-456c-bd3e-977220ee8aae",
    "trusted": true
   },
   "outputs": [],
   "source": [
    "with plt.style.context('seaborn-poster'):\n",
    "    sns.barplot(y=top_15_neg_feats, x=top_15_neg_feats_scores, orient='h', palette='coolwarm')\n",
    "    plt.xlabel(\"\\nFeatures Importance\", fontdict=label_font_dict)\n",
    "    plt.ylabel(\"Features\\n\", fontdict=label_font_dict)\n",
    "    plt.title(\"Top 15 Importance Negative Features\\n\", fontdict=title_font_dict)"
   ]
  },
  {
   "cell_type": "markdown",
   "metadata": {
    "id": "XzQcg5RBq0ba"
   },
   "source": [
    "#### **`5. Decision Tree`**"
   ]
  },
  {
   "cell_type": "code",
   "execution_count": null,
   "metadata": {
    "id": "ZU_rKZvmq0bb",
    "trusted": true
   },
   "outputs": [],
   "source": [
    "from sklearn.tree import DecisionTreeClassifier"
   ]
  },
  {
   "cell_type": "code",
   "execution_count": null,
   "metadata": {
    "id": "opt9Sw9qq0bb",
    "outputId": "d4938add-2cf4-4fdd-d96f-407e9738f0b8",
    "trusted": true
   },
   "outputs": [],
   "source": [
    "# Training the model with all features and hyper-parameterized values\n",
    "dec_tree_5 = DecisionTreeClassifier(criterion='gini',\n",
    "                                   max_depth= 6,\n",
    "                                   max_features='log2',\n",
    "                                   min_samples_leaf=150,\n",
    "                                   min_samples_split=150,\n",
    "                                   random_state=49,\n",
    "                                   splitter='best',\n",
    "                                   min_weight_fraction_leaf=0.0,\n",
    "                                   max_leaf_nodes=None,\n",
    "                                   min_impurity_decrease=0.0,\n",
    "                                   ccp_alpha=0.0,)\n",
    "\n",
    "dec_tree_5.fit(X_train_ovsamp, y_train_ovsamp)"
   ]
  },
  {
   "cell_type": "code",
   "execution_count": null,
   "metadata": {
    "id": "ULtRSmsjq0bb",
    "outputId": "f5f651ee-ea78-4eb2-89d5-46f6487cb177",
    "trusted": true
   },
   "outputs": [],
   "source": [
    "# Validate model\n",
    "test_auc, train_f1_score, test_f1_score, best_t = validate_model(dec_tree_5, X_train_ovsamp, X_test_std, y_train_ovsamp, y_test)\n",
    "\n",
    "print(\"\\n\")\n",
    "print(\"### Best Threshold = {:.4f}\".format(best_t))\n",
    "print(\"### Model AUC is : {:.4f}\".format(test_auc))\n",
    "print(\"### Model Train F1 Score is : {:.4f}\".format(train_f1_score))\n",
    "print(\"### Model Test F1 Score is : {:.4f}\".format(test_f1_score))"
   ]
  },
  {
   "cell_type": "code",
   "execution_count": null,
   "metadata": {
    "id": "A4Z1ZPSGq0bc",
    "outputId": "4c754f86-32ad-4cce-a0fa-7d0e7cf86c7e",
    "trusted": true
   },
   "outputs": [],
   "source": [
    "feats_imps = pd.DataFrame({'Features': X_train.columns, 'Importance_Model_1': dec_tree_5.feature_importances_})\n",
    "feats_imps = feats_imps[feats_imps['Importance_Model_1'] != 0]\n",
    "feats_imps.reset_index(drop=True, inplace=True)\n",
    "feats_imps.head()"
   ]
  },
  {
   "cell_type": "code",
   "execution_count": null,
   "metadata": {
    "id": "FPi66O6iq0bd",
    "trusted": true
   },
   "outputs": [],
   "source": [
    "top_15_pos_feats = feats_imps.sort_values(by='Importance_Model_1',axis=0,ascending=False)['Features'].iloc[0:15]\n",
    "top_15_pos_feats_scores = feats_imps.sort_values(by='Importance_Model_1',axis=0,ascending=False)['Importance_Model_1'].iloc[0:15]"
   ]
  },
  {
   "cell_type": "code",
   "execution_count": null,
   "metadata": {
    "id": "mdw_TVlsq0bd",
    "outputId": "d4143ffa-e9ea-4825-ec00-f24faabf8d45",
    "trusted": true
   },
   "outputs": [],
   "source": [
    "with plt.style.context('seaborn-poster'):\n",
    "    sns.barplot(y=top_15_pos_feats, x=top_15_pos_feats_scores, orient='h', palette='coolwarm')\n",
    "    plt.xlabel(\"\\nFeatures Importance\", fontdict=label_font_dict)\n",
    "    plt.ylabel(\"Features\\n\", fontdict=label_font_dict)\n",
    "    plt.title(\"Top 15 Importance Positive Features\\n\", fontdict=title_font_dict)"
   ]
  },
  {
   "cell_type": "markdown",
   "metadata": {
    "id": "HAhXiijeq0bd"
   },
   "source": [
    "#### **`6. Random Forest Classifier`**"
   ]
  },
  {
   "cell_type": "code",
   "execution_count": null,
   "metadata": {
    "id": "KxzKOrUYq0bd",
    "trusted": true
   },
   "outputs": [],
   "source": [
    "from sklearn.ensemble import RandomForestClassifier"
   ]
  },
  {
   "cell_type": "code",
   "execution_count": null,
   "metadata": {
    "id": "zkL1Jdfcq0be",
    "outputId": "8615234c-f87a-49be-fd8f-a18095474297",
    "trusted": true
   },
   "outputs": [],
   "source": [
    "# Training the model with all features and hyper-parameterized values\n",
    "rfc_6 = RandomForestClassifier(n_estimators=30,criterion='gini',\n",
    "                                   max_depth= 4,\n",
    "                                   max_features='auto',\n",
    "                                   min_samples_leaf=100,\n",
    "                                   min_samples_split=50,\n",
    "                                   random_state=49,\n",
    "                                   min_weight_fraction_leaf=0.0,\n",
    "                                   max_leaf_nodes=None,\n",
    "                                   min_impurity_decrease=0.0,\n",
    "                                   ccp_alpha=0.0,)\n",
    "\n",
    "rfc_6.fit(X_train_std, y_train)"
   ]
  },
  {
   "cell_type": "code",
   "execution_count": null,
   "metadata": {
    "id": "nOGULLHJq0be",
    "outputId": "c5114487-5e4e-4bd3-8d7c-94904dcbe11b",
    "trusted": true
   },
   "outputs": [],
   "source": [
    "# Validate model\n",
    "test_auc, train_f1_score, test_f1_score, best_t = validate_model(rfc_6, X_train_ovsamp, X_test_std, y_train_ovsamp, y_test)\n",
    "\n",
    "print(\"\\n\")\n",
    "print(\"### Best Threshold = {:.4f}\".format(best_t))\n",
    "print(\"### Model AUC is : {:.4f}\".format(test_auc))\n",
    "print(\"### Model Train F1 Score is : {:.4f}\".format(train_f1_score))\n",
    "print(\"### Model Test F1 Score is : {:.4f}\".format(test_f1_score))"
   ]
  },
  {
   "cell_type": "code",
   "execution_count": null,
   "metadata": {
    "id": "bhwhrmuEq0bf",
    "outputId": "4d80fce0-6a96-4d1b-e81a-4d7c15d39930",
    "trusted": true
   },
   "outputs": [],
   "source": [
    "feats_imps = pd.DataFrame({'Features': X_train.columns, 'Importance_Model_1': rfc_6.feature_importances_})\n",
    "feats_imps = feats_imps[feats_imps['Importance_Model_1'] != 0]\n",
    "feats_imps.reset_index(drop=True, inplace=True)\n",
    "feats_imps.head()"
   ]
  },
  {
   "cell_type": "code",
   "execution_count": null,
   "metadata": {
    "id": "UFMlMLuWq0bg",
    "trusted": true
   },
   "outputs": [],
   "source": [
    "top_20_pos_feats = feats_imps.sort_values(by='Importance_Model_1',axis=0,ascending=False)['Features'].iloc[0:20]\n",
    "top_20_pos_feats_scores = feats_imps.sort_values(by='Importance_Model_1',axis=0,ascending=False)['Importance_Model_1'].iloc[0:20]"
   ]
  },
  {
   "cell_type": "code",
   "execution_count": null,
   "metadata": {
    "id": "_UuNcTVfq0bg",
    "outputId": "70205772-9904-4139-9623-d818585860cd",
    "trusted": true
   },
   "outputs": [],
   "source": [
    "with plt.style.context('seaborn-poster'):\n",
    "    sns.barplot(y=top_20_pos_feats, x=top_20_pos_feats_scores, orient='h', palette='coolwarm')\n",
    "    plt.xlabel(\"\\nFeatures Importance\", fontdict=label_font_dict)\n",
    "    plt.ylabel(\"Features\\n\", fontdict=label_font_dict)\n",
    "    plt.title(\"Top 15 Importance Positive Features\\n\", fontdict=title_font_dict)"
   ]
  },
  {
   "cell_type": "markdown",
   "metadata": {
    "id": "vLi4cgeuq0bh"
   },
   "source": [
    "# **`Models - SET 2 - RESULTS`**"
   ]
  },
  {
   "cell_type": "code",
   "execution_count": null,
   "metadata": {},
   "outputs": [],
   "source": [
    "from IPython.display import Image\n",
    "Image(\"../input/medicare-prv-fraud-files/Models_Set_2_Results.png\")"
   ]
  },
  {
   "cell_type": "markdown",
   "metadata": {
    "id": "M4iM30JdeSL1"
   },
   "source": [
    "## **`Models - SET 2 - OBSERVATIONS`**"
   ]
  },
  {
   "cell_type": "markdown",
   "metadata": {
    "id": "1wE2rgx1q0bi"
   },
   "source": [
    "- **Adding the Similarity Score features of embeddings b/w below mentioned doesn't really helped in improving the models performance:**\n",
    "    - CAD and Dx Codes\n",
    "    - Dx and PROC Codes\n",
    "    - CAD and PROC Codes\n",
    "    \n",
    "- **Doing the synthetic oversampling of the minority class doesn't provide gain in the model's performance whehreas we can see a noticeable drop in the performace.** "
   ]
  },
  {
   "cell_type": "markdown",
   "metadata": {
    "id": "CsE4bJmQYxGW"
   },
   "source": [
    "# **`Referred Links`**\n",
    "\n",
    "- https://www.icd10data.com/ICD10CM/Codes\n",
    "\n",
    "- https://www.icd10data.com/ICD10CM/DRG\n",
    "\n",
    "- https://www.plasticsurgery.org/Documents/Health-Policy/Coding-Payment/ICD-10/icd-10-medical-diagnosis-codes.pdf\n",
    "\n",
    "- https://ftp.cdc.gov/pub/health_statistics/nchs/publications/ICD10CM/2019/icd10cm_tabular_2019.pdf\n",
    "\n",
    "\n",
    "- Very imp link :: Also downloaded files :: https://www.cms.gov/Medicare/Coding/ICD9ProviderDiagnosticCodes/codes\n",
    "\n",
    "- https://www.cms.gov/Medicare/Coding/OutpatientCodeEdit/Downloads/ICD-10-IOCE-Code-Lists.pdf\n",
    "\n",
    "- https://medicaid.utah.gov/Documents/pdfs/ClaimDenialCodes.pdf\n",
    "\n",
    "- https://www.cms.gov/Medicare/Coding/OutpatientCodeEdit/Downloads/ICD-10-IOCE-Code-Lists.pdf\n",
    "\n",
    "- DRG :: https://www.findacode.com/code-set.php?set=DRG\n"
   ]
  },
  {
   "cell_type": "code",
   "execution_count": null,
   "metadata": {},
   "outputs": [],
   "source": []
  }
 ],
 "metadata": {
  "kernelspec": {
   "display_name": "Python 3 (ipykernel)",
   "language": "python",
   "name": "python3"
  },
  "language_info": {
   "codemirror_mode": {
    "name": "ipython",
    "version": 3
   },
   "file_extension": ".py",
   "mimetype": "text/x-python",
   "name": "python",
   "nbconvert_exporter": "python",
   "pygments_lexer": "ipython3",
   "version": "3.8.13"
  }
 },
 "nbformat": 4,
 "nbformat_minor": 4
}
